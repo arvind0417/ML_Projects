{
 "cells": [
  {
   "cell_type": "code",
   "execution_count": 1,
   "metadata": {},
   "outputs": [],
   "source": [
    "# importing all necessary modules\n",
    "\n",
    "from nltk.tokenize import sent_tokenize, word_tokenize\n",
    "import warnings\n",
    "import nltk"
   ]
  },
  {
   "cell_type": "code",
   "execution_count": 2,
   "metadata": {},
   "outputs": [],
   "source": [
    "warnings.filterwarnings(action = 'ignore')"
   ]
  },
  {
   "cell_type": "code",
   "execution_count": 4,
   "metadata": {},
   "outputs": [],
   "source": [
    "import gensim\n",
    "from gensim.models import Word2Vec"
   ]
  },
  {
   "cell_type": "code",
   "execution_count": 5,
   "metadata": {},
   "outputs": [],
   "source": [
    "# Read 'alice.txt' file\n",
    "\n",
    "sample = open(\"alice30.txt\", \"r\")\n",
    "s = sample.read()"
   ]
  },
  {
   "cell_type": "code",
   "execution_count": 6,
   "metadata": {},
   "outputs": [],
   "source": [
    "# Replaces escape character with space\n",
    "\n",
    "f = s.replace(\"\\n\", \" \")"
   ]
  },
  {
   "cell_type": "code",
   "execution_count": 7,
   "metadata": {},
   "outputs": [
    {
     "name": "stderr",
     "output_type": "stream",
     "text": [
      "[nltk_data] Downloading package punkt to /home/aiml/nltk_data...\n",
      "[nltk_data]   Package punkt is already up-to-date!\n"
     ]
    },
    {
     "data": {
      "text/plain": [
       "True"
      ]
     },
     "execution_count": 7,
     "metadata": {},
     "output_type": "execute_result"
    }
   ],
   "source": [
    "nltk.download('punkt')"
   ]
  },
  {
   "cell_type": "code",
   "execution_count": 8,
   "metadata": {},
   "outputs": [],
   "source": [
    "data = []\n",
    "\n",
    "# iterate through each sentence in the file \n",
    "\n",
    "for i in sent_tokenize(f):\n",
    "    temp = []\n",
    "    \n",
    "    # tokenize the sentence into words\n",
    "    for j in word_tokenize(i):\n",
    "        temp.append(j.lower())\n",
    "        \n",
    "    data.append(temp)\n",
    "    \n",
    "# Create CBOW model\n",
    "\n",
    "model1 = gensim.models.Word2Vec(data, min_count = 1, size = 100, window = 5)"
   ]
  },
  {
   "cell_type": "code",
   "execution_count": 9,
   "metadata": {},
   "outputs": [
    {
     "name": "stdout",
     "output_type": "stream",
     "text": [
      "Cosine similarity between 'alice' and 'wonderland' - CBOW :  0.99835956\n",
      "Cosine similarity between 'alice' and 'machines' - CBOW :  0.9968506\n"
     ]
    }
   ],
   "source": [
    "# Print results\n",
    "\n",
    "print(\"Cosine similarity between 'alice' \" + \n",
    "               \"and 'wonderland' - CBOW : \", \n",
    "    model1.similarity('alice', 'wonderland'))\n",
    "\n",
    "print(\"Cosine similarity between 'alice' \" +\n",
    "                 \"and 'machines' - CBOW : \", \n",
    "      model1.similarity('alice', 'machines')) \n"
   ]
  },
  {
   "cell_type": "code",
   "execution_count": 10,
   "metadata": {},
   "outputs": [],
   "source": [
    "# Create Skip Gram model \n",
    "model2 = gensim.models.Word2Vec(data, min_count = 1, size = 100, \n",
    "                                             window = 5, sg = 1) "
   ]
  },
  {
   "cell_type": "code",
   "execution_count": 11,
   "metadata": {},
   "outputs": [
    {
     "name": "stdout",
     "output_type": "stream",
     "text": [
      "Cosine similarity between 'alice' and 'wonderland' - Skip Gram :  0.9644017\n",
      "Cosine similarity between 'alice' and 'machines' - Skip Gram :  0.96387374\n"
     ]
    }
   ],
   "source": [
    "# Print results \n",
    "print(\"Cosine similarity between 'alice' \" +\n",
    "          \"and 'wonderland' - Skip Gram : \", \n",
    "    model2.similarity('alice', 'wonderland')) \n",
    "      \n",
    "print(\"Cosine similarity between 'alice' \" +\n",
    "            \"and 'machines' - Skip Gram : \", \n",
    "      model2.similarity('alice', 'machines')) "
   ]
  },
  {
   "cell_type": "code",
   "execution_count": 12,
   "metadata": {},
   "outputs": [
    {
     "name": "stdout",
     "output_type": "stream",
     "text": [
      "['***this', 'is', 'the', 'project', 'gutenberg', 'etext', 'of', 'alice', 'in', 'wonderland***']\n"
     ]
    }
   ],
   "source": [
    "words = list(model1.wv.vocab)\n",
    "print(words[0:10])"
   ]
  },
  {
   "cell_type": "code",
   "execution_count": 13,
   "metadata": {},
   "outputs": [
    {
     "name": "stdout",
     "output_type": "stream",
     "text": [
      "[ 0.01128644 -0.00877068  0.00894149  0.01599641  0.00417557  0.01078845\n",
      "  0.00292581  0.01082033 -0.00290741 -0.01240278 -0.03402933  0.02166866\n",
      " -0.00273285  0.03552062  0.00290481  0.03901116  0.01960436 -0.01324649\n",
      "  0.00867468  0.0328383  -0.02627268 -0.00708007  0.01461631  0.02581736\n",
      " -0.02274333  0.02036851  0.00568017  0.02011211  0.00458276 -0.01424827\n",
      "  0.03997151 -0.0001681   0.02908247 -0.00794499 -0.03833116  0.00257312\n",
      " -0.03510872 -0.02735229 -0.01760773 -0.00930104 -0.00590898  0.00232389\n",
      " -0.01655075  0.02514368  0.00439985  0.00053493 -0.00425637  0.01876623\n",
      "  0.00308233  0.01303142 -0.00576373 -0.00897631 -0.03081933 -0.06152321\n",
      "  0.0189015   0.02694067  0.0480433  -0.00958968 -0.00106873  0.01148907\n",
      " -0.01099065 -0.02589742 -0.04138185  0.02424099  0.00041846  0.01358657\n",
      " -0.0001942  -0.03413978  0.00134137 -0.00527596 -0.0330371  -0.02370033\n",
      " -0.04758048  0.01635612  0.02383675  0.01453483 -0.04598214 -0.03194192\n",
      " -0.07462158 -0.00416885 -0.03892785 -0.00647475 -0.00798718  0.06649389\n",
      "  0.01274469  0.03990994 -0.03551234  0.00682966 -0.01152485  0.04407124\n",
      " -0.05576538  0.039667   -0.04335843  0.03261277 -0.00620031  0.00313691\n",
      "  0.0292214  -0.0265795   0.05079933 -0.00351107]\n"
     ]
    }
   ],
   "source": [
    "print(model1['wonderland***'])"
   ]
  },
  {
   "cell_type": "code",
   "execution_count": 14,
   "metadata": {},
   "outputs": [
    {
     "name": "stdout",
     "output_type": "stream",
     "text": [
      "['***this', 'is', 'the', 'project', 'gutenberg', 'etext', 'of', 'alice', 'in', 'wonderland***']\n"
     ]
    }
   ],
   "source": [
    "words = list(model2.wv.vocab)\n",
    "print(words[0:10])"
   ]
  },
  {
   "cell_type": "code",
   "execution_count": 15,
   "metadata": {},
   "outputs": [
    {
     "name": "stdout",
     "output_type": "stream",
     "text": [
      "[-0.03713097 -0.01515858  0.06339652  0.03348429  0.02840157 -0.01777805\n",
      "  0.01182371  0.01944545  0.0158375   0.00595592 -0.00322205 -0.00754357\n",
      " -0.04144897  0.06933254 -0.04903701  0.04204399  0.04620302 -0.03883412\n",
      "  0.01745522  0.07669427 -0.04593705  0.01397815 -0.01621577  0.03486569\n",
      "  0.01243882  0.04343924  0.06055322 -0.02184524  0.01243095 -0.00806258\n",
      "  0.03749198  0.00823908  0.10948005 -0.02294799 -0.03770848 -0.00302766\n",
      " -0.0277998  -0.03357831 -0.00057364 -0.01859639  0.0592222  -0.0227549\n",
      " -0.07600749  0.05573327 -0.00037383 -0.03433049  0.01434411  0.04782663\n",
      "  0.04225618  0.03900487 -0.02583448 -0.03100004 -0.09245322 -0.12738088\n",
      "  0.06272928  0.02357974  0.10483426 -0.03084532  0.02123027  0.01268531\n",
      "  0.01433342 -0.03862828 -0.06077064  0.07291566  0.02756666 -0.01001928\n",
      "  0.02934572 -0.04072034  0.01816074 -0.02336274 -0.04530559 -0.04384107\n",
      " -0.07864249 -0.02529206  0.05195512  0.03475035 -0.07660683 -0.05963974\n",
      " -0.10910057  0.02036843 -0.05077624  0.00197678  0.00227764  0.08446602\n",
      "  0.00056902  0.05066757 -0.02218631  0.01296823 -0.00831469  0.04284901\n",
      " -0.03407486  0.04052359 -0.05532504  0.04173005  0.02290534 -0.04890063\n",
      "  0.04701734 -0.05096532  0.04621214 -0.02699931]\n"
     ]
    }
   ],
   "source": [
    "print(model2['wonderland***'])"
   ]
  },
  {
   "cell_type": "code",
   "execution_count": 16,
   "metadata": {},
   "outputs": [],
   "source": [
    "model1.save('model1.bin')"
   ]
  },
  {
   "cell_type": "code",
   "execution_count": 17,
   "metadata": {},
   "outputs": [],
   "source": [
    "model2.wv.save_word2vec_format('model2.txt', binary=False)"
   ]
  },
  {
   "cell_type": "code",
   "execution_count": 18,
   "metadata": {},
   "outputs": [],
   "source": [
    "model = Word2Vec.load('model1.bin')\n",
    "                      \n",
    "                      "
   ]
  },
  {
   "cell_type": "code",
   "execution_count": 19,
   "metadata": {},
   "outputs": [
    {
     "name": "stdout",
     "output_type": "stream",
     "text": [
      "Word2Vec(vocab=14, size=100, alpha=0.025)\n",
      "['this', 'is', 'the', 'first', 'sentence', 'for', 'word2vec', 'second', 'yet', 'another', 'one', 'more', 'and', 'final']\n",
      "[-1.3512813e-03  1.6975999e-03 -3.0944578e-03  2.2344526e-03\n",
      "  7.6717336e-04 -3.5240483e-03  3.9929869e-03  3.3501037e-03\n",
      " -2.0174992e-03 -2.5362170e-03  6.2387326e-04 -9.0164738e-04\n",
      " -1.1517925e-03 -1.3770793e-03 -2.2912577e-04  3.6387688e-03\n",
      "  1.2440794e-03 -3.1890671e-03  4.8211771e-03 -2.2304126e-03\n",
      " -1.0045315e-03  4.1174740e-03 -3.5690120e-04 -1.1414136e-03\n",
      " -5.4054317e-04 -4.7671497e-03  6.4285158e-04  4.5075109e-03\n",
      "  3.3779552e-03 -8.4748515e-04  5.9666787e-04  2.3183702e-03\n",
      "  3.8975121e-03 -3.3721467e-03  2.6117326e-03 -7.6698384e-04\n",
      " -2.8339149e-03  5.5891013e-04  1.0870930e-04 -6.9589284e-04\n",
      "  1.8539509e-03  3.6208865e-03 -2.7089526e-03 -3.7576284e-03\n",
      "  1.0007750e-03  4.9659824e-03 -4.8702485e-03  3.0877034e-03\n",
      " -3.4687093e-03 -4.6347850e-03  2.5720639e-05 -2.1981576e-03\n",
      "  1.9740493e-03 -4.4956165e-03 -4.7492958e-03 -1.8821604e-03\n",
      " -1.1649426e-03 -2.6361423e-03  4.2162547e-03  8.4130530e-04\n",
      "  7.9808076e-04 -6.9006061e-04  1.8543229e-03  4.0066038e-04\n",
      "  1.9458566e-03 -2.0623590e-04  3.5293919e-03 -4.2258133e-03\n",
      " -2.0634381e-03 -7.8456535e-05 -5.8907038e-04 -2.6279080e-04\n",
      "  3.1570862e-03 -3.3910794e-03 -4.7309129e-03  2.1567841e-03\n",
      " -8.5256033e-04  4.1168104e-03  4.8993458e-03  3.5163513e-03\n",
      " -9.3717140e-04  2.6182577e-03  1.4322072e-03  3.8693653e-04\n",
      " -1.8043847e-04  3.6733651e-03  2.3699345e-03  4.6422924e-03\n",
      " -1.7040862e-03  1.5966883e-03 -2.0392030e-03  3.0029393e-03\n",
      "  1.5699887e-03  1.6786141e-03  7.1131025e-04 -1.3897078e-03\n",
      "  1.3536428e-03 -4.4895075e-03  2.4386023e-03  6.6891022e-04]\n",
      "Word2Vec(vocab=14, size=100, alpha=0.025)\n"
     ]
    }
   ],
   "source": [
    "# define training data\n",
    "sentences = [['this', 'is', 'the', 'first', 'sentence', 'for', 'word2vec'],\n",
    "['this', 'is', 'the', 'second', 'sentence'],\n",
    "['yet', 'another', 'sentence'],\n",
    "['one', 'more', 'sentence'],\n",
    "['and', 'the', 'final', 'sentence']]\n",
    "# train model\n",
    "model = Word2Vec(sentences, min_count=1)\n",
    "# summarize the loaded model\n",
    "print(model)\n",
    "# summarize vocabulary\n",
    "words = list(model.wv.vocab)\n",
    "print(words)\n",
    "# access vector for one word\n",
    "print(model['sentence'])\n",
    "# save model\n",
    "model.save('model.bin')\n",
    "# load model\n",
    "new_model = Word2Vec.load('model.bin')\n",
    "print(new_model)"
   ]
  },
  {
   "cell_type": "code",
   "execution_count": 20,
   "metadata": {},
   "outputs": [
    {
     "data": {
      "image/png": "[encoded data removed]",
      "text/plain": [
       "<Figure size 432x288 with 1 Axes>"
      ]
     },
     "metadata": {
      "needs_background": "light"
     },
     "output_type": "display_data"
    }
   ],
   "source": [
    "from gensim.models import Word2Vec\n",
    "from sklearn.decomposition import PCA\n",
    "from matplotlib import pyplot\n",
    "%matplotlib inline\n",
    "# define training data\n",
    "sentences = [['this', 'is', 'the', 'first', 'sentence', 'for', 'word2vec'],\n",
    "['this', 'is', 'the', 'second', 'sentence'],\n",
    "['yet', 'another', 'sentence'],\n",
    "['one', 'more', 'sentence'],\n",
    "['and', 'the', 'final', 'sentence']]\n",
    "# train model\n",
    "model = Word2Vec(sentences, min_count=1)\n",
    "# fit a 2d PCA model to the vectors\n",
    "X = model[model.wv.vocab]\n",
    "pca = PCA(n_components=2)\n",
    "result = pca.fit_transform(X)\n",
    "# create a scatter plot of the projection\n",
    "pyplot.scatter(result[:, 0], result[:, 1])\n",
    "words = list(model.wv.vocab)\n",
    "for i, word in enumerate(words):\n",
    "    pyplot.annotate(word, xy=(result[i, 0], result[i, 1]))\n",
    "pyplot.show()"
   ]
  },
  {
   "cell_type": "markdown",
   "metadata": {},
   "source": [
    "## ref: https://medium.com/ml2vec/using-word2vec-to-analyze-reddit-comments-28945d8cee57"
   ]
  },
  {
   "cell_type": "code",
   "execution_count": 21,
   "metadata": {},
   "outputs": [],
   "source": [
    "from sklearn.cluster import KMeans\n",
    "from sklearn.neighbors import KDTree\n",
    "import pandas as pd\n",
    "import numpy as np\n",
    "import os\n",
    "import re\n",
    "import logging\n",
    "import sqlite3\n",
    "import time\n",
    "import sys\n",
    "import multiprocessing\n",
    "from wordcloud import WordCloud, ImageColorGenerator\n",
    "import matplotlib.pyplot as plt\n",
    "from itertools import cycle"
   ]
  },
  {
   "cell_type": "code",
   "execution_count": null,
   "metadata": {},
   "outputs": [],
   "source": []
  }
 ],
 "metadata": {
  "kernelspec": {
   "display_name": "Python 3",
   "language": "python",
   "name": "python3"
  },
  "language_info": {
   "codemirror_mode": {
    "name": "ipython",
    "version": 3
   },
   "file_extension": ".py",
   "mimetype": "text/x-python",
   "name": "python",
   "nbconvert_exporter": "python",
   "pygments_lexer": "ipython3",
   "version": "3.7.3"
  }
 },
 "nbformat": 4,
 "nbformat_minor": 2
}
