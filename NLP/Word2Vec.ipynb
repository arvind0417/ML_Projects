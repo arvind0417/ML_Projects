{
 "cells": [
  {
   "cell_type": "code",
   "execution_count": 33,
   "metadata": {},
   "outputs": [],
   "source": [
    "# importing all necessary modules\n",
    "\n",
    "from nltk.tokenize import sent_tokenize, word_tokenize\n",
    "import warnings\n",
    "import nltk"
   ]
  },
  {
   "cell_type": "code",
   "execution_count": 34,
   "metadata": {},
   "outputs": [],
   "source": [
    "warnings.filterwarnings(action = 'ignore')"
   ]
  },
  {
   "cell_type": "code",
   "execution_count": 35,
   "metadata": {},
   "outputs": [],
   "source": [
    "import gensim\n",
    "from gensim.models import Word2Vec"
   ]
  },
  {
   "cell_type": "code",
   "execution_count": 36,
   "metadata": {},
   "outputs": [],
   "source": [
    "# Read 'alice.txt' file\n",
    "\n",
    "sample = open(\"C:\\\\Users\\\\Arvind\\\\Desktop\\\\alice30.txt\", \"r\")\n",
    "s = sample.read()"
   ]
  },
  {
   "cell_type": "code",
   "execution_count": 37,
   "metadata": {},
   "outputs": [],
   "source": [
    "# Replaces escape character with space\n",
    "\n",
    "f = s.replace(\"\\n\", \" \")"
   ]
  },
  {
   "cell_type": "code",
   "execution_count": 38,
   "metadata": {},
   "outputs": [
    {
     "name": "stdout",
     "output_type": "stream",
     "text": [
      "[nltk_data] Downloading package punkt to\n",
      "[nltk_data]     C:\\Users\\Arvind\\AppData\\Roaming\\nltk_data...\n",
      "[nltk_data]   Package punkt is already up-to-date!\n"
     ]
    },
    {
     "data": {
      "text/plain": [
       "True"
      ]
     },
     "execution_count": 38,
     "metadata": {},
     "output_type": "execute_result"
    }
   ],
   "source": [
    "nltk.download('punkt')"
   ]
  },
  {
   "cell_type": "code",
   "execution_count": 39,
   "metadata": {},
   "outputs": [],
   "source": [
    "data = []\n",
    "\n",
    "# iterate through each sentence in the file \n",
    "\n",
    "for i in sent_tokenize(f):\n",
    "    temp = []\n",
    "    \n",
    "    # tokenize the sentence into words\n",
    "    for j in word_tokenize(i):\n",
    "        temp.append(j.lower())\n",
    "        \n",
    "    data.append(temp)\n",
    "    \n",
    "# Create CBOW model\n",
    "\n",
    "model1 = gensim.models.Word2Vec(data, min_count = 1, size = 100, window = 5)"
   ]
  },
  {
   "cell_type": "code",
   "execution_count": 40,
   "metadata": {},
   "outputs": [
    {
     "name": "stdout",
     "output_type": "stream",
     "text": [
      "Cosine similarity between 'alice' and 'wonderland' - CBOW :  0.998638\n",
      "Cosine similarity between 'alice' and 'machines' - CBOW :  0.9978037\n"
     ]
    }
   ],
   "source": [
    "# Print results\n",
    "\n",
    "print(\"Cosine similarity between 'alice' \" + \n",
    "               \"and 'wonderland' - CBOW : \", \n",
    "    model1.similarity('alice', 'wonderland'))\n",
    "\n",
    "print(\"Cosine similarity between 'alice' \" +\n",
    "                 \"and 'machines' - CBOW : \", \n",
    "      model1.similarity('alice', 'machines')) \n"
   ]
  },
  {
   "cell_type": "code",
   "execution_count": 41,
   "metadata": {},
   "outputs": [],
   "source": [
    "# Create Skip Gram model \n",
    "model2 = gensim.models.Word2Vec(data, min_count = 1, size = 100, \n",
    "                                             window = 5, sg = 1) "
   ]
  },
  {
   "cell_type": "code",
   "execution_count": 42,
   "metadata": {},
   "outputs": [
    {
     "name": "stdout",
     "output_type": "stream",
     "text": [
      "Cosine similarity between 'alice' and 'wonderland' - Skip Gram :  0.95736885\n",
      "Cosine similarity between 'alice' and 'machines' - Skip Gram :  0.9554591\n"
     ]
    }
   ],
   "source": [
    "# Print results \n",
    "print(\"Cosine similarity between 'alice' \" +\n",
    "          \"and 'wonderland' - Skip Gram : \", \n",
    "    model2.similarity('alice', 'wonderland')) \n",
    "      \n",
    "print(\"Cosine similarity between 'alice' \" +\n",
    "            \"and 'machines' - Skip Gram : \", \n",
    "      model2.similarity('alice', 'machines')) "
   ]
  },
  {
   "cell_type": "code",
   "execution_count": 43,
   "metadata": {},
   "outputs": [
    {
     "name": "stdout",
     "output_type": "stream",
     "text": [
      "['***this', 'is', 'the', 'project', 'gutenberg', 'etext', 'of', 'alice', 'in', 'wonderland***']\n"
     ]
    }
   ],
   "source": [
    "words = list(model1.wv.vocab)\n",
    "print(words[0:10])"
   ]
  },
  {
   "cell_type": "code",
   "execution_count": 44,
   "metadata": {},
   "outputs": [
    {
     "name": "stdout",
     "output_type": "stream",
     "text": [
      "[ 0.02717469 -0.01624847  0.00358747 -0.00575946  0.00030224 -0.00761102\n",
      " -0.02365566 -0.01449826  0.01564334  0.00326585 -0.00874309  0.01125954\n",
      "  0.01623673 -0.04330374 -0.02383975  0.00890724 -0.0086201   0.00323394\n",
      " -0.0051082   0.00749928  0.00104897  0.02682389 -0.00102233  0.0079655\n",
      " -0.00065431  0.01936607  0.02091298  0.01158835  0.01269811  0.00845757\n",
      " -0.03445278  0.05887381  0.01132316 -0.0025293  -0.03182786 -0.01103409\n",
      "  0.0190793  -0.00020022 -0.01356932 -0.02269059 -0.01852935  0.00738969\n",
      " -0.01956922  0.00471229 -0.00158229 -0.00105445 -0.02101792  0.02893771\n",
      " -0.01453405  0.04075827 -0.03276684  0.01780194  0.01527521 -0.00452492\n",
      " -0.01189724 -0.02147836 -0.00826416 -0.03867442  0.00514184  0.00382111\n",
      "  0.03171313  0.02043673  0.00972551 -0.00259764  0.02696482  0.00224022\n",
      " -0.01709377 -0.00424877  0.00523567  0.05359568  0.00098392  0.00047634\n",
      "  0.0067577  -0.00462544  0.00149091  0.00726953  0.01848237  0.00755582\n",
      "  0.00932385  0.01727648  0.00109697 -0.01530508  0.0104119  -0.01055153\n",
      " -0.0074049  -0.02289604  0.03144918 -0.04258954 -0.00125252 -0.03759385\n",
      "  0.03211348 -0.00460418 -0.01397334 -0.006121    0.01036979  0.00466704\n",
      " -0.01660387 -0.00109412 -0.04118726  0.0107657 ]\n"
     ]
    }
   ],
   "source": [
    "print(model1['wonderland***'])"
   ]
  },
  {
   "cell_type": "code",
   "execution_count": 45,
   "metadata": {},
   "outputs": [
    {
     "name": "stdout",
     "output_type": "stream",
     "text": [
      "['***this', 'is', 'the', 'project', 'gutenberg', 'etext', 'of', 'alice', 'in', 'wonderland***']\n"
     ]
    }
   ],
   "source": [
    "words = list(model2.wv.vocab)\n",
    "print(words[0:10])"
   ]
  },
  {
   "cell_type": "code",
   "execution_count": 46,
   "metadata": {},
   "outputs": [
    {
     "name": "stdout",
     "output_type": "stream",
     "text": [
      "[ 0.05667176 -0.0397201  -0.00053827  0.0033699   0.01316905 -0.02251842\n",
      " -0.02057339 -0.02513118  0.02198779  0.00182719 -0.00308038  0.00298265\n",
      "  0.02522977 -0.08456436 -0.05540946 -0.01710126 -0.01734093  0.0039059\n",
      "  0.01245259  0.01317843  0.00508568  0.0758611   0.00500098  0.02146958\n",
      " -0.00345142  0.04426491  0.03180435  0.0199993   0.02578422  0.00930774\n",
      " -0.07289771  0.12026251  0.04676103 -0.00503772 -0.07911605 -0.01547505\n",
      "  0.03486902 -0.01170052 -0.02852888 -0.07312432 -0.02843012  0.01068878\n",
      " -0.02462989  0.01481347 -0.02048942 -0.01233414 -0.0180239   0.04767447\n",
      " -0.02731765  0.07923803 -0.07024764  0.06782443  0.0671535  -0.00041867\n",
      " -0.01692612 -0.04069819 -0.01744447 -0.08792962  0.0027922   0.01097574\n",
      "  0.05497279  0.04015181  0.02109452  0.01051048  0.07465627  0.0229154\n",
      " -0.04190053 -0.02880585  0.01466776  0.09511515  0.02820182 -0.00197488\n",
      "  0.03307755 -0.00801056  0.01223116  0.00783878  0.0410522   0.01913\n",
      "  0.03649379  0.01076814 -0.0241701  -0.02132695  0.02430248 -0.01171009\n",
      " -0.00344563 -0.0585762   0.04036788 -0.06613443 -0.0062326  -0.08532489\n",
      "  0.06944427 -0.03424494 -0.03795517  0.03372166  0.00988076  0.00407623\n",
      " -0.02951586 -0.01298425 -0.07730774  0.04027499]\n"
     ]
    }
   ],
   "source": [
    "print(model2['wonderland***'])"
   ]
  },
  {
   "cell_type": "code",
   "execution_count": 54,
   "metadata": {},
   "outputs": [],
   "source": [
    "model1.save('model1.bin')"
   ]
  },
  {
   "cell_type": "code",
   "execution_count": 48,
   "metadata": {},
   "outputs": [],
   "source": [
    "model2.wv.save_word2vec_format('model2.txt', binary=False)"
   ]
  },
  {
   "cell_type": "code",
   "execution_count": 55,
   "metadata": {},
   "outputs": [],
   "source": [
    "model = Word2Vec.load('model1.bin')\n",
    "                      \n",
    "                      "
   ]
  },
  {
   "cell_type": "code",
   "execution_count": 53,
   "metadata": {},
   "outputs": [
    {
     "name": "stdout",
     "output_type": "stream",
     "text": [
      "Word2Vec(vocab=14, size=100, alpha=0.025)\n",
      "['this', 'is', 'the', 'first', 'sentence', 'for', 'word2vec', 'second', 'yet', 'another', 'one', 'more', 'and', 'final']\n",
      "[-1.0685661e-03 -2.5875759e-03  1.1125389e-03  1.9749235e-03\n",
      " -1.0140912e-03 -4.1073151e-03 -3.1426819e-03 -1.8090190e-03\n",
      "  1.3021664e-03 -4.9697021e-03  1.9112788e-03 -3.5961179e-04\n",
      "  2.3602371e-03 -1.5971969e-03  2.3425969e-03  3.3488462e-03\n",
      " -2.4917701e-03  4.9579521e-03 -1.5990823e-03 -2.6302598e-03\n",
      " -2.1149823e-03  1.9541292e-03  3.0287803e-04 -4.8904908e-03\n",
      " -3.3760509e-03  2.3673262e-04  3.8298545e-03 -1.5828956e-03\n",
      "  2.9020372e-03  1.3010803e-03 -4.2607244e-03 -2.3876084e-03\n",
      " -3.5132710e-03  4.7998703e-03  9.7780756e-04  1.1100944e-03\n",
      "  3.6290321e-03  2.3318469e-03 -1.5314535e-03  3.1459059e-03\n",
      " -4.9080704e-03 -4.5154127e-04  1.4698782e-03 -2.7951167e-03\n",
      " -2.9191694e-03  3.9516245e-03 -4.6680165e-03  3.9982889e-03\n",
      "  3.8200633e-03 -3.0643705e-03  4.1127955e-03 -4.9069792e-04\n",
      " -1.1097749e-03  2.5203140e-03  3.2563105e-03  3.3640256e-03\n",
      " -1.5285487e-03 -4.4715768e-03 -1.0737155e-03  3.2216434e-03\n",
      " -4.2095375e-03 -3.3874263e-03 -1.8179996e-03 -5.1491224e-04\n",
      " -1.3816323e-03 -3.2401714e-04 -1.4708591e-04  4.7574914e-03\n",
      "  4.7937455e-03  8.4728975e-04  3.1982898e-03  3.7307816e-03\n",
      " -4.1748458e-03  4.3308851e-03  4.1119517e-03 -7.3735957e-04\n",
      " -6.1330682e-04 -7.6352031e-04  2.8185849e-03  6.7433451e-05\n",
      " -2.4856324e-03 -2.3751410e-03 -4.1915728e-03  1.7322004e-03\n",
      "  2.0059580e-03 -7.9383806e-04  3.7473880e-03  3.5786528e-05\n",
      "  1.1534132e-03  2.9570903e-03 -1.4511679e-04  1.1509121e-03\n",
      "  2.3879504e-03 -2.2953162e-03 -3.5532992e-03 -2.3923488e-03\n",
      "  2.8657035e-03 -4.9837446e-03  3.6405057e-03 -3.5500759e-03]\n",
      "Word2Vec(vocab=14, size=100, alpha=0.025)\n"
     ]
    }
   ],
   "source": [
    "# define training data\n",
    "sentences = [['this', 'is', 'the', 'first', 'sentence', 'for', 'word2vec'],\n",
    "['this', 'is', 'the', 'second', 'sentence'],\n",
    "['yet', 'another', 'sentence'],\n",
    "['one', 'more', 'sentence'],\n",
    "['and', 'the', 'final', 'sentence']]\n",
    "# train model\n",
    "model = Word2Vec(sentences, min_count=1)\n",
    "# summarize the loaded model\n",
    "print(model)\n",
    "# summarize vocabulary\n",
    "words = list(model.wv.vocab)\n",
    "print(words)\n",
    "# access vector for one word\n",
    "print(model['sentence'])\n",
    "# save model\n",
    "model.save('model.bin')\n",
    "# load model\n",
    "new_model = Word2Vec.load('model.bin')\n",
    "print(new_model)"
   ]
  },
  {
   "cell_type": "code",
   "execution_count": 57,
   "metadata": {},
   "outputs": [
    {
     "data": {
      "image/png": "[encoded data removed]",
      "text/plain": [
       "<Figure size 432x288 with 1 Axes>"
      ]
     },
     "metadata": {},
     "output_type": "display_data"
    }
   ],
   "source": [
    "from gensim.models import Word2Vec\n",
    "from sklearn.decomposition import PCA\n",
    "from matplotlib import pyplot\n",
    "%matplotlib inline\n",
    "# define training data\n",
    "sentences = [['this', 'is', 'the', 'first', 'sentence', 'for', 'word2vec'],\n",
    "['this', 'is', 'the', 'second', 'sentence'],\n",
    "['yet', 'another', 'sentence'],\n",
    "['one', 'more', 'sentence'],\n",
    "['and', 'the', 'final', 'sentence']]\n",
    "# train model\n",
    "model = Word2Vec(sentences, min_count=1)\n",
    "# fit a 2d PCA model to the vectors\n",
    "X = model[model.wv.vocab]\n",
    "pca = PCA(n_components=2)\n",
    "result = pca.fit_transform(X)\n",
    "# create a scatter plot of the projection\n",
    "pyplot.scatter(result[:, 0], result[:, 1])\n",
    "words = list(model.wv.vocab)\n",
    "for i, word in enumerate(words):\n",
    "    pyplot.annotate(word, xy=(result[i, 0], result[i, 1]))\n",
    "pyplot.show()"
   ]
  },
  {
   "cell_type": "code",
   "execution_count": null,
   "metadata": {},
   "outputs": [],
   "source": []
  }
 ],
 "metadata": {
  "kernelspec": {
   "display_name": "Python 3",
   "language": "python",
   "name": "python3"
  },
  "language_info": {
   "codemirror_mode": {
    "name": "ipython",
    "version": 3
   },
   "file_extension": ".py",
   "mimetype": "text/x-python",
   "name": "python",
   "nbconvert_exporter": "python",
   "pygments_lexer": "ipython3",
   "version": "3.6.5"
  }
 },
 "nbformat": 4,
 "nbformat_minor": 2
}
