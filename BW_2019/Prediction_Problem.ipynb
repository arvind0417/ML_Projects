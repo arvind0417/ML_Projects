{
 "cells": [
  {
   "cell_type": "code",
   "execution_count": 182,
   "metadata": {},
   "outputs": [],
   "source": [
    "import pandas as pd\n",
    "import numpy as np"
   ]
  },
  {
   "cell_type": "code",
   "execution_count": 183,
   "metadata": {},
   "outputs": [],
   "source": [
    "train_data = pd.read_csv(\"./train.csv\")\n",
    "test_data = pd.read_csv(\"./test.csv\")"
   ]
  },
  {
   "cell_type": "code",
   "execution_count": 184,
   "metadata": {},
   "outputs": [
    {
     "data": {
      "text/html": [
       "<div>\n",
       "<style scoped>\n",
       "    .dataframe tbody tr th:only-of-type {\n",
       "        vertical-align: middle;\n",
       "    }\n",
       "\n",
       "    .dataframe tbody tr th {\n",
       "        vertical-align: top;\n",
       "    }\n",
       "\n",
       "    .dataframe thead th {\n",
       "        text-align: right;\n",
       "    }\n",
       "</style>\n",
       "<table border=\"1\" class=\"dataframe\">\n",
       "  <thead>\n",
       "    <tr style=\"text-align: right;\">\n",
       "      <th></th>\n",
       "      <th>Complaint-ID</th>\n",
       "      <th>Date-received</th>\n",
       "      <th>Transaction-Type</th>\n",
       "      <th>Complaint-reason</th>\n",
       "      <th>Company-response</th>\n",
       "      <th>Date-sent-to-company</th>\n",
       "      <th>Complaint-Status</th>\n",
       "      <th>Consumer-disputes</th>\n",
       "      <th>Consumer-complaint-summary</th>\n",
       "    </tr>\n",
       "  </thead>\n",
       "  <tbody>\n",
       "    <tr>\n",
       "      <th>0</th>\n",
       "      <td>Tr-1</td>\n",
       "      <td>11/11/2015</td>\n",
       "      <td>Mortgage</td>\n",
       "      <td>Loan servicing, payments, escrow account</td>\n",
       "      <td>NaN</td>\n",
       "      <td>11/11/2015</td>\n",
       "      <td>Closed with explanation</td>\n",
       "      <td>Yes</td>\n",
       "      <td>Seterus, Inc a déposé un faux rapport auprès d...</td>\n",
       "    </tr>\n",
       "    <tr>\n",
       "      <th>1</th>\n",
       "      <td>Tr-2</td>\n",
       "      <td>7/7/2015</td>\n",
       "      <td>Credit reporting</td>\n",
       "      <td>Incorrect information on credit report</td>\n",
       "      <td>Company chooses not to provide a public response</td>\n",
       "      <td>7/7/2015</td>\n",
       "      <td>Closed with non-monetary relief</td>\n",
       "      <td>No</td>\n",
       "      <td>XX / XX / XXXX La requête en faillite n ° XXXX...</td>\n",
       "    </tr>\n",
       "    <tr>\n",
       "      <th>2</th>\n",
       "      <td>Tr-3</td>\n",
       "      <td>5/7/2015</td>\n",
       "      <td>Bank account or service</td>\n",
       "      <td>Using a debit or ATM card</td>\n",
       "      <td>NaN</td>\n",
       "      <td>5/7/2015</td>\n",
       "      <td>Closed with explanation</td>\n",
       "      <td>No</td>\n",
       "      <td>El XXXX / XXXX / 15, estaba preparando el vuel...</td>\n",
       "    </tr>\n",
       "    <tr>\n",
       "      <th>3</th>\n",
       "      <td>Tr-4</td>\n",
       "      <td>11/12/2016</td>\n",
       "      <td>Debt collection</td>\n",
       "      <td>Cont'd attempts collect debt not owed</td>\n",
       "      <td>Company believes it acted appropriately as aut...</td>\n",
       "      <td>11/12/2016</td>\n",
       "      <td>Closed with explanation</td>\n",
       "      <td>No</td>\n",
       "      <td>The loan was paid in XXXX XXXX. In XXXX, 4 yea...</td>\n",
       "    </tr>\n",
       "    <tr>\n",
       "      <th>4</th>\n",
       "      <td>Tr-5</td>\n",
       "      <td>9/29/2016</td>\n",
       "      <td>Credit card</td>\n",
       "      <td>Payoff process</td>\n",
       "      <td>Company has responded to the consumer and the ...</td>\n",
       "      <td>9/29/2016</td>\n",
       "      <td>Closed with explanation</td>\n",
       "      <td>No</td>\n",
       "      <td>J'ai obtenu un compte de crédit de soins pour ...</td>\n",
       "    </tr>\n",
       "  </tbody>\n",
       "</table>\n",
       "</div>"
      ],
      "text/plain": [
       "  Complaint-ID Date-received         Transaction-Type  \\\n",
       "0         Tr-1    11/11/2015                 Mortgage   \n",
       "1         Tr-2      7/7/2015         Credit reporting   \n",
       "2         Tr-3      5/7/2015  Bank account or service   \n",
       "3         Tr-4    11/12/2016          Debt collection   \n",
       "4         Tr-5     9/29/2016              Credit card   \n",
       "\n",
       "                           Complaint-reason  \\\n",
       "0  Loan servicing, payments, escrow account   \n",
       "1    Incorrect information on credit report   \n",
       "2                 Using a debit or ATM card   \n",
       "3     Cont'd attempts collect debt not owed   \n",
       "4                            Payoff process   \n",
       "\n",
       "                                    Company-response Date-sent-to-company  \\\n",
       "0                                                NaN           11/11/2015   \n",
       "1   Company chooses not to provide a public response             7/7/2015   \n",
       "2                                                NaN             5/7/2015   \n",
       "3  Company believes it acted appropriately as aut...           11/12/2016   \n",
       "4  Company has responded to the consumer and the ...            9/29/2016   \n",
       "\n",
       "                  Complaint-Status Consumer-disputes  \\\n",
       "0          Closed with explanation               Yes   \n",
       "1  Closed with non-monetary relief                No   \n",
       "2          Closed with explanation                No   \n",
       "3          Closed with explanation                No   \n",
       "4          Closed with explanation                No   \n",
       "\n",
       "                          Consumer-complaint-summary  \n",
       "0  Seterus, Inc a déposé un faux rapport auprès d...  \n",
       "1  XX / XX / XXXX La requête en faillite n ° XXXX...  \n",
       "2  El XXXX / XXXX / 15, estaba preparando el vuel...  \n",
       "3  The loan was paid in XXXX XXXX. In XXXX, 4 yea...  \n",
       "4  J'ai obtenu un compte de crédit de soins pour ...  "
      ]
     },
     "execution_count": 184,
     "metadata": {},
     "output_type": "execute_result"
    }
   ],
   "source": [
    "train_data.head()"
   ]
  },
  {
   "cell_type": "code",
   "execution_count": 185,
   "metadata": {},
   "outputs": [
    {
     "data": {
      "text/html": [
       "<div>\n",
       "<style scoped>\n",
       "    .dataframe tbody tr th:only-of-type {\n",
       "        vertical-align: middle;\n",
       "    }\n",
       "\n",
       "    .dataframe tbody tr th {\n",
       "        vertical-align: top;\n",
       "    }\n",
       "\n",
       "    .dataframe thead th {\n",
       "        text-align: right;\n",
       "    }\n",
       "</style>\n",
       "<table border=\"1\" class=\"dataframe\">\n",
       "  <thead>\n",
       "    <tr style=\"text-align: right;\">\n",
       "      <th></th>\n",
       "      <th>Complaint-ID</th>\n",
       "      <th>Date-received</th>\n",
       "      <th>Transaction-Type</th>\n",
       "      <th>Complaint-reason</th>\n",
       "      <th>Company-response</th>\n",
       "      <th>Date-sent-to-company</th>\n",
       "      <th>Consumer-disputes</th>\n",
       "      <th>Consumer-complaint-summary</th>\n",
       "    </tr>\n",
       "  </thead>\n",
       "  <tbody>\n",
       "    <tr>\n",
       "      <th>0</th>\n",
       "      <td>Te-1</td>\n",
       "      <td>8/18/2016</td>\n",
       "      <td>Bank account or service</td>\n",
       "      <td>Account opening, closing, or management</td>\n",
       "      <td>Company has responded to the consumer and the ...</td>\n",
       "      <td>8/18/2016</td>\n",
       "      <td>No</td>\n",
       "      <td>XXXX / XXXX / 16 I called Citibank to open a c...</td>\n",
       "    </tr>\n",
       "    <tr>\n",
       "      <th>1</th>\n",
       "      <td>Te-2</td>\n",
       "      <td>4/18/2016</td>\n",
       "      <td>Debt collection</td>\n",
       "      <td>Communication tactics</td>\n",
       "      <td>Company believes it acted appropriately as aut...</td>\n",
       "      <td>4/20/2016</td>\n",
       "      <td>No</td>\n",
       "      <td>I'm struggling financially. I called and I off...</td>\n",
       "    </tr>\n",
       "    <tr>\n",
       "      <th>2</th>\n",
       "      <td>Te-3</td>\n",
       "      <td>3/23/2016</td>\n",
       "      <td>Credit reporting</td>\n",
       "      <td>Incorrect information on credit report</td>\n",
       "      <td>NaN</td>\n",
       "      <td>3/23/2016</td>\n",
       "      <td>No</td>\n",
       "      <td>In XXXX of 2015, an automatic payment was conf...</td>\n",
       "    </tr>\n",
       "    <tr>\n",
       "      <th>3</th>\n",
       "      <td>Te-4</td>\n",
       "      <td>6/26/2017</td>\n",
       "      <td>Student loan</td>\n",
       "      <td>Dealing with your lender or servicer</td>\n",
       "      <td>NaN</td>\n",
       "      <td>6/26/2017</td>\n",
       "      <td>NaN</td>\n",
       "      <td>I submitted a request to XXXX, which is my cur...</td>\n",
       "    </tr>\n",
       "    <tr>\n",
       "      <th>4</th>\n",
       "      <td>Te-5</td>\n",
       "      <td>5/13/2016</td>\n",
       "      <td>Credit reporting</td>\n",
       "      <td>Incorrect information on credit report</td>\n",
       "      <td>Company has responded to the consumer and the ...</td>\n",
       "      <td>5/13/2016</td>\n",
       "      <td>No</td>\n",
       "      <td>A state tax lien was filed against me XXXX / X...</td>\n",
       "    </tr>\n",
       "  </tbody>\n",
       "</table>\n",
       "</div>"
      ],
      "text/plain": [
       "  Complaint-ID Date-received         Transaction-Type  \\\n",
       "0         Te-1     8/18/2016  Bank account or service   \n",
       "1         Te-2     4/18/2016          Debt collection   \n",
       "2         Te-3     3/23/2016         Credit reporting   \n",
       "3         Te-4     6/26/2017             Student loan   \n",
       "4         Te-5     5/13/2016         Credit reporting   \n",
       "\n",
       "                          Complaint-reason  \\\n",
       "0  Account opening, closing, or management   \n",
       "1                    Communication tactics   \n",
       "2   Incorrect information on credit report   \n",
       "3     Dealing with your lender or servicer   \n",
       "4   Incorrect information on credit report   \n",
       "\n",
       "                                    Company-response Date-sent-to-company  \\\n",
       "0  Company has responded to the consumer and the ...            8/18/2016   \n",
       "1  Company believes it acted appropriately as aut...            4/20/2016   \n",
       "2                                                NaN            3/23/2016   \n",
       "3                                                NaN            6/26/2017   \n",
       "4  Company has responded to the consumer and the ...            5/13/2016   \n",
       "\n",
       "  Consumer-disputes                         Consumer-complaint-summary  \n",
       "0                No  XXXX / XXXX / 16 I called Citibank to open a c...  \n",
       "1                No  I'm struggling financially. I called and I off...  \n",
       "2                No  In XXXX of 2015, an automatic payment was conf...  \n",
       "3               NaN  I submitted a request to XXXX, which is my cur...  \n",
       "4                No  A state tax lien was filed against me XXXX / X...  "
      ]
     },
     "execution_count": 185,
     "metadata": {},
     "output_type": "execute_result"
    }
   ],
   "source": [
    "test_data.head()"
   ]
  },
  {
   "cell_type": "code",
   "execution_count": 186,
   "metadata": {},
   "outputs": [
    {
     "data": {
      "text/plain": [
       "Closed with explanation            34300\n",
       "Closed with non-monetary relief     5018\n",
       "Closed with monetary relief         2818\n",
       "Closed                               809\n",
       "Untimely response                    321\n",
       "Name: Complaint-Status, dtype: int64"
      ]
     },
     "execution_count": 186,
     "metadata": {},
     "output_type": "execute_result"
    }
   ],
   "source": [
    "train_data[\"Complaint-Status\"].value_counts()"
   ]
  },
  {
   "cell_type": "code",
   "execution_count": 187,
   "metadata": {},
   "outputs": [
    {
     "data": {
      "text/plain": [
       "Index(['Complaint-ID', 'Date-received', 'Transaction-Type', 'Complaint-reason',\n",
       "       'Company-response', 'Date-sent-to-company', 'Complaint-Status',\n",
       "       'Consumer-disputes', 'Consumer-complaint-summary'],\n",
       "      dtype='object')"
      ]
     },
     "execution_count": 187,
     "metadata": {},
     "output_type": "execute_result"
    }
   ],
   "source": [
    "train_data.columns"
   ]
  },
  {
   "cell_type": "code",
   "execution_count": 188,
   "metadata": {},
   "outputs": [
    {
     "data": {
      "text/plain": [
       "Company has responded to the consumer and the CFPB and chooses not to provide a public response                            10928\n",
       "Company chooses not to provide a public response                                                                            4322\n",
       "Company believes it acted appropriately as authorized by contract or law                                                    3811\n",
       "Company believes the complaint is the result of a misunderstanding                                                           387\n",
       "Company disputes the facts presented in the complaint                                                                        379\n",
       "Company believes complaint is the result of an isolated error                                                                302\n",
       "Company believes complaint caused principally by actions of third party outside the control or direction of the company      300\n",
       "Company can't verify or dispute the facts in the complaint                                                                   166\n",
       "Company believes complaint represents an opportunity for improvement to better serve consumers                               160\n",
       "Company believes complaint relates to a discontinued policy or procedure                                                       5\n",
       "Name: Company-response, dtype: int64"
      ]
     },
     "execution_count": 188,
     "metadata": {},
     "output_type": "execute_result"
    }
   ],
   "source": [
    "train_data[\"Company-response\"].value_counts()"
   ]
  },
  {
   "cell_type": "code",
   "execution_count": 189,
   "metadata": {},
   "outputs": [
    {
     "data": {
      "text/plain": [
       "Company has responded to the consumer and the CFPB and chooses not to provide a public response                            4695\n",
       "Company chooses not to provide a public response                                                                           1827\n",
       "Company believes it acted appropriately as authorized by contract or law                                                   1598\n",
       "Company believes the complaint is the result of a misunderstanding                                                          181\n",
       "Company disputes the facts presented in the complaint                                                                       158\n",
       "Company believes complaint caused principally by actions of third party outside the control or direction of the company     134\n",
       "Company believes complaint is the result of an isolated error                                                               114\n",
       "Company can't verify or dispute the facts in the complaint                                                                   69\n",
       "Company believes complaint represents an opportunity for improvement to better serve consumers                               64\n",
       "Company believes complaint relates to a discontinued policy or procedure                                                      2\n",
       "Name: Company-response, dtype: int64"
      ]
     },
     "execution_count": 189,
     "metadata": {},
     "output_type": "execute_result"
    }
   ],
   "source": [
    "test_data[\"Company-response\"].value_counts()"
   ]
  },
  {
   "cell_type": "code",
   "execution_count": 190,
   "metadata": {},
   "outputs": [
    {
     "data": {
      "text/plain": [
       "(43266, 9)"
      ]
     },
     "execution_count": 190,
     "metadata": {},
     "output_type": "execute_result"
    }
   ],
   "source": [
    "train_data.shape"
   ]
  },
  {
   "cell_type": "code",
   "execution_count": 191,
   "metadata": {},
   "outputs": [
    {
     "data": {
      "text/plain": [
       "(18543, 8)"
      ]
     },
     "execution_count": 191,
     "metadata": {},
     "output_type": "execute_result"
    }
   ],
   "source": [
    "test_data.shape"
   ]
  },
  {
   "cell_type": "code",
   "execution_count": 192,
   "metadata": {},
   "outputs": [],
   "source": [
    "# train_data = train_data.set_index(\"Complaint-ID\")"
   ]
  },
  {
   "cell_type": "code",
   "execution_count": 193,
   "metadata": {},
   "outputs": [
    {
     "data": {
      "text/html": [
       "<div>\n",
       "<style scoped>\n",
       "    .dataframe tbody tr th:only-of-type {\n",
       "        vertical-align: middle;\n",
       "    }\n",
       "\n",
       "    .dataframe tbody tr th {\n",
       "        vertical-align: top;\n",
       "    }\n",
       "\n",
       "    .dataframe thead th {\n",
       "        text-align: right;\n",
       "    }\n",
       "</style>\n",
       "<table border=\"1\" class=\"dataframe\">\n",
       "  <thead>\n",
       "    <tr style=\"text-align: right;\">\n",
       "      <th></th>\n",
       "      <th>Complaint-ID</th>\n",
       "      <th>Date-received</th>\n",
       "      <th>Transaction-Type</th>\n",
       "      <th>Complaint-reason</th>\n",
       "      <th>Company-response</th>\n",
       "      <th>Date-sent-to-company</th>\n",
       "      <th>Complaint-Status</th>\n",
       "      <th>Consumer-disputes</th>\n",
       "      <th>Consumer-complaint-summary</th>\n",
       "    </tr>\n",
       "  </thead>\n",
       "  <tbody>\n",
       "    <tr>\n",
       "      <th>0</th>\n",
       "      <td>Tr-1</td>\n",
       "      <td>11/11/2015</td>\n",
       "      <td>Mortgage</td>\n",
       "      <td>Loan servicing, payments, escrow account</td>\n",
       "      <td>NaN</td>\n",
       "      <td>11/11/2015</td>\n",
       "      <td>Closed with explanation</td>\n",
       "      <td>Yes</td>\n",
       "      <td>Seterus, Inc a déposé un faux rapport auprès d...</td>\n",
       "    </tr>\n",
       "    <tr>\n",
       "      <th>1</th>\n",
       "      <td>Tr-2</td>\n",
       "      <td>7/7/2015</td>\n",
       "      <td>Credit reporting</td>\n",
       "      <td>Incorrect information on credit report</td>\n",
       "      <td>Company chooses not to provide a public response</td>\n",
       "      <td>7/7/2015</td>\n",
       "      <td>Closed with non-monetary relief</td>\n",
       "      <td>No</td>\n",
       "      <td>XX / XX / XXXX La requête en faillite n ° XXXX...</td>\n",
       "    </tr>\n",
       "    <tr>\n",
       "      <th>2</th>\n",
       "      <td>Tr-3</td>\n",
       "      <td>5/7/2015</td>\n",
       "      <td>Bank account or service</td>\n",
       "      <td>Using a debit or ATM card</td>\n",
       "      <td>NaN</td>\n",
       "      <td>5/7/2015</td>\n",
       "      <td>Closed with explanation</td>\n",
       "      <td>No</td>\n",
       "      <td>El XXXX / XXXX / 15, estaba preparando el vuel...</td>\n",
       "    </tr>\n",
       "    <tr>\n",
       "      <th>3</th>\n",
       "      <td>Tr-4</td>\n",
       "      <td>11/12/2016</td>\n",
       "      <td>Debt collection</td>\n",
       "      <td>Cont'd attempts collect debt not owed</td>\n",
       "      <td>Company believes it acted appropriately as aut...</td>\n",
       "      <td>11/12/2016</td>\n",
       "      <td>Closed with explanation</td>\n",
       "      <td>No</td>\n",
       "      <td>The loan was paid in XXXX XXXX. In XXXX, 4 yea...</td>\n",
       "    </tr>\n",
       "    <tr>\n",
       "      <th>4</th>\n",
       "      <td>Tr-5</td>\n",
       "      <td>9/29/2016</td>\n",
       "      <td>Credit card</td>\n",
       "      <td>Payoff process</td>\n",
       "      <td>Company has responded to the consumer and the ...</td>\n",
       "      <td>9/29/2016</td>\n",
       "      <td>Closed with explanation</td>\n",
       "      <td>No</td>\n",
       "      <td>J'ai obtenu un compte de crédit de soins pour ...</td>\n",
       "    </tr>\n",
       "  </tbody>\n",
       "</table>\n",
       "</div>"
      ],
      "text/plain": [
       "  Complaint-ID Date-received         Transaction-Type  \\\n",
       "0         Tr-1    11/11/2015                 Mortgage   \n",
       "1         Tr-2      7/7/2015         Credit reporting   \n",
       "2         Tr-3      5/7/2015  Bank account or service   \n",
       "3         Tr-4    11/12/2016          Debt collection   \n",
       "4         Tr-5     9/29/2016              Credit card   \n",
       "\n",
       "                           Complaint-reason  \\\n",
       "0  Loan servicing, payments, escrow account   \n",
       "1    Incorrect information on credit report   \n",
       "2                 Using a debit or ATM card   \n",
       "3     Cont'd attempts collect debt not owed   \n",
       "4                            Payoff process   \n",
       "\n",
       "                                    Company-response Date-sent-to-company  \\\n",
       "0                                                NaN           11/11/2015   \n",
       "1   Company chooses not to provide a public response             7/7/2015   \n",
       "2                                                NaN             5/7/2015   \n",
       "3  Company believes it acted appropriately as aut...           11/12/2016   \n",
       "4  Company has responded to the consumer and the ...            9/29/2016   \n",
       "\n",
       "                  Complaint-Status Consumer-disputes  \\\n",
       "0          Closed with explanation               Yes   \n",
       "1  Closed with non-monetary relief                No   \n",
       "2          Closed with explanation                No   \n",
       "3          Closed with explanation                No   \n",
       "4          Closed with explanation                No   \n",
       "\n",
       "                          Consumer-complaint-summary  \n",
       "0  Seterus, Inc a déposé un faux rapport auprès d...  \n",
       "1  XX / XX / XXXX La requête en faillite n ° XXXX...  \n",
       "2  El XXXX / XXXX / 15, estaba preparando el vuel...  \n",
       "3  The loan was paid in XXXX XXXX. In XXXX, 4 yea...  \n",
       "4  J'ai obtenu un compte de crédit de soins pour ...  "
      ]
     },
     "execution_count": 193,
     "metadata": {},
     "output_type": "execute_result"
    }
   ],
   "source": [
    "train_data.head()"
   ]
  },
  {
   "cell_type": "code",
   "execution_count": 194,
   "metadata": {},
   "outputs": [
    {
     "data": {
      "text/plain": [
       "Complaint-ID                  object\n",
       "Date-received                 object\n",
       "Transaction-Type              object\n",
       "Complaint-reason              object\n",
       "Company-response              object\n",
       "Date-sent-to-company          object\n",
       "Complaint-Status              object\n",
       "Consumer-disputes             object\n",
       "Consumer-complaint-summary    object\n",
       "dtype: object"
      ]
     },
     "execution_count": 194,
     "metadata": {},
     "output_type": "execute_result"
    }
   ],
   "source": [
    "train_data.dtypes"
   ]
  },
  {
   "cell_type": "code",
   "execution_count": 195,
   "metadata": {},
   "outputs": [],
   "source": [
    "# import pandas as pd\n",
    "# df = pd.DataFrame({\"Date\": [\"2014-03-29\", \"2014-03-30\", \"2014-03-31\"]})\n",
    "# df[\"Date\"] = pd.to_datetime(df[\"Date\"]).dt.strftime(\"%Y/%m/%d\")\n",
    "# print( df )"
   ]
  },
  {
   "cell_type": "code",
   "execution_count": null,
   "metadata": {},
   "outputs": [],
   "source": []
  },
  {
   "cell_type": "code",
   "execution_count": 196,
   "metadata": {},
   "outputs": [],
   "source": [
    "train_data[\"date_sent_to_recieved\"] = (pd.to_datetime(train_data[\"Date-sent-to-company\"]) - \n",
    "                                       pd.to_datetime(train_data[\"Date-received\"])).dt.days"
   ]
  },
  {
   "cell_type": "code",
   "execution_count": 197,
   "metadata": {},
   "outputs": [
    {
     "data": {
      "text/html": [
       "<div>\n",
       "<style scoped>\n",
       "    .dataframe tbody tr th:only-of-type {\n",
       "        vertical-align: middle;\n",
       "    }\n",
       "\n",
       "    .dataframe tbody tr th {\n",
       "        vertical-align: top;\n",
       "    }\n",
       "\n",
       "    .dataframe thead th {\n",
       "        text-align: right;\n",
       "    }\n",
       "</style>\n",
       "<table border=\"1\" class=\"dataframe\">\n",
       "  <thead>\n",
       "    <tr style=\"text-align: right;\">\n",
       "      <th></th>\n",
       "      <th>Complaint-ID</th>\n",
       "      <th>Date-received</th>\n",
       "      <th>Transaction-Type</th>\n",
       "      <th>Complaint-reason</th>\n",
       "      <th>Company-response</th>\n",
       "      <th>Date-sent-to-company</th>\n",
       "      <th>Complaint-Status</th>\n",
       "      <th>Consumer-disputes</th>\n",
       "      <th>Consumer-complaint-summary</th>\n",
       "      <th>date_sent_to_recieved</th>\n",
       "    </tr>\n",
       "  </thead>\n",
       "  <tbody>\n",
       "    <tr>\n",
       "      <th>0</th>\n",
       "      <td>Tr-1</td>\n",
       "      <td>11/11/2015</td>\n",
       "      <td>Mortgage</td>\n",
       "      <td>Loan servicing, payments, escrow account</td>\n",
       "      <td>NaN</td>\n",
       "      <td>11/11/2015</td>\n",
       "      <td>Closed with explanation</td>\n",
       "      <td>Yes</td>\n",
       "      <td>Seterus, Inc a déposé un faux rapport auprès d...</td>\n",
       "      <td>0</td>\n",
       "    </tr>\n",
       "    <tr>\n",
       "      <th>1</th>\n",
       "      <td>Tr-2</td>\n",
       "      <td>7/7/2015</td>\n",
       "      <td>Credit reporting</td>\n",
       "      <td>Incorrect information on credit report</td>\n",
       "      <td>Company chooses not to provide a public response</td>\n",
       "      <td>7/7/2015</td>\n",
       "      <td>Closed with non-monetary relief</td>\n",
       "      <td>No</td>\n",
       "      <td>XX / XX / XXXX La requête en faillite n ° XXXX...</td>\n",
       "      <td>0</td>\n",
       "    </tr>\n",
       "    <tr>\n",
       "      <th>2</th>\n",
       "      <td>Tr-3</td>\n",
       "      <td>5/7/2015</td>\n",
       "      <td>Bank account or service</td>\n",
       "      <td>Using a debit or ATM card</td>\n",
       "      <td>NaN</td>\n",
       "      <td>5/7/2015</td>\n",
       "      <td>Closed with explanation</td>\n",
       "      <td>No</td>\n",
       "      <td>El XXXX / XXXX / 15, estaba preparando el vuel...</td>\n",
       "      <td>0</td>\n",
       "    </tr>\n",
       "    <tr>\n",
       "      <th>3</th>\n",
       "      <td>Tr-4</td>\n",
       "      <td>11/12/2016</td>\n",
       "      <td>Debt collection</td>\n",
       "      <td>Cont'd attempts collect debt not owed</td>\n",
       "      <td>Company believes it acted appropriately as aut...</td>\n",
       "      <td>11/12/2016</td>\n",
       "      <td>Closed with explanation</td>\n",
       "      <td>No</td>\n",
       "      <td>The loan was paid in XXXX XXXX. In XXXX, 4 yea...</td>\n",
       "      <td>0</td>\n",
       "    </tr>\n",
       "    <tr>\n",
       "      <th>4</th>\n",
       "      <td>Tr-5</td>\n",
       "      <td>9/29/2016</td>\n",
       "      <td>Credit card</td>\n",
       "      <td>Payoff process</td>\n",
       "      <td>Company has responded to the consumer and the ...</td>\n",
       "      <td>9/29/2016</td>\n",
       "      <td>Closed with explanation</td>\n",
       "      <td>No</td>\n",
       "      <td>J'ai obtenu un compte de crédit de soins pour ...</td>\n",
       "      <td>0</td>\n",
       "    </tr>\n",
       "  </tbody>\n",
       "</table>\n",
       "</div>"
      ],
      "text/plain": [
       "  Complaint-ID Date-received         Transaction-Type  \\\n",
       "0         Tr-1    11/11/2015                 Mortgage   \n",
       "1         Tr-2      7/7/2015         Credit reporting   \n",
       "2         Tr-3      5/7/2015  Bank account or service   \n",
       "3         Tr-4    11/12/2016          Debt collection   \n",
       "4         Tr-5     9/29/2016              Credit card   \n",
       "\n",
       "                           Complaint-reason  \\\n",
       "0  Loan servicing, payments, escrow account   \n",
       "1    Incorrect information on credit report   \n",
       "2                 Using a debit or ATM card   \n",
       "3     Cont'd attempts collect debt not owed   \n",
       "4                            Payoff process   \n",
       "\n",
       "                                    Company-response Date-sent-to-company  \\\n",
       "0                                                NaN           11/11/2015   \n",
       "1   Company chooses not to provide a public response             7/7/2015   \n",
       "2                                                NaN             5/7/2015   \n",
       "3  Company believes it acted appropriately as aut...           11/12/2016   \n",
       "4  Company has responded to the consumer and the ...            9/29/2016   \n",
       "\n",
       "                  Complaint-Status Consumer-disputes  \\\n",
       "0          Closed with explanation               Yes   \n",
       "1  Closed with non-monetary relief                No   \n",
       "2          Closed with explanation                No   \n",
       "3          Closed with explanation                No   \n",
       "4          Closed with explanation                No   \n",
       "\n",
       "                          Consumer-complaint-summary  date_sent_to_recieved  \n",
       "0  Seterus, Inc a déposé un faux rapport auprès d...                      0  \n",
       "1  XX / XX / XXXX La requête en faillite n ° XXXX...                      0  \n",
       "2  El XXXX / XXXX / 15, estaba preparando el vuel...                      0  \n",
       "3  The loan was paid in XXXX XXXX. In XXXX, 4 yea...                      0  \n",
       "4  J'ai obtenu un compte de crédit de soins pour ...                      0  "
      ]
     },
     "execution_count": 197,
     "metadata": {},
     "output_type": "execute_result"
    }
   ],
   "source": [
    "train_data.head()"
   ]
  },
  {
   "cell_type": "code",
   "execution_count": 198,
   "metadata": {},
   "outputs": [],
   "source": [
    "train_data[\"Date-received\"] = pd.to_datetime(train_data[\"Date-received\"]).dt.strftime(\"%d%m%y\").astype(int)\n",
    "train_data[\"Date-sent-to-company\"] = pd.to_datetime(train_data[\"Date-sent-to-company\"]).dt.strftime(\"%d%m%y\").astype(int)"
   ]
  },
  {
   "cell_type": "code",
   "execution_count": 199,
   "metadata": {},
   "outputs": [
    {
     "data": {
      "text/plain": [
       "Complaint-ID                  object\n",
       "Date-received                  int32\n",
       "Transaction-Type              object\n",
       "Complaint-reason              object\n",
       "Company-response              object\n",
       "Date-sent-to-company           int32\n",
       "Complaint-Status              object\n",
       "Consumer-disputes             object\n",
       "Consumer-complaint-summary    object\n",
       "date_sent_to_recieved          int64\n",
       "dtype: object"
      ]
     },
     "execution_count": 199,
     "metadata": {},
     "output_type": "execute_result"
    }
   ],
   "source": [
    "train_data.dtypes"
   ]
  },
  {
   "cell_type": "code",
   "execution_count": 200,
   "metadata": {},
   "outputs": [
    {
     "data": {
      "text/html": [
       "<div>\n",
       "<style scoped>\n",
       "    .dataframe tbody tr th:only-of-type {\n",
       "        vertical-align: middle;\n",
       "    }\n",
       "\n",
       "    .dataframe tbody tr th {\n",
       "        vertical-align: top;\n",
       "    }\n",
       "\n",
       "    .dataframe thead th {\n",
       "        text-align: right;\n",
       "    }\n",
       "</style>\n",
       "<table border=\"1\" class=\"dataframe\">\n",
       "  <thead>\n",
       "    <tr style=\"text-align: right;\">\n",
       "      <th></th>\n",
       "      <th>Complaint-ID</th>\n",
       "      <th>Date-received</th>\n",
       "      <th>Transaction-Type</th>\n",
       "      <th>Complaint-reason</th>\n",
       "      <th>Company-response</th>\n",
       "      <th>Date-sent-to-company</th>\n",
       "      <th>Complaint-Status</th>\n",
       "      <th>Consumer-disputes</th>\n",
       "      <th>Consumer-complaint-summary</th>\n",
       "      <th>date_sent_to_recieved</th>\n",
       "    </tr>\n",
       "  </thead>\n",
       "  <tbody>\n",
       "    <tr>\n",
       "      <th>0</th>\n",
       "      <td>Tr-1</td>\n",
       "      <td>111115</td>\n",
       "      <td>Mortgage</td>\n",
       "      <td>Loan servicing, payments, escrow account</td>\n",
       "      <td>NaN</td>\n",
       "      <td>111115</td>\n",
       "      <td>Closed with explanation</td>\n",
       "      <td>Yes</td>\n",
       "      <td>Seterus, Inc a déposé un faux rapport auprès d...</td>\n",
       "      <td>0</td>\n",
       "    </tr>\n",
       "    <tr>\n",
       "      <th>1</th>\n",
       "      <td>Tr-2</td>\n",
       "      <td>70715</td>\n",
       "      <td>Credit reporting</td>\n",
       "      <td>Incorrect information on credit report</td>\n",
       "      <td>Company chooses not to provide a public response</td>\n",
       "      <td>70715</td>\n",
       "      <td>Closed with non-monetary relief</td>\n",
       "      <td>No</td>\n",
       "      <td>XX / XX / XXXX La requête en faillite n ° XXXX...</td>\n",
       "      <td>0</td>\n",
       "    </tr>\n",
       "    <tr>\n",
       "      <th>2</th>\n",
       "      <td>Tr-3</td>\n",
       "      <td>70515</td>\n",
       "      <td>Bank account or service</td>\n",
       "      <td>Using a debit or ATM card</td>\n",
       "      <td>NaN</td>\n",
       "      <td>70515</td>\n",
       "      <td>Closed with explanation</td>\n",
       "      <td>No</td>\n",
       "      <td>El XXXX / XXXX / 15, estaba preparando el vuel...</td>\n",
       "      <td>0</td>\n",
       "    </tr>\n",
       "    <tr>\n",
       "      <th>3</th>\n",
       "      <td>Tr-4</td>\n",
       "      <td>121116</td>\n",
       "      <td>Debt collection</td>\n",
       "      <td>Cont'd attempts collect debt not owed</td>\n",
       "      <td>Company believes it acted appropriately as aut...</td>\n",
       "      <td>121116</td>\n",
       "      <td>Closed with explanation</td>\n",
       "      <td>No</td>\n",
       "      <td>The loan was paid in XXXX XXXX. In XXXX, 4 yea...</td>\n",
       "      <td>0</td>\n",
       "    </tr>\n",
       "    <tr>\n",
       "      <th>4</th>\n",
       "      <td>Tr-5</td>\n",
       "      <td>290916</td>\n",
       "      <td>Credit card</td>\n",
       "      <td>Payoff process</td>\n",
       "      <td>Company has responded to the consumer and the ...</td>\n",
       "      <td>290916</td>\n",
       "      <td>Closed with explanation</td>\n",
       "      <td>No</td>\n",
       "      <td>J'ai obtenu un compte de crédit de soins pour ...</td>\n",
       "      <td>0</td>\n",
       "    </tr>\n",
       "  </tbody>\n",
       "</table>\n",
       "</div>"
      ],
      "text/plain": [
       "  Complaint-ID  Date-received         Transaction-Type  \\\n",
       "0         Tr-1         111115                 Mortgage   \n",
       "1         Tr-2          70715         Credit reporting   \n",
       "2         Tr-3          70515  Bank account or service   \n",
       "3         Tr-4         121116          Debt collection   \n",
       "4         Tr-5         290916              Credit card   \n",
       "\n",
       "                           Complaint-reason  \\\n",
       "0  Loan servicing, payments, escrow account   \n",
       "1    Incorrect information on credit report   \n",
       "2                 Using a debit or ATM card   \n",
       "3     Cont'd attempts collect debt not owed   \n",
       "4                            Payoff process   \n",
       "\n",
       "                                    Company-response  Date-sent-to-company  \\\n",
       "0                                                NaN                111115   \n",
       "1   Company chooses not to provide a public response                 70715   \n",
       "2                                                NaN                 70515   \n",
       "3  Company believes it acted appropriately as aut...                121116   \n",
       "4  Company has responded to the consumer and the ...                290916   \n",
       "\n",
       "                  Complaint-Status Consumer-disputes  \\\n",
       "0          Closed with explanation               Yes   \n",
       "1  Closed with non-monetary relief                No   \n",
       "2          Closed with explanation                No   \n",
       "3          Closed with explanation                No   \n",
       "4          Closed with explanation                No   \n",
       "\n",
       "                          Consumer-complaint-summary  date_sent_to_recieved  \n",
       "0  Seterus, Inc a déposé un faux rapport auprès d...                      0  \n",
       "1  XX / XX / XXXX La requête en faillite n ° XXXX...                      0  \n",
       "2  El XXXX / XXXX / 15, estaba preparando el vuel...                      0  \n",
       "3  The loan was paid in XXXX XXXX. In XXXX, 4 yea...                      0  \n",
       "4  J'ai obtenu un compte de crédit de soins pour ...                      0  "
      ]
     },
     "execution_count": 200,
     "metadata": {},
     "output_type": "execute_result"
    }
   ],
   "source": [
    "train_data.head()"
   ]
  },
  {
   "cell_type": "code",
   "execution_count": 201,
   "metadata": {},
   "outputs": [
    {
     "data": {
      "text/plain": [
       "Complaint-ID                      0\n",
       "Date-received                     0\n",
       "Transaction-Type                  0\n",
       "Complaint-reason                  0\n",
       "Company-response              22506\n",
       "Date-sent-to-company              0\n",
       "Complaint-Status                  0\n",
       "Consumer-disputes              7698\n",
       "Consumer-complaint-summary        0\n",
       "date_sent_to_recieved             0\n",
       "dtype: int64"
      ]
     },
     "execution_count": 201,
     "metadata": {},
     "output_type": "execute_result"
    }
   ],
   "source": [
    "train_data.isnull().sum()"
   ]
  },
  {
   "cell_type": "code",
   "execution_count": 202,
   "metadata": {},
   "outputs": [],
   "source": [
    "train_data[\"Company-response\"].fillna(\"no response\", inplace = True)"
   ]
  },
  {
   "cell_type": "code",
   "execution_count": 203,
   "metadata": {},
   "outputs": [
    {
     "data": {
      "text/plain": [
       "No     27663\n",
       "Yes     7905\n",
       "Name: Consumer-disputes, dtype: int64"
      ]
     },
     "execution_count": 203,
     "metadata": {},
     "output_type": "execute_result"
    }
   ],
   "source": [
    "train_data[\"Consumer-disputes\"].value_counts()"
   ]
  },
  {
   "cell_type": "code",
   "execution_count": 204,
   "metadata": {},
   "outputs": [],
   "source": [
    "train_data[\"Consumer-disputes\"].fillna(\"No\", inplace = True)"
   ]
  },
  {
   "cell_type": "code",
   "execution_count": 205,
   "metadata": {},
   "outputs": [
    {
     "data": {
      "text/plain": [
       "Complaint-ID                  0\n",
       "Date-received                 0\n",
       "Transaction-Type              0\n",
       "Complaint-reason              0\n",
       "Company-response              0\n",
       "Date-sent-to-company          0\n",
       "Complaint-Status              0\n",
       "Consumer-disputes             0\n",
       "Consumer-complaint-summary    0\n",
       "date_sent_to_recieved         0\n",
       "dtype: int64"
      ]
     },
     "execution_count": 205,
     "metadata": {},
     "output_type": "execute_result"
    }
   ],
   "source": [
    "train_data.isnull().sum()"
   ]
  },
  {
   "cell_type": "code",
   "execution_count": 206,
   "metadata": {},
   "outputs": [
    {
     "data": {
      "text/plain": [
       "Debt collection                                                                 10422\n",
       "Mortgage                                                                         7950\n",
       "Credit reporting                                                                 6706\n",
       "Credit card                                                                      4119\n",
       "Bank account or service                                                          3264\n",
       "Credit reporting, credit repair services, or other personal consumer reports     3169\n",
       "Student loan                                                                     2874\n",
       "Consumer Loan                                                                    2033\n",
       "Credit card or prepaid card                                                       719\n",
       "Checking or savings account                                                       496\n",
       "Payday loan                                                                       363\n",
       "Money transfers                                                                   332\n",
       "Prepaid card                                                                      308\n",
       "Vehicle loan or lease                                                             155\n",
       "Money transfer, virtual currency, or money service                                147\n",
       "Payday loan, title loan, or personal loan                                         145\n",
       "Other financial service                                                            60\n",
       "Virtual currency                                                                    4\n",
       "Name: Transaction-Type, dtype: int64"
      ]
     },
     "execution_count": 206,
     "metadata": {},
     "output_type": "execute_result"
    }
   ],
   "source": [
    "train_data[\"Transaction-Type\"].value_counts()"
   ]
  },
  {
   "cell_type": "code",
   "execution_count": 207,
   "metadata": {},
   "outputs": [
    {
     "data": {
      "text/plain": [
       "Equifax mishandled my information, which has led to a violation that puts me and millions of others at a potential risk. I am extremely disappointed with the way in which Equifax has handled the notification of this breach. Very little was done to notify the public for almost a month after the violation was detected. I did not receive any email, letter or phone call and, instead, I had to discover it through social networks.                                                                                                                                                                                                                                                                                                                                                                                                                                                                                                                                                                                                                                                                                                                                                                                                                                                                                                                                                                                                                                                                                                                                                                                                                                                                                                                                                                                                                                                                                                                                                                                                                                                                                                                                                                                                                                                                                                                                                                                                                                                                                                                                                                                                                                                                                                                                                                                                                                                                                                                                                                                                                                                                                                                                                                                                                                                                                                                                                                                                                                                                                                                                                                                                                                                                                                                                                                                                                                                                                                                                                                                                                                                                                                                                                                                                                                                                                                                                                                                                                                                                                                                           13\n",
       "I am filing this complaint because Experian has ignored my request to provide me with the documents your company has on file that were used to verify the accounts I disputed. Since they have passed the 30-day mark and can not verify these accounts, under Section 611 (5) (A) of the FCRA, they are required to \"... quickly remove all information that can not be verified\" I have disputed . Please, resolve this way as soon as possible. Thank you.                                                                                                                                                                                                                                                                                                                                                                                                                                                                                                                                                                                                                                                                                                                                                                                                                                                                                                                                                                                                                                                                                                                                                                                                                                                                                                                                                                                                                                                                                                                                                                                                                                                                                                                                                                                                                                                                                                                                                                                                                                                                                                                                                                                                                                                                                                                                                                                                                                                                                                                                                                                                                                                                                                                                                                                                                                                                                                                                                                                                                                                                                                                                                                                                                                                                                                                                                                                                                                                                                                                                                                                                                                                                                                                                                                                                                                                                                                                                                                                                                                                                                                          13\n",
       "I am filing this complaint because TransUnion has ignored my request to provide me with the documents your company has on file that were used to verify the accounts I disputed. Since they have passed the 30-day mark and can not verify these accounts, under Section 611 (5) (A) of the FCRA, they are required to \"... quickly remove all information that can not be verified\" I have disputed . Please, resolve this way as soon as possible. Thank you.                                                                                                                                                                                                                                                                                                                                                                                                                                                                                                                                                                                                                                                                                                                                                                                                                                                                                                                                                                                                                                                                                                                                                                                                                                                                                                                                                                                                                                                                                                                                                                                                                                                                                                                                                                                                                                                                                                                                                                                                                                                                                                                                                                                                                                                                                                                                                                                                                                                                                                                                                                                                                                                                                                                                                                                                                                                                                                                                                                                                                                                                                                                                                                                                                                                                                                                                                                                                                                                                                                                                                                                                                                                                                                                                                                                                                                                                                                                                                                                                                                                                                                         7\n",
       "This company continues to report on my credit report after I sent them a letter informing them that this account was not mine and I have no idea what it is or who it belongs to!\\n\\nI requested proof of a signed contract, I requested a license to collect in my state, I requested copies of all the information referred to for this debt and to date, I have received nothing but harassment from this company !\\n\\nTHIS IS NOT MY DEBT!                                                                                                                                                                                                                                                                                                                                                                                                                                                                                                                                                                                                                                                                                                                                                                                                                                                                                                                                                                                                                                                                                                                                                                                                                                                                                                                                                                                                                                                                                                                                                                                                                                                                                                                                                                                                                                                                                                                                                                                                                                                                                                                                                                                                                                                                                                                                                                                                                                                                                                                                                                                                                                                                                                                                                                                                                                                                                                                                                                                                                                                                                                                                                                                                                                                                                                                                                                                                                                                                                                                                                                                                                                                                                                                                                                                                                                                                                                                                                                                                                                                                                                                          6\n",
       "This company continues to report on my credit report after I sent them a letter informing them that this account was not mine and I have no idea what it is or who it belongs to!\\n\\nI requested proof of a signed contract, I requested a license to collect in my state, I requested copies of all the information referred to for this debt and to date, I have received nothing but harassment from this company !\\n\\nTHIS IS NOT MY DEBT!\\n\\nI WANT THIS ACCOUNT TO BE REMOVED FROM MY CREDIT REPORT AND THIS COMPANY TO STOP CONTACTING ME IMMEDIATELY!                                                                                                                                                                                                                                                                                                                                                                                                                                                                                                                                                                                                                                                                                                                                                                                                                                                                                                                                                                                                                                                                                                                                                                                                                                                                                                                                                                                                                                                                                                                                                                                                                                                                                                                                                                                                                                                                                                                                                                                                                                                                                                                                                                                                                                                                                                                                                                                                                                                                                                                                                                                                                                                                                                                                                                                                                                                                                                                                                                                                                                                                                                                                                                                                                                                                                                                                                                                                                                                                                                                                                                                                                                                                                                                                                                                                                                                                                                                                                                                                           6\n",
       "Estoy presentando esta queja porque Experian ha ignorado mi solicitud para proporcionarme los documentos que su compañía tiene archivados que se usaron para verificar las cuentas que disputé. Dado que han pasado la marca de los 30 días y no pueden verificar estas cuentas, bajo la Sección 611 (5) (A) de la FCRA, están obligados a \"... eliminar rápidamente toda la información que no pueda verificarse\" He disputado. Por favor, resuelva esta manera lo antes posible. Gracias.                                                                                                                                                                                                                                                                                                                                                                                                                                                                                                                                                                                                                                                                                                                                                                                                                                                                                                                                                                                                                                                                                                                                                                                                                                                                                                                                                                                                                                                                                                                                                                                                                                                                                                                                                                                                                                                                                                                                                                                                                                                                                                                                                                                                                                                                                                                                                                                                                                                                                                                                                                                                                                                                                                                                                                                                                                                                                                                                                                                                                                                                                                                                                                                                                                                                                                                                                                                                                                                                                                                                                                                                                                                                                                                                                                                                                                                                                                                                                                                                                                                                             5\n",
       "I have no knowledge of that debt.                                                                                                                                                                                                                                                                                                                                                                                                                                                                                                                                                                                                                                                                                                                                                                                                                                                                                                                                                                                                                                                                                                                                                                                                                                                                                                                                                                                                                                                                                                                                                                                                                                                                                                                                                                                                                                                                                                                                                                                                                                                                                                                                                                                                                                                                                                                                                                                                                                                                                                                                                                                                                                                                                                                                                                                                                                                                                                                                                                                                                                                                                                                                                                                                                                                                                                                                                                                                                                                                                                                                                                                                                                                                                                                                                                                                                                                                                                                                                                                                                                                                                                                                                                                                                                                                                                                                                                                                                                                                                                                                       5\n",
       "This company continues to report on my credit report after I sent them a letter informing them that this account was not mine and I have no idea what it is or who it belongs to!\\n\\nI requested proof of a signed contract, I requested a license to collect in my state, I requested copies of all the information referred to for this debt and to date, I have received nothing but harassment from this company !                                                                                                                                                                                                                                                                                                                                                                                                                                                                                                                                                                                                                                                                                                                                                                                                                                                                                                                                                                                                                                                                                                                                                                                                                                                                                                                                                                                                                                                                                                                                                                                                                                                                                                                                                                                                                                                                                                                                                                                                                                                                                                                                                                                                                                                                                                                                                                                                                                                                                                                                                                                                                                                                                                                                                                                                                                                                                                                                                                                                                                                                                                                                                                                                                                                                                                                                                                                                                                                                                                                                                                                                                                                                                                                                                                                                                                                                                                                                                                                                                                                                                                                                                  4\n",
       "I have not received any documentation that validates the debt they are trying to collect. I have not been given a contract or any instrument with my signature that validates that this debt is mine.                                                                                                                                                                                                                                                                                                                                                                                                                                                                                                                                                                                                                                                                                                                                                                                                                                                                                                                                                                                                                                                                                                                                                                                                                                                                                                                                                                                                                                                                                                                                                                                                                                                                                                                                                                                                                                                                                                                                                                                                                                                                                                                                                                                                                                                                                                                                                                                                                                                                                                                                                                                                                                                                                                                                                                                                                                                                                                                                                                                                                                                                                                                                                                                                                                                                                                                                                                                                                                                                                                                                                                                                                                                                                                                                                                                                                                                                                                                                                                                                                                                                                                                                                                                                                                                                                                                                                                   4\n",
       "I am filing this complaint because Equifax has ignored my request to provide me with the documents your company has on file that were used to verify the accounts I disputed. Since they have passed the 30-day mark and can not verify these accounts, under Section 611 (5) (A) of the FCRA, they are required to \"... quickly remove all information that can not be verified\" I have disputed . Please, resolve this way as soon as possible. Thank you.                                                                                                                                                                                                                                                                                                                                                                                                                                                                                                                                                                                                                                                                                                                                                                                                                                                                                                                                                                                                                                                                                                                                                                                                                                                                                                                                                                                                                                                                                                                                                                                                                                                                                                                                                                                                                                                                                                                                                                                                                                                                                                                                                                                                                                                                                                                                                                                                                                                                                                                                                                                                                                                                                                                                                                                                                                                                                                                                                                                                                                                                                                                                                                                                                                                                                                                                                                                                                                                                                                                                                                                                                                                                                                                                                                                                                                                                                                                                                                                                                                                                                                            4\n",
       "I am not familiar with this company and I do not understand why they are in my credit. These inquiries affect my credit in a negative way. I would like them to be eliminated.                                                                                                                                                                                                                                                                                                                                                                                                                                                                                                                                                                                                                                                                                                                                                                                                                                                                                                                                                                                                                                                                                                                                                                                                                                                                                                                                                                                                                                                                                                                                                                                                                                                                                                                                                                                                                                                                                                                                                                                                                                                                                                                                                                                                                                                                                                                                                                                                                                                                                                                                                                                                                                                                                                                                                                                                                                                                                                                                                                                                                                                                                                                                                                                                                                                                                                                                                                                                                                                                                                                                                                                                                                                                                                                                                                                                                                                                                                                                                                                                                                                                                                                                                                                                                                                                                                                                                                                          4\n",
       "A few months ago I applied for my credit report to Experian. I received this letter from them telling me that they received something that looked like fraud. I did not have the opportunity to call them immediately and, honestly, I thought it was a mistake, so I connected and got my report from some website.\\nI ended up filing some disputes because there was incorrect and incomplete information on my credit report. So I prepared a good letter and sent it with a copy of my driver's license, proof of my social security number and proof of my email address so that Experian can verify my identity.\\nIt has been at least 2 months since I sent my letter and I have not received a response. When I try to call their number XXXX, they want a report number before talking to an agent and, since I do not have one, I can not talk to anyone.\\nI thought that the credit companies had to answer me within 30 days, otherwise, are you supposed to eliminate things from my credit report?\\nWell, it's been more than 30 days and all the things I've discussed are still there. I know I can connect online, buy a credit monitoring service and try to dispute things online, but I thought Experian should help me for free!\\nI'm at the point where I've finished wasting my time and I need to fix it right away.                                                                                                                                                                                                                                                                                                                                                                                                                                                                                                                                                                                                                                                                                                                                                                                                                                                                                                                                                                                                                                                                                                                                                                                                                                                                                                                                                                                                                                                                                                                                                                                                                                                                                                                                                                                                                                                                                                                                                                                                                                                                                                                                                                                                                                                                                                                                                                                                                                                                                                                                                                                                                                                                                                                                                                                                                                                                                                                                                                                                                                                                                                                                                                                                                           3\n",
       "I have sent several requests to Experian requesting an investigation of my accounts. Months have passed and I still have not received an answer to my concerns. The only thing I have received is an automatic rejection letter stating that they did not do anything to help me (see the attached document).\\nThis has to be a violation of my rights. I feel like I've already wasted a lot of time trying to get Experian to see the errors on my credit report and I'm so frustrated that Experian is not responding to my questions intentionally. I need to have this problem solved immediately. There are many things that I have to do with my life and they all involve my credit. But I can not advance everything because of this credit agency!                                                                                                                                                                                                                                                                                                                                                                                                                                                                                                                                                                                                                                                                                                                                                                                                                                                                                                                                                                                                                                                                                                                                                                                                                                                                                                                                                                                                                                                                                                                                                                                                                                                                                                                                                                                                                                                                                                                                                                                                                                                                                                                                                                                                                                                                                                                                                                                                                                                                                                                                                                                                                                                                                                                                                                                                                                                                                                                                                                                                                                                                                                                                                                                                                                                                                                                                                                                                                                                                                                                                                                                                                                                                                                                                                                                                            3\n",
       "The company did not respond to the inquiry letter related to the incorrect reporting of credit reports.                                                                                                                                                                                                                                                                                                                                                                                                                                                                                                                                                                                                                                                                                                                                                                                                                                                                                                                                                                                                                                                                                                                                                                                                                                                                                                                                                                                                                                                                                                                                                                                                                                                                                                                                                                                                                                                                                                                                                                                                                                                                                                                                                                                                                                                                                                                                                                                                                                                                                                                                                                                                                                                                                                                                                                                                                                                                                                                                                                                                                                                                                                                                                                                                                                                                                                                                                                                                                                                                                                                                                                                                                                                                                                                                                                                                                                                                                                                                                                                                                                                                                                                                                                                                                                                                                                                                                                                                                                                                 3\n",
       "Recently I checked my credit and discovered that this company has reported that I owe them a debt. As far as I know, I have never received a notice from this company. I have never received any goods or services from this company and I have not signed a contract stating that I would do so.                                                                                                                                                                                                                                                                                                                                                                                                                                                                                                                                                                                                                                                                                                                                                                                                                                                                                                                                                                                                                                                                                                                                                                                                                                                                                                                                                                                                                                                                                                                                                                                                                                                                                                                                                                                                                                                                                                                                                                                                                                                                                                                                                                                                                                                                                                                                                                                                                                                                                                                                                                                                                                                                                                                                                                                                                                                                                                                                                                                                                                                                                                                                                                                                                                                                                                                                                                                                                                                                                                                                                                                                                                                                                                                                                                                                                                                                                                                                                                                                                                                                                                                                                                                                                                                                       3\n",
       "The company has not removed the item after I provided the proof.                                                                                                                                                                                                                                                                                                                                                                                                                                                                                                                                                                                                                                                                                                                                                                                                                                                                                                                                                                                                                                                                                                                                                                                                                                                                                                                                                                                                                                                                                                                                                                                                                                                                                                                                                                                                                                                                                                                                                                                                                                                                                                                                                                                                                                                                                                                                                                                                                                                                                                                                                                                                                                                                                                                                                                                                                                                                                                                                                                                                                                                                                                                                                                                                                                                                                                                                                                                                                                                                                                                                                                                                                                                                                                                                                                                                                                                                                                                                                                                                                                                                                                                                                                                                                                                                                                                                                                                                                                                                                                        3\n",
       "Je dépose cette plainte car Experian a ignoré ma demande de me fournir les documents de son entreprise qui ont été utilisés dans le dossier et qui ont été utilisés pour vérifier les comptes que j'ai contestés. Étant donné qu'ils ont dépassé le délai de 30 jours et ne peuvent pas vérifier ces comptes, en vertu de l'article 611 (5) (A) de la FCRA, ils sont tenus de \"... supprimer rapidement toutes les informations qui ne peuvent être vérifiées J'ai contesté. S'il vous plaît résoudre cette manière dès que possible. Merci.                                                                                                                                                                                                                                                                                                                                                                                                                                                                                                                                                                                                                                                                                                                                                                                                                                                                                                                                                                                                                                                                                                                                                                                                                                                                                                                                                                                                                                                                                                                                                                                                                                                                                                                                                                                                                                                                                                                                                                                                                                                                                                                                                                                                                                                                                                                                                                                                                                                                                                                                                                                                                                                                                                                                                                                                                                                                                                                                                                                                                                                                                                                                                                                                                                                                                                                                                                                                                                                                                                                                                                                                                                                                                                                                                                                                                                                                                                                                                                                                                            3\n",
       "Je dépose cette plainte parce que TransUnion a ignoré ma demande de me fournir les documents au dossier de leur entreprise qui ont été utilisés pour vérifier les comptes que j'ai contestés. Étant donné qu'ils ont dépassé le délai de 30 jours et ne peuvent pas vérifier ces comptes, en vertu de l'article 611 (5) (A) de la FCRA, ils sont tenus de \"... supprimer rapidement toutes les informations qui ne peuvent être vérifiées J'ai contesté. S'il vous plaît résoudre cette manière dès que possible. Merci.                                                                                                                                                                                                                                                                                                                                                                                                                                                                                                                                                                                                                                                                                                                                                                                                                                                                                                                                                                                                                                                                                                                                                                                                                                                                                                                                                                                                                                                                                                                                                                                                                                                                                                                                                                                                                                                                                                                                                                                                                                                                                                                                                                                                                                                                                                                                                                                                                                                                                                                                                                                                                                                                                                                                                                                                                                                                                                                                                                                                                                                                                                                                                                                                                                                                                                                                                                                                                                                                                                                                                                                                                                                                                                                                                                                                                                                                                                                                                                                                                                                3\n",
       "Three times I have sent requests to individual credit agencies XXXX as well as to XXXX XXXX XXXX requesting the inaccurate report of late payments in XXXX and XXXX XXXX to be removed from all XXXX of my federal loans with account numbers XXXX, XXXX, XXXX, & XXXX. The agency reported a timely payment on XXXX XXXX, 60 days late XXXX XXXX, and 90 days late XXXX XXXX for all my accounts. During this time, I was struggling with the company to approve my IBR. XXXX XXXX, XXXX spoke with agent # XXXX, with XXXX, who acted retroactively my postponement until XXXX XXXX, XXXX so that it is active until XXXX. I followed XXXX XXXX, to make sure my account was up to date, I spoke with a man, XXXX, @ XXXX XXXX (MST) who said he was in postponement with a {$ 0.00} ball from XXXX XXXX. Whenever I request that inaccurate reports be corrected, XXXX posts an observation of \"Disputed resolved, the Client does not agree\". Nothing has been resolved. It was in postponement, so the final notices must be deleted.                                                                                                                                                                                                                                                                                                                                                                                                                                                                                                                                                                                                                                                                                                                                                                                                                                                                                                                                                                                                                                                                                                                                                                                                                                                                                                                                                                                                                                                                                                                                                                                                                                                                                                                                                                                                                                                                                                                                                                                                                                                                                                                                                                                                                                                                                                                                                                                                                                                                                                                                                                                                                                                                                                                                                                                                                                                                                                                                                                                                                                                                                                                                                                                                                                                                                                                                                                                                                                                                                                                              3\n",
       "Equifax a mal géré mes informations, ce qui a entraîné une violation qui met moi-même et des millions d'autres en danger Je suis extrêmement déçu de la manière dont equifax a géré le signalement de cette violation. Très peu de choses ont été faites pour informer le public pendant près d'un mois après la détection de la violation. Je n'ai reçu aucun courrier électronique, lettre ou appel téléphonique, mais j'ai dû le découvrir via les médias sociaux.                                                                                                                                                                                                                                                                                                                                                                                                                                                                                                                                                                                                                                                                                                                                                                                                                                                                                                                                                                                                                                                                                                                                                                                                                                                                                                                                                                                                                                                                                                                                                                                                                                                                                                                                                                                                                                                                                                                                                                                                                                                                                                                                                                                                                                                                                                                                                                                                                                                                                                                                                                                                                                                                                                                                                                                                                                                                                                                                                                                                                                                                                                                                                                                                                                                                                                                                                                                                                                                                                                                                                                                                                                                                                                                                                                                                                                                                                                                                                                                                                                                                                                   3\n",
       "I have been a victim of identity theft. I have tried to work with the Credit Reporting Agency, but they refuse to honor my valid identity theft case, so these incorrect / fraudulent items are still on my credit report and should be removed immediately, but they do not belong to me. I have provided all the evidence to prove that I was a victim of identity theft and that, to my knowledge, these fraudulent accounts do not belong to me. Take immediate action on my behalf to be able to eliminate, delete and permanently block these elements of my credit report, so that I can return to normal.\\n\\nregards                                                                                                                                                                                                                                                                                                                                                                                                                                                                                                                                                                                                                                                                                                                                                                                                                                                                                                                                                                                                                                                                                                                                                                                                                                                                                                                                                                                                                                                                                                                                                                                                                                                                                                                                                                                                                                                                                                                                                                                                                                                                                                                                                                                                                                                                                                                                                                                                                                                                                                                                                                                                                                                                                                                                                                                                                                                                                                                                                                                                                                                                                                                                                                                                                                                                                                                                                                                                                                                                                                                                                                                                                                                                                                                                                                                                                                                                                                                                            3\n",
       "While reviewing my personal credit report, I noticed an unauthorized and fraudulent credit request made by XXXX on or around XX / XX / XXXX in Transunion. I did not authorize any person employed by this company to make any inquiries and see my credit report. XXXX has violated Law 1681b (c) of the Fair Credit Information Act. They had no legal right to carry out this fraudulent investigation. This is a serious violation of my privacy rights.\\nI have requested that you send me a copy of my signed authorization form that gave you the right to see my credit within five (5) business days to verify its validity and I informed you that if you can not provide proof that I authorized you to see my credit report, then I demand that they contact the credit bureaus immediately and ask them to immediately withdraw the unauthorized and fraudulent query. I also asked them to remove my personal information from their records. My social security number is XXXX and my date of birth is XX / XX / XXXX in case it is necessary to locate the fraudulent query on your system.                                                                                                                                                                                                                                                                                                                                                                                                                                                                                                                                                                                                                                                                                                                                                                                                                                                                                                                                                                                                                                                                                                                                                                                                                                                                                                                                                                                                                                                                                                                                                                                                                                                                                                                                                                                                                                                                                                                                                                                                                                                                                                                                                                                                                                                                                                                                                                                                                                                                                                                                                                                                                                                                                                                                                                                                                                                                                                                                                                                                                                                                                                                                                                                                                                                                                                                                                                                                                                                             3\n",
       "Estoy presentando esta queja porque creo que lo que Experian me está haciendo está mal, es poco ético y puede estar en contra de la ley. Se envió una carta a Experian alrededor de [XXXX / XXXX / 15].\\nLes manifesté claramente mis inquietudes con respecto a la información incorrecta, cuestionable o no verificable que figura en mi informe de crédito. También proporcioné una copia clara de mi identificación, comprobante de mi número de seguro social y comprobante de mi dirección postal actual.\\nEl [XXXX / XXXX / 15] recibí una notificación de Experian que dice lo siguiente: \"Recibimos una solicitud sospechosa por correo con respecto a su informe de crédito personal y determinamos que no fue enviada por usted. Las solicitudes sospechosas son revisadas por el personal de seguridad de Experian que trabaja regularmente con los funcionarios encargados de hacer cumplir la ley y las agencias reguladoras para identificar la correspondencia fraudulenta y engañosa que se origina en los consumidores.\\nEn un esfuerzo por proteger su información de crédito personal contra el fraude, no iniciaremos ninguna disputa basada en la correspondencia sospechosa.\\nExperian aplicará esta misma política a cualquier solicitud sospechosa en el futuro que recibamos con respecto a su información crediticia personal, pero no le enviaremos avisos adicionales de correspondencia sospechosa.\\nSi cree que la información en su informe de crédito personal es inexacta o incompleta, visite nuestro sitio web en experian.com/validate en el conflicto o llámenos al XXXX (XXXX) XXXX para hablar directamente con un representante de asistencia al consumidor de Experian. \"Sin embargo, en este aviso ni siquiera se proporcionó un número de confirmación de Experian. No puedo imaginar lo que podría haber sido\" sospechoso \"sobre mi correspondencia con Experian. ¡No debería tener que pasar horas interminables en el teléfono llamando a la agencia de crédito de un lado a otro intentando resolver los problemas en mi informe de crédito! Estoy presentando esta queja porque Experian no responderá a ninguna carta que esté enviando. ¡Estoy seguro de que esto podría ser una violación de mis derechos y Experian no debe ignorar deliberadamente mis preocupaciones!                                                                                                                                                                                                                                                                                                                                                                                                                                                                                                                                                                                                                                                                                                                                                                                                                                                                                                                                                                                                                                                                                                                                                                                                                                                                                                                                                                                                                                                                                                                                                                                                                                                                                                                                                                                                                                                                                                                                                                                                                                                                                                                                                                                                                                            3\n",
       "I recently received a copy of my credit report and shows a query from this company that I do not remember authorizing.                                                                                                                                                                                                                                                                                                                                                                                                                                                                                                                                                                                                                                                                                                                                                                                                                                                                                                                                                                                                                                                                                                                                                                                                                                                                                                                                                                                                                                                                                                                                                                                                                                                                                                                                                                                                                                                                                                                                                                                                                                                                                                                                                                                                                                                                                                                                                                                                                                                                                                                                                                                                                                                                                                                                                                                                                                                                                                                                                                                                                                                                                                                                                                                                                                                                                                                                                                                                                                                                                                                                                                                                                                                                                                                                                                                                                                                                                                                                                                                                                                                                                                                                                                                                                                                                                                                                                                                                                                                  3\n",
       "Experian does not respond to my requests to investigate and remove accounts that do not belong to me from my credit report.                                                                                                                                                                                                                                                                                                                                                                                                                                                                                                                                                                                                                                                                                                                                                                                                                                                                                                                                                                                                                                                                                                                                                                                                                                                                                                                                                                                                                                                                                                                                                                                                                                                                                                                                                                                                                                                                                                                                                                                                                                                                                                                                                                                                                                                                                                                                                                                                                                                                                                                                                                                                                                                                                                                                                                                                                                                                                                                                                                                                                                                                                                                                                                                                                                                                                                                                                                                                                                                                                                                                                                                                                                                                                                                                                                                                                                                                                                                                                                                                                                                                                                                                                                                                                                                                                                                                                                                                                                             3\n",
       "I recently took out my loan and discovered that this company has reported that I owe them a debt. As far as I know, I have never entered into a financial agreement with this company nor have they provided me with goods or services.                                                                                                                                                                                                                                                                                                                                                                                                                                                                                                                                                                                                                                                                                                                                                                                                                                                                                                                                                                                                                                                                                                                                                                                                                                                                                                                                                                                                                                                                                                                                                                                                                                                                                                                                                                                                                                                                                                                                                                                                                                                                                                                                                                                                                                                                                                                                                                                                                                                                                                                                                                                                                                                                                                                                                                                                                                                                                                                                                                                                                                                                                                                                                                                                                                                                                                                                                                                                                                                                                                                                                                                                                                                                                                                                                                                                                                                                                                                                                                                                                                                                                                                                                                                                                                                                                                                                 3\n",
       "I have disputed this unknown unauthorized inquiry on my credit report with the reporting agencies. It has not been removed from my reports, therefore, I am filing a formal complaint. I have never requested any services or funds from this agency. I have never shared my SSN or any other personal information with this company. I have never signed or signed any kind of agreement with this company. I have never visited or requested any online service with this company. I am not aware of this business, how they received my personal information or why they report on my credit report. All information that is listed on my credit report is inaccurate and unauthorized by me.                                                                                                                                                                                                                                                                                                                                                                                                                                                                                                                                                                                                                                                                                                                                                                                                                                                                                                                                                                                                                                                                                                                                                                                                                                                                                                                                                                                                                                                                                                                                                                                                                                                                                                                                                                                                                                                                                                                                                                                                                                                                                                                                                                                                                                                                                                                                                                                                                                                                                                                                                                                                                                                                                                                                                                                                                                                                                                                                                                                                                                                                                                                                                                                                                                                                                                                                                                                                                                                                                                                                                                                                                                                                                                                                                                                                                                                                        3\n",
       "In XXXX, I requested my free annual credit report. After seeing my credit report, I noticed more than XXXX credit / loan inquiries in my account that were not authorized by me. I contacted each company and was informed that there was no account opened under my information. I explained that I have a difficult question on my credit report and that I need to be removed as soon as possible in order to apply for housing. They told me that the queries would be deleted from my credit report. As of XXXX / XXXX / XXXX, none of the queries has been deleted since XXXX. I received an initial fraud alert on my XXXX XXXX report, so if the company contacted me with a credit report, the company would contact me before a decision was made. I just want the queries to be deleted so that my score and credit will no longer be affected. I would like to buy a house, but until all inquiries are eliminated, I will not be approved with XXXX queries on my credit report.                                                                                                                                                                                                                                                                                                                                                                                                                                                                                                                                                                                                                                                                                                                                                                                                                                                                                                                                                                                                                                                                                                                                                                                                                                                                                                                                                                                                                                                                                                                                                                                                                                                                                                                                                                                                                                                                                                                                                                                                                                                                                                                                                                                                                                                                                                                                                                                                                                                                                                                                                                                                                                                                                                                                                                                                                                                                                                                                                                                                                                                                                                                                                                                                                                                                                                                                                                                                                                                                                                                                                                           3\n",
       "A la edad de XXXX, se me otorgó un préstamo de automóvil malo para más del 21% en un vehículo que tenía 6 años. Mis pagos mensuales fueron {$ 300.00} por mes para el vehículo. Hice los pagos a tiempo durante varios años hasta que tuve dificultades. El automóvil fue finalmente recuperado en el año de 2013. La información en el informe de crédito no refleja lo que realmente pagué a tiempo durante varios años.                                                                                                                                                                                                                                                                                                                                                                                                                                                                                                                                                                                                                                                                                                                                                                                                                                                                                                                                                                                                                                                                                                                                                                                                                                                                                                                                                                                                                                                                                                                                                                                                                                                                                                                                                                                                                                                                                                                                                                                                                                                                                                                                                                                                                                                                                                                                                                                                                                                                                                                                                                                                                                                                                                                                                                                                                                                                                                                                                                                                                                                                                                                                                                                                                                                                                                                                                                                                                                                                                                                                                                                                                                                                                                                                                                                                                                                                                                                                                                                                                                                                                                                                              2\n",
       "Upon reviewing my personal credit report, I discovered an unauthorized and fraudulent credit inquiry conducted without my KNOWLEDGE or CONSENT by XXXX on or around XXXX / XXXX / 2014 in the TRANSUNION credit file. I did not authorize or authorize any person employed by this company to make any inquiries and view my credit report. XXXX has violated Law 1681b (c) of the Fair Credit Information Act. They had no legal right to carry out this fraudulent investigation. This is a serious violation of my privacy rights. I request that you send me a copy of my signed authorization form that gave you the right to see my credit within five (5) business days so that I can verify its validity and informed you that if you can not provide proof that I authorized you to see my credit report, then I demand that they contact the credit agencies and ask them to eliminate the unauthorized and fraudulent consultation immediately.                                                                                                                                                                                                                                                                                                                                                                                                                                                                                                                                                                                                                                                                                                                                                                                                                                                                                                                                                                                                                                                                                                                                                                                                                                                                                                                                                                                                                                                                                                                                                                                                                                                                                                                                                                                                                                                                                                                                                                                                                                                                                                                                                                                                                                                                                                                                                                                                                                                                                                                                                                                                                                                                                                                                                                                                                                                                                                                                                                                                                                                                                                                                                                                                                                                                                                                                                                                                                                                                                                                                                                                                              2\n",
       "                                                                                                                                                                                                                                                                                                                                                                                                                                                                                                                                                                                                                                                                                                                                                                                                                                                                                                                                                                                                                                                                                                                                                                                                                                                                                                                                                                                                                                                                                                                                                                                                                                                                                                                                                                                                                                                                                                                                                                                                                                                                                                                                                                                                                                                                                                                                                                                                                                                                                                                                                                                                                                                                                                                                                                                                                                                                                                                                                                                                                                                                                                                                                                                                                                                                                                                                                                                                                                                                                                                                                                                                                                                                                                                                                                                                                                                                                                                                                                                                                                                                                                                                                                                                                                                                                                                                                                                                                                                                                                                                                                       ..\n",
       "I am in an immaculate position with my HAMP modification. I have been sick for many years. The moment I realized that XXXX XXXX had caused my HAMP modification to be in ruins, I did not know what to do. Between XX / XX / XXXX-XX / XX / XXXX my ASC Loan Activity shows that the modification had a very poor start. My three (3) coupon payments for XXXX, XXXX, XXXX, XXXX and XXXX XXXX were placed on hold. My XXXX XXXX, was a payment reversal that returned to my checking account. The general rule is that I have been behind on my ASC mortgage statement for months, I have paid off my personal bank account payments, some missing mortgage payments, which are not easy to find, but I do in ASC Loan Activity and the reversals of payments. in my bank statements, and shows that the payment was canceled in my impressions of bank statements. But XXXX, all mortgage payments show that they are paid into the ASC database. Thus, this same type of activity was developed year after year. The last sums of money come through my bank account. In the bank printing XXXX / XXXX / XXXX. The grand total paid for 8 mortgage payments was {$ 19000.00}. That's 8 x {$ 610.00}. Other total XXXX totals of {$ 7300.00}, {$ 4900.00} and {$ 13000.00}. I spoke with the bank manager and she said that the transactions were more than 30 days old. But, these transactions continued until XXXX XXXX, XXXX. Some XXXX days after the trip to the bank, I received a letter from the Senior Vice President of Wells Fargo Home Mortgage XXXX XXXX XXXX, who said that my account was moving to XXXX XXXX XXXX. I received a letter from this same man a couple of weeks ago. He wrote to me and told me that the money from a check he had sent me \"may be subject to taxes.\" What check? I have no idea what he is talking about. From the XXXX to the present, I am inundated with letters from the ASC. The usual thing is the payment or the foreclosure is as follows. I receive a phone call, a free phone call. All day they harass me. My credit is destroyed. My social security number no longer matches my mortgage loan, my electricity bill. The Social Security Administration told me that the routing number in my checking account is now different from the one I gave them some time ago. I can not find my writing online or in the center office. I have isolated myself because the United States The Service Company is everything I can deal with all day long. I have to turn off my phone to get peace. That means I miss appointments with doctors, I never talk to my children, grandchildren, family and friends. I have not had a good night's sleep worried about my sliding somewhere so I can hear you can take my house. I'm always nervous and nervous. I feel like a child being harassed by a group of other children, and finally hopeless XXXX. Now they are sending me to XXXX for the final act and, hopefully, the victory of putting me on the street. In XXXX, ASC told XXXX XXXX that I had left my home and that my homeowner's insurance was canceled. ASC stated that I was months behind on my mortgage. I found a holiday sign on the door of my house. I eat at the hospital at that time. I want to recover my house, my life, my credit, my happiness, my friends and my family. XXXX XXXX is the executive mortgage specialist in Wells Fargo, NA. From XX / XX / XXXX to the present, she and her conservationist subordinates, XXXX XXXX, XXXX XXXX, XXXX XXXX, XXXX XXXX, have constantly worked to destroy my HAMP Loan. In XX / XX / XXXX, I made fifteen mortgage payments, the same for XX / XX / XXXX, and XX / XX / XXXX. For payment XX / XX / XXXX, I have some background and receipts. But I have been faithful in my payments.\\nXXXX XXXX XXXX XXXX XXXX XXXX, XXXX. XXXX XXXX, MA XXXX Home (XXXX) XXXX Cell Phone (XXXX) XXXX XXXXXXXXXXXX XXXXXXXXXXXX Something else, I see XXXX in the mortgage account of My loan activity that ASC will close soon when I move.                                                                                                                                                                                                                                                                                                                                                                                                                                                                                                       1\n",
       "I have been a customer of Equifax services for many years. Monitoring information and credit report that includes credit score updates. XXXX XXXX 2016, XXXX, a credit information provider of the mortgage industry, processed and verified my XXXX, XXXX, XXXX and Equifax credit ratings. All agencies, except Equifax, provided correct and correct information. Equifax provided the use of the same Fico score model that I have on the website with a score of XXXX on the report processed by XXXX and on the page there (Equifax website) on the same date that was reflected in XXXX.\\nEquifax has been doing this same kind of abominable behavior by reporting credit information and scores incorrectly for many years and has not been punished for violations of FCRA. I contacted the XXXX / XXXX / 2016 with the letter provided by XXXX that shows the score XXXX of Equifax information of the own page of Equifax from XXXX XXXX information of credit score that reflects the difference of points XXXX. I have been processing a financial transaction in the last 30 days, so I have been monitoring my Equifax page every day to get score and it has been in the XXXX-XXXX range for the past 30 days, including XX / XX / XXXX-XX / XX / XXXX when The credit pull was made.\\nToday, XXXX / XXXX / 2016, I spoke with an Equifax representative and a Supervisor, both gave me the scripted response provided to consumers who, like me, ask for the accuracy and accuracy of the reports. The supervisor said there is nothing he can do. This is not correct and the objective of the FCRA is that companies and private companies do not abuse, cheat, lie or cheat citizens / consumers in relation to financial transactions of credit reports.\\n\\nI would appreciate your immediate action on Equifax and that this company stop abusing the rights of consumers protected by the federal government. Make an immediate correction in the history and score of my credit report and reflect the same information that appears on the website when you provide information to credit points of sale for financial transactions. Best regards, XXXX XXXX XXXX                                                                                                                                                                                                                                                                                                                                                                                                                                                                                                                                                                                                                                                                                                                                                                                                                                                                                                                                                                                                                                                                                                                                                                                                                                                                                                                                                                                                                                                                                                                                                                                                                                                                                                                                                                                                                                                                                                                                                                                                                                                                                                                                                                                                                                                                                                                                                                             1\n",
       "XXXX XXXX has been contacting me since XXXX 2015 or before, to collect in a Citibank credit card account that belongs to my husband, who filed for bankruptcy. The Citibank account was settled in bankruptcy court, so they were paid an assigned amount. I did not apply or use the card, ever. The bankruptcy of my husband has been canceled since approximately XXXX of 2015. I have explained this to the representatives of XXXX of XXXX XXXX. The XXXX said he would send me a dispute form ... it never happened. The XXXX said he saw where the problem was solved, so he was going to \"send it\" because he did not have the debt. The XXXX called last week. She said I owe the debt because I was not involved with bankruptcy. I argued with her because I have never requested or used this card ever. After speaking with a representative, they stop calling for about a week. Then they call several times a day while I'm at work and then, when I'm at home, they continue to harass me. What resource do I have? Put this on my credit report! What can I do about it?                                                                                                                                                                                                                                                                                                                                                                                                                                                                                                                                                                                                                                                                                                                                                                                                                                                                                                                                                                                                                                                                                                                                                                                                                                                                                                                                                                                                                                                                                                                                                                                                                                                                                                                                                                                                                                                                                                                                                                                                                                                                                                                                                                                                                                                                                                                                                                                                                                                                                                                                                                                                                                                                                                                                                                                                                                                                                                                                                                                                                                                                                                                                                                                                                                                                                                                                                                                                                                                                              1\n",
       "On XXXX / XXXX / 2016 I received a refund check or a check for {$ 260.00} of the Bank of America Housing Loans located at XXXX. XXXX XXXX, XXXX XXXX, CA XXXX. In XXXX / XXXX / 2016, approximately at XXXX hours, I went to collect the check in Bank of America in XXXX XXXX located in the branch area of ​​XXXX. The bank agent told me that he could NOT exchange the check for lack of funds. I asked the bank agent why Bank of America would send me a check with insufficient funds. The agent told me to get in touch with Bank of America. I was very upset because I waited almost 25 minutes in a very long and unsophisticated Bank of America queue. The bank only had XXXX ATM agents at the time of serving customers XXXX-XXXX. The agent refused to help me further by saying that he does NOT know anything and that he wanted me to call or contact the Bank of America Housing Loans. I want to know why Bank of America sent me a \"blank\" check or a check with insufficient funds. The check number is XXXX. Treasury identification: XXXX. Another Bank of America address is XXXX XXXX XXXX, XXXX XXXX, CA XXXX.                                                                                                                                                                                                                                                                                                                                                                                                                                                                                                                                                                                                                                                                                                                                                                                                                                                                                                                                                                                                                                                                                                                                                                                                                                                                                                                                                                                                                                                                                                                                                                                                                                                                                                                                                                                                                                                                                                                                                                                                                                                                                                                                                                                                                                                                                                                                                                                                                                                                                                                                                                                                                                                                                                                                                                                                                                                                                                                                                                                                                                                                                                                                                                                                                                                                                                                                                                                                                              1\n",
       "Because there is talk of an increase in rates, I decided to review the prices of a XXXX posted on the Provident Fundings (PF) website XXXX. PF offers a price tool on the website that shows the current prices they offer with certain assumed criteria. If the criteria were not met, I knew that the adjustments could change, but the base price would be the same. The XXXX price shown on the website at 2.875% for 15 fixed years would have covered all closing costs with any remaining credit applied to the prepaid items. Those were my desired terms and why I chose to send the application with PF the XXXX, existing ARM refi to the fixed maintenance index in XXXX and the prices would cover all closing costs. I completed the application online with my borrower's information, revealing income assets, etc. PF did not inform until after completing all the fields of the application that a XXXX would not contact me until 24 hours after the presentation to complete the application process (extract credit and execute the AU engine) that delays the blocking capacity. PF provides contact information for the MCs on the website along with the general inquiry number. After sending the application and worrying about market volatility, I called the general inquiry number and asked to speak with XXXX available to complete the application process. The representative with whom I spoke rejected my request to speak with a XXXX and informed me that I had to wait 48 hours to speak with an MC to complete the application. I also addressed the concern about the volatility of the market and stated that if they contacted me after 48 hours if the price was not the same or PF would not meet the desired price of XXXX, I would not move forward at that time. The decision to delay the application in XXXX was not made by me, it was made by PF. PF decided to delay the remaining application process, by denying the request to speak with MC PF made me subject to market volatility. When I was finally contacted by XXXX in XXXX my concerns were confirmed. In those XXXX hours between XXXX and XXXX, the credit offered for the XXXX rate decreased by .375%, which, depending on the loan amount requested, the difference was {$ 720.00}. I addressed my concern with XXXX and asked PF to respect the XXXX prices due to the fact that I completed the application on my final and asked to speak with MC to complete the application process on XXXX, which was denied. I told XXXX that this was unfair and that it was my decision in XXXX not to go ahead at this time, unless they complied with XXXX prices or until prices were back in XXXX, which is not a guarantee of what it would. It was unfair because the delay caused by the FP cost me $ 720.00. I received an email from XXXX after our call confirmed my concern, stated in an email that, according to current XXXX PF prices, I could offer a 15-year service set to XXXX with {$ 650.00} in closing costs. Based on the quote, if you take into account the difference in XXXX XXXX {$ 720.00} prices if PF granted my request to complete the application with XXXX and allowed me to block, I would not have paid the closing costs and the remaining credit of {$ 74.00} applied. Prepaid items This is an unfair practice on the part of PF to make the prices available online, which encourages consumers to send an application, but it makes them wait 48 hours to speak with XXXX to complete the application due to the delay of PF and not allowing a consumer to speak with an MC Request to complete the application and block the loan on the same day. It is unfair to make a consumer subject to market volatility due to PF delays and pass these costs on to the customer. During a conversation with another representative, he agreed that an application could be completed in a matter of minutes if the request was granted. He stated that the current business model of PF requires consumers to wait 48 hours to be contacted by an MC to complete the application and that a consumer could not request to speak with a XXXX before. Consumers like me present an application to refinance based on the prices that PF is showing on the website and, later, they will not be contacted until after 48 hours. Meanwhile, they are subject to market volatility and can not talk to XXXX before completing the on-demand process. to obtain approval and blocking at the desired available price.     1\n",
       "For your information, there is not much selection for the specific topic of this poorly represented subject, therefore, I opted for the best selection when selecting that there should be no response to the demand.\\n\\nI settled a debt XXXX / XXXX / 2014. The agreement in the full letter provided is not enough according to the credit agencies. The credit bureaus will not recognize the letter because the debt collector is a third party representing a third party and the letter lists the original creditor, as well as the full original account number. I told the collection agency, Praxis Financial Services, that the credit bureaus are not accepting your letter. The consistent response from PFS was that we never had this problem and we sent letters all the time and there is no problem with updating the credit bureaus. I'm having a problem and nobody wants to help. Do not tell consumers that a letter that shows that the debt has been resolved will suffice. Very deceitful and it is a violation of the fdcpa. If I tell this business that the letter does not work, they should make an effort to solve the problem, such as contacting the buyer of the debt, who will not answer the phone, to solve the problem. I also tried to contact the original creditor and I could not get any confirmation that this debt was in a place with this agency and the fact that the praxis is not willing to contact the agencies or help rectify the problem is a warning signal .                                                                                                                                                                                                                                                                                                                                                                                                                                                                                                                                                                                                                                                                                                                                                                                                                                                                                                                                                                                                                                                                                                                                                                                                                                                                                                                                                                                                                                                                                                                                                                                                                                                                                                                                                                                                                                                                                                                                                                                                                                                                                                                                                                                                                                                                                                                                                                                                                                                                                                                                                                                                                                                                                                                                                                                                                                                                                                                                                                                                                                                   1\n",
       "La cuenta de préstamo (cuenta # XXXX) de este acreedor (Omni Financial XXXX / Omni XXXX) se pagó a través de una agencia de cobros (XXXX XXXX XXXX). La agencia de cobranzas afirma haber reportado la deuda pagada al acreedor, pero el acreedor insiste en no tener dicha información para actualizar las agencias de crédito. Después de repetidas llamadas y referencias a la misma agencia de cobranza que cobra las deudas de Omni Financial XXXX / Omni XXXX, me quedan muy pocas opciones. A partir del XXVI / XX / 2017, ninguna de las principales agencias de crédito ha recibido un mensaje de actualización de la cuenta de Omni. Tengo un recibo del saldo completo / XXXX del XXXX XXXX XXXX con Omni Financial XXXX como acreedor original para justificar mi reclamo.                                                                                                                                                                                                                                                                                                                                                                                                                                                                                                                                                                                                                                                                                                                                                                                                                                                                                                                                                                                                                                                                                                                                                                                                                                                                                                                                                                                                                                                                                                                                                                                                                                                                                                                                                                                                                                                                                                                                                                                                                                                                                                                                                                                                                                                                                                                                                                                                                                                                                                                                                                                                                                                                                                                                                                                                                                                                                                                                                                                                                                                                                                                                                                                                                                                                                                                                                                                                                                                                                                                                                                                                                                                                                                                                                                                  1\n",
       "XXXX XXXX XXXX XXXX XXXX XXXX XXXX, XXXX, NC, XXXX SSN: XXXX XXXX XXXX XXXX Concernant: Mon dossier Experian: XXXX Conformément à la Section 609 (a) (1) (A) du Fair Credit Reporting Act, par une loi fédérale, par le biais de la vérification physique du contrat de consommation original signé, vérifiez tous les comptes que vous publiez sur un rapport de crédit. Sinon, toute personne payant pour vos services de rapport pourrait envoyer des télécopies, des courriers électroniques ou des courriels sur un compte frauduleux. Je demande à voir une preuve vérifiable (un contrat de consommation original portant ma signature) que vous avez dans les fichiers des comptes ci-dessous. Votre incapacité à vérifier de manière positive ces comptes a nui à ma capacité à obtenir du crédit. En vertu de la FCRA, les comptes non vérifiés doivent être supprimés. Si vous êtes incapable de me fournir une copie des preuves vérifiables, vous devez supprimer tous les comptes énumérés ci-dessous et vous en remercier. Je demande que les comptes suivants soient vérifiés ou supprimés immédiatement. XXXX XXXX XXXX XXXX XXXX XXXX / XXXX XXXX XXXX XXXX XXXX XXXX XXXX XXXX XXXX XXXX XXXX XXXX XXXX XXXX XXXX XXXX XXXX XXXX XXXX XXXX XXXX XXXX XXXX XXXX XXXX XXXX                                                                                                                                                                                                                                                                                                                                                                                                                                                                                                                                                                                                                                                                                                                                                                                                                                                                                                                                                                                                                                                                                                                                                                                                                                                                                                                                                                                                                                                                                                                                                                                                                                                                                                                                                                                                                                                                                                                                                                                                                                                                                                                                                                                                                                                                                                                                                                                                                                                                                                                                                                                                                                                                                                                                                                                                                                                                                                                                                                                                                                                                                                                                                                                                                                                                             1\n",
       "My uncle had a house is XXXX Washington. The moneylenders continued to suck to refinance it in cash and continued to try to do so even after they informed him that he had XXXX. I am a real estate agent and I quickly ran comps. I was face down during the time they were still trying to withdraw refinancing. The house was worth around XXXX and he owed it XXXX. I cleaned the house so he could go home to live his last days and I cleaned it more after his death. I live in Alaska and this involved several trips and time away from my business to do it. The bank then tried to get a default ruling on me, although I never lived in the house, never signed in your bank account, and never on your mortgage, and I lived more than 20 miles away! I had to spend thousands of dollars defending myself from this legal action. My husband and I were in the process of building a house here, and this would have ruined our funding! Even though a court order dismissed me from the case, the bank is still trying to charge me. My uncle approved XX / XX / XXXX and I will present this complaint on XX / XX / XXXX. XXXX XXXX XXXX XXXX is a predatory lender of veterans XXXX, and Bayview Loan Servicing is an unscrupulous company that violates the laws of collection of debts. Also, keep in mind that I left the house cleaner than any repo that I have handled in my 17 years in the real estate industry.\\n\\nPlease note: I put my personal information on this form. My uncle was the retired veteran.                                                                                                                                                                                                                                                                                                                                                                                                                                                                                                                                                                                                                                                                                                                                                                                                                                                                                                                                                                                                                                                                                                                                                                                                                                                                                                                                                                                                                                                                                                                                                                                                                                                                                                                                                                                                                                                                                                                                                                                                                                                                                                                                                                                                                                                                                                                                                                                                                                                                                                                                                                                                                                                                                                                                                                                                                                                                                                                                                                                                                                 1\n",
       "Los acreedores tienen información personal incorrecta. Me he casado y mi apellido se cambia junto con mi dirección. ¡También me di cuenta de que tienen informes de deudas médicas que ni siquiera sabía que tenía y que FACILMENTE pueden ser atendidos de inmediato! Estas cosas son una GRAN razón por la que recibo un informe tan malo, NECESITO QUE SE ELIMINE ESTOY LO MÁS PRONTO. También me estoy ocupando de una GRAN deuda estudiantil, que debería mostrar progreso en mi informe de crédito, pero acabo de descubrir que no se debe a que NO TIENEN LA INFORMACIÓN DE CONTACTO ADECUADA y mi cambio de nombre debido al matrimonio. Tengo razones para creer que alguien está usando mi nombre y número de seguro social para mantener los servicios públicos a mi nombre, veo que tengo una deuda de \"energía del consumidor\" y \"XXXX\" en un período de tiempo que he vivido aquí en este momento. La dirección actual y SABER a ciencia cierta no podrían ser mis deudas porque en realidad tenemos proveedores diferentes, todavía los tengo hasta el día de hoy. ¿QUÉ DEBO HACER?                                                                                                                                                                                                                                                                                                                                                                                                                                                                                                                                                                                                                                                                                                                                                                                                                                                                                                                                                                                                                                                                                                                                                                                                                                                                                                                                                                                                                                                                                                                                                                                                                                                                                                                                                                                                                                                                                                                                                                                                                                                                                                                                                                                                                                                                                                                                                                                                                                                                                                                                                                                                                                                                                                                                                                                                                                                                                                                                                                                                                                                                                                                                                                                                                                                                                                                                                                                                                                                                      1\n",
       "Paypal détient {13000,00 $} de mon argent disponible pour les 90 à 180 prochains jours. J'ai vendu une tour de sécurité XXXX le XX / XX / 2016 sur eBay pour {24000,00 $}. L'acheteur a payé l'article immédiatement et paypal a indiqué le solde disponible sur mon compte. J'ai pris des dispositions pour que l'acheteur puisse récupérer l'article (qui vient avec un titre et une inscription en Floride) dans les 3 jours. J'ai ensuite essayé de retirer {300,00 $} de mon guichet automatique le lendemain matin après avoir reçu le paiement, mais ma transaction a été refusée. J'étais très inquiet alors j'ai appelé paypal pour savoir ce qui s'était passé. Paypal m’a informé qu’il avait associé mon compte à un compte en souffrance âgé de 14 ans (mon compte paypal actuel est sans conteste en règle depuis 12 ans, et payapl n’a jamais tenté de me poursuivre pour un compte en souffrance auparavant. pour ça ). J'ai informé paypal que le compte délinquant ne m'appartenait pas et leur ai demandé de mener une enquête pour fraude. Ils ont procédé à des enquêtes internes \"XXXX\" au cours des prochaines 48 heures, dans le seul but de m'informer qu'ils pensaient toujours que cela était lié à moi. Pendant tout ce temps, j'ai un solde de {26000,00} dollars qui est payé par PayPal avec une rançon jusqu'au J'accepte de payer {1 000,00 $} pour cet autre compte en souffrance. OUI, vous m'avez bien entendu, plutôt que de geler {1 000,00 $} SUR MON {26000,00 $} ÉQUILIBREZ-MOI EN TENANT MON RENDU COMPLET JUSQU'À CE QUE JE ACCEPTE DE PAYER LEUR CHARGE. Je paie à contrecœur {1000,00} pour avoir accès à mon argent, mais je leur ai fait remarquer que ce compte en souffrance n'était toujours pas mon compte et que je ne le payais que parce que je pouvais le faire pour débloquer Mon compte. Mon compte est à nouveau actif pendant 2 jours avant qu'un autre service de paypal ne gèle mon compte à nouveau et ne me laisse pas toucher mon argent. La division des marchands de paypal gèle {13000,00 $} et m'annonce qu'elle va conserver tout mon compte. pendant 90 à 180 jours. l’acheteur a déjà pris possession de l’article (avec un titre et un enregistrement en Floride), je n’ai donc pas le choix d’annuler la transaction. Maintenant, je suis bloqué sans mon article et avec un compte bloqué pour les 90 à 180 prochains jours. J'utilise ebay et paypal comme principale source de revenus pour subvenir aux besoins de ma famille de XXXX. Maintenant, je ne peux plus faire de ventes car chaque centime qui va sur mon compte paypal est bloqué jusqu’à {24000,00 $}. L'acheteur a également accepté de signer un affidavit renonçant à son droit de venir après paypal ou sa carte de crédit à l'avenir. Paypal a déclaré que rien ne changerait, ils auraient encore besoin de garder l'argent pendant 90 à 180 jours.\\nS'IL VOUS PLAÎT S'IL VOUS PLAÎT S'IL VOUS PLAÎT AIDE.                                                                                                                                                                                                                                                                                                                                                                                                                                                                                                                                                                                                                                                                                                                                                                                                                                                                                                                                                                                                                                                                                                                                                                                                                                                                                                                                                                                                                                                                                                                                                                                                              1\n",
       "Il y a un compte XXXX XXXX sur mon dossier de crédit. J'ai contesté cela il y a plus d'un an. Le compte a été ouvert en XXXX XXXX Nevada. J'habite en XXXX, Al. Et nous n’avons pas XXXX XXXX. Quelqu'un frauduleux ouvre ce compte en mon nom. J'ai étudié et appelé la société il y a un an en leur disant que ce n'était pas ma dette. Veuillez supprimer cette dette de mon dossier de crédit. Je n'ai pas d'adresse associée dans XXXX XXXX Nevada. Mieux encore, appelez mon emploi. J'ai été employé au même emploi pendant 30 ans. Vérifiez mon rapport de crédit.                                                                                                                                                                                                                                                                                                                                                                                                                                                                                                                                                                                                                                                                                                                                                                                                                                                                                                                                                                                                                                                                                                                                                                                                                                                                                                                                                                                                                                                                                                                                                                                                                                                                                                                                                                                                                                                                                                                                                                                                                                                                                                                                                                                                                                                                                                                                                                                                                                                                                                                                                                                                                                                                                                                                                                                                                                                                                                                                                                                                                                                                                                                                                                                                                                                                                                                                                                                                                                                                                                                                                                                                                                                                                                                                                                                                                                                                                                                                                                                              1\n",
       "Knowing that I would become a delinquent in my Sallie Mae Private Student Loans, I tried to communicate with the consumer representative to be proactive and see what could be done. I asked to speak with a collection agent, and they did not let me through because my account was not due. Instead, the representative told me that he talked to them and they (Collections) said they could not help me until my account was overdue, so I should leave it expired if I wanted help. He told me that he was 5 days late, and that after 15 days of delay, but that I would not have to worry since 30 days is when they inform me to the Credit Office. This is extremely annoying. Do you want me to lose a payment before they help me? How is that useful? It puts a stain on my account. Also, who can say that they can even help me after I lose the payment? This is a situation where I needed to know if someone could help me or if I should start calling all my family and friends to see if anyone could help me make my payment. I needed help today, not when I'm beaten. This has really bothered me, since I feel they are giving bad advice and lack customer service.                                                                                                                                                                                                                                                                                                                                                                                                                                                                                                                                                                                                                                                                                                                                                                                                                                                                                                                                                                                                                                                                                                                                                                                                                                                                                                                                                                                                                                                                                                                                                                                                                                                                                                                                                                                                                                                                                                                                                                                                                                                                                                                                                                                                                                                                                                                                                                                                                                                                                                                                                                                                                                                                                                                                                                                                                                                                                                                                                                                                                                                                                                                                                                                                                                                                                                                                                                           1\n",
       "XXXX XXXX XXXX\\nXXXX rapporte 4 comptes de délinquants. Il n'y a que 2 comptes. Un montant de XXXX $ et un autre XXXX $. Le compte avec un solde de XXXX $ a été payé en retard par l’assurance et a été supprimé du rapport XXXX XXXX mais toujours sur XXXX. J'ai envoyé en contestation. La société a dupliqué les deux comptes dans tous les rapports de crédit, ce qui donne à penser qu'il y a 4 comptes en souffrance alors qu'il ne s'agit que de 2 comptes et que, comme indiqué ci-dessus, l'un a été payé en retard par l'assurance. Ce faisant, il a doublé le nombre d'éléments désagréables dans les rapports de crédit. Ce sont aussi des factures médicales qui ne sont pas déclarées comme médicales, mais plutôt comme des comptes de prêt ordinaires, ce qu'elles ne sont pas. SYSTÈMES DE DONNÉES MÉDICALES INC. XXXX XXXX XXXX XXXX XXXX XXXX XXXX XXXX, FL XXXX\\n(XXXX) XXXX\\nPlacé pour\\ncollection:\\nXX / XX / XXXX\\nResponsabilité: Compte individuel\\nType de compte: Compte ouvert\\nType de prêt: COLLECTION\\nAGENCE / PROCUREUR\\nSolde: XXXX $\\nDate de mise à jour: XX / XX / XXXX\\nMontant initial: XXXX $\\nCréancier original: XXXX XXXX XXXX XXXX\\n(Médical / santé\\nSe soucier)\\nEn souffrance:> XXXX $ <\\nÉtat de la paye:> En collection <\\nRemarques:> PLACED FOR COLLECTION <\\n\\nXXXX\\nDate de déclaration: XX / XX / XXXX\\nNom du créancier d’origine SYSTÈME DE DONNÉES MÉDICALES Date du solde XX / XX / XXXX\\nDate assignée XX / XX / XXXX Code de désignation du compte INDIVIDUAL_ACCOUNT\\nMontant initial dû XXXX Numéro de compte XXXX XXXX\\nMontant XXXX $ Classification des créanciers Soins médicaux ou de santé\\nDate de statut XX / XX / XXXX Date du dernier paiement\\nStatut UNPAID Date de première délinquance XX / XX / XXXX\\ncommentaires\\nLe consommateur conteste ces informations de compte\\nMédical\\nDate de déclaration: XX / XX / XXXX\\nNom du créancier d’origine SYSTÈME DE DONNÉES MÉDICALES Date du solde XX / XX / XXXX\\nDate assignée XX / XX / XXXX Code de désignation du compte INDIVIDUAL_ACCOUNT\\nMontant initial dû XXXX Numéro de compte XXXX XXXX\\nMontant XXXX $ Classification des créanciers Soins médicaux ou de santé\\nDate de statut XX / XX / XXXX Date du dernier paiement\\nStatut UNPAID Date de première délinquance XX / XX / XXXX\\nDate du rapport: XX / XX / XXXX Nom du créancier original SYSTÈMES DE DONNÉES MÉDICALES Date du solde XX / XX / XXXX\\nDate assignée XX / XX / XXXX Code de désignation du compte INDIVIDUAL_ACCOUNT\\nMontant initial dû XXXX Numéro de compte XXXX XXXX\\nMontant XXXX $ Classification des créanciers Soins médicaux ou de santé\\nDate de statut XX / XX / XXXX Date du dernier paiement\\nStatut UNPAID Date de première délinquance XX / XX / XXXX\\ncommentaires\\nLitiges de consommation, réexamen en cours\\nDate de déclaration: XX / XX / XXXX\\nNom du créancier d’origine SYSTÈME DE DONNÉES MÉDICALES Date du solde XX / XX / XXXX\\nDate assignée XX / XX / XXXX Code de désignation du compte INDIVIDUAL_ACCOUNT\\nMontant initial dû XXXX Numéro de compte XXXX XXXX\\nMontant XXXX $ Classification des créanciers Soins médicaux ou de santé\\nDate de statut XX / XX / XXXX Date du dernier paiement\\nStatut non payé\\n\\nMerci pour toute aide que vous pouvez donner.                                                                                                                                                                                                                                                                                                                                                                                                                                                                                                                                                                                                                                                                                                                                                                                                                                                                                                                                                                                                                                                                                                                                                                                                                                                              1\n",
       "I recently filed a complaint with the CFPB about my federal student loan form. I asked for a 40% reduction in my student loans because my school was closed due to false advertising and other laws that were broken for the school for profit XXXX XXXX. I submitted the CFPB response to Navient along with the school loan application and I was denied because I graduated from school. Even though I graduated, I still do not get the XXXX payment that Navient is asking me to pay monthly or the other loans I had to take while attending this school. It was more than XXXX XXXX returned for the students who were affected and I was one of the many students affected by the XXXX scam and I feel that I am entitled to my 40% reduction.                                                                                                                                                                                                                                                                                                                                                                                                                                                                                                                                                                                                                                                                                                                                                                                                                                                                                                                                                                                                                                                                                                                                                                                                                                                                                                                                                                                                                                                                                                                                                                                                                                                                                                                                                                                                                                                                                                                                                                                                                                                                                                                                                                                                                                                                                                                                                                                                                                                                                                                                                                                                                                                                                                                                                                                                                                                                                                                                                                                                                                                                                                                                                                                                                                                                                                                                                                                                                                                                                                                                                                                                                                                                                                                                                                                                                  1\n",
       "My brother XXXX XXXX called me saying that a male debt collector called to verify my information over the phone. My brother told him that he had the wrong number, that they were trying to communicate with me, his sister XXXX XXXX, not his wife, who is also called XXXX XXXX. Then, the debt collector proceeded to report the specific information of my account to the name of my credit card XXXX of my brother, the amount of the collections, etc.                                                                                                                                                                                                                                                                                                                                                                                                                                                                                                                                                                                                                                                                                                                                                                                                                                                                                                                                                                                                                                                                                                                                                                                                                                                                                                                                                                                                                                                                                                                                                                                                                                                                                                                                                                                                                                                                                                                                                                                                                                                                                                                                                                                                                                                                                                                                                                                                                                                                                                                                                                                                                                                                                                                                                                                                                                                                                                                                                                                                                                                                                                                                                                                                                                                                                                                                                                                                                                                                                                                                                                                                                                                                                                                                                                                                                                                                                                                                                                                                                                                                                                            1\n",
       "I filed a complaint against Lexis Nexis for inaccurate information contained in your consumer files. Lexis Nexis has several different division and consumer files that I disputed inaccurate information with the following consumer files: XXXX, XXXX, XXXX, XXXX and XXXX. To date only one report has been confirmed corrected. Lexis Nexis refuses to correct or eliminate inaccurate information specifically XXXX XXXX XXXX XXXX XXXX and the resale, exchange of data and marketing of inaccurate information contained in its database / consumer reports.\\nI have questioned the information as inaccurate, I have identified the fraud and I have requested the removal of the information and the exclusion of its database, the exchange of data, the resale and the marketing of my personal information. To date, Lexis Nexis refuses to eliminate the inaccuracies and removes me from its database.                                                                                                                                                                                                                                                                                                                                                                                                                                                                                                                                                                                                                                                                                                                                                                                                                                                                                                                                                                                                                                                                                                                                                                                                                                                                                                                                                                                                                                                                                                                                                                                                                                                                                                                                                                                                                                                                                                                                                                                                                                                                                                                                                                                                                                                                                                                                                                                                                                                                                                                                                                                                                                                                                                                                                                                                                                                                                                                                                                                                                                                                                                                                                                                                                                                                                                                                                                                                                                                                                                                                                                                                                                                    1\n",
       "In XXXX XXXX I requested a modification of my mortgage, XXXX / XXXX / XXXX sent me a package with a payment plan for 3 months. At XXXX / XXXX / XXXX I was informed that I had successfully completed the trial period and that the details of my new payment plan were sent to me showing me a principal and interest of {$ 1100.00} and an amount under guarantee of { $ 500.00} for a total of $ {$ 1600.00} with an interest rate of 3.75%. XXXX / XXXX / XXXX I received a statement with a payment of {$ 1700.00} showing an interest rate of 4.375% and a capital of {$ 750.00} and interest of {$ 910.00} and a security deposit of {$ 65.00 } Then, at XXXX / XXXX / XXXX I received a principal payment of {$ 760.00} interest of {$ 910.00} and security deposit of {$ 65.00} even with an interest rate of 4.375%. Now I am receiving a payment request for {$ 2200.00}.\\nI do not understand why the change in the amounts and the interest rate Initially I had a mortgage for approx. : {$ 2900.00} for 15 years, I could not make the payments on time after my divorce and request the modification, but it seems that now more than 30 years want me to pay {$ 2200.00} monthly and still have the subordinated mortgage of {$ 77000.00} to pay. I have tried many times to remove the deposit and allow me to pay for it myself, since I had never been late or missed anything before the modification, but it seems that I do not care and the only response I received from Ocwen was that \"if I can not pay the mortgage and then sell the house. ''                                                                                                                                                                                                                                                                                                                                                                                                                                                                                                                                                                                                                                                                                                                                                                                                                                                                                                                                                                                                                                                                                                                                                                                                                                                                                                                                                                                                                                                                                                                                                                                                                                                                                                                                                                                                                                                                                                                                                                                                                                                                                                                                                                                                                                                                                                                                                                                                                                                                                                                                                                                                                                                                                                                                                                                                                                                                                                                                                                                             1\n",
       "XXXX. Originally I told them that I would pay for all the services when they were finished. The procedures were incomplete at the end of the day and they sent me hastily to enroll me in a financial company, Care Credit (Synchrony Bank), to pay for the work. I was still disoriented from the procedures and was surprised that it was not finished. I did not know I was creating any additional work that would be charged to this credit account. I received the invoice a few weeks later and it was for an excess of {$ 4200.00}. None of the jobs for which I was charged was performed, except XXXX XXXX, which were not even completed and were not performed correctly. I had to do the work again in another XXXX. I disputed the charges with Care Credit (Synchrony Bank) and they completed an investigation that resulted in a judgment in my favor and that was withdrawn from the bill {$ 800.00}. They claimed that I still owed more than {$ 3400.00} per XXXX failed XXXX. Although I can prove with XXXX that I never received XXXX for what they charged me, they told me that they have taken the word from the dentist that these services were provided and support their charges. I will be in contact with a lawyer, but I want to report what I believe has been the fraudulent billing of this XXXX, the charge for services that were never made and the support of this fraud on behalf of Care Credit (Synchrony Bank).                                                                                                                                                                                                                                                                                                                                                                                                                                                                                                                                                                                                                                                                                                                                                                                                                                                                                                                                                                                                                                                                                                                                                                                                                                                                                                                                                                                                                                                                                                                                                                                                                                                                                                                                                                                                                                                                                                                                                                                                                                                                                                                                                                                                                                                                                                                                                                                                                                                                                                                                                                                                                                                                                                                                                                                                                                                                                                                                                                                                                                                                                                             1\n",
       "The bank Chase withdrew {$ 1800.00} XXXX / XXXX / 2016 without permission and has been turning me around to get it back. The problem is derived from a cashier's check that was made in my account and returned later; however, as they decided to simply withdraw the money, I am now at a distance of XXXX miles away from my house, with an excess bank account and bills to be paid. They have no legal right to my money and have no reason to act so slowly. It should be borne in mind that the employees of the branch were very helpful and tried harder to help me with this problem, but they still could not solve it. They were told they had to solve the problem.                                                                                                                                                                                                                                                                                                                                                                                                                                                                                                                                                                                                                                                                                                                                                                                                                                                                                                                                                                                                                                                                                                                                                                                                                                                                                                                                                                                                                                                                                                                                                                                                                                                                                                                                                                                                                                                                                                                                                                                                                                                                                                                                                                                                                                                                                                                                                                                                                                                                                                                                                                                                                                                                                                                                                                                                                                                                                                                                                                                                                                                                                                                                                                                                                                                                                                                                                                                                                                                                                                                                                                                                                                                                                                                                                                                                                                                                                        1\n",
       "Someone has opened this account with a payment history. I am a victim of identity theft and I want it removed from my XXXX and XXXX reports. They are indicating that I have seven lost payments, which is completely crazy. I just want it removed                                                                                                                                                                                                                                                                                                                                                                                                                                                                                                                                                                                                                                                                                                                                                                                                                                                                                                                                                                                                                                                                                                                                                                                                                                                                                                                                                                                                                                                                                                                                                                                                                                                                                                                                                                                                                                                                                                                                                                                                                                                                                                                                                                                                                                                                                                                                                                                                                                                                                                                                                                                                                                                                                                                                                                                                                                                                                                                                                                                                                                                                                                                                                                                                                                                                                                                                                                                                                                                                                                                                                                                                                                                                                                                                                                                                                                                                                                                                                                                                                                                                                                                                                                                                                                                                                                                     1\n",
       "Terminé mi servicio con XXXX en XXXX 2015 debido a la insatisfacción con su facturación. Me vendieron un receptor digital y ofrecieron un reembolso cuando se devolvió el receptor analógico que se está reemplazando. Nunca recibió la caja para devolver el receptor antiguo, y cuando fueron llamados, negaron haber aceptado el reembolso. Yo había acordado verbalmente extender mi contrato por dos años. Así que cancelé mi servicio. Recibí una factura de \"tarifa de terminación\" de {$ 380.00}. Tenía conocimiento de los Estatutos 44-101 (5) del XXXX que establece que un acuerdo verbal que no se debe realizar dentro de un año no se puede cumplir. Como nunca firmé el acuerdo, Escribí a XXXX el XXXX XXXX, 2015, informándoles sobre el estatuto y la inaplicabilidad. Luego empecé a recibir llamadas de robo de Focus Receivable Management en XXXX (XXXX) pidiéndome que las llame. Recibí tres llamadas de empleados, y Me negué a hablar de mi negocio personal con una parte desconocida. Les dije que respondería a una carta escrita, pero no a una llamada telefónica. Todavía no he recibido una llamada telefónica, y solo creo que la ubicación de la empresa se basa en un Búsqueda XXXX. Me doy cuenta de que conforme a la ley federal (Ley de Prácticas Justas para el Cobro de Deudas) solo puedo detener las llamadas telefónicas mediante notificación por escrito, pero no tengo información de ubicación para enviar dicha carta. Por favor, ayúdenme a detener este hostigamiento.                                                                                                                                                                                                                                                                                                                                                                                                                                                                                                                                                                                                                                                                                                                                                                                                                                                                                                                                                                                                                                                                                                                                                                                                                                                                                                                                                                                                                                                                                                                                                                                                                                                                                                                                                                                                                                                                                                                                                                                                                                                                                                                                                                                                                                                                                                                                                                                                                                                                                                                                                                                                                                                                                                                                                                                                                                                                                                                                                                                                                                             1\n",
       "I contacted the credit bureau about the two debts that appear on my credit report that I am not aware of the accounts several times. Accounts XXXX XXXX XXXX and XXXX XXXX continue to appear on my credit report after having discussed them with the person by phone and online. Each time they return and they say that the debt is valid and verified without showing the proper proof. When I call and speak with a representative, the representatives tell me to contact the creditors and ask them to eliminate the debt. I always had the impression that we should not contact the original creditor because it violates the FCRA because they ask me to contact the original creditor.                                                                                                                                                                                                                                                                                                                                                                                                                                                                                                                                                                                                                                                                                                                                                                                                                                                                                                                                                                                                                                                                                                                                                                                                                                                                                                                                                                                                                                                                                                                                                                                                                                                                                                                                                                                                                                                                                                                                                                                                                                                                                                                                                                                                                                                                                                                                                                                                                                                                                                                                                                                                                                                                                                                                                                                                                                                                                                                                                                                                                                                                                                                                                                                                                                                                                                                                                                                                                                                                                                                                                                                                                                                                                                                                                                                                                                                                       1\n",
       "Sélectionnez portfolio servicing, Inc.\\nXXXX XXXX XXXX XXXX, Ohio XXXX XXXX et XXXX XXXX XXXX XXXX XXXX, XXXX XXXX XXXX, SC XXXX.\\nXXXX XXXX XXXX XXXX XXXX XXXX XXXX XXXX, sc XXXX tentent de saisir ma propriété au XXXX XXXX XXXX XXXX SC XXXX 1. Ils ont refusé ma modification.\\n2. Ils m'empêchent d'effectuer une mission frauduleusement créée et signée par robo.\\n3. La convention de mise en commun et de service qui a été déposée auprès de XXXX Securities Exchange indique clairement que tous les transferts devaient être effectués dans les 90 jours suivant la clôture de la fiducie.\\n4. Le prêt a été placé dans la fiducie 6 ans après sa fermeture.\\n5. XXXX XXXX XXXX n'a ​​pas répondu à la validation de ma dette et Select Portfolios n'a pas répondu correctement à mes demandes écrites.\\nCordialement, XXXX XXXX XXXX XXXX XXXX XXXX XXXX SC XXXX XXXX                                                                                                                                                                                                                                                                                                                                                                                                                                                                                                                                                                                                                                                                                                                                                                                                                                                                                                                                                                                                                                                                                                                                                                                                                                                                                                                                                                                                                                                                                                                                                                                                                                                                                                                                                                                                                                                                                                                                                                                                                                                                                                                                                                                                                                                                                                                                                                                                                                                                                                                                                                                                                                                                                                                                                                                                                                                                                                                                                                                                                                                                                                                                                                                                                                                                                                                                                                                                                                                                                                                                                                                                                                                                                    1\n",
       "XXXX XXXX, 2011 the law was filed and our house evicted us due to a foreclosure, together with my children a week before XXXX. We had fought with the Bank of America for 1.5 years, trying to resolve when my husband and I lost our home, we even had a reward that Bank of America rejected, because the mortgage was canceled and the sale of my house was for profit only for the bank of america We were told that we would receive the paperwork we needed to sign and return, so we kept our house in two weeks, they came and went without paperwork, we called again in two weeks, this went on and on. Needless to say, we lost the house in which I grew up and my children grew up in a house for which I had paid XXXX mortgages. Bank of America not only forced us to take out insurance that increased my payment from {$ 640.00} to {$ 1100.00} per month, but they lied to us and called us XXXX or more times a day or their machines called us. We went to the debt advisers who asked us and told us we could keep our home if we followed the instructions that we made in vain. Then, in the agreement we got a grand total of around {$ 800.00}, which was nothing more than an insult. We moved to a house that, for all rights, should have been condemned, we stayed there while we could raise the money to move, now we live in a place that, in the best of cases, is barely standing, I have a family old woman (father) I have to be close to I hope that anyone who reads this never uses Bank of America, my husband and I work and do not receive government assistance in any way. However, we have lost everything, there was nothing now or to help us recover anything that we lost, our bank in America stripped our credit of our house while they gave bonds of one million dollars with the money that I work and payment in taxes. However, no one was there to rescue my family. I know that only in my area there were several who went through the same problems as my family. So much for the American dream!                                                                                                                                                                                                                                                                                                                                                                                                                                                                                                                                                                                                                                                                                                                                                                                                                                                                                                                                                                                                                                                                                                                                                                                                                                                                                                                                                                                                                                                                                                                                                                                                                                                                                                                                                                                                                                                                                                                                                                                                                                                                                                                                                                                                                                                                                                                                                                                                                                                                                                          1\n",
       "Today I received an email from them that said they were filing charges against me for check fraud for a bad loan I have with them. They told me I should have someone ready to get me out of jail. They also told me that they would talk to my superiors at work and let them know what I have done.                                                                                                                                                                                                                                                                                                                                                                                                                                                                                                                                                                                                                                                                                                                                                                                                                                                                                                                                                                                                                                                                                                                                                                                                                                                                                                                                                                                                                                                                                                                                                                                                                                                                                                                                                                                                                                                                                                                                                                                                                                                                                                                                                                                                                                                                                                                                                                                                                                                                                                                                                                                                                                                                                                                                                                                                                                                                                                                                                                                                                                                                                                                                                                                                                                                                                                                                                                                                                                                                                                                                                                                                                                                                                                                                                                                                                                                                                                                                                                                                                                                                                                                                                                                                                                                                   1\n",
       "For a year I was called on a debt for delaware solutions, but they do not reveal the debt, they just call it \"check against fraud\". Sometimes it is the XXXX or XXXX companies that request the same debt in the same month, they say they are legal. Dept but it will be specific. They keep calling my workplace, although I have been asked not to do it myself and the others in the office, I will lose my job. They called my office XXXX on XXXX / XXXX / 14. They use theft calls and threaten jail and fines. I've talked to these debt collectors and asked them to send me all the information about the original debt, including my signature that says I accepted the contract, then they get angry and start yelling. they refuse to give them my personal information but they continue the call, they think that because they have the last XXXX digits of my SS number, I will accept to pay them money, they threaten the jail time and the fines if I do not pay with them. A few days, After rejecting the calls, I stop for a week or XXXX and I start again. I have blocked them from my personal phone, but they still call my work, they even call the phone number of my brothers' house. I did not even have that number. How they got it I do not know. I just want this to end a year after this harassment is more than everyone should have to endure. The lawyers say they can not do anything because these companies change their location. One would think that after a year they would know that I will not give them anything and I will move on.                                                                                                                                                                                                                                                                                                                                                                                                                                                                                                                                                                                                                                                                                                                                                                                                                                                                                                                                                                                                                                                                                                                                                                                                                                                                                                                                                                                                                                                                                                                                                                                                                                                                                                                                                                                                                                                                                                                                                                                                                                                                                                                                                                                                                                                                                                                                                                                                                                                                                                                                                                                                                                                                                                                                                                                                                                                                                                                                                                                   1\n",
       "We are in the third month of the mortgage loan process without an end in sight. We are buying a house and the seller will not extend the contract after XX / XX / 2016. We have responded quickly to any documentation that the lender needs and we are still waiting for loan approval and loan documents. We have also been informed that the interest rate and loan costs will have to be changed after they informed us that they would fulfill their original commitment.                                                                                                                                                                                                                                                                                                                                                                                                                                                                                                                                                                                                                                                                                                                                                                                                                                                                                                                                                                                                                                                                                                                                                                                                                                                                                                                                                                                                                                                                                                                                                                                                                                                                                                                                                                                                                                                                                                                                                                                                                                                                                                                                                                                                                                                                                                                                                                                                                                                                                                                                                                                                                                                                                                                                                                                                                                                                                                                                                                                                                                                                                                                                                                                                                                                                                                                                                                                                                                                                                                                                                                                                                                                                                                                                                                                                                                                                                                                                                                                                                                                                                          1\n",
       "The credit bureau refuses to remove the information as required by the Fair Credit Information Act.                                                                                                                                                                                                                                                                                                                                                                                                                                                                                                                                                                                                                                                                                                                                                                                                                                                                                                                                                                                                                                                                                                                                                                                                                                                                                                                                                                                                                                                                                                                                                                                                                                                                                                                                                                                                                                                                                                                                                                                                                                                                                                                                                                                                                                                                                                                                                                                                                                                                                                                                                                                                                                                                                                                                                                                                                                                                                                                                                                                                                                                                                                                                                                                                                                                                                                                                                                                                                                                                                                                                                                                                                                                                                                                                                                                                                                                                                                                                                                                                                                                                                                                                                                                                                                                                                                                                                                                                                                                                     1\n",
       "Dear CFPB, I have tried to access my credit recently and I was denied because EXPERIAN continues to falsely report an element of judgment that the entity XXXX, XXXX did not validate as it was due and due to I, XXXX XXXX XXXX. The article was removed and then inserted again by EXPERIAN. Entity XXXX, XXXX never responded to my complaint that I made to my XXXX from NJ and EXPERIAN continues to report that the item falsely damaged my creditworthiness.                                                                                                                                                                                                                                                                                                                                                                                                                                                                                                                                                                                                                                                                                                                                                                                                                                                                                                                                                                                                                                                                                                                                                                                                                                                                                                                                                                                                                                                                                                                                                                                                                                                                                                                                                                                                                                                                                                                                                                                                                                                                                                                                                                                                                                                                                                                                                                                                                                                                                                                                                                                                                                                                                                                                                                                                                                                                                                                                                                                                                                                                                                                                                                                                                                                                                                                                                                                                                                                                                                                                                                                                                                                                                                                                                                                                                                                                                                                                                                                                                                                                                                     1\n",
       "Name: Consumer-complaint-summary, Length: 43022, dtype: int64"
      ]
     },
     "execution_count": 207,
     "metadata": {},
     "output_type": "execute_result"
    }
   ],
   "source": [
    "train_data[\"Consumer-complaint-summary\"].value_counts()"
   ]
  },
  {
   "cell_type": "code",
   "execution_count": 208,
   "metadata": {},
   "outputs": [],
   "source": [
    "# from collections import defaultdict\n",
    "# d = defaultdict(LabelEncoder)\n",
    "# Label encoding across multiple columns in scikit-learn\n",
    "# Encoding the variable\n",
    "# fit = df.apply(lambda x: d[x.name].fit_transform(x))\n",
    "\n",
    "# # Inverse the encoded\n",
    "# fit.apply(lambda x: d[x.name].inverse_transform(x))\n",
    "\n",
    "# # Using the dictionary to label future data\n",
    "# df.apply(lambda x: d[x.name].transform(x))"
   ]
  },
  {
   "cell_type": "code",
   "execution_count": 209,
   "metadata": {},
   "outputs": [
    {
     "data": {
      "text/plain": [
       "Index(['Complaint-ID', 'Date-received', 'Transaction-Type', 'Complaint-reason',\n",
       "       'Company-response', 'Date-sent-to-company', 'Complaint-Status',\n",
       "       'Consumer-disputes', 'Consumer-complaint-summary',\n",
       "       'date_sent_to_recieved'],\n",
       "      dtype='object')"
      ]
     },
     "execution_count": 209,
     "metadata": {},
     "output_type": "execute_result"
    }
   ],
   "source": [
    "train_data.columns\n"
   ]
  },
  {
   "cell_type": "code",
   "execution_count": 210,
   "metadata": {},
   "outputs": [],
   "source": [
    "from sklearn.preprocessing import LabelEncoder\n",
    "from collections import defaultdict\n",
    "d = defaultdict(LabelEncoder)\n",
    "\n",
    "train_data[[\"Transaction-Type\", \"Complaint-reason\",\"Company-response\",\"Consumer-disputes\", \"Complaint-Status\"]] = train_data[[\"Transaction-Type\", \"Complaint-reason\", \"Company-response\", \"Consumer-disputes\", \"Complaint-Status\"]].apply(lambda x: d[x.name].fit_transform(x))\n"
   ]
  },
  {
   "cell_type": "code",
   "execution_count": 211,
   "metadata": {},
   "outputs": [
    {
     "data": {
      "text/html": [
       "<div>\n",
       "<style scoped>\n",
       "    .dataframe tbody tr th:only-of-type {\n",
       "        vertical-align: middle;\n",
       "    }\n",
       "\n",
       "    .dataframe tbody tr th {\n",
       "        vertical-align: top;\n",
       "    }\n",
       "\n",
       "    .dataframe thead th {\n",
       "        text-align: right;\n",
       "    }\n",
       "</style>\n",
       "<table border=\"1\" class=\"dataframe\">\n",
       "  <thead>\n",
       "    <tr style=\"text-align: right;\">\n",
       "      <th></th>\n",
       "      <th>Complaint-ID</th>\n",
       "      <th>Date-received</th>\n",
       "      <th>Transaction-Type</th>\n",
       "      <th>Complaint-reason</th>\n",
       "      <th>Company-response</th>\n",
       "      <th>Date-sent-to-company</th>\n",
       "      <th>Complaint-Status</th>\n",
       "      <th>Consumer-disputes</th>\n",
       "      <th>Consumer-complaint-summary</th>\n",
       "      <th>date_sent_to_recieved</th>\n",
       "    </tr>\n",
       "  </thead>\n",
       "  <tbody>\n",
       "    <tr>\n",
       "      <th>0</th>\n",
       "      <td>Tr-1</td>\n",
       "      <td>111115</td>\n",
       "      <td>10</td>\n",
       "      <td>78</td>\n",
       "      <td>10</td>\n",
       "      <td>111115</td>\n",
       "      <td>1</td>\n",
       "      <td>1</td>\n",
       "      <td>Seterus, Inc a déposé un faux rapport auprès d...</td>\n",
       "      <td>0</td>\n",
       "    </tr>\n",
       "    <tr>\n",
       "      <th>1</th>\n",
       "      <td>Tr-2</td>\n",
       "      <td>70715</td>\n",
       "      <td>5</td>\n",
       "      <td>71</td>\n",
       "      <td>7</td>\n",
       "      <td>70715</td>\n",
       "      <td>3</td>\n",
       "      <td>0</td>\n",
       "      <td>XX / XX / XXXX La requête en faillite n ° XXXX...</td>\n",
       "      <td>0</td>\n",
       "    </tr>\n",
       "    <tr>\n",
       "      <th>2</th>\n",
       "      <td>Tr-3</td>\n",
       "      <td>70515</td>\n",
       "      <td>0</td>\n",
       "      <td>145</td>\n",
       "      <td>10</td>\n",
       "      <td>70515</td>\n",
       "      <td>1</td>\n",
       "      <td>0</td>\n",
       "      <td>El XXXX / XXXX / 15, estaba preparando el vuel...</td>\n",
       "      <td>0</td>\n",
       "    </tr>\n",
       "    <tr>\n",
       "      <th>3</th>\n",
       "      <td>Tr-4</td>\n",
       "      <td>121116</td>\n",
       "      <td>7</td>\n",
       "      <td>36</td>\n",
       "      <td>4</td>\n",
       "      <td>121116</td>\n",
       "      <td>1</td>\n",
       "      <td>0</td>\n",
       "      <td>The loan was paid in XXXX XXXX. In XXXX, 4 yea...</td>\n",
       "      <td>0</td>\n",
       "    </tr>\n",
       "    <tr>\n",
       "      <th>4</th>\n",
       "      <td>Tr-5</td>\n",
       "      <td>290916</td>\n",
       "      <td>3</td>\n",
       "      <td>100</td>\n",
       "      <td>9</td>\n",
       "      <td>290916</td>\n",
       "      <td>1</td>\n",
       "      <td>0</td>\n",
       "      <td>J'ai obtenu un compte de crédit de soins pour ...</td>\n",
       "      <td>0</td>\n",
       "    </tr>\n",
       "  </tbody>\n",
       "</table>\n",
       "</div>"
      ],
      "text/plain": [
       "  Complaint-ID  Date-received  Transaction-Type  Complaint-reason  \\\n",
       "0         Tr-1         111115                10                78   \n",
       "1         Tr-2          70715                 5                71   \n",
       "2         Tr-3          70515                 0               145   \n",
       "3         Tr-4         121116                 7                36   \n",
       "4         Tr-5         290916                 3               100   \n",
       "\n",
       "   Company-response  Date-sent-to-company  Complaint-Status  \\\n",
       "0                10                111115                 1   \n",
       "1                 7                 70715                 3   \n",
       "2                10                 70515                 1   \n",
       "3                 4                121116                 1   \n",
       "4                 9                290916                 1   \n",
       "\n",
       "   Consumer-disputes                         Consumer-complaint-summary  \\\n",
       "0                  1  Seterus, Inc a déposé un faux rapport auprès d...   \n",
       "1                  0  XX / XX / XXXX La requête en faillite n ° XXXX...   \n",
       "2                  0  El XXXX / XXXX / 15, estaba preparando el vuel...   \n",
       "3                  0  The loan was paid in XXXX XXXX. In XXXX, 4 yea...   \n",
       "4                  0  J'ai obtenu un compte de crédit de soins pour ...   \n",
       "\n",
       "   date_sent_to_recieved  \n",
       "0                      0  \n",
       "1                      0  \n",
       "2                      0  \n",
       "3                      0  \n",
       "4                      0  "
      ]
     },
     "execution_count": 211,
     "metadata": {},
     "output_type": "execute_result"
    }
   ],
   "source": [
    "train_data.head()"
   ]
  },
  {
   "cell_type": "code",
   "execution_count": 212,
   "metadata": {},
   "outputs": [],
   "source": [
    "# train_data[[\"Transaction-Type\", \"Complaint-reason\", \"Consumer-disputes\"]] = train_data[[\"Transaction-Type\", \"Complaint-reason\", \"Consumer-disputes\"]].apply(lambda x: d[x.name].inverse_transform(x))\n"
   ]
  },
  {
   "cell_type": "code",
   "execution_count": 213,
   "metadata": {},
   "outputs": [],
   "source": [
    "from sklearn.feature_extraction.text import TfidfVectorizer\n",
    "\n",
    "vectorizer = TfidfVectorizer(max_features= 500)"
   ]
  },
  {
   "cell_type": "code",
   "execution_count": 214,
   "metadata": {},
   "outputs": [
    {
     "data": {
      "text/plain": [
       "TfidfVectorizer(analyzer='word', binary=False, decode_error='strict',\n",
       "        dtype=<class 'numpy.int64'>, encoding='utf-8', input='content',\n",
       "        lowercase=True, max_df=1.0, max_features=500, min_df=1,\n",
       "        ngram_range=(1, 1), norm='l2', preprocessor=None, smooth_idf=True,\n",
       "        stop_words=None, strip_accents=None, sublinear_tf=False,\n",
       "        token_pattern='(?u)\\\\b\\\\w\\\\w+\\\\b', tokenizer=None, use_idf=True,\n",
       "        vocabulary=None)"
      ]
     },
     "execution_count": 214,
     "metadata": {},
     "output_type": "execute_result"
    }
   ],
   "source": [
    "vectorizer"
   ]
  },
  {
   "cell_type": "code",
   "execution_count": 215,
   "metadata": {},
   "outputs": [],
   "source": [
    "complaint_tf = vectorizer.fit_transform(train_data[\"Consumer-complaint-summary\"])"
   ]
  },
  {
   "cell_type": "code",
   "execution_count": 216,
   "metadata": {},
   "outputs": [
    {
     "data": {
      "text/plain": [
       "500"
      ]
     },
     "execution_count": 216,
     "metadata": {},
     "output_type": "execute_result"
    }
   ],
   "source": [
    "len(vectorizer.get_feature_names())"
   ]
  },
  {
   "cell_type": "code",
   "execution_count": 217,
   "metadata": {},
   "outputs": [
    {
     "name": "stdout",
     "output_type": "stream",
     "text": [
      "  (0, 456)\t0.07668671563593825\n",
      "  (0, 121)\t0.13438688722549574\n",
      "  (0, 491)\t0.7397573837515719\n",
      "  (0, 157)\t0.07426499843630063\n",
      "  (0, 251)\t0.17909527709199824\n",
      "  (0, 147)\t0.11407670544132598\n",
      "  (0, 253)\t0.09348182372194476\n",
      "  (0, 171)\t0.09541749974836572\n",
      "  (0, 352)\t0.10372143973871124\n",
      "  (0, 490)\t0.5015254308022593\n",
      "  (0, 245)\t0.07345659623859181\n",
      "  (0, 498)\t0.11044918230397766\n",
      "  (0, 280)\t0.1450146702292012\n",
      "  (0, 0)\t0.07178485142146376\n",
      "  (0, 267)\t0.12426467293382634\n",
      "  (0, 174)\t0.14037494222398225\n",
      "  (0, 176)\t0.13842373614745962\n"
     ]
    }
   ],
   "source": [
    "print(complaint_tf[1, :])"
   ]
  },
  {
   "cell_type": "code",
   "execution_count": 218,
   "metadata": {},
   "outputs": [],
   "source": [
    "consumer_complaint = pd.DataFrame(complaint_tf.toarray())"
   ]
  },
  {
   "cell_type": "code",
   "execution_count": 219,
   "metadata": {},
   "outputs": [
    {
     "data": {
      "text/html": [
       "<div>\n",
       "<style scoped>\n",
       "    .dataframe tbody tr th:only-of-type {\n",
       "        vertical-align: middle;\n",
       "    }\n",
       "\n",
       "    .dataframe tbody tr th {\n",
       "        vertical-align: top;\n",
       "    }\n",
       "\n",
       "    .dataframe thead th {\n",
       "        text-align: right;\n",
       "    }\n",
       "</style>\n",
       "<table border=\"1\" class=\"dataframe\">\n",
       "  <thead>\n",
       "    <tr style=\"text-align: right;\">\n",
       "      <th></th>\n",
       "      <th>0</th>\n",
       "      <th>1</th>\n",
       "      <th>2</th>\n",
       "      <th>3</th>\n",
       "      <th>4</th>\n",
       "      <th>5</th>\n",
       "      <th>6</th>\n",
       "      <th>7</th>\n",
       "      <th>8</th>\n",
       "      <th>9</th>\n",
       "      <th>...</th>\n",
       "      <th>490</th>\n",
       "      <th>491</th>\n",
       "      <th>492</th>\n",
       "      <th>493</th>\n",
       "      <th>494</th>\n",
       "      <th>495</th>\n",
       "      <th>496</th>\n",
       "      <th>497</th>\n",
       "      <th>498</th>\n",
       "      <th>499</th>\n",
       "    </tr>\n",
       "  </thead>\n",
       "  <tbody>\n",
       "    <tr>\n",
       "      <th>0</th>\n",
       "      <td>0.000000</td>\n",
       "      <td>0.0</td>\n",
       "      <td>0.000000</td>\n",
       "      <td>0.284412</td>\n",
       "      <td>0.0</td>\n",
       "      <td>0.0</td>\n",
       "      <td>0.0</td>\n",
       "      <td>0.0</td>\n",
       "      <td>0.0</td>\n",
       "      <td>0.0</td>\n",
       "      <td>...</td>\n",
       "      <td>0.000000</td>\n",
       "      <td>0.224284</td>\n",
       "      <td>0.000000</td>\n",
       "      <td>0.0</td>\n",
       "      <td>0.000000</td>\n",
       "      <td>0.0</td>\n",
       "      <td>0.000000</td>\n",
       "      <td>0.142067</td>\n",
       "      <td>0.000000</td>\n",
       "      <td>0.0</td>\n",
       "    </tr>\n",
       "    <tr>\n",
       "      <th>1</th>\n",
       "      <td>0.071785</td>\n",
       "      <td>0.0</td>\n",
       "      <td>0.000000</td>\n",
       "      <td>0.000000</td>\n",
       "      <td>0.0</td>\n",
       "      <td>0.0</td>\n",
       "      <td>0.0</td>\n",
       "      <td>0.0</td>\n",
       "      <td>0.0</td>\n",
       "      <td>0.0</td>\n",
       "      <td>...</td>\n",
       "      <td>0.501525</td>\n",
       "      <td>0.739757</td>\n",
       "      <td>0.000000</td>\n",
       "      <td>0.0</td>\n",
       "      <td>0.000000</td>\n",
       "      <td>0.0</td>\n",
       "      <td>0.000000</td>\n",
       "      <td>0.000000</td>\n",
       "      <td>0.110449</td>\n",
       "      <td>0.0</td>\n",
       "    </tr>\n",
       "    <tr>\n",
       "      <th>2</th>\n",
       "      <td>0.034863</td>\n",
       "      <td>0.0</td>\n",
       "      <td>0.154246</td>\n",
       "      <td>0.019982</td>\n",
       "      <td>0.0</td>\n",
       "      <td>0.0</td>\n",
       "      <td>0.0</td>\n",
       "      <td>0.0</td>\n",
       "      <td>0.0</td>\n",
       "      <td>0.0</td>\n",
       "      <td>...</td>\n",
       "      <td>0.000000</td>\n",
       "      <td>0.271026</td>\n",
       "      <td>0.063939</td>\n",
       "      <td>0.0</td>\n",
       "      <td>0.000000</td>\n",
       "      <td>0.0</td>\n",
       "      <td>0.000000</td>\n",
       "      <td>0.000000</td>\n",
       "      <td>0.000000</td>\n",
       "      <td>0.0</td>\n",
       "    </tr>\n",
       "    <tr>\n",
       "      <th>3</th>\n",
       "      <td>0.024944</td>\n",
       "      <td>0.0</td>\n",
       "      <td>0.000000</td>\n",
       "      <td>0.000000</td>\n",
       "      <td>0.0</td>\n",
       "      <td>0.0</td>\n",
       "      <td>0.0</td>\n",
       "      <td>0.0</td>\n",
       "      <td>0.0</td>\n",
       "      <td>0.0</td>\n",
       "      <td>...</td>\n",
       "      <td>0.058090</td>\n",
       "      <td>0.311168</td>\n",
       "      <td>0.000000</td>\n",
       "      <td>0.0</td>\n",
       "      <td>0.182424</td>\n",
       "      <td>0.0</td>\n",
       "      <td>0.071322</td>\n",
       "      <td>0.000000</td>\n",
       "      <td>0.000000</td>\n",
       "      <td>0.0</td>\n",
       "    </tr>\n",
       "    <tr>\n",
       "      <th>4</th>\n",
       "      <td>0.000000</td>\n",
       "      <td>0.0</td>\n",
       "      <td>0.000000</td>\n",
       "      <td>0.000000</td>\n",
       "      <td>0.0</td>\n",
       "      <td>0.0</td>\n",
       "      <td>0.0</td>\n",
       "      <td>0.0</td>\n",
       "      <td>0.0</td>\n",
       "      <td>0.0</td>\n",
       "      <td>...</td>\n",
       "      <td>0.000000</td>\n",
       "      <td>0.138195</td>\n",
       "      <td>0.000000</td>\n",
       "      <td>0.0</td>\n",
       "      <td>0.000000</td>\n",
       "      <td>0.0</td>\n",
       "      <td>0.000000</td>\n",
       "      <td>0.000000</td>\n",
       "      <td>0.196014</td>\n",
       "      <td>0.0</td>\n",
       "    </tr>\n",
       "  </tbody>\n",
       "</table>\n",
       "<p>5 rows × 500 columns</p>\n",
       "</div>"
      ],
      "text/plain": [
       "        0    1         2         3    4    5    6    7    8    9   ...   \\\n",
       "0  0.000000  0.0  0.000000  0.284412  0.0  0.0  0.0  0.0  0.0  0.0 ...    \n",
       "1  0.071785  0.0  0.000000  0.000000  0.0  0.0  0.0  0.0  0.0  0.0 ...    \n",
       "2  0.034863  0.0  0.154246  0.019982  0.0  0.0  0.0  0.0  0.0  0.0 ...    \n",
       "3  0.024944  0.0  0.000000  0.000000  0.0  0.0  0.0  0.0  0.0  0.0 ...    \n",
       "4  0.000000  0.0  0.000000  0.000000  0.0  0.0  0.0  0.0  0.0  0.0 ...    \n",
       "\n",
       "        490       491       492  493       494  495       496       497  \\\n",
       "0  0.000000  0.224284  0.000000  0.0  0.000000  0.0  0.000000  0.142067   \n",
       "1  0.501525  0.739757  0.000000  0.0  0.000000  0.0  0.000000  0.000000   \n",
       "2  0.000000  0.271026  0.063939  0.0  0.000000  0.0  0.000000  0.000000   \n",
       "3  0.058090  0.311168  0.000000  0.0  0.182424  0.0  0.071322  0.000000   \n",
       "4  0.000000  0.138195  0.000000  0.0  0.000000  0.0  0.000000  0.000000   \n",
       "\n",
       "        498  499  \n",
       "0  0.000000  0.0  \n",
       "1  0.110449  0.0  \n",
       "2  0.000000  0.0  \n",
       "3  0.000000  0.0  \n",
       "4  0.196014  0.0  \n",
       "\n",
       "[5 rows x 500 columns]"
      ]
     },
     "execution_count": 219,
     "metadata": {},
     "output_type": "execute_result"
    }
   ],
   "source": [
    "consumer_complaint.head()"
   ]
  },
  {
   "cell_type": "code",
   "execution_count": 220,
   "metadata": {},
   "outputs": [
    {
     "data": {
      "text/plain": [
       "(43266, 500)"
      ]
     },
     "execution_count": 220,
     "metadata": {},
     "output_type": "execute_result"
    }
   ],
   "source": [
    "consumer_complaint.shape"
   ]
  },
  {
   "cell_type": "code",
   "execution_count": 221,
   "metadata": {},
   "outputs": [
    {
     "data": {
      "text/plain": [
       "(43266, 10)"
      ]
     },
     "execution_count": 221,
     "metadata": {},
     "output_type": "execute_result"
    }
   ],
   "source": [
    "train_data.shape"
   ]
  },
  {
   "cell_type": "code",
   "execution_count": 222,
   "metadata": {},
   "outputs": [],
   "source": [
    "train_data_new = pd.concat([train_data, consumer_complaint], axis = 1)"
   ]
  },
  {
   "cell_type": "code",
   "execution_count": 223,
   "metadata": {},
   "outputs": [
    {
     "data": {
      "text/plain": [
       "(43266, 510)"
      ]
     },
     "execution_count": 223,
     "metadata": {},
     "output_type": "execute_result"
    }
   ],
   "source": [
    "train_data_new.shape"
   ]
  },
  {
   "cell_type": "code",
   "execution_count": 224,
   "metadata": {},
   "outputs": [],
   "source": [
    "train_data_new = train_data_new.set_index(\"Complaint-ID\")"
   ]
  },
  {
   "cell_type": "code",
   "execution_count": 231,
   "metadata": {},
   "outputs": [],
   "source": [
    "train_data_new = train_data_new.drop(\"Consumer-complaint-summary\", axis = 1)"
   ]
  },
  {
   "cell_type": "code",
   "execution_count": 232,
   "metadata": {},
   "outputs": [],
   "source": [
    "# Consumer-complaints_test = vectorizer.transform(test_data.Consumer-complaint-summary)"
   ]
  },
  {
   "cell_type": "code",
   "execution_count": 233,
   "metadata": {},
   "outputs": [],
   "source": [
    "features = train_data_new.drop([\"Complaint-Status\"], axis = 1)"
   ]
  },
  {
   "cell_type": "code",
   "execution_count": 234,
   "metadata": {},
   "outputs": [],
   "source": [
    "label = train_data_new[\"Complaint-Status\"]"
   ]
  },
  {
   "cell_type": "code",
   "execution_count": null,
   "metadata": {},
   "outputs": [],
   "source": []
  },
  {
   "cell_type": "code",
   "execution_count": 235,
   "metadata": {},
   "outputs": [],
   "source": [
    "from sklearn.model_selection import train_test_split\n",
    "\n",
    "X_train, X_test, y_train, y_test = train_test_split(features, label, test_size = 0.3, random_state = 0)"
   ]
  },
  {
   "cell_type": "code",
   "execution_count": 237,
   "metadata": {},
   "outputs": [
    {
     "name": "stderr",
     "output_type": "stream",
     "text": [
      "D:\\Anaconda3\\lib\\site-packages\\sklearn\\metrics\\classification.py:1135: UndefinedMetricWarning: F-score is ill-defined and being set to 0.0 in labels with no predicted samples.\n",
      "  'precision', 'predicted', average, warn_for)\n"
     ]
    },
    {
     "name": "stdout",
     "output_type": "stream",
     "text": [
      "0.7017525872288617\n"
     ]
    }
   ],
   "source": [
    "from sklearn.linear_model import LogisticRegression\n",
    "from sklearn import metrics\n",
    "\n",
    "clf = LogisticRegression(random_state = 0).fit(X_train, y_train)\n",
    "\n",
    "print(metrics.f1_score(y_test, clf.predict(X_test), average = 'weighted') )\n"
   ]
  },
  {
   "cell_type": "code",
   "execution_count": 238,
   "metadata": {},
   "outputs": [],
   "source": [
    "test_data[\"date_sent_to_recieved\"] = (pd.to_datetime(test_data[\"Date-sent-to-company\"]) - \n",
    "                                       pd.to_datetime(test_data[\"Date-received\"])).dt.days"
   ]
  },
  {
   "cell_type": "code",
   "execution_count": 239,
   "metadata": {},
   "outputs": [],
   "source": [
    "test_data[\"Date-received\"] = pd.to_datetime(test_data[\"Date-received\"]).dt.strftime(\"%d%m%y\").astype(int)\n",
    "test_data[\"Date-sent-to-company\"] = pd.to_datetime(test_data[\"Date-sent-to-company\"]).dt.strftime(\"%d%m%y\").astype(int)"
   ]
  },
  {
   "cell_type": "code",
   "execution_count": 240,
   "metadata": {},
   "outputs": [],
   "source": [
    "test_data[\"Company-response\"].fillna(\"no response\", inplace = True)"
   ]
  },
  {
   "cell_type": "code",
   "execution_count": 241,
   "metadata": {},
   "outputs": [],
   "source": [
    "test_data[\"Consumer-disputes\"].fillna(\"No\", inplace = True)"
   ]
  },
  {
   "cell_type": "code",
   "execution_count": 246,
   "metadata": {},
   "outputs": [
    {
     "ename": "ValueError",
     "evalue": "('y contains new labels: [\"Can\\'t stop withdrawals from your bank account\"\\n \\'Problem with cash advance\\']', 'occurred at index Complaint-reason')",
     "output_type": "error",
     "traceback": [
      "\u001b[1;31m---------------------------------------------------------------------------\u001b[0m",
      "\u001b[1;31mValueError\u001b[0m                                Traceback (most recent call last)",
      "\u001b[1;32m<ipython-input-246-8dad6bd3cbf8>\u001b[0m in \u001b[0;36m<module>\u001b[1;34m()\u001b[0m\n\u001b[1;32m----> 1\u001b[1;33m \u001b[0mtest_data\u001b[0m\u001b[1;33m[\u001b[0m\u001b[1;33m[\u001b[0m\u001b[1;34m\"Complaint-reason\"\u001b[0m\u001b[1;33m]\u001b[0m\u001b[1;33m]\u001b[0m \u001b[1;33m=\u001b[0m \u001b[0mtest_data\u001b[0m\u001b[1;33m[\u001b[0m\u001b[1;33m[\u001b[0m\u001b[1;34m\"Complaint-reason\"\u001b[0m\u001b[1;33m]\u001b[0m\u001b[1;33m]\u001b[0m\u001b[1;33m.\u001b[0m\u001b[0mapply\u001b[0m\u001b[1;33m(\u001b[0m\u001b[1;32mlambda\u001b[0m \u001b[0mx\u001b[0m\u001b[1;33m:\u001b[0m \u001b[0md\u001b[0m\u001b[1;33m[\u001b[0m\u001b[0mx\u001b[0m\u001b[1;33m.\u001b[0m\u001b[0mname\u001b[0m\u001b[1;33m]\u001b[0m\u001b[1;33m.\u001b[0m\u001b[0mtransform\u001b[0m\u001b[1;33m(\u001b[0m\u001b[0mx\u001b[0m\u001b[1;33m)\u001b[0m\u001b[1;33m)\u001b[0m\u001b[1;33m\u001b[0m\u001b[0m\n\u001b[0m",
      "\u001b[1;32mD:\\Anaconda3\\lib\\site-packages\\pandas\\core\\frame.py\u001b[0m in \u001b[0;36mapply\u001b[1;34m(self, func, axis, broadcast, raw, reduce, result_type, args, **kwds)\u001b[0m\n\u001b[0;32m   6002\u001b[0m                          \u001b[0margs\u001b[0m\u001b[1;33m=\u001b[0m\u001b[0margs\u001b[0m\u001b[1;33m,\u001b[0m\u001b[1;33m\u001b[0m\u001b[0m\n\u001b[0;32m   6003\u001b[0m                          kwds=kwds)\n\u001b[1;32m-> 6004\u001b[1;33m         \u001b[1;32mreturn\u001b[0m \u001b[0mop\u001b[0m\u001b[1;33m.\u001b[0m\u001b[0mget_result\u001b[0m\u001b[1;33m(\u001b[0m\u001b[1;33m)\u001b[0m\u001b[1;33m\u001b[0m\u001b[0m\n\u001b[0m\u001b[0;32m   6005\u001b[0m \u001b[1;33m\u001b[0m\u001b[0m\n\u001b[0;32m   6006\u001b[0m     \u001b[1;32mdef\u001b[0m \u001b[0mapplymap\u001b[0m\u001b[1;33m(\u001b[0m\u001b[0mself\u001b[0m\u001b[1;33m,\u001b[0m \u001b[0mfunc\u001b[0m\u001b[1;33m)\u001b[0m\u001b[1;33m:\u001b[0m\u001b[1;33m\u001b[0m\u001b[0m\n",
      "\u001b[1;32mD:\\Anaconda3\\lib\\site-packages\\pandas\\core\\apply.py\u001b[0m in \u001b[0;36mget_result\u001b[1;34m(self)\u001b[0m\n\u001b[0;32m    316\u001b[0m                                       *self.args, **self.kwds)\n\u001b[0;32m    317\u001b[0m \u001b[1;33m\u001b[0m\u001b[0m\n\u001b[1;32m--> 318\u001b[1;33m         \u001b[1;32mreturn\u001b[0m \u001b[0msuper\u001b[0m\u001b[1;33m(\u001b[0m\u001b[0mFrameRowApply\u001b[0m\u001b[1;33m,\u001b[0m \u001b[0mself\u001b[0m\u001b[1;33m)\u001b[0m\u001b[1;33m.\u001b[0m\u001b[0mget_result\u001b[0m\u001b[1;33m(\u001b[0m\u001b[1;33m)\u001b[0m\u001b[1;33m\u001b[0m\u001b[0m\n\u001b[0m\u001b[0;32m    319\u001b[0m \u001b[1;33m\u001b[0m\u001b[0m\n\u001b[0;32m    320\u001b[0m     \u001b[1;32mdef\u001b[0m \u001b[0mapply_broadcast\u001b[0m\u001b[1;33m(\u001b[0m\u001b[0mself\u001b[0m\u001b[1;33m)\u001b[0m\u001b[1;33m:\u001b[0m\u001b[1;33m\u001b[0m\u001b[0m\n",
      "\u001b[1;32mD:\\Anaconda3\\lib\\site-packages\\pandas\\core\\apply.py\u001b[0m in \u001b[0;36mget_result\u001b[1;34m(self)\u001b[0m\n\u001b[0;32m    140\u001b[0m             \u001b[1;32mreturn\u001b[0m \u001b[0mself\u001b[0m\u001b[1;33m.\u001b[0m\u001b[0mapply_raw\u001b[0m\u001b[1;33m(\u001b[0m\u001b[1;33m)\u001b[0m\u001b[1;33m\u001b[0m\u001b[0m\n\u001b[0;32m    141\u001b[0m \u001b[1;33m\u001b[0m\u001b[0m\n\u001b[1;32m--> 142\u001b[1;33m         \u001b[1;32mreturn\u001b[0m \u001b[0mself\u001b[0m\u001b[1;33m.\u001b[0m\u001b[0mapply_standard\u001b[0m\u001b[1;33m(\u001b[0m\u001b[1;33m)\u001b[0m\u001b[1;33m\u001b[0m\u001b[0m\n\u001b[0m\u001b[0;32m    143\u001b[0m \u001b[1;33m\u001b[0m\u001b[0m\n\u001b[0;32m    144\u001b[0m     \u001b[1;32mdef\u001b[0m \u001b[0mapply_empty_result\u001b[0m\u001b[1;33m(\u001b[0m\u001b[0mself\u001b[0m\u001b[1;33m)\u001b[0m\u001b[1;33m:\u001b[0m\u001b[1;33m\u001b[0m\u001b[0m\n",
      "\u001b[1;32mD:\\Anaconda3\\lib\\site-packages\\pandas\\core\\apply.py\u001b[0m in \u001b[0;36mapply_standard\u001b[1;34m(self)\u001b[0m\n\u001b[0;32m    246\u001b[0m \u001b[1;33m\u001b[0m\u001b[0m\n\u001b[0;32m    247\u001b[0m         \u001b[1;31m# compute the result using the series generator\u001b[0m\u001b[1;33m\u001b[0m\u001b[1;33m\u001b[0m\u001b[0m\n\u001b[1;32m--> 248\u001b[1;33m         \u001b[0mself\u001b[0m\u001b[1;33m.\u001b[0m\u001b[0mapply_series_generator\u001b[0m\u001b[1;33m(\u001b[0m\u001b[1;33m)\u001b[0m\u001b[1;33m\u001b[0m\u001b[0m\n\u001b[0m\u001b[0;32m    249\u001b[0m \u001b[1;33m\u001b[0m\u001b[0m\n\u001b[0;32m    250\u001b[0m         \u001b[1;31m# wrap results\u001b[0m\u001b[1;33m\u001b[0m\u001b[1;33m\u001b[0m\u001b[0m\n",
      "\u001b[1;32mD:\\Anaconda3\\lib\\site-packages\\pandas\\core\\apply.py\u001b[0m in \u001b[0;36mapply_series_generator\u001b[1;34m(self)\u001b[0m\n\u001b[0;32m    275\u001b[0m             \u001b[1;32mtry\u001b[0m\u001b[1;33m:\u001b[0m\u001b[1;33m\u001b[0m\u001b[0m\n\u001b[0;32m    276\u001b[0m                 \u001b[1;32mfor\u001b[0m \u001b[0mi\u001b[0m\u001b[1;33m,\u001b[0m \u001b[0mv\u001b[0m \u001b[1;32min\u001b[0m \u001b[0menumerate\u001b[0m\u001b[1;33m(\u001b[0m\u001b[0mseries_gen\u001b[0m\u001b[1;33m)\u001b[0m\u001b[1;33m:\u001b[0m\u001b[1;33m\u001b[0m\u001b[0m\n\u001b[1;32m--> 277\u001b[1;33m                     \u001b[0mresults\u001b[0m\u001b[1;33m[\u001b[0m\u001b[0mi\u001b[0m\u001b[1;33m]\u001b[0m \u001b[1;33m=\u001b[0m \u001b[0mself\u001b[0m\u001b[1;33m.\u001b[0m\u001b[0mf\u001b[0m\u001b[1;33m(\u001b[0m\u001b[0mv\u001b[0m\u001b[1;33m)\u001b[0m\u001b[1;33m\u001b[0m\u001b[0m\n\u001b[0m\u001b[0;32m    278\u001b[0m                     \u001b[0mkeys\u001b[0m\u001b[1;33m.\u001b[0m\u001b[0mappend\u001b[0m\u001b[1;33m(\u001b[0m\u001b[0mv\u001b[0m\u001b[1;33m.\u001b[0m\u001b[0mname\u001b[0m\u001b[1;33m)\u001b[0m\u001b[1;33m\u001b[0m\u001b[0m\n\u001b[0;32m    279\u001b[0m             \u001b[1;32mexcept\u001b[0m \u001b[0mException\u001b[0m \u001b[1;32mas\u001b[0m \u001b[0me\u001b[0m\u001b[1;33m:\u001b[0m\u001b[1;33m\u001b[0m\u001b[0m\n",
      "\u001b[1;32m<ipython-input-246-8dad6bd3cbf8>\u001b[0m in \u001b[0;36m<lambda>\u001b[1;34m(x)\u001b[0m\n\u001b[1;32m----> 1\u001b[1;33m \u001b[0mtest_data\u001b[0m\u001b[1;33m[\u001b[0m\u001b[1;33m[\u001b[0m\u001b[1;34m\"Complaint-reason\"\u001b[0m\u001b[1;33m]\u001b[0m\u001b[1;33m]\u001b[0m \u001b[1;33m=\u001b[0m \u001b[0mtest_data\u001b[0m\u001b[1;33m[\u001b[0m\u001b[1;33m[\u001b[0m\u001b[1;34m\"Complaint-reason\"\u001b[0m\u001b[1;33m]\u001b[0m\u001b[1;33m]\u001b[0m\u001b[1;33m.\u001b[0m\u001b[0mapply\u001b[0m\u001b[1;33m(\u001b[0m\u001b[1;32mlambda\u001b[0m \u001b[0mx\u001b[0m\u001b[1;33m:\u001b[0m \u001b[0md\u001b[0m\u001b[1;33m[\u001b[0m\u001b[0mx\u001b[0m\u001b[1;33m.\u001b[0m\u001b[0mname\u001b[0m\u001b[1;33m]\u001b[0m\u001b[1;33m.\u001b[0m\u001b[0mtransform\u001b[0m\u001b[1;33m(\u001b[0m\u001b[0mx\u001b[0m\u001b[1;33m)\u001b[0m\u001b[1;33m)\u001b[0m\u001b[1;33m\u001b[0m\u001b[0m\n\u001b[0m",
      "\u001b[1;32mD:\\Anaconda3\\lib\\site-packages\\sklearn\\preprocessing\\label.py\u001b[0m in \u001b[0;36mtransform\u001b[1;34m(self, y)\u001b[0m\n\u001b[0;32m    131\u001b[0m         \u001b[1;32mif\u001b[0m \u001b[0mlen\u001b[0m\u001b[1;33m(\u001b[0m\u001b[0mnp\u001b[0m\u001b[1;33m.\u001b[0m\u001b[0mintersect1d\u001b[0m\u001b[1;33m(\u001b[0m\u001b[0mclasses\u001b[0m\u001b[1;33m,\u001b[0m \u001b[0mself\u001b[0m\u001b[1;33m.\u001b[0m\u001b[0mclasses_\u001b[0m\u001b[1;33m)\u001b[0m\u001b[1;33m)\u001b[0m \u001b[1;33m<\u001b[0m \u001b[0mlen\u001b[0m\u001b[1;33m(\u001b[0m\u001b[0mclasses\u001b[0m\u001b[1;33m)\u001b[0m\u001b[1;33m:\u001b[0m\u001b[1;33m\u001b[0m\u001b[0m\n\u001b[0;32m    132\u001b[0m             \u001b[0mdiff\u001b[0m \u001b[1;33m=\u001b[0m \u001b[0mnp\u001b[0m\u001b[1;33m.\u001b[0m\u001b[0msetdiff1d\u001b[0m\u001b[1;33m(\u001b[0m\u001b[0mclasses\u001b[0m\u001b[1;33m,\u001b[0m \u001b[0mself\u001b[0m\u001b[1;33m.\u001b[0m\u001b[0mclasses_\u001b[0m\u001b[1;33m)\u001b[0m\u001b[1;33m\u001b[0m\u001b[0m\n\u001b[1;32m--> 133\u001b[1;33m             \u001b[1;32mraise\u001b[0m \u001b[0mValueError\u001b[0m\u001b[1;33m(\u001b[0m\u001b[1;34m\"y contains new labels: %s\"\u001b[0m \u001b[1;33m%\u001b[0m \u001b[0mstr\u001b[0m\u001b[1;33m(\u001b[0m\u001b[0mdiff\u001b[0m\u001b[1;33m)\u001b[0m\u001b[1;33m)\u001b[0m\u001b[1;33m\u001b[0m\u001b[0m\n\u001b[0m\u001b[0;32m    134\u001b[0m         \u001b[1;32mreturn\u001b[0m \u001b[0mnp\u001b[0m\u001b[1;33m.\u001b[0m\u001b[0msearchsorted\u001b[0m\u001b[1;33m(\u001b[0m\u001b[0mself\u001b[0m\u001b[1;33m.\u001b[0m\u001b[0mclasses_\u001b[0m\u001b[1;33m,\u001b[0m \u001b[0my\u001b[0m\u001b[1;33m)\u001b[0m\u001b[1;33m\u001b[0m\u001b[0m\n\u001b[0;32m    135\u001b[0m \u001b[1;33m\u001b[0m\u001b[0m\n",
      "\u001b[1;31mValueError\u001b[0m: ('y contains new labels: [\"Can\\'t stop withdrawals from your bank account\"\\n \\'Problem with cash advance\\']', 'occurred at index Complaint-reason')"
     ]
    }
   ],
   "source": [
    "test_data[[\"Complaint-reason\"]] = test_data[[\"Complaint-reason\"]].apply(lambda x: d[x.name].transform(x))"
   ]
  },
  {
   "cell_type": "code",
   "execution_count": 248,
   "metadata": {},
   "outputs": [
    {
     "data": {
      "text/plain": [
       "147"
      ]
     },
     "execution_count": 248,
     "metadata": {},
     "output_type": "execute_result"
    }
   ],
   "source": [
    "test_data[\"Complaint-reason\"].nunique()"
   ]
  },
  {
   "cell_type": "code",
   "execution_count": 249,
   "metadata": {},
   "outputs": [
    {
     "data": {
      "text/html": [
       "<div>\n",
       "<style scoped>\n",
       "    .dataframe tbody tr th:only-of-type {\n",
       "        vertical-align: middle;\n",
       "    }\n",
       "\n",
       "    .dataframe tbody tr th {\n",
       "        vertical-align: top;\n",
       "    }\n",
       "\n",
       "    .dataframe thead th {\n",
       "        text-align: right;\n",
       "    }\n",
       "</style>\n",
       "<table border=\"1\" class=\"dataframe\">\n",
       "  <thead>\n",
       "    <tr style=\"text-align: right;\">\n",
       "      <th></th>\n",
       "      <th>Date-received</th>\n",
       "      <th>Transaction-Type</th>\n",
       "      <th>Complaint-reason</th>\n",
       "      <th>Company-response</th>\n",
       "      <th>Date-sent-to-company</th>\n",
       "      <th>Complaint-Status</th>\n",
       "      <th>Consumer-disputes</th>\n",
       "      <th>date_sent_to_recieved</th>\n",
       "      <th>0</th>\n",
       "      <th>1</th>\n",
       "      <th>...</th>\n",
       "      <th>490</th>\n",
       "      <th>491</th>\n",
       "      <th>492</th>\n",
       "      <th>493</th>\n",
       "      <th>494</th>\n",
       "      <th>495</th>\n",
       "      <th>496</th>\n",
       "      <th>497</th>\n",
       "      <th>498</th>\n",
       "      <th>499</th>\n",
       "    </tr>\n",
       "    <tr>\n",
       "      <th>Complaint-ID</th>\n",
       "      <th></th>\n",
       "      <th></th>\n",
       "      <th></th>\n",
       "      <th></th>\n",
       "      <th></th>\n",
       "      <th></th>\n",
       "      <th></th>\n",
       "      <th></th>\n",
       "      <th></th>\n",
       "      <th></th>\n",
       "      <th></th>\n",
       "      <th></th>\n",
       "      <th></th>\n",
       "      <th></th>\n",
       "      <th></th>\n",
       "      <th></th>\n",
       "      <th></th>\n",
       "      <th></th>\n",
       "      <th></th>\n",
       "      <th></th>\n",
       "      <th></th>\n",
       "    </tr>\n",
       "  </thead>\n",
       "  <tbody>\n",
       "    <tr>\n",
       "      <th>Tr-1</th>\n",
       "      <td>111115</td>\n",
       "      <td>10</td>\n",
       "      <td>78</td>\n",
       "      <td>10</td>\n",
       "      <td>111115</td>\n",
       "      <td>1</td>\n",
       "      <td>1</td>\n",
       "      <td>0</td>\n",
       "      <td>0.000000</td>\n",
       "      <td>0.0</td>\n",
       "      <td>...</td>\n",
       "      <td>0.000000</td>\n",
       "      <td>0.224284</td>\n",
       "      <td>0.000000</td>\n",
       "      <td>0.0</td>\n",
       "      <td>0.000000</td>\n",
       "      <td>0.0</td>\n",
       "      <td>0.000000</td>\n",
       "      <td>0.142067</td>\n",
       "      <td>0.000000</td>\n",
       "      <td>0.0</td>\n",
       "    </tr>\n",
       "    <tr>\n",
       "      <th>Tr-2</th>\n",
       "      <td>70715</td>\n",
       "      <td>5</td>\n",
       "      <td>71</td>\n",
       "      <td>7</td>\n",
       "      <td>70715</td>\n",
       "      <td>3</td>\n",
       "      <td>0</td>\n",
       "      <td>0</td>\n",
       "      <td>0.071785</td>\n",
       "      <td>0.0</td>\n",
       "      <td>...</td>\n",
       "      <td>0.501525</td>\n",
       "      <td>0.739757</td>\n",
       "      <td>0.000000</td>\n",
       "      <td>0.0</td>\n",
       "      <td>0.000000</td>\n",
       "      <td>0.0</td>\n",
       "      <td>0.000000</td>\n",
       "      <td>0.000000</td>\n",
       "      <td>0.110449</td>\n",
       "      <td>0.0</td>\n",
       "    </tr>\n",
       "    <tr>\n",
       "      <th>Tr-3</th>\n",
       "      <td>70515</td>\n",
       "      <td>0</td>\n",
       "      <td>145</td>\n",
       "      <td>10</td>\n",
       "      <td>70515</td>\n",
       "      <td>1</td>\n",
       "      <td>0</td>\n",
       "      <td>0</td>\n",
       "      <td>0.034863</td>\n",
       "      <td>0.0</td>\n",
       "      <td>...</td>\n",
       "      <td>0.000000</td>\n",
       "      <td>0.271026</td>\n",
       "      <td>0.063939</td>\n",
       "      <td>0.0</td>\n",
       "      <td>0.000000</td>\n",
       "      <td>0.0</td>\n",
       "      <td>0.000000</td>\n",
       "      <td>0.000000</td>\n",
       "      <td>0.000000</td>\n",
       "      <td>0.0</td>\n",
       "    </tr>\n",
       "    <tr>\n",
       "      <th>Tr-4</th>\n",
       "      <td>121116</td>\n",
       "      <td>7</td>\n",
       "      <td>36</td>\n",
       "      <td>4</td>\n",
       "      <td>121116</td>\n",
       "      <td>1</td>\n",
       "      <td>0</td>\n",
       "      <td>0</td>\n",
       "      <td>0.024944</td>\n",
       "      <td>0.0</td>\n",
       "      <td>...</td>\n",
       "      <td>0.058090</td>\n",
       "      <td>0.311168</td>\n",
       "      <td>0.000000</td>\n",
       "      <td>0.0</td>\n",
       "      <td>0.182424</td>\n",
       "      <td>0.0</td>\n",
       "      <td>0.071322</td>\n",
       "      <td>0.000000</td>\n",
       "      <td>0.000000</td>\n",
       "      <td>0.0</td>\n",
       "    </tr>\n",
       "    <tr>\n",
       "      <th>Tr-5</th>\n",
       "      <td>290916</td>\n",
       "      <td>3</td>\n",
       "      <td>100</td>\n",
       "      <td>9</td>\n",
       "      <td>290916</td>\n",
       "      <td>1</td>\n",
       "      <td>0</td>\n",
       "      <td>0</td>\n",
       "      <td>0.000000</td>\n",
       "      <td>0.0</td>\n",
       "      <td>...</td>\n",
       "      <td>0.000000</td>\n",
       "      <td>0.138195</td>\n",
       "      <td>0.000000</td>\n",
       "      <td>0.0</td>\n",
       "      <td>0.000000</td>\n",
       "      <td>0.0</td>\n",
       "      <td>0.000000</td>\n",
       "      <td>0.000000</td>\n",
       "      <td>0.196014</td>\n",
       "      <td>0.0</td>\n",
       "    </tr>\n",
       "  </tbody>\n",
       "</table>\n",
       "<p>5 rows × 508 columns</p>\n",
       "</div>"
      ],
      "text/plain": [
       "              Date-received  Transaction-Type  Complaint-reason  \\\n",
       "Complaint-ID                                                      \n",
       "Tr-1                 111115                10                78   \n",
       "Tr-2                  70715                 5                71   \n",
       "Tr-3                  70515                 0               145   \n",
       "Tr-4                 121116                 7                36   \n",
       "Tr-5                 290916                 3               100   \n",
       "\n",
       "              Company-response  Date-sent-to-company  Complaint-Status  \\\n",
       "Complaint-ID                                                             \n",
       "Tr-1                        10                111115                 1   \n",
       "Tr-2                         7                 70715                 3   \n",
       "Tr-3                        10                 70515                 1   \n",
       "Tr-4                         4                121116                 1   \n",
       "Tr-5                         9                290916                 1   \n",
       "\n",
       "              Consumer-disputes  date_sent_to_recieved         0    1 ...   \\\n",
       "Complaint-ID                                                          ...    \n",
       "Tr-1                          1                      0  0.000000  0.0 ...    \n",
       "Tr-2                          0                      0  0.071785  0.0 ...    \n",
       "Tr-3                          0                      0  0.034863  0.0 ...    \n",
       "Tr-4                          0                      0  0.024944  0.0 ...    \n",
       "Tr-5                          0                      0  0.000000  0.0 ...    \n",
       "\n",
       "                   490       491       492  493       494  495       496  \\\n",
       "Complaint-ID                                                               \n",
       "Tr-1          0.000000  0.224284  0.000000  0.0  0.000000  0.0  0.000000   \n",
       "Tr-2          0.501525  0.739757  0.000000  0.0  0.000000  0.0  0.000000   \n",
       "Tr-3          0.000000  0.271026  0.063939  0.0  0.000000  0.0  0.000000   \n",
       "Tr-4          0.058090  0.311168  0.000000  0.0  0.182424  0.0  0.071322   \n",
       "Tr-5          0.000000  0.138195  0.000000  0.0  0.000000  0.0  0.000000   \n",
       "\n",
       "                   497       498  499  \n",
       "Complaint-ID                           \n",
       "Tr-1          0.142067  0.000000  0.0  \n",
       "Tr-2          0.000000  0.110449  0.0  \n",
       "Tr-3          0.000000  0.000000  0.0  \n",
       "Tr-4          0.000000  0.000000  0.0  \n",
       "Tr-5          0.000000  0.196014  0.0  \n",
       "\n",
       "[5 rows x 508 columns]"
      ]
     },
     "execution_count": 249,
     "metadata": {},
     "output_type": "execute_result"
    }
   ],
   "source": [
    "train_data_new.head()"
   ]
  },
  {
   "cell_type": "code",
   "execution_count": 250,
   "metadata": {},
   "outputs": [
    {
     "data": {
      "text/plain": [
       "150"
      ]
     },
     "execution_count": 250,
     "metadata": {},
     "output_type": "execute_result"
    }
   ],
   "source": [
    "train_data_new[\"Complaint-reason\"].nunique()"
   ]
  },
  {
   "cell_type": "code",
   "execution_count": null,
   "metadata": {},
   "outputs": [],
   "source": []
  },
  {
   "cell_type": "code",
   "execution_count": 243,
   "metadata": {},
   "outputs": [
    {
     "ename": "ValueError",
     "evalue": "('y contains new labels: [\"Can\\'t stop withdrawals from your bank account\"\\n \\'Problem with cash advance\\']', 'occurred at index Complaint-reason')",
     "output_type": "error",
     "traceback": [
      "\u001b[1;31m---------------------------------------------------------------------------\u001b[0m",
      "\u001b[1;31mValueError\u001b[0m                                Traceback (most recent call last)",
      "\u001b[1;32m<ipython-input-243-83ef96ea0814>\u001b[0m in \u001b[0;36m<module>\u001b[1;34m()\u001b[0m\n\u001b[1;32m----> 1\u001b[1;33m \u001b[0mtest_data\u001b[0m\u001b[1;33m[\u001b[0m\u001b[1;33m[\u001b[0m\u001b[1;34m\"Transaction-Type\"\u001b[0m\u001b[1;33m,\u001b[0m \u001b[1;34m\"Complaint-reason\"\u001b[0m\u001b[1;33m,\u001b[0m\u001b[1;34m\"Company-response\"\u001b[0m\u001b[1;33m,\u001b[0m\u001b[1;34m\"Consumer-disputes\"\u001b[0m\u001b[1;33m]\u001b[0m\u001b[1;33m]\u001b[0m \u001b[1;33m=\u001b[0m \u001b[0mtest_data\u001b[0m\u001b[1;33m[\u001b[0m\u001b[1;33m[\u001b[0m\u001b[1;34m\"Transaction-Type\"\u001b[0m\u001b[1;33m,\u001b[0m \u001b[1;34m\"Complaint-reason\"\u001b[0m\u001b[1;33m,\u001b[0m \u001b[1;34m\"Company-response\"\u001b[0m\u001b[1;33m,\u001b[0m \u001b[1;34m\"Consumer-disputes\"\u001b[0m\u001b[1;33m]\u001b[0m\u001b[1;33m]\u001b[0m\u001b[1;33m.\u001b[0m\u001b[0mapply\u001b[0m\u001b[1;33m(\u001b[0m\u001b[1;32mlambda\u001b[0m \u001b[0mx\u001b[0m\u001b[1;33m:\u001b[0m \u001b[0md\u001b[0m\u001b[1;33m[\u001b[0m\u001b[0mx\u001b[0m\u001b[1;33m.\u001b[0m\u001b[0mname\u001b[0m\u001b[1;33m]\u001b[0m\u001b[1;33m.\u001b[0m\u001b[0mtransform\u001b[0m\u001b[1;33m(\u001b[0m\u001b[0mx\u001b[0m\u001b[1;33m)\u001b[0m\u001b[1;33m)\u001b[0m\u001b[1;33m\u001b[0m\u001b[0m\n\u001b[0m",
      "\u001b[1;32mD:\\Anaconda3\\lib\\site-packages\\pandas\\core\\frame.py\u001b[0m in \u001b[0;36mapply\u001b[1;34m(self, func, axis, broadcast, raw, reduce, result_type, args, **kwds)\u001b[0m\n\u001b[0;32m   6002\u001b[0m                          \u001b[0margs\u001b[0m\u001b[1;33m=\u001b[0m\u001b[0margs\u001b[0m\u001b[1;33m,\u001b[0m\u001b[1;33m\u001b[0m\u001b[0m\n\u001b[0;32m   6003\u001b[0m                          kwds=kwds)\n\u001b[1;32m-> 6004\u001b[1;33m         \u001b[1;32mreturn\u001b[0m \u001b[0mop\u001b[0m\u001b[1;33m.\u001b[0m\u001b[0mget_result\u001b[0m\u001b[1;33m(\u001b[0m\u001b[1;33m)\u001b[0m\u001b[1;33m\u001b[0m\u001b[0m\n\u001b[0m\u001b[0;32m   6005\u001b[0m \u001b[1;33m\u001b[0m\u001b[0m\n\u001b[0;32m   6006\u001b[0m     \u001b[1;32mdef\u001b[0m \u001b[0mapplymap\u001b[0m\u001b[1;33m(\u001b[0m\u001b[0mself\u001b[0m\u001b[1;33m,\u001b[0m \u001b[0mfunc\u001b[0m\u001b[1;33m)\u001b[0m\u001b[1;33m:\u001b[0m\u001b[1;33m\u001b[0m\u001b[0m\n",
      "\u001b[1;32mD:\\Anaconda3\\lib\\site-packages\\pandas\\core\\apply.py\u001b[0m in \u001b[0;36mget_result\u001b[1;34m(self)\u001b[0m\n\u001b[0;32m    316\u001b[0m                                       *self.args, **self.kwds)\n\u001b[0;32m    317\u001b[0m \u001b[1;33m\u001b[0m\u001b[0m\n\u001b[1;32m--> 318\u001b[1;33m         \u001b[1;32mreturn\u001b[0m \u001b[0msuper\u001b[0m\u001b[1;33m(\u001b[0m\u001b[0mFrameRowApply\u001b[0m\u001b[1;33m,\u001b[0m \u001b[0mself\u001b[0m\u001b[1;33m)\u001b[0m\u001b[1;33m.\u001b[0m\u001b[0mget_result\u001b[0m\u001b[1;33m(\u001b[0m\u001b[1;33m)\u001b[0m\u001b[1;33m\u001b[0m\u001b[0m\n\u001b[0m\u001b[0;32m    319\u001b[0m \u001b[1;33m\u001b[0m\u001b[0m\n\u001b[0;32m    320\u001b[0m     \u001b[1;32mdef\u001b[0m \u001b[0mapply_broadcast\u001b[0m\u001b[1;33m(\u001b[0m\u001b[0mself\u001b[0m\u001b[1;33m)\u001b[0m\u001b[1;33m:\u001b[0m\u001b[1;33m\u001b[0m\u001b[0m\n",
      "\u001b[1;32mD:\\Anaconda3\\lib\\site-packages\\pandas\\core\\apply.py\u001b[0m in \u001b[0;36mget_result\u001b[1;34m(self)\u001b[0m\n\u001b[0;32m    140\u001b[0m             \u001b[1;32mreturn\u001b[0m \u001b[0mself\u001b[0m\u001b[1;33m.\u001b[0m\u001b[0mapply_raw\u001b[0m\u001b[1;33m(\u001b[0m\u001b[1;33m)\u001b[0m\u001b[1;33m\u001b[0m\u001b[0m\n\u001b[0;32m    141\u001b[0m \u001b[1;33m\u001b[0m\u001b[0m\n\u001b[1;32m--> 142\u001b[1;33m         \u001b[1;32mreturn\u001b[0m \u001b[0mself\u001b[0m\u001b[1;33m.\u001b[0m\u001b[0mapply_standard\u001b[0m\u001b[1;33m(\u001b[0m\u001b[1;33m)\u001b[0m\u001b[1;33m\u001b[0m\u001b[0m\n\u001b[0m\u001b[0;32m    143\u001b[0m \u001b[1;33m\u001b[0m\u001b[0m\n\u001b[0;32m    144\u001b[0m     \u001b[1;32mdef\u001b[0m \u001b[0mapply_empty_result\u001b[0m\u001b[1;33m(\u001b[0m\u001b[0mself\u001b[0m\u001b[1;33m)\u001b[0m\u001b[1;33m:\u001b[0m\u001b[1;33m\u001b[0m\u001b[0m\n",
      "\u001b[1;32mD:\\Anaconda3\\lib\\site-packages\\pandas\\core\\apply.py\u001b[0m in \u001b[0;36mapply_standard\u001b[1;34m(self)\u001b[0m\n\u001b[0;32m    246\u001b[0m \u001b[1;33m\u001b[0m\u001b[0m\n\u001b[0;32m    247\u001b[0m         \u001b[1;31m# compute the result using the series generator\u001b[0m\u001b[1;33m\u001b[0m\u001b[1;33m\u001b[0m\u001b[0m\n\u001b[1;32m--> 248\u001b[1;33m         \u001b[0mself\u001b[0m\u001b[1;33m.\u001b[0m\u001b[0mapply_series_generator\u001b[0m\u001b[1;33m(\u001b[0m\u001b[1;33m)\u001b[0m\u001b[1;33m\u001b[0m\u001b[0m\n\u001b[0m\u001b[0;32m    249\u001b[0m \u001b[1;33m\u001b[0m\u001b[0m\n\u001b[0;32m    250\u001b[0m         \u001b[1;31m# wrap results\u001b[0m\u001b[1;33m\u001b[0m\u001b[1;33m\u001b[0m\u001b[0m\n",
      "\u001b[1;32mD:\\Anaconda3\\lib\\site-packages\\pandas\\core\\apply.py\u001b[0m in \u001b[0;36mapply_series_generator\u001b[1;34m(self)\u001b[0m\n\u001b[0;32m    275\u001b[0m             \u001b[1;32mtry\u001b[0m\u001b[1;33m:\u001b[0m\u001b[1;33m\u001b[0m\u001b[0m\n\u001b[0;32m    276\u001b[0m                 \u001b[1;32mfor\u001b[0m \u001b[0mi\u001b[0m\u001b[1;33m,\u001b[0m \u001b[0mv\u001b[0m \u001b[1;32min\u001b[0m \u001b[0menumerate\u001b[0m\u001b[1;33m(\u001b[0m\u001b[0mseries_gen\u001b[0m\u001b[1;33m)\u001b[0m\u001b[1;33m:\u001b[0m\u001b[1;33m\u001b[0m\u001b[0m\n\u001b[1;32m--> 277\u001b[1;33m                     \u001b[0mresults\u001b[0m\u001b[1;33m[\u001b[0m\u001b[0mi\u001b[0m\u001b[1;33m]\u001b[0m \u001b[1;33m=\u001b[0m \u001b[0mself\u001b[0m\u001b[1;33m.\u001b[0m\u001b[0mf\u001b[0m\u001b[1;33m(\u001b[0m\u001b[0mv\u001b[0m\u001b[1;33m)\u001b[0m\u001b[1;33m\u001b[0m\u001b[0m\n\u001b[0m\u001b[0;32m    278\u001b[0m                     \u001b[0mkeys\u001b[0m\u001b[1;33m.\u001b[0m\u001b[0mappend\u001b[0m\u001b[1;33m(\u001b[0m\u001b[0mv\u001b[0m\u001b[1;33m.\u001b[0m\u001b[0mname\u001b[0m\u001b[1;33m)\u001b[0m\u001b[1;33m\u001b[0m\u001b[0m\n\u001b[0;32m    279\u001b[0m             \u001b[1;32mexcept\u001b[0m \u001b[0mException\u001b[0m \u001b[1;32mas\u001b[0m \u001b[0me\u001b[0m\u001b[1;33m:\u001b[0m\u001b[1;33m\u001b[0m\u001b[0m\n",
      "\u001b[1;32m<ipython-input-243-83ef96ea0814>\u001b[0m in \u001b[0;36m<lambda>\u001b[1;34m(x)\u001b[0m\n\u001b[1;32m----> 1\u001b[1;33m \u001b[0mtest_data\u001b[0m\u001b[1;33m[\u001b[0m\u001b[1;33m[\u001b[0m\u001b[1;34m\"Transaction-Type\"\u001b[0m\u001b[1;33m,\u001b[0m \u001b[1;34m\"Complaint-reason\"\u001b[0m\u001b[1;33m,\u001b[0m\u001b[1;34m\"Company-response\"\u001b[0m\u001b[1;33m,\u001b[0m\u001b[1;34m\"Consumer-disputes\"\u001b[0m\u001b[1;33m]\u001b[0m\u001b[1;33m]\u001b[0m \u001b[1;33m=\u001b[0m \u001b[0mtest_data\u001b[0m\u001b[1;33m[\u001b[0m\u001b[1;33m[\u001b[0m\u001b[1;34m\"Transaction-Type\"\u001b[0m\u001b[1;33m,\u001b[0m \u001b[1;34m\"Complaint-reason\"\u001b[0m\u001b[1;33m,\u001b[0m \u001b[1;34m\"Company-response\"\u001b[0m\u001b[1;33m,\u001b[0m \u001b[1;34m\"Consumer-disputes\"\u001b[0m\u001b[1;33m]\u001b[0m\u001b[1;33m]\u001b[0m\u001b[1;33m.\u001b[0m\u001b[0mapply\u001b[0m\u001b[1;33m(\u001b[0m\u001b[1;32mlambda\u001b[0m \u001b[0mx\u001b[0m\u001b[1;33m:\u001b[0m \u001b[0md\u001b[0m\u001b[1;33m[\u001b[0m\u001b[0mx\u001b[0m\u001b[1;33m.\u001b[0m\u001b[0mname\u001b[0m\u001b[1;33m]\u001b[0m\u001b[1;33m.\u001b[0m\u001b[0mtransform\u001b[0m\u001b[1;33m(\u001b[0m\u001b[0mx\u001b[0m\u001b[1;33m)\u001b[0m\u001b[1;33m)\u001b[0m\u001b[1;33m\u001b[0m\u001b[0m\n\u001b[0m",
      "\u001b[1;32mD:\\Anaconda3\\lib\\site-packages\\sklearn\\preprocessing\\label.py\u001b[0m in \u001b[0;36mtransform\u001b[1;34m(self, y)\u001b[0m\n\u001b[0;32m    131\u001b[0m         \u001b[1;32mif\u001b[0m \u001b[0mlen\u001b[0m\u001b[1;33m(\u001b[0m\u001b[0mnp\u001b[0m\u001b[1;33m.\u001b[0m\u001b[0mintersect1d\u001b[0m\u001b[1;33m(\u001b[0m\u001b[0mclasses\u001b[0m\u001b[1;33m,\u001b[0m \u001b[0mself\u001b[0m\u001b[1;33m.\u001b[0m\u001b[0mclasses_\u001b[0m\u001b[1;33m)\u001b[0m\u001b[1;33m)\u001b[0m \u001b[1;33m<\u001b[0m \u001b[0mlen\u001b[0m\u001b[1;33m(\u001b[0m\u001b[0mclasses\u001b[0m\u001b[1;33m)\u001b[0m\u001b[1;33m:\u001b[0m\u001b[1;33m\u001b[0m\u001b[0m\n\u001b[0;32m    132\u001b[0m             \u001b[0mdiff\u001b[0m \u001b[1;33m=\u001b[0m \u001b[0mnp\u001b[0m\u001b[1;33m.\u001b[0m\u001b[0msetdiff1d\u001b[0m\u001b[1;33m(\u001b[0m\u001b[0mclasses\u001b[0m\u001b[1;33m,\u001b[0m \u001b[0mself\u001b[0m\u001b[1;33m.\u001b[0m\u001b[0mclasses_\u001b[0m\u001b[1;33m)\u001b[0m\u001b[1;33m\u001b[0m\u001b[0m\n\u001b[1;32m--> 133\u001b[1;33m             \u001b[1;32mraise\u001b[0m \u001b[0mValueError\u001b[0m\u001b[1;33m(\u001b[0m\u001b[1;34m\"y contains new labels: %s\"\u001b[0m \u001b[1;33m%\u001b[0m \u001b[0mstr\u001b[0m\u001b[1;33m(\u001b[0m\u001b[0mdiff\u001b[0m\u001b[1;33m)\u001b[0m\u001b[1;33m)\u001b[0m\u001b[1;33m\u001b[0m\u001b[0m\n\u001b[0m\u001b[0;32m    134\u001b[0m         \u001b[1;32mreturn\u001b[0m \u001b[0mnp\u001b[0m\u001b[1;33m.\u001b[0m\u001b[0msearchsorted\u001b[0m\u001b[1;33m(\u001b[0m\u001b[0mself\u001b[0m\u001b[1;33m.\u001b[0m\u001b[0mclasses_\u001b[0m\u001b[1;33m,\u001b[0m \u001b[0my\u001b[0m\u001b[1;33m)\u001b[0m\u001b[1;33m\u001b[0m\u001b[0m\n\u001b[0;32m    135\u001b[0m \u001b[1;33m\u001b[0m\u001b[0m\n",
      "\u001b[1;31mValueError\u001b[0m: ('y contains new labels: [\"Can\\'t stop withdrawals from your bank account\"\\n \\'Problem with cash advance\\']', 'occurred at index Complaint-reason')"
     ]
    }
   ],
   "source": [
    "test_data[[\"Transaction-Type\", \"Complaint-reason\",\"Company-response\",\"Consumer-disputes\"]] = test_data[[\"Transaction-Type\", \"Complaint-reason\", \"Company-response\", \"Consumer-disputes\"]].apply(lambda x: d[x.name].transform(x))\n"
   ]
  },
  {
   "cell_type": "code",
   "execution_count": null,
   "metadata": {},
   "outputs": [],
   "source": [
    "complaint_tf = vectorizer.fit_transform(train_data[\"Consumer-complaint-summary\"])"
   ]
  },
  {
   "cell_type": "code",
   "execution_count": null,
   "metadata": {},
   "outputs": [],
   "source": [
    "consumer_complaint = pd.DataFrame(complaint_tf.toarray())"
   ]
  },
  {
   "cell_type": "code",
   "execution_count": null,
   "metadata": {},
   "outputs": [],
   "source": [
    "train_data_new = pd.concat([train_data, consumer_complaint], axis = 1)"
   ]
  },
  {
   "cell_type": "code",
   "execution_count": null,
   "metadata": {},
   "outputs": [],
   "source": [
    "train_data_new = train_data_new.set_index(\"Complaint-ID\")"
   ]
  },
  {
   "cell_type": "code",
   "execution_count": null,
   "metadata": {},
   "outputs": [],
   "source": [
    "train_data_new = train_data_new.drop(\"Consumer-complaint-summary\", axis = 1)"
   ]
  },
  {
   "cell_type": "code",
   "execution_count": null,
   "metadata": {},
   "outputs": [],
   "source": [
    "features = train_data_new.drop([\"Complaint-Status\"], axis = 1)"
   ]
  },
  {
   "cell_type": "code",
   "execution_count": null,
   "metadata": {},
   "outputs": [],
   "source": []
  },
  {
   "cell_type": "code",
   "execution_count": null,
   "metadata": {},
   "outputs": [],
   "source": []
  },
  {
   "cell_type": "code",
   "execution_count": null,
   "metadata": {},
   "outputs": [],
   "source": []
  },
  {
   "cell_type": "code",
   "execution_count": null,
   "metadata": {},
   "outputs": [],
   "source": [
    "X_train_final = vectorizer.fit_transform(X_train.comment_text)\n",
    "X_test_final = vectorizer.transform(X_test.comment_text)"
   ]
  },
  {
   "cell_type": "code",
   "execution_count": null,
   "metadata": {},
   "outputs": [],
   "source": [
    "features_test = vectorizer.transform(data_test.comment_text)"
   ]
  },
  {
   "cell_type": "code",
   "execution_count": null,
   "metadata": {},
   "outputs": [],
   "source": [
    "vectorizer.get_feature_names()[500:1000]"
   ]
  },
  {
   "cell_type": "code",
   "execution_count": null,
   "metadata": {},
   "outputs": [],
   "source": []
  }
 ],
 "metadata": {
  "kernelspec": {
   "display_name": "Python 3",
   "language": "python",
   "name": "python3"
  },
  "language_info": {
   "codemirror_mode": {
    "name": "ipython",
    "version": 3
   },
   "file_extension": ".py",
   "mimetype": "text/x-python",
   "name": "python",
   "nbconvert_exporter": "python",
   "pygments_lexer": "ipython3",
   "version": "3.6.5"
  }
 },
 "nbformat": 4,
 "nbformat_minor": 2
}
