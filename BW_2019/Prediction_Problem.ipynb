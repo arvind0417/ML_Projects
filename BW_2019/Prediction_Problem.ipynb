{
 "cells": [
  {
   "cell_type": "code",
   "execution_count": 68,
   "metadata": {},
   "outputs": [],
   "source": [
    "import pandas as pd\n",
    "import numpy as np"
   ]
  },
  {
   "cell_type": "code",
   "execution_count": 69,
   "metadata": {},
   "outputs": [],
   "source": [
    "train_data = pd.read_csv(\"./train.csv\")\n",
    "test_data = pd.read_csv(\"./test.csv\")"
   ]
  },
  {
   "cell_type": "code",
   "execution_count": 70,
   "metadata": {},
   "outputs": [
    {
     "data": {
      "text/html": [
       "<div>\n",
       "<style scoped>\n",
       "    .dataframe tbody tr th:only-of-type {\n",
       "        vertical-align: middle;\n",
       "    }\n",
       "\n",
       "    .dataframe tbody tr th {\n",
       "        vertical-align: top;\n",
       "    }\n",
       "\n",
       "    .dataframe thead th {\n",
       "        text-align: right;\n",
       "    }\n",
       "</style>\n",
       "<table border=\"1\" class=\"dataframe\">\n",
       "  <thead>\n",
       "    <tr style=\"text-align: right;\">\n",
       "      <th></th>\n",
       "      <th>Complaint-ID</th>\n",
       "      <th>Date-received</th>\n",
       "      <th>Transaction-Type</th>\n",
       "      <th>Complaint-reason</th>\n",
       "      <th>Company-response</th>\n",
       "      <th>Date-sent-to-company</th>\n",
       "      <th>Complaint-Status</th>\n",
       "      <th>Consumer-disputes</th>\n",
       "      <th>Consumer-complaint-summary</th>\n",
       "    </tr>\n",
       "  </thead>\n",
       "  <tbody>\n",
       "    <tr>\n",
       "      <th>0</th>\n",
       "      <td>Tr-1</td>\n",
       "      <td>11/11/2015</td>\n",
       "      <td>Mortgage</td>\n",
       "      <td>Loan servicing, payments, escrow account</td>\n",
       "      <td>NaN</td>\n",
       "      <td>11/11/2015</td>\n",
       "      <td>Closed with explanation</td>\n",
       "      <td>Yes</td>\n",
       "      <td>Seterus, Inc a déposé un faux rapport auprès d...</td>\n",
       "    </tr>\n",
       "    <tr>\n",
       "      <th>1</th>\n",
       "      <td>Tr-2</td>\n",
       "      <td>7/7/2015</td>\n",
       "      <td>Credit reporting</td>\n",
       "      <td>Incorrect information on credit report</td>\n",
       "      <td>Company chooses not to provide a public response</td>\n",
       "      <td>7/7/2015</td>\n",
       "      <td>Closed with non-monetary relief</td>\n",
       "      <td>No</td>\n",
       "      <td>XX / XX / XXXX La requête en faillite n ° XXXX...</td>\n",
       "    </tr>\n",
       "    <tr>\n",
       "      <th>2</th>\n",
       "      <td>Tr-3</td>\n",
       "      <td>5/7/2015</td>\n",
       "      <td>Bank account or service</td>\n",
       "      <td>Using a debit or ATM card</td>\n",
       "      <td>NaN</td>\n",
       "      <td>5/7/2015</td>\n",
       "      <td>Closed with explanation</td>\n",
       "      <td>No</td>\n",
       "      <td>El XXXX / XXXX / 15, estaba preparando el vuel...</td>\n",
       "    </tr>\n",
       "    <tr>\n",
       "      <th>3</th>\n",
       "      <td>Tr-4</td>\n",
       "      <td>11/12/2016</td>\n",
       "      <td>Debt collection</td>\n",
       "      <td>Cont'd attempts collect debt not owed</td>\n",
       "      <td>Company believes it acted appropriately as aut...</td>\n",
       "      <td>11/12/2016</td>\n",
       "      <td>Closed with explanation</td>\n",
       "      <td>No</td>\n",
       "      <td>The loan was paid in XXXX XXXX. In XXXX, 4 yea...</td>\n",
       "    </tr>\n",
       "    <tr>\n",
       "      <th>4</th>\n",
       "      <td>Tr-5</td>\n",
       "      <td>9/29/2016</td>\n",
       "      <td>Credit card</td>\n",
       "      <td>Payoff process</td>\n",
       "      <td>Company has responded to the consumer and the ...</td>\n",
       "      <td>9/29/2016</td>\n",
       "      <td>Closed with explanation</td>\n",
       "      <td>No</td>\n",
       "      <td>J'ai obtenu un compte de crédit de soins pour ...</td>\n",
       "    </tr>\n",
       "  </tbody>\n",
       "</table>\n",
       "</div>"
      ],
      "text/plain": [
       "  Complaint-ID Date-received         Transaction-Type  \\\n",
       "0         Tr-1    11/11/2015                 Mortgage   \n",
       "1         Tr-2      7/7/2015         Credit reporting   \n",
       "2         Tr-3      5/7/2015  Bank account or service   \n",
       "3         Tr-4    11/12/2016          Debt collection   \n",
       "4         Tr-5     9/29/2016              Credit card   \n",
       "\n",
       "                           Complaint-reason  \\\n",
       "0  Loan servicing, payments, escrow account   \n",
       "1    Incorrect information on credit report   \n",
       "2                 Using a debit or ATM card   \n",
       "3     Cont'd attempts collect debt not owed   \n",
       "4                            Payoff process   \n",
       "\n",
       "                                    Company-response Date-sent-to-company  \\\n",
       "0                                                NaN           11/11/2015   \n",
       "1   Company chooses not to provide a public response             7/7/2015   \n",
       "2                                                NaN             5/7/2015   \n",
       "3  Company believes it acted appropriately as aut...           11/12/2016   \n",
       "4  Company has responded to the consumer and the ...            9/29/2016   \n",
       "\n",
       "                  Complaint-Status Consumer-disputes  \\\n",
       "0          Closed with explanation               Yes   \n",
       "1  Closed with non-monetary relief                No   \n",
       "2          Closed with explanation                No   \n",
       "3          Closed with explanation                No   \n",
       "4          Closed with explanation                No   \n",
       "\n",
       "                          Consumer-complaint-summary  \n",
       "0  Seterus, Inc a déposé un faux rapport auprès d...  \n",
       "1  XX / XX / XXXX La requête en faillite n ° XXXX...  \n",
       "2  El XXXX / XXXX / 15, estaba preparando el vuel...  \n",
       "3  The loan was paid in XXXX XXXX. In XXXX, 4 yea...  \n",
       "4  J'ai obtenu un compte de crédit de soins pour ...  "
      ]
     },
     "execution_count": 70,
     "metadata": {},
     "output_type": "execute_result"
    }
   ],
   "source": [
    "train_data.head()"
   ]
  },
  {
   "cell_type": "code",
   "execution_count": 71,
   "metadata": {},
   "outputs": [
    {
     "data": {
      "text/html": [
       "<div>\n",
       "<style scoped>\n",
       "    .dataframe tbody tr th:only-of-type {\n",
       "        vertical-align: middle;\n",
       "    }\n",
       "\n",
       "    .dataframe tbody tr th {\n",
       "        vertical-align: top;\n",
       "    }\n",
       "\n",
       "    .dataframe thead th {\n",
       "        text-align: right;\n",
       "    }\n",
       "</style>\n",
       "<table border=\"1\" class=\"dataframe\">\n",
       "  <thead>\n",
       "    <tr style=\"text-align: right;\">\n",
       "      <th></th>\n",
       "      <th>Complaint-ID</th>\n",
       "      <th>Date-received</th>\n",
       "      <th>Transaction-Type</th>\n",
       "      <th>Complaint-reason</th>\n",
       "      <th>Company-response</th>\n",
       "      <th>Date-sent-to-company</th>\n",
       "      <th>Consumer-disputes</th>\n",
       "      <th>Consumer-complaint-summary</th>\n",
       "    </tr>\n",
       "  </thead>\n",
       "  <tbody>\n",
       "    <tr>\n",
       "      <th>0</th>\n",
       "      <td>Te-1</td>\n",
       "      <td>8/18/2016</td>\n",
       "      <td>Bank account or service</td>\n",
       "      <td>Account opening, closing, or management</td>\n",
       "      <td>Company has responded to the consumer and the ...</td>\n",
       "      <td>8/18/2016</td>\n",
       "      <td>No</td>\n",
       "      <td>XXXX / XXXX / 16 I called Citibank to open a c...</td>\n",
       "    </tr>\n",
       "    <tr>\n",
       "      <th>1</th>\n",
       "      <td>Te-2</td>\n",
       "      <td>4/18/2016</td>\n",
       "      <td>Debt collection</td>\n",
       "      <td>Communication tactics</td>\n",
       "      <td>Company believes it acted appropriately as aut...</td>\n",
       "      <td>4/20/2016</td>\n",
       "      <td>No</td>\n",
       "      <td>I'm struggling financially. I called and I off...</td>\n",
       "    </tr>\n",
       "    <tr>\n",
       "      <th>2</th>\n",
       "      <td>Te-3</td>\n",
       "      <td>3/23/2016</td>\n",
       "      <td>Credit reporting</td>\n",
       "      <td>Incorrect information on credit report</td>\n",
       "      <td>NaN</td>\n",
       "      <td>3/23/2016</td>\n",
       "      <td>No</td>\n",
       "      <td>In XXXX of 2015, an automatic payment was conf...</td>\n",
       "    </tr>\n",
       "    <tr>\n",
       "      <th>3</th>\n",
       "      <td>Te-4</td>\n",
       "      <td>6/26/2017</td>\n",
       "      <td>Student loan</td>\n",
       "      <td>Dealing with your lender or servicer</td>\n",
       "      <td>NaN</td>\n",
       "      <td>6/26/2017</td>\n",
       "      <td>NaN</td>\n",
       "      <td>I submitted a request to XXXX, which is my cur...</td>\n",
       "    </tr>\n",
       "    <tr>\n",
       "      <th>4</th>\n",
       "      <td>Te-5</td>\n",
       "      <td>5/13/2016</td>\n",
       "      <td>Credit reporting</td>\n",
       "      <td>Incorrect information on credit report</td>\n",
       "      <td>Company has responded to the consumer and the ...</td>\n",
       "      <td>5/13/2016</td>\n",
       "      <td>No</td>\n",
       "      <td>A state tax lien was filed against me XXXX / X...</td>\n",
       "    </tr>\n",
       "  </tbody>\n",
       "</table>\n",
       "</div>"
      ],
      "text/plain": [
       "  Complaint-ID Date-received         Transaction-Type  \\\n",
       "0         Te-1     8/18/2016  Bank account or service   \n",
       "1         Te-2     4/18/2016          Debt collection   \n",
       "2         Te-3     3/23/2016         Credit reporting   \n",
       "3         Te-4     6/26/2017             Student loan   \n",
       "4         Te-5     5/13/2016         Credit reporting   \n",
       "\n",
       "                          Complaint-reason  \\\n",
       "0  Account opening, closing, or management   \n",
       "1                    Communication tactics   \n",
       "2   Incorrect information on credit report   \n",
       "3     Dealing with your lender or servicer   \n",
       "4   Incorrect information on credit report   \n",
       "\n",
       "                                    Company-response Date-sent-to-company  \\\n",
       "0  Company has responded to the consumer and the ...            8/18/2016   \n",
       "1  Company believes it acted appropriately as aut...            4/20/2016   \n",
       "2                                                NaN            3/23/2016   \n",
       "3                                                NaN            6/26/2017   \n",
       "4  Company has responded to the consumer and the ...            5/13/2016   \n",
       "\n",
       "  Consumer-disputes                         Consumer-complaint-summary  \n",
       "0                No  XXXX / XXXX / 16 I called Citibank to open a c...  \n",
       "1                No  I'm struggling financially. I called and I off...  \n",
       "2                No  In XXXX of 2015, an automatic payment was conf...  \n",
       "3               NaN  I submitted a request to XXXX, which is my cur...  \n",
       "4                No  A state tax lien was filed against me XXXX / X...  "
      ]
     },
     "execution_count": 71,
     "metadata": {},
     "output_type": "execute_result"
    }
   ],
   "source": [
    "test_data.head()"
   ]
  },
  {
   "cell_type": "code",
   "execution_count": 72,
   "metadata": {},
   "outputs": [
    {
     "data": {
      "text/plain": [
       "Closed with explanation            34300\n",
       "Closed with non-monetary relief     5018\n",
       "Closed with monetary relief         2818\n",
       "Closed                               809\n",
       "Untimely response                    321\n",
       "Name: Complaint-Status, dtype: int64"
      ]
     },
     "execution_count": 72,
     "metadata": {},
     "output_type": "execute_result"
    }
   ],
   "source": [
    "train_data[\"Complaint-Status\"].value_counts()"
   ]
  },
  {
   "cell_type": "code",
   "execution_count": 73,
   "metadata": {},
   "outputs": [
    {
     "data": {
      "text/plain": [
       "Index(['Complaint-ID', 'Date-received', 'Transaction-Type', 'Complaint-reason',\n",
       "       'Company-response', 'Date-sent-to-company', 'Complaint-Status',\n",
       "       'Consumer-disputes', 'Consumer-complaint-summary'],\n",
       "      dtype='object')"
      ]
     },
     "execution_count": 73,
     "metadata": {},
     "output_type": "execute_result"
    }
   ],
   "source": [
    "train_data.columns"
   ]
  },
  {
   "cell_type": "code",
   "execution_count": 74,
   "metadata": {},
   "outputs": [
    {
     "data": {
      "text/plain": [
       "Company has responded to the consumer and the CFPB and chooses not to provide a public response                            10928\n",
       "Company chooses not to provide a public response                                                                            4322\n",
       "Company believes it acted appropriately as authorized by contract or law                                                    3811\n",
       "Company believes the complaint is the result of a misunderstanding                                                           387\n",
       "Company disputes the facts presented in the complaint                                                                        379\n",
       "Company believes complaint is the result of an isolated error                                                                302\n",
       "Company believes complaint caused principally by actions of third party outside the control or direction of the company      300\n",
       "Company can't verify or dispute the facts in the complaint                                                                   166\n",
       "Company believes complaint represents an opportunity for improvement to better serve consumers                               160\n",
       "Company believes complaint relates to a discontinued policy or procedure                                                       5\n",
       "Name: Company-response, dtype: int64"
      ]
     },
     "execution_count": 74,
     "metadata": {},
     "output_type": "execute_result"
    }
   ],
   "source": [
    "train_data[\"Company-response\"].value_counts()"
   ]
  },
  {
   "cell_type": "code",
   "execution_count": 75,
   "metadata": {},
   "outputs": [
    {
     "data": {
      "text/plain": [
       "Company has responded to the consumer and the CFPB and chooses not to provide a public response                            4695\n",
       "Company chooses not to provide a public response                                                                           1827\n",
       "Company believes it acted appropriately as authorized by contract or law                                                   1598\n",
       "Company believes the complaint is the result of a misunderstanding                                                          181\n",
       "Company disputes the facts presented in the complaint                                                                       158\n",
       "Company believes complaint caused principally by actions of third party outside the control or direction of the company     134\n",
       "Company believes complaint is the result of an isolated error                                                               114\n",
       "Company can't verify or dispute the facts in the complaint                                                                   69\n",
       "Company believes complaint represents an opportunity for improvement to better serve consumers                               64\n",
       "Company believes complaint relates to a discontinued policy or procedure                                                      2\n",
       "Name: Company-response, dtype: int64"
      ]
     },
     "execution_count": 75,
     "metadata": {},
     "output_type": "execute_result"
    }
   ],
   "source": [
    "test_data[\"Company-response\"].value_counts()"
   ]
  },
  {
   "cell_type": "code",
   "execution_count": 76,
   "metadata": {},
   "outputs": [
    {
     "data": {
      "text/plain": [
       "(43266, 9)"
      ]
     },
     "execution_count": 76,
     "metadata": {},
     "output_type": "execute_result"
    }
   ],
   "source": [
    "train_data.shape"
   ]
  },
  {
   "cell_type": "code",
   "execution_count": 77,
   "metadata": {},
   "outputs": [
    {
     "data": {
      "text/plain": [
       "(18543, 8)"
      ]
     },
     "execution_count": 77,
     "metadata": {},
     "output_type": "execute_result"
    }
   ],
   "source": [
    "test_data.shape"
   ]
  },
  {
   "cell_type": "code",
   "execution_count": 78,
   "metadata": {},
   "outputs": [],
   "source": [
    "# train_data = train_data.set_index(\"Complaint-ID\")"
   ]
  },
  {
   "cell_type": "code",
   "execution_count": 79,
   "metadata": {},
   "outputs": [
    {
     "data": {
      "text/html": [
       "<div>\n",
       "<style scoped>\n",
       "    .dataframe tbody tr th:only-of-type {\n",
       "        vertical-align: middle;\n",
       "    }\n",
       "\n",
       "    .dataframe tbody tr th {\n",
       "        vertical-align: top;\n",
       "    }\n",
       "\n",
       "    .dataframe thead th {\n",
       "        text-align: right;\n",
       "    }\n",
       "</style>\n",
       "<table border=\"1\" class=\"dataframe\">\n",
       "  <thead>\n",
       "    <tr style=\"text-align: right;\">\n",
       "      <th></th>\n",
       "      <th>Complaint-ID</th>\n",
       "      <th>Date-received</th>\n",
       "      <th>Transaction-Type</th>\n",
       "      <th>Complaint-reason</th>\n",
       "      <th>Company-response</th>\n",
       "      <th>Date-sent-to-company</th>\n",
       "      <th>Complaint-Status</th>\n",
       "      <th>Consumer-disputes</th>\n",
       "      <th>Consumer-complaint-summary</th>\n",
       "    </tr>\n",
       "  </thead>\n",
       "  <tbody>\n",
       "    <tr>\n",
       "      <th>0</th>\n",
       "      <td>Tr-1</td>\n",
       "      <td>11/11/2015</td>\n",
       "      <td>Mortgage</td>\n",
       "      <td>Loan servicing, payments, escrow account</td>\n",
       "      <td>NaN</td>\n",
       "      <td>11/11/2015</td>\n",
       "      <td>Closed with explanation</td>\n",
       "      <td>Yes</td>\n",
       "      <td>Seterus, Inc a déposé un faux rapport auprès d...</td>\n",
       "    </tr>\n",
       "    <tr>\n",
       "      <th>1</th>\n",
       "      <td>Tr-2</td>\n",
       "      <td>7/7/2015</td>\n",
       "      <td>Credit reporting</td>\n",
       "      <td>Incorrect information on credit report</td>\n",
       "      <td>Company chooses not to provide a public response</td>\n",
       "      <td>7/7/2015</td>\n",
       "      <td>Closed with non-monetary relief</td>\n",
       "      <td>No</td>\n",
       "      <td>XX / XX / XXXX La requête en faillite n ° XXXX...</td>\n",
       "    </tr>\n",
       "    <tr>\n",
       "      <th>2</th>\n",
       "      <td>Tr-3</td>\n",
       "      <td>5/7/2015</td>\n",
       "      <td>Bank account or service</td>\n",
       "      <td>Using a debit or ATM card</td>\n",
       "      <td>NaN</td>\n",
       "      <td>5/7/2015</td>\n",
       "      <td>Closed with explanation</td>\n",
       "      <td>No</td>\n",
       "      <td>El XXXX / XXXX / 15, estaba preparando el vuel...</td>\n",
       "    </tr>\n",
       "    <tr>\n",
       "      <th>3</th>\n",
       "      <td>Tr-4</td>\n",
       "      <td>11/12/2016</td>\n",
       "      <td>Debt collection</td>\n",
       "      <td>Cont'd attempts collect debt not owed</td>\n",
       "      <td>Company believes it acted appropriately as aut...</td>\n",
       "      <td>11/12/2016</td>\n",
       "      <td>Closed with explanation</td>\n",
       "      <td>No</td>\n",
       "      <td>The loan was paid in XXXX XXXX. In XXXX, 4 yea...</td>\n",
       "    </tr>\n",
       "    <tr>\n",
       "      <th>4</th>\n",
       "      <td>Tr-5</td>\n",
       "      <td>9/29/2016</td>\n",
       "      <td>Credit card</td>\n",
       "      <td>Payoff process</td>\n",
       "      <td>Company has responded to the consumer and the ...</td>\n",
       "      <td>9/29/2016</td>\n",
       "      <td>Closed with explanation</td>\n",
       "      <td>No</td>\n",
       "      <td>J'ai obtenu un compte de crédit de soins pour ...</td>\n",
       "    </tr>\n",
       "  </tbody>\n",
       "</table>\n",
       "</div>"
      ],
      "text/plain": [
       "  Complaint-ID Date-received         Transaction-Type  \\\n",
       "0         Tr-1    11/11/2015                 Mortgage   \n",
       "1         Tr-2      7/7/2015         Credit reporting   \n",
       "2         Tr-3      5/7/2015  Bank account or service   \n",
       "3         Tr-4    11/12/2016          Debt collection   \n",
       "4         Tr-5     9/29/2016              Credit card   \n",
       "\n",
       "                           Complaint-reason  \\\n",
       "0  Loan servicing, payments, escrow account   \n",
       "1    Incorrect information on credit report   \n",
       "2                 Using a debit or ATM card   \n",
       "3     Cont'd attempts collect debt not owed   \n",
       "4                            Payoff process   \n",
       "\n",
       "                                    Company-response Date-sent-to-company  \\\n",
       "0                                                NaN           11/11/2015   \n",
       "1   Company chooses not to provide a public response             7/7/2015   \n",
       "2                                                NaN             5/7/2015   \n",
       "3  Company believes it acted appropriately as aut...           11/12/2016   \n",
       "4  Company has responded to the consumer and the ...            9/29/2016   \n",
       "\n",
       "                  Complaint-Status Consumer-disputes  \\\n",
       "0          Closed with explanation               Yes   \n",
       "1  Closed with non-monetary relief                No   \n",
       "2          Closed with explanation                No   \n",
       "3          Closed with explanation                No   \n",
       "4          Closed with explanation                No   \n",
       "\n",
       "                          Consumer-complaint-summary  \n",
       "0  Seterus, Inc a déposé un faux rapport auprès d...  \n",
       "1  XX / XX / XXXX La requête en faillite n ° XXXX...  \n",
       "2  El XXXX / XXXX / 15, estaba preparando el vuel...  \n",
       "3  The loan was paid in XXXX XXXX. In XXXX, 4 yea...  \n",
       "4  J'ai obtenu un compte de crédit de soins pour ...  "
      ]
     },
     "execution_count": 79,
     "metadata": {},
     "output_type": "execute_result"
    }
   ],
   "source": [
    "train_data.head()"
   ]
  },
  {
   "cell_type": "code",
   "execution_count": 80,
   "metadata": {},
   "outputs": [
    {
     "data": {
      "text/plain": [
       "Complaint-ID                  object\n",
       "Date-received                 object\n",
       "Transaction-Type              object\n",
       "Complaint-reason              object\n",
       "Company-response              object\n",
       "Date-sent-to-company          object\n",
       "Complaint-Status              object\n",
       "Consumer-disputes             object\n",
       "Consumer-complaint-summary    object\n",
       "dtype: object"
      ]
     },
     "execution_count": 80,
     "metadata": {},
     "output_type": "execute_result"
    }
   ],
   "source": [
    "train_data.dtypes"
   ]
  },
  {
   "cell_type": "code",
   "execution_count": 81,
   "metadata": {},
   "outputs": [],
   "source": [
    "# import pandas as pd\n",
    "# df = pd.DataFrame({\"Date\": [\"2014-03-29\", \"2014-03-30\", \"2014-03-31\"]})\n",
    "# df[\"Date\"] = pd.to_datetime(df[\"Date\"]).dt.strftime(\"%Y/%m/%d\")\n",
    "# print( df )"
   ]
  },
  {
   "cell_type": "code",
   "execution_count": null,
   "metadata": {},
   "outputs": [],
   "source": []
  },
  {
   "cell_type": "code",
   "execution_count": 82,
   "metadata": {},
   "outputs": [],
   "source": [
    "train_data[\"date_sent_to_recieved\"] = (pd.to_datetime(train_data[\"Date-sent-to-company\"]) - \n",
    "                                       pd.to_datetime(train_data[\"Date-received\"])).dt.days"
   ]
  },
  {
   "cell_type": "code",
   "execution_count": 83,
   "metadata": {},
   "outputs": [
    {
     "data": {
      "text/html": [
       "<div>\n",
       "<style scoped>\n",
       "    .dataframe tbody tr th:only-of-type {\n",
       "        vertical-align: middle;\n",
       "    }\n",
       "\n",
       "    .dataframe tbody tr th {\n",
       "        vertical-align: top;\n",
       "    }\n",
       "\n",
       "    .dataframe thead th {\n",
       "        text-align: right;\n",
       "    }\n",
       "</style>\n",
       "<table border=\"1\" class=\"dataframe\">\n",
       "  <thead>\n",
       "    <tr style=\"text-align: right;\">\n",
       "      <th></th>\n",
       "      <th>Complaint-ID</th>\n",
       "      <th>Date-received</th>\n",
       "      <th>Transaction-Type</th>\n",
       "      <th>Complaint-reason</th>\n",
       "      <th>Company-response</th>\n",
       "      <th>Date-sent-to-company</th>\n",
       "      <th>Complaint-Status</th>\n",
       "      <th>Consumer-disputes</th>\n",
       "      <th>Consumer-complaint-summary</th>\n",
       "      <th>date_sent_to_recieved</th>\n",
       "    </tr>\n",
       "  </thead>\n",
       "  <tbody>\n",
       "    <tr>\n",
       "      <th>0</th>\n",
       "      <td>Tr-1</td>\n",
       "      <td>11/11/2015</td>\n",
       "      <td>Mortgage</td>\n",
       "      <td>Loan servicing, payments, escrow account</td>\n",
       "      <td>NaN</td>\n",
       "      <td>11/11/2015</td>\n",
       "      <td>Closed with explanation</td>\n",
       "      <td>Yes</td>\n",
       "      <td>Seterus, Inc a déposé un faux rapport auprès d...</td>\n",
       "      <td>0</td>\n",
       "    </tr>\n",
       "    <tr>\n",
       "      <th>1</th>\n",
       "      <td>Tr-2</td>\n",
       "      <td>7/7/2015</td>\n",
       "      <td>Credit reporting</td>\n",
       "      <td>Incorrect information on credit report</td>\n",
       "      <td>Company chooses not to provide a public response</td>\n",
       "      <td>7/7/2015</td>\n",
       "      <td>Closed with non-monetary relief</td>\n",
       "      <td>No</td>\n",
       "      <td>XX / XX / XXXX La requête en faillite n ° XXXX...</td>\n",
       "      <td>0</td>\n",
       "    </tr>\n",
       "    <tr>\n",
       "      <th>2</th>\n",
       "      <td>Tr-3</td>\n",
       "      <td>5/7/2015</td>\n",
       "      <td>Bank account or service</td>\n",
       "      <td>Using a debit or ATM card</td>\n",
       "      <td>NaN</td>\n",
       "      <td>5/7/2015</td>\n",
       "      <td>Closed with explanation</td>\n",
       "      <td>No</td>\n",
       "      <td>El XXXX / XXXX / 15, estaba preparando el vuel...</td>\n",
       "      <td>0</td>\n",
       "    </tr>\n",
       "    <tr>\n",
       "      <th>3</th>\n",
       "      <td>Tr-4</td>\n",
       "      <td>11/12/2016</td>\n",
       "      <td>Debt collection</td>\n",
       "      <td>Cont'd attempts collect debt not owed</td>\n",
       "      <td>Company believes it acted appropriately as aut...</td>\n",
       "      <td>11/12/2016</td>\n",
       "      <td>Closed with explanation</td>\n",
       "      <td>No</td>\n",
       "      <td>The loan was paid in XXXX XXXX. In XXXX, 4 yea...</td>\n",
       "      <td>0</td>\n",
       "    </tr>\n",
       "    <tr>\n",
       "      <th>4</th>\n",
       "      <td>Tr-5</td>\n",
       "      <td>9/29/2016</td>\n",
       "      <td>Credit card</td>\n",
       "      <td>Payoff process</td>\n",
       "      <td>Company has responded to the consumer and the ...</td>\n",
       "      <td>9/29/2016</td>\n",
       "      <td>Closed with explanation</td>\n",
       "      <td>No</td>\n",
       "      <td>J'ai obtenu un compte de crédit de soins pour ...</td>\n",
       "      <td>0</td>\n",
       "    </tr>\n",
       "  </tbody>\n",
       "</table>\n",
       "</div>"
      ],
      "text/plain": [
       "  Complaint-ID Date-received         Transaction-Type  \\\n",
       "0         Tr-1    11/11/2015                 Mortgage   \n",
       "1         Tr-2      7/7/2015         Credit reporting   \n",
       "2         Tr-3      5/7/2015  Bank account or service   \n",
       "3         Tr-4    11/12/2016          Debt collection   \n",
       "4         Tr-5     9/29/2016              Credit card   \n",
       "\n",
       "                           Complaint-reason  \\\n",
       "0  Loan servicing, payments, escrow account   \n",
       "1    Incorrect information on credit report   \n",
       "2                 Using a debit or ATM card   \n",
       "3     Cont'd attempts collect debt not owed   \n",
       "4                            Payoff process   \n",
       "\n",
       "                                    Company-response Date-sent-to-company  \\\n",
       "0                                                NaN           11/11/2015   \n",
       "1   Company chooses not to provide a public response             7/7/2015   \n",
       "2                                                NaN             5/7/2015   \n",
       "3  Company believes it acted appropriately as aut...           11/12/2016   \n",
       "4  Company has responded to the consumer and the ...            9/29/2016   \n",
       "\n",
       "                  Complaint-Status Consumer-disputes  \\\n",
       "0          Closed with explanation               Yes   \n",
       "1  Closed with non-monetary relief                No   \n",
       "2          Closed with explanation                No   \n",
       "3          Closed with explanation                No   \n",
       "4          Closed with explanation                No   \n",
       "\n",
       "                          Consumer-complaint-summary  date_sent_to_recieved  \n",
       "0  Seterus, Inc a déposé un faux rapport auprès d...                      0  \n",
       "1  XX / XX / XXXX La requête en faillite n ° XXXX...                      0  \n",
       "2  El XXXX / XXXX / 15, estaba preparando el vuel...                      0  \n",
       "3  The loan was paid in XXXX XXXX. In XXXX, 4 yea...                      0  \n",
       "4  J'ai obtenu un compte de crédit de soins pour ...                      0  "
      ]
     },
     "execution_count": 83,
     "metadata": {},
     "output_type": "execute_result"
    }
   ],
   "source": [
    "train_data.head()"
   ]
  },
  {
   "cell_type": "code",
   "execution_count": 84,
   "metadata": {},
   "outputs": [],
   "source": [
    "train_data[\"Date-received\"] = pd.to_datetime(train_data[\"Date-received\"]).dt.strftime(\"%d%m%y\").astype(int)\n",
    "train_data[\"Date-sent-to-company\"] = pd.to_datetime(train_data[\"Date-sent-to-company\"]).dt.strftime(\"%d%m%y\").astype(int)"
   ]
  },
  {
   "cell_type": "code",
   "execution_count": 85,
   "metadata": {},
   "outputs": [
    {
     "data": {
      "text/plain": [
       "Complaint-ID                  object\n",
       "Date-received                  int32\n",
       "Transaction-Type              object\n",
       "Complaint-reason              object\n",
       "Company-response              object\n",
       "Date-sent-to-company           int32\n",
       "Complaint-Status              object\n",
       "Consumer-disputes             object\n",
       "Consumer-complaint-summary    object\n",
       "date_sent_to_recieved          int64\n",
       "dtype: object"
      ]
     },
     "execution_count": 85,
     "metadata": {},
     "output_type": "execute_result"
    }
   ],
   "source": [
    "train_data.dtypes"
   ]
  },
  {
   "cell_type": "code",
   "execution_count": 86,
   "metadata": {},
   "outputs": [
    {
     "data": {
      "text/html": [
       "<div>\n",
       "<style scoped>\n",
       "    .dataframe tbody tr th:only-of-type {\n",
       "        vertical-align: middle;\n",
       "    }\n",
       "\n",
       "    .dataframe tbody tr th {\n",
       "        vertical-align: top;\n",
       "    }\n",
       "\n",
       "    .dataframe thead th {\n",
       "        text-align: right;\n",
       "    }\n",
       "</style>\n",
       "<table border=\"1\" class=\"dataframe\">\n",
       "  <thead>\n",
       "    <tr style=\"text-align: right;\">\n",
       "      <th></th>\n",
       "      <th>Complaint-ID</th>\n",
       "      <th>Date-received</th>\n",
       "      <th>Transaction-Type</th>\n",
       "      <th>Complaint-reason</th>\n",
       "      <th>Company-response</th>\n",
       "      <th>Date-sent-to-company</th>\n",
       "      <th>Complaint-Status</th>\n",
       "      <th>Consumer-disputes</th>\n",
       "      <th>Consumer-complaint-summary</th>\n",
       "      <th>date_sent_to_recieved</th>\n",
       "    </tr>\n",
       "  </thead>\n",
       "  <tbody>\n",
       "    <tr>\n",
       "      <th>0</th>\n",
       "      <td>Tr-1</td>\n",
       "      <td>111115</td>\n",
       "      <td>Mortgage</td>\n",
       "      <td>Loan servicing, payments, escrow account</td>\n",
       "      <td>NaN</td>\n",
       "      <td>111115</td>\n",
       "      <td>Closed with explanation</td>\n",
       "      <td>Yes</td>\n",
       "      <td>Seterus, Inc a déposé un faux rapport auprès d...</td>\n",
       "      <td>0</td>\n",
       "    </tr>\n",
       "    <tr>\n",
       "      <th>1</th>\n",
       "      <td>Tr-2</td>\n",
       "      <td>70715</td>\n",
       "      <td>Credit reporting</td>\n",
       "      <td>Incorrect information on credit report</td>\n",
       "      <td>Company chooses not to provide a public response</td>\n",
       "      <td>70715</td>\n",
       "      <td>Closed with non-monetary relief</td>\n",
       "      <td>No</td>\n",
       "      <td>XX / XX / XXXX La requête en faillite n ° XXXX...</td>\n",
       "      <td>0</td>\n",
       "    </tr>\n",
       "    <tr>\n",
       "      <th>2</th>\n",
       "      <td>Tr-3</td>\n",
       "      <td>70515</td>\n",
       "      <td>Bank account or service</td>\n",
       "      <td>Using a debit or ATM card</td>\n",
       "      <td>NaN</td>\n",
       "      <td>70515</td>\n",
       "      <td>Closed with explanation</td>\n",
       "      <td>No</td>\n",
       "      <td>El XXXX / XXXX / 15, estaba preparando el vuel...</td>\n",
       "      <td>0</td>\n",
       "    </tr>\n",
       "    <tr>\n",
       "      <th>3</th>\n",
       "      <td>Tr-4</td>\n",
       "      <td>121116</td>\n",
       "      <td>Debt collection</td>\n",
       "      <td>Cont'd attempts collect debt not owed</td>\n",
       "      <td>Company believes it acted appropriately as aut...</td>\n",
       "      <td>121116</td>\n",
       "      <td>Closed with explanation</td>\n",
       "      <td>No</td>\n",
       "      <td>The loan was paid in XXXX XXXX. In XXXX, 4 yea...</td>\n",
       "      <td>0</td>\n",
       "    </tr>\n",
       "    <tr>\n",
       "      <th>4</th>\n",
       "      <td>Tr-5</td>\n",
       "      <td>290916</td>\n",
       "      <td>Credit card</td>\n",
       "      <td>Payoff process</td>\n",
       "      <td>Company has responded to the consumer and the ...</td>\n",
       "      <td>290916</td>\n",
       "      <td>Closed with explanation</td>\n",
       "      <td>No</td>\n",
       "      <td>J'ai obtenu un compte de crédit de soins pour ...</td>\n",
       "      <td>0</td>\n",
       "    </tr>\n",
       "  </tbody>\n",
       "</table>\n",
       "</div>"
      ],
      "text/plain": [
       "  Complaint-ID  Date-received         Transaction-Type  \\\n",
       "0         Tr-1         111115                 Mortgage   \n",
       "1         Tr-2          70715         Credit reporting   \n",
       "2         Tr-3          70515  Bank account or service   \n",
       "3         Tr-4         121116          Debt collection   \n",
       "4         Tr-5         290916              Credit card   \n",
       "\n",
       "                           Complaint-reason  \\\n",
       "0  Loan servicing, payments, escrow account   \n",
       "1    Incorrect information on credit report   \n",
       "2                 Using a debit or ATM card   \n",
       "3     Cont'd attempts collect debt not owed   \n",
       "4                            Payoff process   \n",
       "\n",
       "                                    Company-response  Date-sent-to-company  \\\n",
       "0                                                NaN                111115   \n",
       "1   Company chooses not to provide a public response                 70715   \n",
       "2                                                NaN                 70515   \n",
       "3  Company believes it acted appropriately as aut...                121116   \n",
       "4  Company has responded to the consumer and the ...                290916   \n",
       "\n",
       "                  Complaint-Status Consumer-disputes  \\\n",
       "0          Closed with explanation               Yes   \n",
       "1  Closed with non-monetary relief                No   \n",
       "2          Closed with explanation                No   \n",
       "3          Closed with explanation                No   \n",
       "4          Closed with explanation                No   \n",
       "\n",
       "                          Consumer-complaint-summary  date_sent_to_recieved  \n",
       "0  Seterus, Inc a déposé un faux rapport auprès d...                      0  \n",
       "1  XX / XX / XXXX La requête en faillite n ° XXXX...                      0  \n",
       "2  El XXXX / XXXX / 15, estaba preparando el vuel...                      0  \n",
       "3  The loan was paid in XXXX XXXX. In XXXX, 4 yea...                      0  \n",
       "4  J'ai obtenu un compte de crédit de soins pour ...                      0  "
      ]
     },
     "execution_count": 86,
     "metadata": {},
     "output_type": "execute_result"
    }
   ],
   "source": [
    "train_data.head()"
   ]
  },
  {
   "cell_type": "code",
   "execution_count": 87,
   "metadata": {},
   "outputs": [
    {
     "data": {
      "text/plain": [
       "Complaint-ID                      0\n",
       "Date-received                     0\n",
       "Transaction-Type                  0\n",
       "Complaint-reason                  0\n",
       "Company-response              22506\n",
       "Date-sent-to-company              0\n",
       "Complaint-Status                  0\n",
       "Consumer-disputes              7698\n",
       "Consumer-complaint-summary        0\n",
       "date_sent_to_recieved             0\n",
       "dtype: int64"
      ]
     },
     "execution_count": 87,
     "metadata": {},
     "output_type": "execute_result"
    }
   ],
   "source": [
    "train_data.isnull().sum()"
   ]
  },
  {
   "cell_type": "code",
   "execution_count": 88,
   "metadata": {},
   "outputs": [],
   "source": [
    "train_data[\"Company-response\"].fillna(\"no response\", inplace = True)"
   ]
  },
  {
   "cell_type": "code",
   "execution_count": 89,
   "metadata": {},
   "outputs": [
    {
     "data": {
      "text/plain": [
       "No     27663\n",
       "Yes     7905\n",
       "Name: Consumer-disputes, dtype: int64"
      ]
     },
     "execution_count": 89,
     "metadata": {},
     "output_type": "execute_result"
    }
   ],
   "source": [
    "train_data[\"Consumer-disputes\"].value_counts()"
   ]
  },
  {
   "cell_type": "code",
   "execution_count": 90,
   "metadata": {},
   "outputs": [],
   "source": [
    "train_data[\"Consumer-disputes\"].fillna(\"No\", inplace = True)"
   ]
  },
  {
   "cell_type": "code",
   "execution_count": 91,
   "metadata": {},
   "outputs": [
    {
     "data": {
      "text/plain": [
       "Complaint-ID                  0\n",
       "Date-received                 0\n",
       "Transaction-Type              0\n",
       "Complaint-reason              0\n",
       "Company-response              0\n",
       "Date-sent-to-company          0\n",
       "Complaint-Status              0\n",
       "Consumer-disputes             0\n",
       "Consumer-complaint-summary    0\n",
       "date_sent_to_recieved         0\n",
       "dtype: int64"
      ]
     },
     "execution_count": 91,
     "metadata": {},
     "output_type": "execute_result"
    }
   ],
   "source": [
    "train_data.isnull().sum()"
   ]
  },
  {
   "cell_type": "code",
   "execution_count": 92,
   "metadata": {},
   "outputs": [
    {
     "data": {
      "text/plain": [
       "Debt collection                                                                 10422\n",
       "Mortgage                                                                         7950\n",
       "Credit reporting                                                                 6706\n",
       "Credit card                                                                      4119\n",
       "Bank account or service                                                          3264\n",
       "Credit reporting, credit repair services, or other personal consumer reports     3169\n",
       "Student loan                                                                     2874\n",
       "Consumer Loan                                                                    2033\n",
       "Credit card or prepaid card                                                       719\n",
       "Checking or savings account                                                       496\n",
       "Payday loan                                                                       363\n",
       "Money transfers                                                                   332\n",
       "Prepaid card                                                                      308\n",
       "Vehicle loan or lease                                                             155\n",
       "Money transfer, virtual currency, or money service                                147\n",
       "Payday loan, title loan, or personal loan                                         145\n",
       "Other financial service                                                            60\n",
       "Virtual currency                                                                    4\n",
       "Name: Transaction-Type, dtype: int64"
      ]
     },
     "execution_count": 92,
     "metadata": {},
     "output_type": "execute_result"
    }
   ],
   "source": [
    "train_data[\"Transaction-Type\"].value_counts()"
   ]
  },
  {
   "cell_type": "code",
   "execution_count": 93,
   "metadata": {},
   "outputs": [
    {
     "data": {
      "text/plain": [
       "Equifax mishandled my information, which has led to a violation that puts me and millions of others at a potential risk. I am extremely disappointed with the way in which Equifax has handled the notification of this breach. Very little was done to notify the public for almost a month after the violation was detected. I did not receive any email, letter or phone call and, instead, I had to discover it through social networks.                                                                                                                                                                                                                                                                                                                                                                                                                                                                                                                                                                                                                                                                                                                                                                                                                                                                                                                                                                                                                                                                                                                                                                                                                                                                                                                                                                                                                                                                                                                                                                                                                                                                                                                                                                                                                                                                                                                                                                                                                                                                                                                                                                                                                                                                                                                                                                                                                                                                                                                                                                                                                                                                                                                                                                                                                                                                                                                                                                                                                                                                                                                                                                                                                                                                                                                                                                                                                                                              13\n",
       "I am filing this complaint because Experian has ignored my request to provide me with the documents your company has on file that were used to verify the accounts I disputed. Since they have passed the 30-day mark and can not verify these accounts, under Section 611 (5) (A) of the FCRA, they are required to \"... quickly remove all information that can not be verified\" I have disputed . Please, resolve this way as soon as possible. Thank you.                                                                                                                                                                                                                                                                                                                                                                                                                                                                                                                                                                                                                                                                                                                                                                                                                                                                                                                                                                                                                                                                                                                                                                                                                                                                                                                                                                                                                                                                                                                                                                                                                                                                                                                                                                                                                                                                                                                                                                                                                                                                                                                                                                                                                                                                                                                                                                                                                                                                                                                                                                                                                                                                                                                                                                                                                                                                                                                                                                                                                                                                                                                                                                                                                                                                                                                                                                                                                                             13\n",
       "I am filing this complaint because TransUnion has ignored my request to provide me with the documents your company has on file that were used to verify the accounts I disputed. Since they have passed the 30-day mark and can not verify these accounts, under Section 611 (5) (A) of the FCRA, they are required to \"... quickly remove all information that can not be verified\" I have disputed . Please, resolve this way as soon as possible. Thank you.                                                                                                                                                                                                                                                                                                                                                                                                                                                                                                                                                                                                                                                                                                                                                                                                                                                                                                                                                                                                                                                                                                                                                                                                                                                                                                                                                                                                                                                                                                                                                                                                                                                                                                                                                                                                                                                                                                                                                                                                                                                                                                                                                                                                                                                                                                                                                                                                                                                                                                                                                                                                                                                                                                                                                                                                                                                                                                                                                                                                                                                                                                                                                                                                                                                                                                                                                                                                                                            7\n",
       "This company continues to report on my credit report after I sent them a letter informing them that this account was not mine and I have no idea what it is or who it belongs to!\\n\\nI requested proof of a signed contract, I requested a license to collect in my state, I requested copies of all the information referred to for this debt and to date, I have received nothing but harassment from this company !\\n\\nTHIS IS NOT MY DEBT!\\n\\nI WANT THIS ACCOUNT TO BE REMOVED FROM MY CREDIT REPORT AND THIS COMPANY TO STOP CONTACTING ME IMMEDIATELY!                                                                                                                                                                                                                                                                                                                                                                                                                                                                                                                                                                                                                                                                                                                                                                                                                                                                                                                                                                                                                                                                                                                                                                                                                                                                                                                                                                                                                                                                                                                                                                                                                                                                                                                                                                                                                                                                                                                                                                                                                                                                                                                                                                                                                                                                                                                                                                                                                                                                                                                                                                                                                                                                                                                                                                                                                                                                                                                                                                                                                                                                                                                                                                                                                                                                                                                                              6\n",
       "This company continues to report on my credit report after I sent them a letter informing them that this account was not mine and I have no idea what it is or who it belongs to!\\n\\nI requested proof of a signed contract, I requested a license to collect in my state, I requested copies of all the information referred to for this debt and to date, I have received nothing but harassment from this company !\\n\\nTHIS IS NOT MY DEBT!                                                                                                                                                                                                                                                                                                                                                                                                                                                                                                                                                                                                                                                                                                                                                                                                                                                                                                                                                                                                                                                                                                                                                                                                                                                                                                                                                                                                                                                                                                                                                                                                                                                                                                                                                                                                                                                                                                                                                                                                                                                                                                                                                                                                                                                                                                                                                                                                                                                                                                                                                                                                                                                                                                                                                                                                                                                                                                                                                                                                                                                                                                                                                                                                                                                                                                                                                                                                                                                             6\n",
       "Estoy presentando esta queja porque Experian ha ignorado mi solicitud para proporcionarme los documentos que su compañía tiene archivados que se usaron para verificar las cuentas que disputé. Dado que han pasado la marca de los 30 días y no pueden verificar estas cuentas, bajo la Sección 611 (5) (A) de la FCRA, están obligados a \"... eliminar rápidamente toda la información que no pueda verificarse\" He disputado. Por favor, resuelva esta manera lo antes posible. Gracias.                                                                                                                                                                                                                                                                                                                                                                                                                                                                                                                                                                                                                                                                                                                                                                                                                                                                                                                                                                                                                                                                                                                                                                                                                                                                                                                                                                                                                                                                                                                                                                                                                                                                                                                                                                                                                                                                                                                                                                                                                                                                                                                                                                                                                                                                                                                                                                                                                                                                                                                                                                                                                                                                                                                                                                                                                                                                                                                                                                                                                                                                                                                                                                                                                                                                                                                                                                                                                5\n",
       "I have no knowledge of that debt.                                                                                                                                                                                                                                                                                                                                                                                                                                                                                                                                                                                                                                                                                                                                                                                                                                                                                                                                                                                                                                                                                                                                                                                                                                                                                                                                                                                                                                                                                                                                                                                                                                                                                                                                                                                                                                                                                                                                                                                                                                                                                                                                                                                                                                                                                                                                                                                                                                                                                                                                                                                                                                                                                                                                                                                                                                                                                                                                                                                                                                                                                                                                                                                                                                                                                                                                                                                                                                                                                                                                                                                                                                                                                                                                                                                                                                                                          5\n",
       "I am filing this complaint because Equifax has ignored my request to provide me with the documents your company has on file that were used to verify the accounts I disputed. Since they have passed the 30-day mark and can not verify these accounts, under Section 611 (5) (A) of the FCRA, they are required to \"... quickly remove all information that can not be verified\" I have disputed . Please, resolve this way as soon as possible. Thank you.                                                                                                                                                                                                                                                                                                                                                                                                                                                                                                                                                                                                                                                                                                                                                                                                                                                                                                                                                                                                                                                                                                                                                                                                                                                                                                                                                                                                                                                                                                                                                                                                                                                                                                                                                                                                                                                                                                                                                                                                                                                                                                                                                                                                                                                                                                                                                                                                                                                                                                                                                                                                                                                                                                                                                                                                                                                                                                                                                                                                                                                                                                                                                                                                                                                                                                                                                                                                                                               4\n",
       "This company continues to report on my credit report after I sent them a letter informing them that this account was not mine and I have no idea what it is or who it belongs to!\\n\\nI requested proof of a signed contract, I requested a license to collect in my state, I requested copies of all the information referred to for this debt and to date, I have received nothing but harassment from this company !                                                                                                                                                                                                                                                                                                                                                                                                                                                                                                                                                                                                                                                                                                                                                                                                                                                                                                                                                                                                                                                                                                                                                                                                                                                                                                                                                                                                                                                                                                                                                                                                                                                                                                                                                                                                                                                                                                                                                                                                                                                                                                                                                                                                                                                                                                                                                                                                                                                                                                                                                                                                                                                                                                                                                                                                                                                                                                                                                                                                                                                                                                                                                                                                                                                                                                                                                                                                                                                                                     4\n",
       "I am not familiar with this company and I do not understand why they are in my credit. These inquiries affect my credit in a negative way. I would like them to be eliminated.                                                                                                                                                                                                                                                                                                                                                                                                                                                                                                                                                                                                                                                                                                                                                                                                                                                                                                                                                                                                                                                                                                                                                                                                                                                                                                                                                                                                                                                                                                                                                                                                                                                                                                                                                                                                                                                                                                                                                                                                                                                                                                                                                                                                                                                                                                                                                                                                                                                                                                                                                                                                                                                                                                                                                                                                                                                                                                                                                                                                                                                                                                                                                                                                                                                                                                                                                                                                                                                                                                                                                                                                                                                                                                                             4\n",
       "I have not received any documentation that validates the debt they are trying to collect. I have not been given a contract or any instrument with my signature that validates that this debt is mine.                                                                                                                                                                                                                                                                                                                                                                                                                                                                                                                                                                                                                                                                                                                                                                                                                                                                                                                                                                                                                                                                                                                                                                                                                                                                                                                                                                                                                                                                                                                                                                                                                                                                                                                                                                                                                                                                                                                                                                                                                                                                                                                                                                                                                                                                                                                                                                                                                                                                                                                                                                                                                                                                                                                                                                                                                                                                                                                                                                                                                                                                                                                                                                                                                                                                                                                                                                                                                                                                                                                                                                                                                                                                                                      4\n",
       "I have disputed this unknown unauthorized inquiry on my credit report with the reporting agencies. It has not been removed from my reports, therefore, I am filing a formal complaint. I have never requested any services or funds from this agency. I have never shared my SSN or any other personal information with this company. I have never signed or signed any kind of agreement with this company. I have never visited or requested any online service with this company. I am not aware of this business, how they received my personal information or why they report on my credit report. All information that is listed on my credit report is inaccurate and unauthorized by me.                                                                                                                                                                                                                                                                                                                                                                                                                                                                                                                                                                                                                                                                                                                                                                                                                                                                                                                                                                                                                                                                                                                                                                                                                                                                                                                                                                                                                                                                                                                                                                                                                                                                                                                                                                                                                                                                                                                                                                                                                                                                                                                                                                                                                                                                                                                                                                                                                                                                                                                                                                                                                                                                                                                                                                                                                                                                                                                                                                                                                                                                                                                                                                                                           3\n",
       "Experian does not respond to my requests to investigate and remove accounts that do not belong to me from my credit report.                                                                                                                                                                                                                                                                                                                                                                                                                                                                                                                                                                                                                                                                                                                                                                                                                                                                                                                                                                                                                                                                                                                                                                                                                                                                                                                                                                                                                                                                                                                                                                                                                                                                                                                                                                                                                                                                                                                                                                                                                                                                                                                                                                                                                                                                                                                                                                                                                                                                                                                                                                                                                                                                                                                                                                                                                                                                                                                                                                                                                                                                                                                                                                                                                                                                                                                                                                                                                                                                                                                                                                                                                                                                                                                                                                                3\n",
       "I have been a victim of identity theft. I have tried to work with the Credit Reporting Agency, but they refuse to honor my valid identity theft case, so these incorrect / fraudulent items are still on my credit report and should be removed immediately, but they do not belong to me. I have provided all the evidence to prove that I was a victim of identity theft and that, to my knowledge, these fraudulent accounts do not belong to me. Take immediate action on my behalf to be able to eliminate, delete and permanently block these elements of my credit report, so that I can return to normal.\\n\\nregards                                                                                                                                                                                                                                                                                                                                                                                                                                                                                                                                                                                                                                                                                                                                                                                                                                                                                                                                                                                                                                                                                                                                                                                                                                                                                                                                                                                                                                                                                                                                                                                                                                                                                                                                                                                                                                                                                                                                                                                                                                                                                                                                                                                                                                                                                                                                                                                                                                                                                                                                                                                                                                                                                                                                                                                                                                                                                                                                                                                                                                                                                                                                                                                                                                                                               3\n",
       "In XXXX, I requested my free annual credit report. After seeing my credit report, I noticed more than XXXX credit / loan inquiries in my account that were not authorized by me. I contacted each company and was informed that there was no account opened under my information. I explained that I have a difficult question on my credit report and that I need to be removed as soon as possible in order to apply for housing. They told me that the queries would be deleted from my credit report. As of XXXX / XXXX / XXXX, none of the queries has been deleted since XXXX. I received an initial fraud alert on my XXXX XXXX report, so if the company contacted me with a credit report, the company would contact me before a decision was made. I just want the queries to be deleted so that my score and credit will no longer be affected. I would like to buy a house, but until all inquiries are eliminated, I will not be approved with XXXX queries on my credit report.                                                                                                                                                                                                                                                                                                                                                                                                                                                                                                                                                                                                                                                                                                                                                                                                                                                                                                                                                                                                                                                                                                                                                                                                                                                                                                                                                                                                                                                                                                                                                                                                                                                                                                                                                                                                                                                                                                                                                                                                                                                                                                                                                                                                                                                                                                                                                                                                                                                                                                                                                                                                                                                                                                                                                                                                                                                                                                              3\n",
       "The company did not respond to the inquiry letter related to the incorrect reporting of credit reports.                                                                                                                                                                                                                                                                                                                                                                                                                                                                                                                                                                                                                                                                                                                                                                                                                                                                                                                                                                                                                                                                                                                                                                                                                                                                                                                                                                                                                                                                                                                                                                                                                                                                                                                                                                                                                                                                                                                                                                                                                                                                                                                                                                                                                                                                                                                                                                                                                                                                                                                                                                                                                                                                                                                                                                                                                                                                                                                                                                                                                                                                                                                                                                                                                                                                                                                                                                                                                                                                                                                                                                                                                                                                                                                                                                                                    3\n",
       "I recently took out my loan and discovered that this company has reported that I owe them a debt. As far as I know, I have never entered into a financial agreement with this company nor have they provided me with goods or services.                                                                                                                                                                                                                                                                                                                                                                                                                                                                                                                                                                                                                                                                                                                                                                                                                                                                                                                                                                                                                                                                                                                                                                                                                                                                                                                                                                                                                                                                                                                                                                                                                                                                                                                                                                                                                                                                                                                                                                                                                                                                                                                                                                                                                                                                                                                                                                                                                                                                                                                                                                                                                                                                                                                                                                                                                                                                                                                                                                                                                                                                                                                                                                                                                                                                                                                                                                                                                                                                                                                                                                                                                                                                    3\n",
       "Equifax a mal géré mes informations, ce qui a entraîné une violation qui met moi-même et des millions d'autres en danger Je suis extrêmement déçu de la manière dont equifax a géré le signalement de cette violation. Très peu de choses ont été faites pour informer le public pendant près d'un mois après la détection de la violation. Je n'ai reçu aucun courrier électronique, lettre ou appel téléphonique, mais j'ai dû le découvrir via les médias sociaux.                                                                                                                                                                                                                                                                                                                                                                                                                                                                                                                                                                                                                                                                                                                                                                                                                                                                                                                                                                                                                                                                                                                                                                                                                                                                                                                                                                                                                                                                                                                                                                                                                                                                                                                                                                                                                                                                                                                                                                                                                                                                                                                                                                                                                                                                                                                                                                                                                                                                                                                                                                                                                                                                                                                                                                                                                                                                                                                                                                                                                                                                                                                                                                                                                                                                                                                                                                                                                                      3\n",
       "I have sent several requests to Experian requesting an investigation of my accounts. Months have passed and I still have not received an answer to my concerns. The only thing I have received is an automatic rejection letter stating that they did not do anything to help me (see the attached document).\\nThis has to be a violation of my rights. I feel like I've already wasted a lot of time trying to get Experian to see the errors on my credit report and I'm so frustrated that Experian is not responding to my questions intentionally. I need to have this problem solved immediately. There are many things that I have to do with my life and they all involve my credit. But I can not advance everything because of this credit agency!                                                                                                                                                                                                                                                                                                                                                                                                                                                                                                                                                                                                                                                                                                                                                                                                                                                                                                                                                                                                                                                                                                                                                                                                                                                                                                                                                                                                                                                                                                                                                                                                                                                                                                                                                                                                                                                                                                                                                                                                                                                                                                                                                                                                                                                                                                                                                                                                                                                                                                                                                                                                                                                                                                                                                                                                                                                                                                                                                                                                                                                                                                                                               3\n",
       "Recently I checked my credit and discovered that this company has reported that I owe them a debt. As far as I know, I have never received a notice from this company. I have never received any goods or services from this company and I have not signed a contract stating that I would do so.                                                                                                                                                                                                                                                                                                                                                                                                                                                                                                                                                                                                                                                                                                                                                                                                                                                                                                                                                                                                                                                                                                                                                                                                                                                                                                                                                                                                                                                                                                                                                                                                                                                                                                                                                                                                                                                                                                                                                                                                                                                                                                                                                                                                                                                                                                                                                                                                                                                                                                                                                                                                                                                                                                                                                                                                                                                                                                                                                                                                                                                                                                                                                                                                                                                                                                                                                                                                                                                                                                                                                                                                          3\n",
       "Je dépose cette plainte parce que TransUnion a ignoré ma demande de me fournir les documents au dossier de leur entreprise qui ont été utilisés pour vérifier les comptes que j'ai contestés. Étant donné qu'ils ont dépassé le délai de 30 jours et ne peuvent pas vérifier ces comptes, en vertu de l'article 611 (5) (A) de la FCRA, ils sont tenus de \"... supprimer rapidement toutes les informations qui ne peuvent être vérifiées J'ai contesté. S'il vous plaît résoudre cette manière dès que possible. Merci.                                                                                                                                                                                                                                                                                                                                                                                                                                                                                                                                                                                                                                                                                                                                                                                                                                                                                                                                                                                                                                                                                                                                                                                                                                                                                                                                                                                                                                                                                                                                                                                                                                                                                                                                                                                                                                                                                                                                                                                                                                                                                                                                                                                                                                                                                                                                                                                                                                                                                                                                                                                                                                                                                                                                                                                                                                                                                                                                                                                                                                                                                                                                                                                                                                                                                                                                                                                   3\n",
       "Je dépose cette plainte car Experian a ignoré ma demande de me fournir les documents de son entreprise qui ont été utilisés dans le dossier et qui ont été utilisés pour vérifier les comptes que j'ai contestés. Étant donné qu'ils ont dépassé le délai de 30 jours et ne peuvent pas vérifier ces comptes, en vertu de l'article 611 (5) (A) de la FCRA, ils sont tenus de \"... supprimer rapidement toutes les informations qui ne peuvent être vérifiées J'ai contesté. S'il vous plaît résoudre cette manière dès que possible. Merci.                                                                                                                                                                                                                                                                                                                                                                                                                                                                                                                                                                                                                                                                                                                                                                                                                                                                                                                                                                                                                                                                                                                                                                                                                                                                                                                                                                                                                                                                                                                                                                                                                                                                                                                                                                                                                                                                                                                                                                                                                                                                                                                                                                                                                                                                                                                                                                                                                                                                                                                                                                                                                                                                                                                                                                                                                                                                                                                                                                                                                                                                                                                                                                                                                                                                                                                                                               3\n",
       "A few months ago I applied for my credit report to Experian. I received this letter from them telling me that they received something that looked like fraud. I did not have the opportunity to call them immediately and, honestly, I thought it was a mistake, so I connected and got my report from some website.\\nI ended up filing some disputes because there was incorrect and incomplete information on my credit report. So I prepared a good letter and sent it with a copy of my driver's license, proof of my social security number and proof of my email address so that Experian can verify my identity.\\nIt has been at least 2 months since I sent my letter and I have not received a response. When I try to call their number XXXX, they want a report number before talking to an agent and, since I do not have one, I can not talk to anyone.\\nI thought that the credit companies had to answer me within 30 days, otherwise, are you supposed to eliminate things from my credit report?\\nWell, it's been more than 30 days and all the things I've discussed are still there. I know I can connect online, buy a credit monitoring service and try to dispute things online, but I thought Experian should help me for free!\\nI'm at the point where I've finished wasting my time and I need to fix it right away.                                                                                                                                                                                                                                                                                                                                                                                                                                                                                                                                                                                                                                                                                                                                                                                                                                                                                                                                                                                                                                                                                                                                                                                                                                                                                                                                                                                                                                                                                                                                                                                                                                                                                                                                                                                                                                                                                                                                                                                                                                                                                                                                                                                                                                                                                                                                                                                                                                                                                                                                                              3\n",
       "The company has not removed the item after I provided the proof.                                                                                                                                                                                                                                                                                                                                                                                                                                                                                                                                                                                                                                                                                                                                                                                                                                                                                                                                                                                                                                                                                                                                                                                                                                                                                                                                                                                                                                                                                                                                                                                                                                                                                                                                                                                                                                                                                                                                                                                                                                                                                                                                                                                                                                                                                                                                                                                                                                                                                                                                                                                                                                                                                                                                                                                                                                                                                                                                                                                                                                                                                                                                                                                                                                                                                                                                                                                                                                                                                                                                                                                                                                                                                                                                                                                                                                           3\n",
       "Three times I have sent requests to individual credit agencies XXXX as well as to XXXX XXXX XXXX requesting the inaccurate report of late payments in XXXX and XXXX XXXX to be removed from all XXXX of my federal loans with account numbers XXXX, XXXX, XXXX, & XXXX. The agency reported a timely payment on XXXX XXXX, 60 days late XXXX XXXX, and 90 days late XXXX XXXX for all my accounts. During this time, I was struggling with the company to approve my IBR. XXXX XXXX, XXXX spoke with agent # XXXX, with XXXX, who acted retroactively my postponement until XXXX XXXX, XXXX so that it is active until XXXX. I followed XXXX XXXX, to make sure my account was up to date, I spoke with a man, XXXX, @ XXXX XXXX (MST) who said he was in postponement with a {$ 0.00} ball from XXXX XXXX. Whenever I request that inaccurate reports be corrected, XXXX posts an observation of \"Disputed resolved, the Client does not agree\". Nothing has been resolved. It was in postponement, so the final notices must be deleted.                                                                                                                                                                                                                                                                                                                                                                                                                                                                                                                                                                                                                                                                                                                                                                                                                                                                                                                                                                                                                                                                                                                                                                                                                                                                                                                                                                                                                                                                                                                                                                                                                                                                                                                                                                                                                                                                                                                                                                                                                                                                                                                                                                                                                                                                                                                                                                                                                                                                                                                                                                                                                                                                                                                                                                                                                                                                 3\n",
       "I recently received a copy of my credit report and shows a query from this company that I do not remember authorizing.                                                                                                                                                                                                                                                                                                                                                                                                                                                                                                                                                                                                                                                                                                                                                                                                                                                                                                                                                                                                                                                                                                                                                                                                                                                                                                                                                                                                                                                                                                                                                                                                                                                                                                                                                                                                                                                                                                                                                                                                                                                                                                                                                                                                                                                                                                                                                                                                                                                                                                                                                                                                                                                                                                                                                                                                                                                                                                                                                                                                                                                                                                                                                                                                                                                                                                                                                                                                                                                                                                                                                                                                                                                                                                                                                                                     3\n",
       "While reviewing my personal credit report, I noticed an unauthorized and fraudulent credit request made by XXXX on or around XX / XX / XXXX in Transunion. I did not authorize any person employed by this company to make any inquiries and see my credit report. XXXX has violated Law 1681b (c) of the Fair Credit Information Act. They had no legal right to carry out this fraudulent investigation. This is a serious violation of my privacy rights.\\nI have requested that you send me a copy of my signed authorization form that gave you the right to see my credit within five (5) business days to verify its validity and I informed you that if you can not provide proof that I authorized you to see my credit report, then I demand that they contact the credit bureaus immediately and ask them to immediately withdraw the unauthorized and fraudulent query. I also asked them to remove my personal information from their records. My social security number is XXXX and my date of birth is XX / XX / XXXX in case it is necessary to locate the fraudulent query on your system.                                                                                                                                                                                                                                                                                                                                                                                                                                                                                                                                                                                                                                                                                                                                                                                                                                                                                                                                                                                                                                                                                                                                                                                                                                                                                                                                                                                                                                                                                                                                                                                                                                                                                                                                                                                                                                                                                                                                                                                                                                                                                                                                                                                                                                                                                                                                                                                                                                                                                                                                                                                                                                                                                                                                                                                                3\n",
       "Estoy presentando esta queja porque creo que lo que Experian me está haciendo está mal, es poco ético y puede estar en contra de la ley. Se envió una carta a Experian alrededor de [XXXX / XXXX / 15].\\nLes manifesté claramente mis inquietudes con respecto a la información incorrecta, cuestionable o no verificable que figura en mi informe de crédito. También proporcioné una copia clara de mi identificación, comprobante de mi número de seguro social y comprobante de mi dirección postal actual.\\nEl [XXXX / XXXX / 15] recibí una notificación de Experian que dice lo siguiente: \"Recibimos una solicitud sospechosa por correo con respecto a su informe de crédito personal y determinamos que no fue enviada por usted. Las solicitudes sospechosas son revisadas por el personal de seguridad de Experian que trabaja regularmente con los funcionarios encargados de hacer cumplir la ley y las agencias reguladoras para identificar la correspondencia fraudulenta y engañosa que se origina en los consumidores.\\nEn un esfuerzo por proteger su información de crédito personal contra el fraude, no iniciaremos ninguna disputa basada en la correspondencia sospechosa.\\nExperian aplicará esta misma política a cualquier solicitud sospechosa en el futuro que recibamos con respecto a su información crediticia personal, pero no le enviaremos avisos adicionales de correspondencia sospechosa.\\nSi cree que la información en su informe de crédito personal es inexacta o incompleta, visite nuestro sitio web en experian.com/validate en el conflicto o llámenos al XXXX (XXXX) XXXX para hablar directamente con un representante de asistencia al consumidor de Experian. \"Sin embargo, en este aviso ni siquiera se proporcionó un número de confirmación de Experian. No puedo imaginar lo que podría haber sido\" sospechoso \"sobre mi correspondencia con Experian. ¡No debería tener que pasar horas interminables en el teléfono llamando a la agencia de crédito de un lado a otro intentando resolver los problemas en mi informe de crédito! Estoy presentando esta queja porque Experian no responderá a ninguna carta que esté enviando. ¡Estoy seguro de que esto podría ser una violación de mis derechos y Experian no debe ignorar deliberadamente mis preocupaciones!                                                                                                                                                                                                                                                                                                                                                                                                                                                                                                                                                                                                                                                                                                                                                                                                                                                                                                                                                                                                                                                                                                                                                                                                                                                                                                                                                                                                                                                                                                                                                                               3\n",
       "The bankruptcy was dismissed on XX / XX / XXXX and has not yet been removed. (It was originally filed XX / XX / XXXX).\\nThe sentence was satisfied by the State of the Supreme Court N.Y XX / XX / XXXX and has not yet been removed.                                                                                                                                                                                                                                                                                                                                                                                                                                                                                                                                                                                                                                                                                                                                                                                                                                                                                                                                                                                                                                                                                                                                                                                                                                                                                                                                                                                                                                                                                                                                                                                                                                                                                                                                                                                                                                                                                                                                                                                                                                                                                                                                                                                                                                                                                                                                                                                                                                                                                                                                                                                                                                                                                                                                                                                                                                                                                                                                                                                                                                                                                                                                                                                                                                                                                                                                                                                                                                                                                                                                                                                                                                                                      2\n",
       "I have disputed this entry for more than 2 years. Experian, XXXX refuses to delete this entry, even after sending you proof that this account should be deleted. XXXX XXXX                                                                                                                                                                                                                                                                                                                                                                                                                                                                                                                                                                                                                                                                                                                                                                                                                                                                                                                                                                                                                                                                                                                                                                                                                                                                                                                                                                                                                                                                                                                                                                                                                                                                                                                                                                                                                                                                                                                                                                                                                                                                                                                                                                                                                                                                                                                                                                                                                                                                                                                                                                                                                                                                                                                                                                                                                                                                                                                                                                                                                                                                                                                                                                                                                                                                                                                                                                                                                                                                                                                                                                                                                                                                                                                                 2\n",
       "                                                                                                                                                                                                                                                                                                                                                                                                                                                                                                                                                                                                                                                                                                                                                                                                                                                                                                                                                                                                                                                                                                                                                                                                                                                                                                                                                                                                                                                                                                                                                                                                                                                                                                                                                                                                                                                                                                                                                                                                                                                                                                                                                                                                                                                                                                                                                                                                                                                                                                                                                                                                                                                                                                                                                                                                                                                                                                                                                                                                                                                                                                                                                                                                                                                                                                                                                                                                                                                                                                                                                                                                                                                                                                                                                                                                                                                                                                          ..\n",
       "Equifax discovered that from the middle of XXX to XX / XX / XXXX, its files were accessed by people outside the company. Because my personal information was stolen, I believe that Equifax should be held responsible in case this data breach hurts me. I still do not know the extent of the damage and you may never know it.                                                                                                                                                                                                                                                                                                                                                                                                                                                                                                                                                                                                                                                                                                                                                                                                                                                                                                                                                                                                                                                                                                                                                                                                                                                                                                                                                                                                                                                                                                                                                                                                                                                                                                                                                                                                                                                                                                                                                                                                                                                                                                                                                                                                                                                                                                                                                                                                                                                                                                                                                                                                                                                                                                                                                                                                                                                                                                                                                                                                                                                                                                                                                                                                                                                                                                                                                                                                                                                                                                                                                                          1\n",
       "My Chase card says that you have a balance transfer option. But I have never been able to transfer a balance and in the XXXX to four years that I have had this card I have not been offered a balance transfer agreement. I am not receiving the full service of this card without the option to transfer a balance. I want to be able to do this, Chase needs to solve this problem.                                                                                                                                                                                                                                                                                                                                                                                                                                                                                                                                                                                                                                                                                                                                                                                                                                                                                                                                                                                                                                                                                                                                                                                                                                                                                                                                                                                                                                                                                                                                                                                                                                                                                                                                                                                                                                                                                                                                                                                                                                                                                                                                                                                                                                                                                                                                                                                                                                                                                                                                                                                                                                                                                                                                                                                                                                                                                                                                                                                                                                                                                                                                                                                                                                                                                                                                                                                                                                                                                                                     1\n",
       "I was surprised when I reviewed my credit report and found the late payment on the dates below: 30 days expired as of XXXX of 2015 I'm not sure how this happened, I think I made my payments when I received my statements. My only thought is that my monthly statement did not reach me.                                                                                                                                                                                                                                                                                                                                                                                                                                                                                                                                                                                                                                                                                                                                                                                                                                                                                                                                                                                                                                                                                                                                                                                                                                                                                                                                                                                                                                                                                                                                                                                                                                                                                                                                                                                                                                                                                                                                                                                                                                                                                                                                                                                                                                                                                                                                                                                                                                                                                                                                                                                                                                                                                                                                                                                                                                                                                                                                                                                                                                                                                                                                                                                                                                                                                                                                                                                                                                                                                                                                                                                                                1\n",
       "To: Citizens Bank XXXX Rhode Island; XXXX XXXX I file a complaint with the Citizens bank as follows: I am writing to report all that has occurred due to the incompetence of the Citizens bank XXXX Rhode Island.\\nThe XXXX XXXX, when I connected online to register my vehicle, I could not do it. Then, I called the registration office and they informed me that my registration was suspended, since the title was never received for the new owner of the XXXX embargo. I was completely unaware that I was suspended. I called XXXX and they informed me that Citizens never sent them the title and, in turn, lost my title. It's been over a year since I refinanced my vehicle XX / XX / XXXX, this should have been taking care much earlier.\\nI called Citizens to find out why they never sent it and they informed me after reviewing the place and having to request to speak with a manager several times that they had sent it by mail, but to the wrong address, which caused it to be lost. . I've been going back and forth with Citizens to send a warranty statement to XXXX. My credit union received the Release of Lien last Friday, XXXX XXXX, however, it was not signed, leaving it null and void. XXXX called Citizens indicating that it received the release of lean in unsigned and was informed by Citizens that it would be forwarded that day in a hurry, which should have been received no later than Tuesday or Wednesday of what Citizens stated.\\nThe citizens could not simply XXXX, but they sent it through the regular XXXX Mail. I never received it so again, I called Citizens to find out where it was. They stated that it was never sent by mail that XXXX XXXX wanted the title, which is incorrect. XXXX XXXX was aware that they had lost the title and specifically requested the release of the tax that Citizens had sent, however, it was not signed! The citizens informed me that it would be sent again and XXXX XXXX and should receive it before XXXX XXXX. I just received a call from XXXX so they do not receive it until Friday XXXX XXXX. This should have been received in the XX / XX / XXXX months. This has completely interrupted my entire life, has interrupted my employment to have to change my work schedule, so they were not happy just to be able to travel.\\nI had plans for the XXXX weekend with my daughters and I had to cancel them due to the incompetence of the Citizens bank. I had to reschedule appointments with the doctor and rely on everyone to help me get to the grocery store or anywhere I have to go. I had plans once more to go camping this weekend and again I had to cancel it because I did not know if it would really come this time.\\nHaving your vehicle is your independence and due to the incompetent behavior of Citizens bank, you have literally upset my whole being. I am extremely annoyed (anguished), it is not absolutely necessary for citizens to get away with it and to play with their lives in this way, since it is an extremely unprofessional financial institution. From the first moment of my call or XXXX, this should have accelerated, however, it was not. All this would not have happened if RBS had obtained the correct address when sending the title XX / XX / XXXX, therefore, it makes them responsible for my loss.\\n\"No amount of money will recover it for the loss that my family has had during this nightmare.\" ** I have a XXXX Declaration that I can send by email with more details of what happened.\\nSincerely, XXXX XXXX                                                                                                                                                                                                                                                                                                                1\n",
       "Several months ago, XXXX ended its relationship with XXXX XXXX and transferred all accounts to Barclays. The transition was handled incredibly badly. I always paid my balance in full and supervised the online activity, but since all the records of my transactions disappeared from the XXXX web portal, I could not verify my balance and I did not agree with the balance that Barclays was showing and I do not think it was apply The last payment I made to XXXX XXXX. I have been talking on the phone with both companies several times in an effort to resolve this, but 3 months later I have not been able to do so. Meanwhile, I am not willing to pay Barclays the additional amount (more than {$ 1200.00}) that they believe I owe and that I believe was paid and that the account has accrued late fees and interest penalties.                                                                                                                                                                                                                                                                                                                                                                                                                                                                                                                                                                                                                                                                                                                                                                                                                                                                                                                                                                                                                                                                                                                                                                                                                                                                                                                                                                                                                                                                                                                                                                                                                                                                                                                                                                                                                                                                                                                                                                                                                                                                                                                                                                                                                                                                                                                                                                                                                                                                                                                                                                                                                                                                                                                                                                                                                                                                                                                                                                                                                                                       1\n",
       "they will call the constant from XXXX every day, approximately XXXX or XXXX times. From different phone numbers. When you try to answer he hangs up.\\nThey have learned to go around the block and leave messages from XXXX to XXXX in the voice mail. Even when you talk to someone they will call you. This has been going on. They will even call with the 7 day grace period. Conn 's has done it so many times.\\nthe call of xxxx                                                                                                                                                                                                                                                                                                                                                                                                                                                                                                                                                                                                                                                                                                                                                                                                                                                                                                                                                                                                                                                                                                                                                                                                                                                                                                                                                                                                                                                                                                                                                                                                                                                                                                                                                                                                                                                                                                                                                                                                                                                                                                                                                                                                                                                                                                                                                                                                                                                                                                                                                                                                                                                                                                                                                                                                                                                                                                                                                                                                                                                                                                                                                                                                                                                                                                                                                                                                                                                                     1\n",
       "Tengo una cuenta de retiro de Wells Fargo de mi empleador por más de 9 años. Recientemente, en XXXX y XXXX, recibí correos electrónicos de XXXX de Wells Fargo. El primer correo electrónico tiene la línea de asunto \"¿Preguntas sobre su nueva cuenta? Programe una cita con un representante bancario, 'mi nombre' ''. El XXXX tiene la línea de asunto de\" Administre su hipoteca en línea ''. No abrí una nueva cuenta bancaria ni una hipoteca con Wells Fargo. Como puede imaginar, me sorprendió y me preocupó que mi información se usara de manera inadecuada para abrir nuevas cuentas con Wells Fargo. Después de que los llamé y pregunté al respecto, me dijeron que me habían colocado en estas cuentas, pero no pudieron eliminarme de ellas y que no era el titular principal de la cuenta. Dijeron que si quería saber más tendría que ir a una sucursal. Bueno, después de todas las noticias que salieron sobre Wells Fargo y las cuentas falsas, hoy fui a una sucursal. Ahora me dijeron que estas no son mis cuentas, sino más bien una persona que compartió la misma identidad y que envió un correo electrónico a su departamento de phishing, lo que es contrario a lo que me dijeron por primera vez por teléfono y que no creo que sea. El verdadero problema. Estoy realmente preocupado de que mi XXXX XXXX se esté utilizando para abrir cuentas falsas y no puedo hacer nada al respecto. ¡Por favor ayuda!                                                                                                                                                                                                                                                                                                                                                                                                                                                                                                                                                                                                                                                                                                                                                                                                                                                                                                                                                                                                                                                                                                                                                                                                                                                                                                                                                                                                                                                                                                                                                                                                                                                                                                                                                                                                                                                                                                                                                                                                                                                                                                                                                                                                                                                                                                                                                                                                                                                               1\n",
       "Actualmente tengo un préstamo personal con One Main. Cuando abrí el préstamo, fue Springs Leaf. Tomé prestado {$ 5000.00} y nunca me perdí un pago en más de un año. La oficina principal de One me envió una oferta para pedir prestado {$ 4000.00}. Llamé para hacer una solicitud. Mi relación de endeudamiento de ingresos me permitió hacer el préstamo. Necesitaba hacer en el show {$ 700.00}. más en mis ingresos. Llamé de nuevo para preguntar si puedo aplicar con un cosignatario. Me dijeron que necesitaban vivir en la misma casa. Así que llamé a otra sucursal de OneMain y les dije lo que quería volver a solicitar con un cosignatario y le pregunté si el cosignatario necesitaba vivir en la misma casa. Me dijeron que no era necesariamente. La oficina de préstamos me mintió. Traté de abrir mi préstamo. Tengo cuenta allí ahora. Esta oficina se niega mi préstamo basado en una mentira. Debido a que no es necesario que el cosignatario viva en la misma casa coordinando a la segunda sucursal de OneMain a la que llamé.                                                                                                                                                                                                                                                                                                                                                                                                                                                                                                                                                                                                                                                                                                                                                                                                                                                                                                                                                                                                                                                                                                                                                                                                                                                                                                                                                                                                                                                                                                                                                                                                                                                                                                                                                                                                                                                                                                                                                                                                                                                                                                                                                                                                                                                                                                                                                                                                                                                                                                                                                                                                                                                                                                                                                                                                                                                  1\n",
       "Se llamó a la agencia de cobranza (Americollect) y se hicieron arreglos de pago. 50% ahora (regresó el XX / XX / XXXX en la primera llamada), 50% el próximo pago. La agencia de cobro acordó enviar la factura del saldo. El pago XX / XX / XXXX realizado por teléfono no se acreditó hasta el XX / XX / XXXX - 12 días para acreditarlo. No se ha enviado ni recibido ninguna factura de saldo (acordaron en una llamada grabada por ellos, que nunca enviaron la factura de saldo acordada). Ayer presentaron \"cobro / derogatorio\" en mis informes de crédito. Me enteré hoy cuando los llamé para pagar el saldo. ¡INJUSTO! El saldo ahora está totalmente pagado, la deuda está satisfecha.                                                                                                                                                                                                                                                                                                                                                                                                                                                                                                                                                                                                                                                                                                                                                                                                                                                                                                                                                                                                                                                                                                                                                                                                                                                                                                                                                                                                                                                                                                                                                                                                                                                                                                                                                                                                                                                                                                                                                                                                                                                                                                                                                                                                                                                                                                                                                                                                                                                                                                                                                                                                                                                                                                                                                                                                                                                                                                                                                                                                                                                                                                                                                                                                         1\n",
       "XX / XX / 2015, Midland Credit Management was informed that it was represented by a lawyer and that they had not responded to a request to submit documents, including account statements, account numbers, payment history, proof that the account was mine. At that moment all communication ceased. However, during the last two months, you have violated my rights by starting to call our number XXXX and leave automated messages or hang up and call again several times. On XX / XX / 2015, they sent me a letter, in violation of the consumer protection laws, making reference to an account number, account XXXX, knowing that I had a lawyer. They still did not provide any documentation or proof that this account belonged to me. I have kept copies of your correspondence. Midland was sued by you for exactly this type of violation. Now they are trying this same tactic with me, in violation of my rights. I ask that you stop this collection activity immediately or I will file a complaint against them and any attorney who communicates with me against my rights, at the attorney general's office and will take appropriate legal action for this violation. Thank you.                                                                                                                                                                                                                                                                                                                                                                                                                                                                                                                                                                                                                                                                                                                                                                                                                                                                                                                                                                                                                                                                                                                                                                                                                                                                                                                                                                                                                                                                                                                                                                                                                                                                                                                                                                                                                                                                                                                                                                                                                                                                                                                                                                                                                                                                                                                                                                                                                                                                                                                                                                                                                                                                                                   1\n",
       "The customer service refuses to help me. I have also sent several certified letters and the consultations were not investigated.                                                                                                                                                                                                                                                                                                                                                                                                                                                                                                                                                                                                                                                                                                                                                                                                                                                                                                                                                                                                                                                                                                                                                                                                                                                                                                                                                                                                                                                                                                                                                                                                                                                                                                                                                                                                                                                                                                                                                                                                                                                                                                                                                                                                                                                                                                                                                                                                                                                                                                                                                                                                                                                                                                                                                                                                                                                                                                                                                                                                                                                                                                                                                                                                                                                                                                                                                                                                                                                                                                                                                                                                                                                                                                                                                                           1\n",
       "I received a letter from a debt collector who claimed to be collecting the debt on a credit card that they assume I have, however I do not have that credit card.                                                                                                                                                                                                                                                                                                                                                                                                                                                                                                                                                                                                                                                                                                                                                                                                                                                                                                                                                                                                                                                                                                                                                                                                                                                                                                                                                                                                                                                                                                                                                                                                                                                                                                                                                                                                                                                                                                                                                                                                                                                                                                                                                                                                                                                                                                                                                                                                                                                                                                                                                                                                                                                                                                                                                                                                                                                                                                                                                                                                                                                                                                                                                                                                                                                                                                                                                                                                                                                                                                                                                                                                                                                                                                                                          1\n",
       "We have requested Citi Bank Mortgage at least 3 times to refinance our loan and withdraw money. Citibank asked us to close other accounts that we made, send it by fax document after document and then reject our request, but we would not give an explanation. They always send us a letter referring to one of the credit agencies.\\nOur mortgage has been with Citi for more than 10 years, but they can never give us the respect of an explanation or the reason for the denial. They would constantly call or send an email with their multiple demands for many forms and documents, but when it is time to listen to the results and the reason, it is always a voicemail. For me that's very disrespectful, I think this is discrimination and we have to address it.                                                                                                                                                                                                                                                                                                                                                                                                                                                                                                                                                                                                                                                                                                                                                                                                                                                                                                                                                                                                                                                                                                                                                                                                                                                                                                                                                                                                                                                                                                                                                                                                                                                                                                                                                                                                                                                                                                                                                                                                                                                                                                                                                                                                                                                                                                                                                                                                                                                                                                                                                                                                                                                                                                                                                                                                                                                                                                                                                                                                                                                                                                                           1\n",
       "Late payments are still reporting on all XXXX credit agencies. These should be reporting as late that my accounts were in postponement. I have contacted FedLoan several times, and also with the credit agencies, this needs to be updated since it is reporting very negative on my credit.                                                                                                                                                                                                                                                                                                                                                                                                                                                                                                                                                                                                                                                                                                                                                                                                                                                                                                                                                                                                                                                                                                                                                                                                                                                                                                                                                                                                                                                                                                                                                                                                                                                                                                                                                                                                                                                                                                                                                                                                                                                                                                                                                                                                                                                                                                                                                                                                                                                                                                                                                                                                                                                                                                                                                                                                                                                                                                                                                                                                                                                                                                                                                                                                                                                                                                                                                                                                                                                                                                                                                                                                              1\n",
       "We have a second mortgage with Wells Fargo. Because the home equity lines are lower than the 8.99% we pay now, a caller from Wells Fargo suggested that we apply for a home equity line and settle the second mortgage. We made and asked for an additional {$ 11000.00} to do a job in our house. I got the strongest loan from Kentucky, which was honored 6 weeks ago. I received a call a moment ago and was told that Wells Fargo treats the Hardest Hit loans as if they were foreclosures and that is the reason why they rejected us. This is simply not correct. We obtained the most affected loan to avoid foreclosure and now we find that it is treated as a foreclosure even though it saved Wells Fargo XXXX dollars. If they had executed us in Wells Fargo, we would have lost the entire balance of their loan since they were holders of a second lien.                                                                                                                                                                                                                                                                                                                                                                                                                                                                                                                                                                                                                                                                                                                                                                                                                                                                                                                                                                                                                                                                                                                                                                                                                                                                                                                                                                                                                                                                                                                                                                                                                                                                                                                                                                                                                                                                                                                                                                                                                                                                                                                                                                                                                                                                                                                                                                                                                                                                                                                                                                                                                                                                                                                                                                                                                                                                                                                                                                                                                                 1\n",
       "He disputado esta información XXXX veces.\\n1.Hospital Bill (no el mío) 2.XXXX (les envié la carta que recibí del acreedor para eliminar la información) 3.XXXX (les envié la carta que recibí del acreedor para eliminar la información) Recibo una notificación diciendo que han verificado la información después de un par de días y se niegan a eliminar esta información de mi informe.                                                                                                                                                                                                                                                                                                                                                                                                                                                                                                                                                                                                                                                                                                                                                                                                                                                                                                                                                                                                                                                                                                                                                                                                                                                                                                                                                                                                                                                                                                                                                                                                                                                                                                                                                                                                                                                                                                                                                                                                                                                                                                                                                                                                                                                                                                                                                                                                                                                                                                                                                                                                                                                                                                                                                                                                                                                                                                                                                                                                                                                                                                                                                                                                                                                                                                                                                                                                                                                                                                               1\n",
       "My mortgage loan from Wells Fargo \"Home Equity Loan\" was changed to another loan called \"Smart Fit Equity Line\" that we filed for bankruptcy 2 years ago. The home was not included in chapter XXXX of bankruptcy. Wells Fargo has blocked my account, so I can not make a payment. They say that due to bankruptcy. I tried to make a payment in cash XXXX and XXXX of this month of XXXX 2015. They also increased my payment that I was going to pay, I have paid this amount XXXX times before without any problem, I have been doing it Difficulties but to achieve it.                                                                                                                                                                                                                                                                                                                                                                                                                                                                                                                                                                                                                                                                                                                                                                                                                                                                                                                                                                                                                                                                                                                                                                                                                                                                                                                                                                                                                                                                                                                                                                                                                                                                                                                                                                                                                                                                                                                                                                                                                                                                                                                                                                                                                                                                                                                                                                                                                                                                                                                                                                                                                                                                                                                                                                                                                                                                                                                                                                                                                                                                                                                                                                                                                                                                                                                               1\n",
       "Good afternoon CFPB: REQUEST TO LOCATE MY INVESTOR Case # XXXX I spoke with XXXX XXXX XXXX XXXX. The previous case number is related but it is not the reason why I am speaking today.\\nI've been trying to locate my investor for 2 years. My administrator BofA had repeatedly stated that they do not have access to that information. With the new ruling, we, as owners, have the right to know who owns our homes. Subsequent to this ruling, BofA sent me a letter indicating that the investor is Banco XXXX.\\n\\nI contacted XXXX and received your response that it is not the investors and that they are not the physical owners of the loan or my property. The letter goes on to say that BofA is the only direct contact regarding my application.\\n\\nSo a dead end. I spoke with my contact person in the BofA defense department today, his records show XXXX as an investor, and he expressed his opinion that when banks absorb other banks that access the information, they are buried and BofA may be the administrator and the investor\\n\\nThis seems deliberate and calculated to continue without having access to who owns my loan. I have a business plan that I have prepared to demonstrate the viability of paying my monthly mortgage obligation. Send your proposal to BYN by registered mail, with signature required. here there was no return of my business plan or the signature card, only the response email indicating that they are not investors.\\n\\nMY SALES DATE IS XXXX XXXX, XXXX. I will fax the documentation to which I have referred.\\n\\nI am happy to call your attention to this issue and I ask you to analyze this matter. I have very little time left and I hope that this sale date will be eliminated as the CFPB reviews my documents.                                                                                                                                                                                                                                                                                                                                                                                                                                                                                                                                                                                                                                                                                                                                                                                                                                                                                                                                                                                                                                                                                                                                                                                                                                                                                                                                                                                                                                                                                                                                                                                                                                                                                                                                                                                                                                                                                                                                                                                                                                                                                                           1\n",
       "I have not received the results of the written investigation of any dispute with Equifax. The credit bureau has denied me access to credit monitoring. I can not access any of the online results of the investigations that have been completed. I have been denied credit in the last 90 days, therefore, I need an updated credit report to determine why this happened. XXXX rejected my credit card application based on the Equifax report and I need to know why.                                                                                                                                                                                                                                                                                                                                                                                                                                                                                                                                                                                                                                                                                                                                                                                                                                                                                                                                                                                                                                                                                                                                                                                                                                                                                                                                                                                                                                                                                                                                                                                                                                                                                                                                                                                                                                                                                                                                                                                                                                                                                                                                                                                                                                                                                                                                                                                                                                                                                                                                                                                                                                                                                                                                                                                                                                                                                                                                                                                                                                                                                                                                                                                                                                                                                                                                                                                                                                   1\n",
       "I recently reviewed my credit report and discovered that this company has reported that I owe them a debt. As far as I know, I have never signed an agreement with this company stating that they have provided me with goods and that I agreed to pay                                                                                                                                                                                                                                                                                                                                                                                                                                                                                                                                                                                                                                                                                                                                                                                                                                                                                                                                                                                                                                                                                                                                                                                                                                                                                                                                                                                                                                                                                                                                                                                                                                                                                                                                                                                                                                                                                                                                                                                                                                                                                                                                                                                                                                                                                                                                                                                                                                                                                                                                                                                                                                                                                                                                                                                                                                                                                                                                                                                                                                                                                                                                                                                                                                                                                                                                                                                                                                                                                                                                                                                                                                                     1\n",
       "I was recently discussing with a representative of TCF and it was revealed that I paid more than {$ 1500.00} in fines since XXXX XXXX of 2015. I could not get any money back. This is excessive and the way they post transactions is predatory, forcing some items to overdraw and then collecting minor transactions that happen later. I would like to recover most (if not all) of my money.                                                                                                                                                                                                                                                                                                                                                                                                                                                                                                                                                                                                                                                                                                                                                                                                                                                                                                                                                                                                                                                                                                                                                                                                                                                                                                                                                                                                                                                                                                                                                                                                                                                                                                                                                                                                                                                                                                                                                                                                                                                                                                                                                                                                                                                                                                                                                                                                                                                                                                                                                                                                                                                                                                                                                                                                                                                                                                                                                                                                                                                                                                                                                                                                                                                                                                                                                                                                                                                                                                          1\n",
       "Experian Inc. is acting as a creditor, which is illegal. The credit reporting agency restricts the investigation, indicating that they have already investigated the matter and will not do so again, which is not allowed, unless it is determined to be groundless, but each investigation must be judged on its own merit . With respect to Experian, there are XXXX entries in my credit report that are reported incorrectly, and a mountain of queries that are not mine. The inaccuracy of the Experian credit reports, anyone who knows any variation of his name, his real address and a social security number invented can access his credit report, which has happened, XXXX times in mine. In addition, when you are asked to verify the accuracy of any account, except Expert, it indicates that you verified it. In the last XXXX months, Experian has reported a XXXX account, with account number XXXX, which indicates the status, while the actual credit report in the information has not been updated in the XXXX months. The creditors' reporting agency is acting as a creditor for the purpose of collecting payments.                                                                                                                                                                                                                                                                                                                                                                                                                                                                                                                                                                                                                                                                                                                                                                                                                                                                                                                                                                                                                                                                                                                                                                                                                                                                                                                                                                                                                                                                                                                                                                                                                                                                                                                                                                                                                                                                                                                                                                                                                                                                                                                                                                                                                                                                                                                                                                                                                                                                                                                                                                                                                                                                                                                                                           1\n",
       "My complaint is against American Express: this credit card company refuses to send account statements, so I have no way to verify what I am charging, in addition to not sending monthly statements. , payment history etc.\\nAlso, because Amex does not send account statements, I do not have an email address for payments by mail.\\nBecause American Express did not send account statements, I lose a timely payment.                                                                                                                                                                                                                                                                                                                                                                                                                                                                                                                                                                                                                                                                                                                                                                                                                                                                                                                                                                                                                                                                                                                                                                                                                                                                                                                                                                                                                                                                                                                                                                                                                                                                                                                                                                                                                                                                                                                                                                                                                                                                                                                                                                                                                                                                                                                                                                                                                                                                                                                                                                                                                                                                                                                                                                                                                                                                                                                                                                                                                                                                                                                                                                                                                                                                                                                                                                                                                                                                                 1\n",
       "XXXX XXXX retained, then XXXX XXXX XXXX to help protect your home from a foreclosure on XXXX, XXXX. During the following years, XXXX XXXX XXXX worked with him and his lender, PHH Mortgage, to avoid the foreclosure sale of his house and try to negotiate a more practical mortgage agreement for XXXX XXXXA that ends XXXX XXXX, XXXX. presented an exercise package for consideration to the representatives of PHH Mortgage. Soon after, the single point of contact assigned by the client, from that point on, no one took the time to call or notify about the request for documentation. After numerous attempts to get to PHH Mortgage, I was asked to speak with the manager of Single Point of Contact, XXXX XXXX, who then had XXXX XXXX XXXX contact the tour company and advise them. The documents were being requested by email through XXXX XXXX XXXX, and we complied each time. This round trip continued for some time as now, the XXXX XXXX XXXX XXXX XXXX and XXXX XXXX provided each piece of the requested documentation, while the subscribers and their representatives dragged their feet, asking for documentation that was previously updated and more Other documentation that They had already confirmed receipt with the initial package.\\nWhile PHH Mortgage programmed XXXX XXXX to obtain updated documentation, they also moved forward with the foreclosure process, placing a sale date on the client's property. Through cooperation and severe negotiation, XXXX XXXX XXXX XXXX XXXX was able to postpone the sale date that was to occur XX / XX / XXXX. As of today, there is a next scheduled sale date for XXXX XXXX, XXXX. At that time, we were dealing with XXXX XXXX, Escalation Specialist, until now, she will not answer our calls.\\nMeanwhile, also, the client has provided updated bank statements and payment receipts to PHH Mortgage, but refuses to notify us about the loan update because PHH marked the file as litigation. We were quick on numerous occasions to contact your lawyer, XXXX XXXX, XXXX and each time we were notified by your lawyer that you do not handle modifications, requests for documents or revision updates. We have confirmed in writing that the documentation was provided to PHH Mortgage and we confirmed that the client's file was still under review, that all documentation had been received and that someone would contact our office to update it. I found myself calling PHH Mortgage XXXX per week every week with the same shift!\\nAfter having demonstrated this to the Manager, the Specialists and the agent, they all backed down and rejected any responsibility for providing misleading information about the PHH mortgage review process, even though this is the essence of their work according to the guidelines of the Making Home Affordable program.\\nAs previously mentioned to all the agents who barely touched the file, the client's intention is to keep their home and return payments in good faith.\\nSince receiving the customer training application, PHH Mortgage has not performed the due diligence required by the client's file, and has caused undue stress to a client who has experienced enormous hardship, lives on a fixed income and is doing everything possible. to protect your home ... During all this time, all assigned participants could not communicate clearly about the evaluation and evaluation process. I cut myself off abruptly or they told me that there is a sale date in which the documents should have been reviewed.\\nNow ask PHH Mortgage to stop the sale date, carefully review the XXXX XXXX file and review it to see the exercise options that include HAMP, internal modifications and tolerance. PHH Mortgage is also requested to censor all parties for not performing adequately as a representative of the borrower.     1\n",
       "La plainte concerne XXXX XXXX et Navient et comporte XXXX parties distinctes. Problèmes liés au serveur: 1. Les préposés avaient discuté de mes problèmes de prêt / avaient une connotation négative sur mon prêt aux membres de la famille afin de m'embarrasser.\\n2. Menace d'être poursuivi en justice et de percevoir mon salaire et des privilèges sur ma propriété3. Je me suis fait reprocher la situation dans laquelle je me trouvais et j'ai obtenu des prêts très conflictuels en prêteur: 1. Des changements importants ont été apportés à mon emprunt sans m'informer pleinement des conséquences, car j'ai été victime d'intimidation pour accepter les nouveaux calendriers de paiement, par peur de représailles légales.\\n2.J'ai déposé un litige de dette officiel et ils contactent toujours le cosignataire pour lui dire que cela ne leur est pas applicableDernly et c'est le kicker - J'étais sur un plan de remboursement avec eux, leur a fourni mes coordonnées bancaires et bancaires et ils ont juste cessé de prendre des paiements. Selon eux, les paiements ne seraient pas effectués, mais il y avait de l'argent dans le compte. chaque fois que la date d'échéance a roulé autour. Le volontairement essayé de défaut de ce prêt                                                                                                                                                                                                                                                                                                                                                                                                                                                                                                                                                                                                                                                                                                                                                                                                                                                                                                                                                                                                                                                                                                                                                                                                                                                                                                                                                                                                                                                                                                                                                                                                                                                                                                                                                                                                                                                                                                                                                                                                                                                                                                                                                                                                                                                                                                                                                                                                                                                                                                                                                                                                                                         1\n",
       "I got the information from my XXXX that showed that experian will not provide the information in my credit rating report.                                                                                                                                                                                                                                                                                                                                                                                                                                                                                                                                                                                                                                                                                                                                                                                                                                                                                                                                                                                                                                                                                                                                                                                                                                                                                                                                                                                                                                                                                                                                                                                                                                                                                                                                                                                                                                                                                                                                                                                                                                                                                                                                                                                                                                                                                                                                                                                                                                                                                                                                                                                                                                                                                                                                                                                                                                                                                                                                                                                                                                                                                                                                                                                                                                                                                                                                                                                                                                                                                                                                                                                                                                                                                                                                                                                  1\n",
       "They arranged the payment plan with American Express to pay the balance, but then they canceled the card and put it in collection due to a lack of communication between its agents.                                                                                                                                                                                                                                                                                                                                                                                                                                                                                                                                                                                                                                                                                                                                                                                                                                                                                                                                                                                                                                                                                                                                                                                                                                                                                                                                                                                                                                                                                                                                                                                                                                                                                                                                                                                                                                                                                                                                                                                                                                                                                                                                                                                                                                                                                                                                                                                                                                                                                                                                                                                                                                                                                                                                                                                                                                                                                                                                                                                                                                                                                                                                                                                                                                                                                                                                                                                                                                                                                                                                                                                                                                                                                                                       1\n",
       "La banque n'a pas honoré le nouveau code de promotion de compte XXXX. La banque me doit {220,00 $}.                                                                                                                                                                                                                                                                                                                                                                                                                                                                                                                                                                                                                                                                                                                                                                                                                                                                                                                                                                                                                                                                                                                                                                                                                                                                                                                                                                                                                                                                                                                                                                                                                                                                                                                                                                                                                                                                                                                                                                                                                                                                                                                                                                                                                                                                                                                                                                                                                                                                                                                                                                                                                                                                                                                                                                                                                                                                                                                                                                                                                                                                                                                                                                                                                                                                                                                                                                                                                                                                                                                                                                                                                                                                                                                                                                                                        1\n",
       "XXXX XXXX Bank tries to execute the foreclosure. XXXX XXXX XXXX XXXX XXXX Bank Processor declared that Bank of America was the holder of the promissory note / mortgage deed. XXXX Bank lender of goods until the FDIC took over XXXX XXXX Bank in 2009 and XXXX was sold XXXX Bank to XXXX XXXX XXXX XXXX Bank XXXX Conference held with XXXX Bank reported that the mortgage accounts were sold to Bank of America. The conference with the Bank of America revealed that the mortgage loan was not with the Bank of America. XXXX XXXX The Bank informed the Bank of America that the mortgage account was with Banco de América in a note. Another memo of the declared mortgage loan was with the XXXX Department of Bank of America. None of the Bank of America executives knew about a XXXX Department in Bank of America. President of Bank of America XXXX XXXX XXXX, Ceo executives informed that they had no knowledge of the XXXX Department. XXXX XXXX Bank or Bank of America or XXXX Department. Approximately, the staff of XXXX Bank of America, including executives, has reported that Bank of America is not a mortgage lender. Several Bank of America executives reported that they did not know anything about the XXXX DEPARTMENT OF BANCO DE AMÉRICA. XXXX XXXX BANK REPORTED IN MEMO THAT I DO NOT HAVE A CONTACT NUMBER UP TO XXXX AND ALSO BANK OF AMERICA REPORTED THAT IT DOES NOT HAVE A CONTACT NUMBER XXXX ... NOW QUESTIONS: I REQUEST AN original PROMISE COPY. or Escrow writing REQUEST COPY of all mortgage assignments. I REQUEST COPY of endorsements. I REQUEST A COPY OF Trust Deed. I REQUEST A COPY of the sale of property to Bank of America. I REQUEST COPY of property sale to XXXX I AM APPLYING FOR COPY OF ADMINISTRATOR NOTICE Letter of XXXX XXXX Bank XXXX XXXX WORK FOR LSBO OR BANK OF AMERICAIS XXXX A CONVERTED OPERATION. NOT EXECUTIVES RECOGNIZING XXXXIS XXXX THE PROVIDER OF THIS MORTGAGE LOAN                                                                                                                                                                                                                                                                                                                                                                                                                                                                                                                                                                                                                                                                                                                                                                                                                                                                                                                                                                                                                                                                                                                                                                                                                                                                                                                                                                                                                                                                                                                                                                                                                                                                                                                                                                                                                                                                                                                                            1\n",
       "Recibí una alerta de consulta de crédito del servicio de monitoreo de crédito de Experian que me brindaron. La siguiente consulta de crédito que figura en mi informe de crédito de Experian es fraudulenta y no está autorizada: XXXX, XXXX XXXX XXXX, XXXX, OH XXXX                                                                                                                                                                                                                                                                                                                                                                                                                                                                                                                                                                                                                                                                                                                                                                                                                                                                                                                                                                                                                                                                                                                                                                                                                                                                                                                                                                                                                                                                                                                                                                                                                                                                                                                                                                                                                                                                                                                                                                                                                                                                                                                                                                                                                                                                                                                                                                                                                                                                                                                                                                                                                                                                                                                                                                                                                                                                                                                                                                                                                                                                                                                                                                                                                                                                                                                                                                                                                                                                                                                                                                                                                                      1\n",
       "Name: Consumer-complaint-summary, Length: 43022, dtype: int64"
      ]
     },
     "execution_count": 93,
     "metadata": {},
     "output_type": "execute_result"
    }
   ],
   "source": [
    "train_data[\"Consumer-complaint-summary\"].value_counts()"
   ]
  },
  {
   "cell_type": "code",
   "execution_count": 94,
   "metadata": {},
   "outputs": [],
   "source": [
    "# from collections import defaultdict\n",
    "# d = defaultdict(LabelEncoder)\n",
    "# Label encoding across multiple columns in scikit-learn\n",
    "# Encoding the variable\n",
    "# fit = df.apply(lambda x: d[x.name].fit_transform(x))\n",
    "\n",
    "# # Inverse the encoded\n",
    "# fit.apply(lambda x: d[x.name].inverse_transform(x))\n",
    "\n",
    "# # Using the dictionary to label future data\n",
    "# df.apply(lambda x: d[x.name].transform(x))"
   ]
  },
  {
   "cell_type": "code",
   "execution_count": 95,
   "metadata": {},
   "outputs": [
    {
     "data": {
      "text/plain": [
       "Index(['Complaint-ID', 'Date-received', 'Transaction-Type', 'Complaint-reason',\n",
       "       'Company-response', 'Date-sent-to-company', 'Complaint-Status',\n",
       "       'Consumer-disputes', 'Consumer-complaint-summary',\n",
       "       'date_sent_to_recieved'],\n",
       "      dtype='object')"
      ]
     },
     "execution_count": 95,
     "metadata": {},
     "output_type": "execute_result"
    }
   ],
   "source": [
    "train_data.columns\n"
   ]
  },
  {
   "cell_type": "code",
   "execution_count": 96,
   "metadata": {},
   "outputs": [],
   "source": [
    "complaint_reason_train = train_data[\"Complaint-reason\"].unique()"
   ]
  },
  {
   "cell_type": "code",
   "execution_count": 97,
   "metadata": {},
   "outputs": [],
   "source": [
    "complaint_reason_test = test_data[\"Complaint-reason\"].unique()"
   ]
  },
  {
   "cell_type": "code",
   "execution_count": 98,
   "metadata": {},
   "outputs": [],
   "source": [
    "reslist = []\n",
    "for res in complaint_reason_test:\n",
    "    if res in complaint_reason_train:\n",
    "        continue\n",
    "    else:\n",
    "        reslist.append(res)"
   ]
  },
  {
   "cell_type": "code",
   "execution_count": 99,
   "metadata": {},
   "outputs": [
    {
     "data": {
      "text/plain": [
       "['Problem with cash advance', \"Can't stop withdrawals from your bank account\"]"
      ]
     },
     "execution_count": 99,
     "metadata": {},
     "output_type": "execute_result"
    }
   ],
   "source": [
    "reslist"
   ]
  },
  {
   "cell_type": "code",
   "execution_count": 100,
   "metadata": {},
   "outputs": [],
   "source": [
    "# test_data[\"Complaint-reason\"].value_counts()"
   ]
  },
  {
   "cell_type": "code",
   "execution_count": 101,
   "metadata": {},
   "outputs": [],
   "source": [
    "from sklearn.preprocessing import LabelEncoder\n",
    "from collections import defaultdict\n",
    "d = defaultdict(LabelEncoder)\n",
    "\n",
    "train_data[[\"Transaction-Type\", \"Company-response\",\"Consumer-disputes\", \"Complaint-Status\"]] = train_data[[\"Transaction-Type\", \"Company-response\", \"Consumer-disputes\", \"Complaint-Status\"]].apply(lambda x: d[x.name].fit_transform(x))\n"
   ]
  },
  {
   "cell_type": "code",
   "execution_count": 102,
   "metadata": {},
   "outputs": [
    {
     "data": {
      "text/html": [
       "<div>\n",
       "<style scoped>\n",
       "    .dataframe tbody tr th:only-of-type {\n",
       "        vertical-align: middle;\n",
       "    }\n",
       "\n",
       "    .dataframe tbody tr th {\n",
       "        vertical-align: top;\n",
       "    }\n",
       "\n",
       "    .dataframe thead th {\n",
       "        text-align: right;\n",
       "    }\n",
       "</style>\n",
       "<table border=\"1\" class=\"dataframe\">\n",
       "  <thead>\n",
       "    <tr style=\"text-align: right;\">\n",
       "      <th></th>\n",
       "      <th>Complaint-ID</th>\n",
       "      <th>Date-received</th>\n",
       "      <th>Transaction-Type</th>\n",
       "      <th>Complaint-reason</th>\n",
       "      <th>Company-response</th>\n",
       "      <th>Date-sent-to-company</th>\n",
       "      <th>Complaint-Status</th>\n",
       "      <th>Consumer-disputes</th>\n",
       "      <th>Consumer-complaint-summary</th>\n",
       "      <th>date_sent_to_recieved</th>\n",
       "    </tr>\n",
       "  </thead>\n",
       "  <tbody>\n",
       "    <tr>\n",
       "      <th>0</th>\n",
       "      <td>Tr-1</td>\n",
       "      <td>111115</td>\n",
       "      <td>10</td>\n",
       "      <td>Loan servicing, payments, escrow account</td>\n",
       "      <td>10</td>\n",
       "      <td>111115</td>\n",
       "      <td>1</td>\n",
       "      <td>1</td>\n",
       "      <td>Seterus, Inc a déposé un faux rapport auprès d...</td>\n",
       "      <td>0</td>\n",
       "    </tr>\n",
       "    <tr>\n",
       "      <th>1</th>\n",
       "      <td>Tr-2</td>\n",
       "      <td>70715</td>\n",
       "      <td>5</td>\n",
       "      <td>Incorrect information on credit report</td>\n",
       "      <td>7</td>\n",
       "      <td>70715</td>\n",
       "      <td>3</td>\n",
       "      <td>0</td>\n",
       "      <td>XX / XX / XXXX La requête en faillite n ° XXXX...</td>\n",
       "      <td>0</td>\n",
       "    </tr>\n",
       "    <tr>\n",
       "      <th>2</th>\n",
       "      <td>Tr-3</td>\n",
       "      <td>70515</td>\n",
       "      <td>0</td>\n",
       "      <td>Using a debit or ATM card</td>\n",
       "      <td>10</td>\n",
       "      <td>70515</td>\n",
       "      <td>1</td>\n",
       "      <td>0</td>\n",
       "      <td>El XXXX / XXXX / 15, estaba preparando el vuel...</td>\n",
       "      <td>0</td>\n",
       "    </tr>\n",
       "    <tr>\n",
       "      <th>3</th>\n",
       "      <td>Tr-4</td>\n",
       "      <td>121116</td>\n",
       "      <td>7</td>\n",
       "      <td>Cont'd attempts collect debt not owed</td>\n",
       "      <td>4</td>\n",
       "      <td>121116</td>\n",
       "      <td>1</td>\n",
       "      <td>0</td>\n",
       "      <td>The loan was paid in XXXX XXXX. In XXXX, 4 yea...</td>\n",
       "      <td>0</td>\n",
       "    </tr>\n",
       "    <tr>\n",
       "      <th>4</th>\n",
       "      <td>Tr-5</td>\n",
       "      <td>290916</td>\n",
       "      <td>3</td>\n",
       "      <td>Payoff process</td>\n",
       "      <td>9</td>\n",
       "      <td>290916</td>\n",
       "      <td>1</td>\n",
       "      <td>0</td>\n",
       "      <td>J'ai obtenu un compte de crédit de soins pour ...</td>\n",
       "      <td>0</td>\n",
       "    </tr>\n",
       "  </tbody>\n",
       "</table>\n",
       "</div>"
      ],
      "text/plain": [
       "  Complaint-ID  Date-received  Transaction-Type  \\\n",
       "0         Tr-1         111115                10   \n",
       "1         Tr-2          70715                 5   \n",
       "2         Tr-3          70515                 0   \n",
       "3         Tr-4         121116                 7   \n",
       "4         Tr-5         290916                 3   \n",
       "\n",
       "                           Complaint-reason  Company-response  \\\n",
       "0  Loan servicing, payments, escrow account                10   \n",
       "1    Incorrect information on credit report                 7   \n",
       "2                 Using a debit or ATM card                10   \n",
       "3     Cont'd attempts collect debt not owed                 4   \n",
       "4                            Payoff process                 9   \n",
       "\n",
       "   Date-sent-to-company  Complaint-Status  Consumer-disputes  \\\n",
       "0                111115                 1                  1   \n",
       "1                 70715                 3                  0   \n",
       "2                 70515                 1                  0   \n",
       "3                121116                 1                  0   \n",
       "4                290916                 1                  0   \n",
       "\n",
       "                          Consumer-complaint-summary  date_sent_to_recieved  \n",
       "0  Seterus, Inc a déposé un faux rapport auprès d...                      0  \n",
       "1  XX / XX / XXXX La requête en faillite n ° XXXX...                      0  \n",
       "2  El XXXX / XXXX / 15, estaba preparando el vuel...                      0  \n",
       "3  The loan was paid in XXXX XXXX. In XXXX, 4 yea...                      0  \n",
       "4  J'ai obtenu un compte de crédit de soins pour ...                      0  "
      ]
     },
     "execution_count": 102,
     "metadata": {},
     "output_type": "execute_result"
    }
   ],
   "source": [
    "train_data.head()"
   ]
  },
  {
   "cell_type": "code",
   "execution_count": 103,
   "metadata": {},
   "outputs": [],
   "source": [
    "# train_data[[\"Transaction-Type\", \"Complaint-reason\", \"Consumer-disputes\"]] = train_data[[\"Transaction-Type\", \"Complaint-reason\", \"Consumer-disputes\"]].apply(lambda x: d[x.name].inverse_transform(x))\n"
   ]
  },
  {
   "cell_type": "code",
   "execution_count": 104,
   "metadata": {},
   "outputs": [],
   "source": [
    "from sklearn.feature_extraction.text import TfidfVectorizer\n",
    "\n",
    "vectorizer = TfidfVectorizer(max_features= 600)"
   ]
  },
  {
   "cell_type": "code",
   "execution_count": 105,
   "metadata": {},
   "outputs": [
    {
     "data": {
      "text/plain": [
       "TfidfVectorizer(analyzer='word', binary=False, decode_error='strict',\n",
       "        dtype=<class 'numpy.int64'>, encoding='utf-8', input='content',\n",
       "        lowercase=True, max_df=1.0, max_features=600, min_df=1,\n",
       "        ngram_range=(1, 1), norm='l2', preprocessor=None, smooth_idf=True,\n",
       "        stop_words=None, strip_accents=None, sublinear_tf=False,\n",
       "        token_pattern='(?u)\\\\b\\\\w\\\\w+\\\\b', tokenizer=None, use_idf=True,\n",
       "        vocabulary=None)"
      ]
     },
     "execution_count": 105,
     "metadata": {},
     "output_type": "execute_result"
    }
   ],
   "source": [
    "vectorizer"
   ]
  },
  {
   "cell_type": "code",
   "execution_count": 106,
   "metadata": {},
   "outputs": [],
   "source": [
    "feature_tfidfvect = train_data[\"Consumer-complaint-summary\"] + train_data[\"Complaint-reason\"]"
   ]
  },
  {
   "cell_type": "code",
   "execution_count": 107,
   "metadata": {},
   "outputs": [
    {
     "data": {
      "text/plain": [
       "43266"
      ]
     },
     "execution_count": 107,
     "metadata": {},
     "output_type": "execute_result"
    }
   ],
   "source": [
    "len(feature_tfidfvect)"
   ]
  },
  {
   "cell_type": "code",
   "execution_count": 108,
   "metadata": {},
   "outputs": [
    {
     "data": {
      "text/plain": [
       "TfidfVectorizer(analyzer='word', binary=False, decode_error='strict',\n",
       "        dtype=<class 'numpy.int64'>, encoding='utf-8', input='content',\n",
       "        lowercase=True, max_df=1.0, max_features=600, min_df=1,\n",
       "        ngram_range=(1, 1), norm='l2', preprocessor=None, smooth_idf=True,\n",
       "        stop_words=None, strip_accents=None, sublinear_tf=False,\n",
       "        token_pattern='(?u)\\\\b\\\\w\\\\w+\\\\b', tokenizer=None, use_idf=True,\n",
       "        vocabulary=None)"
      ]
     },
     "execution_count": 108,
     "metadata": {},
     "output_type": "execute_result"
    }
   ],
   "source": [
    "vectorizer"
   ]
  },
  {
   "cell_type": "code",
   "execution_count": 109,
   "metadata": {},
   "outputs": [],
   "source": [
    "complaint_tf = vectorizer.fit_transform(feature_tfidfvect)"
   ]
  },
  {
   "cell_type": "code",
   "execution_count": 110,
   "metadata": {},
   "outputs": [
    {
     "data": {
      "text/plain": [
       "600"
      ]
     },
     "execution_count": 110,
     "metadata": {},
     "output_type": "execute_result"
    }
   ],
   "source": [
    "len(vectorizer.get_feature_names())"
   ]
  },
  {
   "cell_type": "code",
   "execution_count": 111,
   "metadata": {},
   "outputs": [
    {
     "name": "stdout",
     "output_type": "stream",
     "text": [
      "  (0, 549)\t0.07556491424217457\n",
      "  (0, 142)\t0.13242102656575883\n",
      "  (0, 590)\t0.7309422629152141\n",
      "  (0, 185)\t0.07317862280966397\n",
      "  (0, 296)\t0.17647540571281317\n",
      "  (0, 174)\t0.11241690850862225\n",
      "  (0, 301)\t0.09211433732911632\n",
      "  (0, 202)\t0.0940267621828862\n",
      "  (0, 419)\t0.10220416448840004\n",
      "  (0, 589)\t0.49418893291450455\n",
      "  (0, 289)\t0.07238204621570661\n",
      "  (0, 598)\t0.10883349116867239\n",
      "  (0, 335)\t0.1428933424629738\n",
      "  (0, 0)\t0.07074459493043102\n",
      "  (0, 317)\t0.12244688373609172\n",
      "  (0, 206)\t0.1383415039520158\n",
      "  (0, 210)\t0.1364743235999968\n",
      "  (0, 269)\t0.09570039348153286\n",
      "  (0, 271)\t0.07097171624185739\n",
      "  (0, 375)\t0.056044377405848333\n",
      "  (0, 129)\t0.05971492142910262\n",
      "  (0, 447)\t0.07197823674423073\n"
     ]
    }
   ],
   "source": [
    "print(complaint_tf[1, :])"
   ]
  },
  {
   "cell_type": "code",
   "execution_count": 112,
   "metadata": {},
   "outputs": [],
   "source": [
    "consumer_complaint = pd.DataFrame(complaint_tf.toarray())"
   ]
  },
  {
   "cell_type": "code",
   "execution_count": 113,
   "metadata": {},
   "outputs": [
    {
     "data": {
      "text/html": [
       "<div>\n",
       "<style scoped>\n",
       "    .dataframe tbody tr th:only-of-type {\n",
       "        vertical-align: middle;\n",
       "    }\n",
       "\n",
       "    .dataframe tbody tr th {\n",
       "        vertical-align: top;\n",
       "    }\n",
       "\n",
       "    .dataframe thead th {\n",
       "        text-align: right;\n",
       "    }\n",
       "</style>\n",
       "<table border=\"1\" class=\"dataframe\">\n",
       "  <thead>\n",
       "    <tr style=\"text-align: right;\">\n",
       "      <th></th>\n",
       "      <th>0</th>\n",
       "      <th>1</th>\n",
       "      <th>2</th>\n",
       "      <th>3</th>\n",
       "      <th>4</th>\n",
       "      <th>5</th>\n",
       "      <th>6</th>\n",
       "      <th>7</th>\n",
       "      <th>8</th>\n",
       "      <th>9</th>\n",
       "      <th>...</th>\n",
       "      <th>590</th>\n",
       "      <th>591</th>\n",
       "      <th>592</th>\n",
       "      <th>593</th>\n",
       "      <th>594</th>\n",
       "      <th>595</th>\n",
       "      <th>596</th>\n",
       "      <th>597</th>\n",
       "      <th>598</th>\n",
       "      <th>599</th>\n",
       "    </tr>\n",
       "  </thead>\n",
       "  <tbody>\n",
       "    <tr>\n",
       "      <th>0</th>\n",
       "      <td>0.000000</td>\n",
       "      <td>0.0</td>\n",
       "      <td>0.00000</td>\n",
       "      <td>0.0</td>\n",
       "      <td>0.256837</td>\n",
       "      <td>0.0</td>\n",
       "      <td>0.0</td>\n",
       "      <td>0.0</td>\n",
       "      <td>0.0</td>\n",
       "      <td>0.0</td>\n",
       "      <td>...</td>\n",
       "      <td>0.202877</td>\n",
       "      <td>0.000000</td>\n",
       "      <td>0.0</td>\n",
       "      <td>0.000000</td>\n",
       "      <td>0.0</td>\n",
       "      <td>0.000000</td>\n",
       "      <td>0.0</td>\n",
       "      <td>0.128155</td>\n",
       "      <td>0.000000</td>\n",
       "      <td>0.0</td>\n",
       "    </tr>\n",
       "    <tr>\n",
       "      <th>1</th>\n",
       "      <td>0.070745</td>\n",
       "      <td>0.0</td>\n",
       "      <td>0.00000</td>\n",
       "      <td>0.0</td>\n",
       "      <td>0.000000</td>\n",
       "      <td>0.0</td>\n",
       "      <td>0.0</td>\n",
       "      <td>0.0</td>\n",
       "      <td>0.0</td>\n",
       "      <td>0.0</td>\n",
       "      <td>...</td>\n",
       "      <td>0.730942</td>\n",
       "      <td>0.000000</td>\n",
       "      <td>0.0</td>\n",
       "      <td>0.000000</td>\n",
       "      <td>0.0</td>\n",
       "      <td>0.000000</td>\n",
       "      <td>0.0</td>\n",
       "      <td>0.000000</td>\n",
       "      <td>0.108833</td>\n",
       "      <td>0.0</td>\n",
       "    </tr>\n",
       "    <tr>\n",
       "      <th>2</th>\n",
       "      <td>0.034313</td>\n",
       "      <td>0.0</td>\n",
       "      <td>0.15179</td>\n",
       "      <td>0.0</td>\n",
       "      <td>0.019685</td>\n",
       "      <td>0.0</td>\n",
       "      <td>0.0</td>\n",
       "      <td>0.0</td>\n",
       "      <td>0.0</td>\n",
       "      <td>0.0</td>\n",
       "      <td>...</td>\n",
       "      <td>0.267446</td>\n",
       "      <td>0.062921</td>\n",
       "      <td>0.0</td>\n",
       "      <td>0.000000</td>\n",
       "      <td>0.0</td>\n",
       "      <td>0.000000</td>\n",
       "      <td>0.0</td>\n",
       "      <td>0.000000</td>\n",
       "      <td>0.000000</td>\n",
       "      <td>0.0</td>\n",
       "    </tr>\n",
       "    <tr>\n",
       "      <th>3</th>\n",
       "      <td>0.025033</td>\n",
       "      <td>0.0</td>\n",
       "      <td>0.00000</td>\n",
       "      <td>0.0</td>\n",
       "      <td>0.000000</td>\n",
       "      <td>0.0</td>\n",
       "      <td>0.0</td>\n",
       "      <td>0.0</td>\n",
       "      <td>0.0</td>\n",
       "      <td>0.0</td>\n",
       "      <td>...</td>\n",
       "      <td>0.313090</td>\n",
       "      <td>0.000000</td>\n",
       "      <td>0.0</td>\n",
       "      <td>0.183203</td>\n",
       "      <td>0.0</td>\n",
       "      <td>0.061537</td>\n",
       "      <td>0.0</td>\n",
       "      <td>0.000000</td>\n",
       "      <td>0.000000</td>\n",
       "      <td>0.0</td>\n",
       "    </tr>\n",
       "    <tr>\n",
       "      <th>4</th>\n",
       "      <td>0.000000</td>\n",
       "      <td>0.0</td>\n",
       "      <td>0.00000</td>\n",
       "      <td>0.0</td>\n",
       "      <td>0.000000</td>\n",
       "      <td>0.0</td>\n",
       "      <td>0.0</td>\n",
       "      <td>0.0</td>\n",
       "      <td>0.0</td>\n",
       "      <td>0.0</td>\n",
       "      <td>...</td>\n",
       "      <td>0.137217</td>\n",
       "      <td>0.000000</td>\n",
       "      <td>0.0</td>\n",
       "      <td>0.000000</td>\n",
       "      <td>0.0</td>\n",
       "      <td>0.000000</td>\n",
       "      <td>0.0</td>\n",
       "      <td>0.000000</td>\n",
       "      <td>0.194093</td>\n",
       "      <td>0.0</td>\n",
       "    </tr>\n",
       "  </tbody>\n",
       "</table>\n",
       "<p>5 rows × 600 columns</p>\n",
       "</div>"
      ],
      "text/plain": [
       "        0    1        2    3         4    5    6    7    8    9   ...   \\\n",
       "0  0.000000  0.0  0.00000  0.0  0.256837  0.0  0.0  0.0  0.0  0.0 ...    \n",
       "1  0.070745  0.0  0.00000  0.0  0.000000  0.0  0.0  0.0  0.0  0.0 ...    \n",
       "2  0.034313  0.0  0.15179  0.0  0.019685  0.0  0.0  0.0  0.0  0.0 ...    \n",
       "3  0.025033  0.0  0.00000  0.0  0.000000  0.0  0.0  0.0  0.0  0.0 ...    \n",
       "4  0.000000  0.0  0.00000  0.0  0.000000  0.0  0.0  0.0  0.0  0.0 ...    \n",
       "\n",
       "        590       591  592       593  594       595  596       597       598  \\\n",
       "0  0.202877  0.000000  0.0  0.000000  0.0  0.000000  0.0  0.128155  0.000000   \n",
       "1  0.730942  0.000000  0.0  0.000000  0.0  0.000000  0.0  0.000000  0.108833   \n",
       "2  0.267446  0.062921  0.0  0.000000  0.0  0.000000  0.0  0.000000  0.000000   \n",
       "3  0.313090  0.000000  0.0  0.183203  0.0  0.061537  0.0  0.000000  0.000000   \n",
       "4  0.137217  0.000000  0.0  0.000000  0.0  0.000000  0.0  0.000000  0.194093   \n",
       "\n",
       "   599  \n",
       "0  0.0  \n",
       "1  0.0  \n",
       "2  0.0  \n",
       "3  0.0  \n",
       "4  0.0  \n",
       "\n",
       "[5 rows x 600 columns]"
      ]
     },
     "execution_count": 113,
     "metadata": {},
     "output_type": "execute_result"
    }
   ],
   "source": [
    "consumer_complaint.head()"
   ]
  },
  {
   "cell_type": "code",
   "execution_count": 114,
   "metadata": {},
   "outputs": [
    {
     "data": {
      "text/plain": [
       "(43266, 600)"
      ]
     },
     "execution_count": 114,
     "metadata": {},
     "output_type": "execute_result"
    }
   ],
   "source": [
    "consumer_complaint.shape"
   ]
  },
  {
   "cell_type": "code",
   "execution_count": 115,
   "metadata": {},
   "outputs": [
    {
     "data": {
      "text/plain": [
       "(43266, 10)"
      ]
     },
     "execution_count": 115,
     "metadata": {},
     "output_type": "execute_result"
    }
   ],
   "source": [
    "train_data.shape"
   ]
  },
  {
   "cell_type": "code",
   "execution_count": 116,
   "metadata": {},
   "outputs": [],
   "source": [
    "train_data_new = pd.concat([train_data, consumer_complaint], axis = 1)"
   ]
  },
  {
   "cell_type": "code",
   "execution_count": 117,
   "metadata": {},
   "outputs": [
    {
     "data": {
      "text/plain": [
       "(43266, 610)"
      ]
     },
     "execution_count": 117,
     "metadata": {},
     "output_type": "execute_result"
    }
   ],
   "source": [
    "train_data_new.shape"
   ]
  },
  {
   "cell_type": "code",
   "execution_count": 118,
   "metadata": {},
   "outputs": [],
   "source": [
    "train_data_new = train_data_new.set_index(\"Complaint-ID\")"
   ]
  },
  {
   "cell_type": "code",
   "execution_count": 119,
   "metadata": {},
   "outputs": [],
   "source": [
    "# train_data_new = train_data_new.drop([\"Consumer-complaint-summary\",\"Complaint-reason\"], axis = 1)"
   ]
  },
  {
   "cell_type": "code",
   "execution_count": 120,
   "metadata": {},
   "outputs": [],
   "source": [
    "# Consumer-complaints_test = vectorizer.transform(test_data.Consumer-complaint-summary)"
   ]
  },
  {
   "cell_type": "code",
   "execution_count": 121,
   "metadata": {},
   "outputs": [],
   "source": [
    "features = train_data_new.drop([\"Complaint-Status\", \"Consumer-complaint-summary\",\"Complaint-reason\"], axis = 1)"
   ]
  },
  {
   "cell_type": "code",
   "execution_count": 122,
   "metadata": {},
   "outputs": [],
   "source": [
    "label = train_data_new[\"Complaint-Status\"]"
   ]
  },
  {
   "cell_type": "code",
   "execution_count": null,
   "metadata": {},
   "outputs": [],
   "source": []
  },
  {
   "cell_type": "code",
   "execution_count": 123,
   "metadata": {},
   "outputs": [],
   "source": [
    "from sklearn.model_selection import train_test_split\n",
    "\n",
    "X_train, X_test, y_train, y_test = train_test_split(features, label, test_size = 0.3, random_state = 0)"
   ]
  },
  {
   "cell_type": "code",
   "execution_count": 124,
   "metadata": {},
   "outputs": [
    {
     "name": "stdout",
     "output_type": "stream",
     "text": [
      "0.7017525872288617\n"
     ]
    },
    {
     "name": "stderr",
     "output_type": "stream",
     "text": [
      "D:\\Anaconda3\\lib\\site-packages\\sklearn\\metrics\\classification.py:1135: UndefinedMetricWarning: F-score is ill-defined and being set to 0.0 in labels with no predicted samples.\n",
      "  'precision', 'predicted', average, warn_for)\n"
     ]
    }
   ],
   "source": [
    "from sklearn.linear_model import LogisticRegression\n",
    "from sklearn import metrics\n",
    "\n",
    "clf = LogisticRegression(random_state = 0).fit(X_train, y_train)\n",
    "\n",
    "print(metrics.f1_score(y_test, clf.predict(X_test), average = 'weighted') )\n"
   ]
  },
  {
   "cell_type": "code",
   "execution_count": 125,
   "metadata": {},
   "outputs": [],
   "source": [
    "test_data[\"date_sent_to_recieved\"] = (pd.to_datetime(test_data[\"Date-sent-to-company\"]) - \n",
    "                                       pd.to_datetime(test_data[\"Date-received\"])).dt.days"
   ]
  },
  {
   "cell_type": "code",
   "execution_count": 126,
   "metadata": {},
   "outputs": [],
   "source": [
    "test_data[\"Date-received\"] = pd.to_datetime(test_data[\"Date-received\"]).dt.strftime(\"%d%m%y\").astype(int)\n",
    "test_data[\"Date-sent-to-company\"] = pd.to_datetime(test_data[\"Date-sent-to-company\"]).dt.strftime(\"%d%m%y\").astype(int)"
   ]
  },
  {
   "cell_type": "code",
   "execution_count": 127,
   "metadata": {},
   "outputs": [],
   "source": [
    "test_data[\"Company-response\"].fillna(\"no response\", inplace = True)"
   ]
  },
  {
   "cell_type": "code",
   "execution_count": 128,
   "metadata": {},
   "outputs": [],
   "source": [
    "test_data[\"Consumer-disputes\"].fillna(\"No\", inplace = True)"
   ]
  },
  {
   "cell_type": "code",
   "execution_count": 129,
   "metadata": {},
   "outputs": [],
   "source": [
    "test_data[[\"Transaction-Type\", \"Company-response\",\"Consumer-disputes\"]] = test_data[[\"Transaction-Type\", \"Company-response\", \"Consumer-disputes\"]].apply(lambda x: d[x.name].transform(x))\n"
   ]
  },
  {
   "cell_type": "code",
   "execution_count": 130,
   "metadata": {},
   "outputs": [],
   "source": [
    "feature_tfidfvect_test = test_data[\"Consumer-complaint-summary\"] + test_data[\"Complaint-reason\"]"
   ]
  },
  {
   "cell_type": "code",
   "execution_count": null,
   "metadata": {},
   "outputs": [],
   "source": []
  },
  {
   "cell_type": "code",
   "execution_count": null,
   "metadata": {
    "collapsed": true
   },
   "outputs": [],
   "source": [
    "complaint_tf_test = vectorizer.transform(test_data[\"Consumer-complaint-summary\"])"
   ]
  },
  {
   "cell_type": "code",
   "execution_count": null,
   "metadata": {
    "collapsed": true
   },
   "outputs": [],
   "source": [
    "consumer_complaint = pd.DataFrame(complaint_tf.toarray())"
   ]
  },
  {
   "cell_type": "code",
   "execution_count": null,
   "metadata": {
    "collapsed": true
   },
   "outputs": [],
   "source": [
    "train_data_new = pd.concat([train_data, consumer_complaint], axis = 1)"
   ]
  },
  {
   "cell_type": "code",
   "execution_count": null,
   "metadata": {
    "collapsed": true
   },
   "outputs": [],
   "source": [
    "train_data_new = train_data_new.set_index(\"Complaint-ID\")"
   ]
  },
  {
   "cell_type": "code",
   "execution_count": null,
   "metadata": {
    "collapsed": true
   },
   "outputs": [],
   "source": [
    "train_data_new = train_data_new.drop(\"Consumer-complaint-summary\", axis = 1)"
   ]
  },
  {
   "cell_type": "code",
   "execution_count": null,
   "metadata": {
    "collapsed": true
   },
   "outputs": [],
   "source": [
    "features = train_data_new.drop([\"Complaint-Status\"], axis = 1)"
   ]
  },
  {
   "cell_type": "code",
   "execution_count": null,
   "metadata": {
    "collapsed": true
   },
   "outputs": [],
   "source": []
  },
  {
   "cell_type": "code",
   "execution_count": null,
   "metadata": {
    "collapsed": true
   },
   "outputs": [],
   "source": []
  },
  {
   "cell_type": "code",
   "execution_count": null,
   "metadata": {
    "collapsed": true
   },
   "outputs": [],
   "source": []
  },
  {
   "cell_type": "code",
   "execution_count": null,
   "metadata": {
    "collapsed": true
   },
   "outputs": [],
   "source": [
    "X_train_final = vectorizer.fit_transform(X_train.comment_text)\n",
    "X_test_final = vectorizer.transform(X_test.comment_text)"
   ]
  },
  {
   "cell_type": "code",
   "execution_count": null,
   "metadata": {
    "collapsed": true
   },
   "outputs": [],
   "source": [
    "features_test = vectorizer.transform(data_test.comment_text)"
   ]
  },
  {
   "cell_type": "code",
   "execution_count": null,
   "metadata": {
    "collapsed": true
   },
   "outputs": [],
   "source": [
    "vectorizer.get_feature_names()[500:1000]"
   ]
  },
  {
   "cell_type": "code",
   "execution_count": null,
   "metadata": {
    "collapsed": true
   },
   "outputs": [],
   "source": []
  }
 ],
 "metadata": {
  "kernelspec": {
   "display_name": "Python 3",
   "language": "python",
   "name": "python3"
  },
  "language_info": {
   "codemirror_mode": {
    "name": "ipython",
    "version": 3
   },
   "file_extension": ".py",
   "mimetype": "text/x-python",
   "name": "python",
   "nbconvert_exporter": "python",
   "pygments_lexer": "ipython3",
   "version": "3.6.5"
  }
 },
 "nbformat": 4,
 "nbformat_minor": 2
}
