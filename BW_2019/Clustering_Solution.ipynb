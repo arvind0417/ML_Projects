{
 "cells": [
  {
   "cell_type": "code",
   "execution_count": 117,
   "metadata": {
    "collapsed": true
   },
   "outputs": [],
   "source": [
    "import pandas as pd\n",
    "import numpy as np"
   ]
  },
  {
   "cell_type": "code",
   "execution_count": 118,
   "metadata": {
    "collapsed": true
   },
   "outputs": [],
   "source": [
    "data = pd.read_csv(\"./dataset/news.csv\")"
   ]
  },
  {
   "cell_type": "code",
   "execution_count": 119,
   "metadata": {},
   "outputs": [
    {
     "data": {
      "text/html": [
       "<div>\n",
       "<style scoped>\n",
       "    .dataframe tbody tr th:only-of-type {\n",
       "        vertical-align: middle;\n",
       "    }\n",
       "\n",
       "    .dataframe tbody tr th {\n",
       "        vertical-align: top;\n",
       "    }\n",
       "\n",
       "    .dataframe thead th {\n",
       "        text-align: right;\n",
       "    }\n",
       "</style>\n",
       "<table border=\"1\" class=\"dataframe\">\n",
       "  <thead>\n",
       "    <tr style=\"text-align: right;\">\n",
       "      <th></th>\n",
       "      <th>id</th>\n",
       "      <th>headline</th>\n",
       "      <th>text</th>\n",
       "    </tr>\n",
       "  </thead>\n",
       "  <tbody>\n",
       "    <tr>\n",
       "      <th>0</th>\n",
       "      <td>uid-1</td>\n",
       "      <td>Market Advances 5.12 More</td>\n",
       "      <td>NEW YORK (AP) - A prime rate reduction by New ...</td>\n",
       "    </tr>\n",
       "    <tr>\n",
       "      <th>1</th>\n",
       "      <td>uid-2</td>\n",
       "      <td>District Boosts Request For Anti-Terrorism Aid...</td>\n",
       "      <td>Mayor Anthony A. Williams petitioned the White...</td>\n",
       "    </tr>\n",
       "    <tr>\n",
       "      <th>2</th>\n",
       "      <td>uid-3</td>\n",
       "      <td>Election? Here's How You Do It, Mate.</td>\n",
       "      <td>From our downunder perspective here in Austral...</td>\n",
       "    </tr>\n",
       "    <tr>\n",
       "      <th>3</th>\n",
       "      <td>uid-4</td>\n",
       "      <td>The Biggest Boom Ever</td>\n",
       "      <td>We are about to rewrite history. Unless a rece...</td>\n",
       "    </tr>\n",
       "    <tr>\n",
       "      <th>4</th>\n",
       "      <td>uid-5</td>\n",
       "      <td>Economic Aide Sees Uptrend</td>\n",
       "      <td>Sedate and scholarly Dr. Arthur Burns, the ex-...</td>\n",
       "    </tr>\n",
       "  </tbody>\n",
       "</table>\n",
       "</div>"
      ],
      "text/plain": [
       "      id                                           headline  \\\n",
       "0  uid-1                          Market Advances 5.12 More   \n",
       "1  uid-2  District Boosts Request For Anti-Terrorism Aid...   \n",
       "2  uid-3              Election? Here's How You Do It, Mate.   \n",
       "3  uid-4                              The Biggest Boom Ever   \n",
       "4  uid-5                         Economic Aide Sees Uptrend   \n",
       "\n",
       "                                                text  \n",
       "0  NEW YORK (AP) - A prime rate reduction by New ...  \n",
       "1  Mayor Anthony A. Williams petitioned the White...  \n",
       "2  From our downunder perspective here in Austral...  \n",
       "3  We are about to rewrite history. Unless a rece...  \n",
       "4  Sedate and scholarly Dr. Arthur Burns, the ex-...  "
      ]
     },
     "execution_count": 119,
     "metadata": {},
     "output_type": "execute_result"
    }
   ],
   "source": [
    "data.head()"
   ]
  },
  {
   "cell_type": "code",
   "execution_count": 120,
   "metadata": {},
   "outputs": [
    {
     "data": {
      "text/plain": [
       "(3000, 3)"
      ]
     },
     "execution_count": 120,
     "metadata": {},
     "output_type": "execute_result"
    }
   ],
   "source": [
    "data.shape"
   ]
  },
  {
   "cell_type": "code",
   "execution_count": 121,
   "metadata": {
    "collapsed": true
   },
   "outputs": [],
   "source": [
    "# data.headline.value_counts()"
   ]
  },
  {
   "cell_type": "code",
   "execution_count": 122,
   "metadata": {},
   "outputs": [
    {
     "data": {
      "text/plain": [
       "id          0\n",
       "headline    0\n",
       "text        0\n",
       "dtype: int64"
      ]
     },
     "execution_count": 122,
     "metadata": {},
     "output_type": "execute_result"
    }
   ],
   "source": [
    "data.isnull().sum()"
   ]
  },
  {
   "cell_type": "code",
   "execution_count": 123,
   "metadata": {
    "collapsed": true
   },
   "outputs": [],
   "source": [
    "from sklearn.preprocessing import LabelEncoder\n",
    "\n",
    "le = LabelEncoder()"
   ]
  },
  {
   "cell_type": "code",
   "execution_count": 124,
   "metadata": {},
   "outputs": [
    {
     "data": {
      "text/html": [
       "<div>\n",
       "<style scoped>\n",
       "    .dataframe tbody tr th:only-of-type {\n",
       "        vertical-align: middle;\n",
       "    }\n",
       "\n",
       "    .dataframe tbody tr th {\n",
       "        vertical-align: top;\n",
       "    }\n",
       "\n",
       "    .dataframe thead th {\n",
       "        text-align: right;\n",
       "    }\n",
       "</style>\n",
       "<table border=\"1\" class=\"dataframe\">\n",
       "  <thead>\n",
       "    <tr style=\"text-align: right;\">\n",
       "      <th></th>\n",
       "      <th>id</th>\n",
       "      <th>headline</th>\n",
       "      <th>text</th>\n",
       "    </tr>\n",
       "  </thead>\n",
       "  <tbody>\n",
       "    <tr>\n",
       "      <th>0</th>\n",
       "      <td>uid-1</td>\n",
       "      <td>1529</td>\n",
       "      <td>NEW YORK (AP) - A prime rate reduction by New ...</td>\n",
       "    </tr>\n",
       "    <tr>\n",
       "      <th>1</th>\n",
       "      <td>uid-2</td>\n",
       "      <td>678</td>\n",
       "      <td>Mayor Anthony A. Williams petitioned the White...</td>\n",
       "    </tr>\n",
       "    <tr>\n",
       "      <th>2</th>\n",
       "      <td>uid-3</td>\n",
       "      <td>849</td>\n",
       "      <td>From our downunder perspective here in Austral...</td>\n",
       "    </tr>\n",
       "    <tr>\n",
       "      <th>3</th>\n",
       "      <td>uid-4</td>\n",
       "      <td>2352</td>\n",
       "      <td>We are about to rewrite history. Unless a rece...</td>\n",
       "    </tr>\n",
       "    <tr>\n",
       "      <th>4</th>\n",
       "      <td>uid-5</td>\n",
       "      <td>809</td>\n",
       "      <td>Sedate and scholarly Dr. Arthur Burns, the ex-...</td>\n",
       "    </tr>\n",
       "  </tbody>\n",
       "</table>\n",
       "</div>"
      ],
      "text/plain": [
       "      id  headline                                               text\n",
       "0  uid-1      1529  NEW YORK (AP) - A prime rate reduction by New ...\n",
       "1  uid-2       678  Mayor Anthony A. Williams petitioned the White...\n",
       "2  uid-3       849  From our downunder perspective here in Austral...\n",
       "3  uid-4      2352  We are about to rewrite history. Unless a rece...\n",
       "4  uid-5       809  Sedate and scholarly Dr. Arthur Burns, the ex-..."
      ]
     },
     "execution_count": 124,
     "metadata": {},
     "output_type": "execute_result"
    }
   ],
   "source": [
    "data[\"headline\"] = le.fit_transform(data[\"headline\"])\n",
    "data.head()"
   ]
  },
  {
   "cell_type": "code",
   "execution_count": 125,
   "metadata": {},
   "outputs": [
    {
     "data": {
      "text/plain": [
       "2873"
      ]
     },
     "execution_count": 125,
     "metadata": {},
     "output_type": "execute_result"
    }
   ],
   "source": [
    "data.headline.nunique()"
   ]
  },
  {
   "cell_type": "code",
   "execution_count": 126,
   "metadata": {
    "collapsed": true
   },
   "outputs": [],
   "source": [
    "def get_max(text):\n",
    "    \n",
    "    list = []\n",
    "    for txt in text:\n",
    "        list.append(len(txt))\n",
    "    return(max(list))\n",
    "    "
   ]
  },
  {
   "cell_type": "code",
   "execution_count": 127,
   "metadata": {},
   "outputs": [
    {
     "name": "stdout",
     "output_type": "stream",
     "text": [
      "CPU times: user 0 ns, sys: 0 ns, total: 0 ns\n",
      "Wall time: 45.3 µs\n"
     ]
    }
   ],
   "source": [
    "from sklearn.feature_extraction.text import TfidfVectorizer\n",
    "\n",
    "%time vectorizer = TfidfVectorizer(max_features= 5000, ngram_range= (1,2), stop_words = 'english', min_df= 1, max_df = 1.0,\\\n",
    "                                   norm = 'l2', sublinear_tf = True)\n"
   ]
  },
  {
   "cell_type": "code",
   "execution_count": null,
   "metadata": {
    "collapsed": true
   },
   "outputs": [],
   "source": []
  },
  {
   "cell_type": "code",
   "execution_count": 128,
   "metadata": {
    "collapsed": true
   },
   "outputs": [],
   "source": [
    "import re\n",
    "def filter_letters(raw_data):\n",
    "    #data = re.sub(\"[^a-zA-Z]\", ' ', raw_data)\n",
    "    data = re.sub(\"[0-9]\", ' ', raw_data)\n",
    "    return data"
   ]
  },
  {
   "cell_type": "code",
   "execution_count": 129,
   "metadata": {
    "collapsed": true
   },
   "outputs": [],
   "source": [
    "features_text = data.text.apply(filter_letters)"
   ]
  },
  {
   "cell_type": "code",
   "execution_count": 130,
   "metadata": {
    "collapsed": true
   },
   "outputs": [],
   "source": [
    "# features_text"
   ]
  },
  {
   "cell_type": "code",
   "execution_count": 131,
   "metadata": {},
   "outputs": [
    {
     "data": {
      "text/plain": [
       "4988"
      ]
     },
     "execution_count": 131,
     "metadata": {},
     "output_type": "execute_result"
    }
   ],
   "source": [
    "get_max(features_text)"
   ]
  },
  {
   "cell_type": "code",
   "execution_count": 132,
   "metadata": {
    "collapsed": true
   },
   "outputs": [],
   "source": [
    "text_vec = vectorizer.fit_transform(features_text)"
   ]
  },
  {
   "cell_type": "code",
   "execution_count": 133,
   "metadata": {
    "collapsed": true
   },
   "outputs": [],
   "source": [
    "indices = np.argsort(vectorizer.idf_)[::-1]"
   ]
  },
  {
   "cell_type": "code",
   "execution_count": 134,
   "metadata": {},
   "outputs": [
    {
     "name": "stdout",
     "output_type": "stream",
     "text": [
      "['tel', 'merck', 'carbon', 'bcci', 'breast', 'fur', 'rupee', 'welch', 'surgical', 'golf', 'emissions', 'schwab', 'ici', 'irs', 'jarrett', 'wireless', 'magellan', 'annuity', 'rivlin', 'postal', 'enrollment', 'brimmer', 'exemption', 'buffett', 'outflows', 'stein', 'plug', 'god', 'cohen', 'patent', 'amazon', 'kaufman', 'infosys', 'variable', 'rico', 'cds', 'bus', 'puerto rico', 'puerto', 'cigarettes', 'pont', 'ls', 'patman', 'cd', 'yellen', 'beef', 'total return', 'downgrade', 'fiat', 'fidelity', 'nominal', 'wheat', 'seniors', 'tale', 'coffee', 'crew', 'raymond', 'nursing home', 'nursing', 'chile', 'israel', 'du pont', 'gao', 'warner', 'cbo', 'roosevelt', 'google', 'peterson', 'task force', 'award', 'cbs', 'interstate', 'anthony', 'girl', 'small stocks', 'snow', 'mr reagan', 'hybrid', 'respondents', 'abuse', 'barclays', 'student loans', 'schedules', 'breakfast', 'derivatives', 'smoking', 'year yield', 'achievement', 'repairs', 'oil imports', 'metro', 'steel industry', 'bond funds', 'harbor', 'manpower', 'pounds', 'south carolina', 'hospitals', 'compared billion', 'graduates', 'neill', 'districts', 'bankruptcy protection', 'clock', 'day trading', 'delegates', 'thanksgiving', 'universities', 'turner', 'entitlement', 'civil service', 'pay raise', 'australian', 'du', 'nasd', 'bed', 'viewers', 'video', 'rockefeller', 'channel', 'moscow', 'general assembly', 'br committee', 'month bills', 'dry', 'trade gap', 'shoes', 'audit', 'iran', 'boomers', 'dump', 'courses', 'fox', 'facebook', 'stock funds', 'franc', 'prince george', 'english', 'knowledge', 'coupon', 'corporate bonds', 'racing', 'capital goods', 'buying program', 'capita income', 'philosophy', 'surgery', 'maine', 'lock', 'kerry', 'rate mortgage', 'frame', 'sugar', 'charter', 'rental', 'br euro', 'municipal bond', 'transfer', 'billion assets', 'supermarket', 'morris', 'argentina', 'greece', 'informed', 'marginal', 'gray', 'canadian dollar', 'herbert', 'corporation', 'assumptions', 'small cap', 'contribution', 'nice', 'citicorp', 'new law', 'continental', 'evans', 'cisco', 'republican party', 'york fed', 'enron', 'hoffman', 'immigrant', 'income taxes', 'defaulted', 'procedures', 'baseball', 'rest world', 'deduction', 'native', 'coca', 'liberals', 'financial stocks', 'liabilities', 'priorities', 'painewebber', 'household income', 'ton', 'kodak', 'floating', 'tickets', 'foot', 'carrier', 'payroll taxes', 'annuities', 'plays', 'parliament', 'pc', 'ge', 'plastic', 'rushing', 'credit crunch', 'future inflation', 'iraqi', 'dupont', 'earth', 'weighted', 'royal', 'square', 'furniture', 'philip', 'friedman', 'ceos', 'mines', 'couples', 'draw', 'edwards', 'landing', 'caterpillar', 'frederick', 'pact', 'struggled', 'ease credit', 'productivity growth', 'productivity gains', 'bentsen', 'small business', 'stock split', 'government bond', 'engines', 'feet', 'barriers', 'barry', 'exercise', 'bulls', 'title', 'europeans', 'deny', 'peso', 'slow economic', 'earned million', 'regan', 'fiscal second', 'percent rate', 'stabilized', 'ballot', 'circle', 'ubs', 'evening', 'electrical', 'proposition', 'hikes', 'bush said', 'headline', 'quarter results', 'high yield', 'quarter compared', 'swiss francs', 'high inflation', 'capitalism', 'br annual', 'br brokers', 'paulson', 'disney', 'rents', 'summers', 'specter', 'remedy', 'br tax', 'rent', 'solutions', 'trading partners', 'gun', 'repeal', 'tariffs', 'cable', 'obama administration', 'obtain', 'carriers', 'branches', 'dream', 'guidance', 'brady', 'troy', 'geithner', 'thrifts', 'billion fiscal', 'federation', 'ft', 'troops', 'electricity', 'entrepreneurs', 'mexican', 'cola', 'insider', 'month ago', 'king', 'month earlier', 'infrastructure', 'information technology', 'moore', 'world trade', 'sales new', 'late wednesday', 'march stock', 'administration official', 'revenue growth', 'mall', 'adequate', 'motion', 'connected', 'color', 'movies', 'debtor', 'index futures', 'music', 'increased million', 'shops', 'commercial real', 'apple', 'members congress', 'requirement', 'japan br', 'mildly', 'weight', 'island', 'anderson', 'week year', 'rose cent', 'week high', 'rubin', 'medicine', 'ages', 'jurisdiction', 'curve', 'just percent', 'shearson', 'cyclical', 'damaged', 'meaningful', 'dangers', 'saddam', 'credit cards', 'mystery', 'writes', 'amendments', 'consumer credit', 'hussein', 'van', 'lower prices', 'lo', 'cliff', 'austerity', 'consumer sentiment', 'load', 'valley', 'average rate', 'australia', 'immigration', 'authorized', 'sites', 'local governments', 'selection', 'loss million', 'securities firms', 'average yield', 'defaults', 'responses', 'searching', 'veto', 'avenue', 'consolidated', 'corn', 'illinois', 'tax reform', 'aide', 'contributions', 'br key', 'foreign policy', 'securities dealers', 'credit conditions', 'br job', 'foreign currencies', 'existing homes', 'bundesbank', 'york euro', 'maturing', 'executive director', 'exchange trading', 'br increase', 'carter administration', 'permits', 'entry', 'abc', 'methods', 'shake', 'street firms', 'jeffrey', 'earnings br', 'lobbying', 'loans br', 'friend', 'widen', 'jimmy carter', 'mergers', 'rough', 'williams', 'builders', 'jose', 'br growth', 'economic committee', 'exchange markets', 'foods', 'techniques', 'br higher', 'plan br', 'safer', 'according people', 'tank', 'premiums', 'enjoy', 'president federal', 'fed cut', 'presidents', 'features', 'br statement', 'sun', 'acceptable', 'press conference', 'santa', 'accepted', 'connecticut', 'scandal', 'year ended', 'engineering', 'maintaining', 'father', 'sterling', 'year half', 'letters', 'business investment', 'quarter percentage', 'business cycle', 'successor', 'magnitude', 'adjust', 'confirm', 'rate second', 'function', 'flurry', 'br major', 'said expected', 'suburbs', 'affects', 'rate fell', 'state br', 'comptroller', 'security medicare', 'state university', 'concentrated', 'swift', 'economy said', 'brian', 'conduct', 'fiscal quarter', 'stations', 'cancer', 'late thursday', 'elderly', 'surpluses', 'york aug', 'manufacturing sector', 'fields', 'love', 'said plans', 'slipping', 'rose year', 'army', 'health insurance', 'travelers', 'colleges', 'developing countries', 'handed', 'voluntary', 'halted', 'trailed', 'hall', 'guys', 'changing hands', 'guy', 'arrived', 'outlays', 'appropriate', 'gulf war', 'remarkably', 'mortgage market', 'wage increases', 'dinner', 'overcome', 'morningstar', 'growth inflation', 'oversight', 'dealings', 'regulator', 'owning', 'packard', 'heavy trading', 'retire', 'treated', 'cold war', 'newspapers', 'requests', 'nikkei', 'underway', 'hurricane', 'circuit', 'unanimously', 'average br', 'automatically', 'automatic', 'illegal', 'auto makers', 'republic', 'nbc', 'deteriorating', 'audience', 'restrain', 'implement', 'trucks', 'coast', 'occasionally', 'nation output', 'decent', 'retailing', 'highest close', 'victim', 'assumption', 'influential', 'billion month', 'dropped sharply', 'bounced', 'time years', 'insurers', 'commitments', 'anxious', 'pay br', 'introduce', 'receiving', 'ministry', 'threatens', 'million units', 'ipo', 'br case', 'roots', 'receipts', 'people work', 'br close', 'perceived', 'spiral', 'analysts predict', 'tests', 'american express', 'dated', 'look like', 'doctors', 'divisions', 'approached', 'government report', 'war iraq', 'repeated', 'counting', 'church', 'delayed', 'christopher', 'distributed', 'buoyed', 'shares traded', 'soviet union', 'rate month', 'common stock', 'reported br', 'stocks gained', 'comparison', 'said friday', 'competitiveness', 'statistical', 'contest', 'cautioned', 'cut short', 'rose sharply', 'economy continues', 'public offerings', 'straight month', 'budget committee', 'demand br', 'rhetoric', 'budget director', 'secure', 'rose point', 'slowest', 'reserve br', 'revisions', 'cleveland', 'conclude', 'slower growth', 'census bureau', 'enterprises', 'enterprise', 'compared year', 'consolidation', 'dollars br', 'rates higher', 'developers', 'carrying', 'senate majority', 'collect', 'riskier', 'commerce secretary', 'dark', 'data released', 'sam', 'employes', 'sophisticated', 'davis', 'commissioner', 'congressional budget', 'confused', 'draft', 'retiring', 'senior economist', 'dec br', 'came million', 'economic downturn', 'checking', 'cents cents', 'corp br', 'russian', 'consecutive month', 'careful', 'connection', 'quarter growth', 'cheered', 'quarter net', 'end month', 'sovereign', 'sight', 'retain', 'energy costs', 'dole', 'rates lower', 'steve', 'economically', 'economy grow', 'freedom', 'home prices', 'hopeful', 'wish', 'opec', 'belt', 'op', 'hedge funds', 'trial', 'windows', 'window', 'high level', 'joint economic', 'october br', 'wilson', 'beach', 'truck', 'truman', 'battered', 'basis br', 'tuition', 'tumbling', 'joe', 'bar', 'holiday season', 'noticed', 'harry', 'handle', 'billion budget', 'married', 'ticker tape', 'ticket', 'good deal', 'timothy', 'government debt', 'government officials', 'market year', 'participation', 'gramm', 'grand', 'toronto', 'organizations', 'mary', 'matching', 'aftermath', 'owed', 'growth rates', 'agents', 'maturity', 'kenneth', 'outpaced', 'outlined', 'providers', 'job creation', 'people said', 'horizon', 'nasdaq index', 'inched', 'income rose', 'increase year', 'violence', 'associations', 'association realtors', 'increased percent', 'mr clinton', 'asset management', 'indexed', 'mount', 'mother', 'antitrust', 'inflation said', 'misleading', 'moral', 'approaching', 'apart', 'mitchell', 'mo', 'applied', 'insist', 'weaker dollar', 'importance', 'imminent', 'average year', 'north carolina', 'ban', 'balance sheets', 'jimmy', 'house banking', 'ambitious', 'unfair', 'housing starts', 'new tax', 'avoided', 'new homes', 'million yesterday', 'isn likely', 'week percent', 'angry', 'automotive', 'upswing', 'ignore', 'iowa', 'annual growth', 'value dollar', 'natural gas', 'generous', 'bounce', 'br clinton', 'fell cents', 'pretty good', 'favored', 'feared', 'pressing', 'lingering', 'limiting', 'likes', 'supporting', 'preparing', 'yen br', 'lifting', 'fans', 'finance committee', 'finance ministers', 'gains tax', 'lure', 'years according', 'survive', 'pool', 'swap', 'yearly', 'br national', 'listen', 'sufficient', 'leveraged', 'programs br', 'provider', 'yuan', 'broadest', 'proposing', 'york trading', 'proof', 'excellent', 'absence', 'brisk', 'exchanges counter', 'lloyd', 'famous', 'llc', 'products br', 'exporters', 'exxon', 'submitted', 'problem br', 'faded', 'principle', 'br way', 'fairfax county', 'switch', 'financed', 'br ms', 'br days', 'br home', 'br high', 'br greenspan', 'pieces', 'tackle', 'pessimistic', 'laying', 'fundamentals', 'mandate', 'fortune', 'percent rise', 'wright', 'percent nasdaq', 'landscape', 'br course', 'percent april', 'br consumers', 'br congress', 'taxpayer', 'contracting', 'appearing', 'br mortgage', 'point drop', 'ford motor', 'flood', 'flight', 'tax credit', 'fomc', 'year notes', 'maintenance', 'br instead', 'active br', 'market opened', 'lived', 'lost ground', 'luxury', 'sears', 'intelligence', 'major factor', 'late new', 'loss points', 'minus', 'laden', 'insured', 'louis', 'jobs report', 'missed', 'missile', 'market decline', 'market volatility', 'method', 'minneapolis', 'crash br', 'metropolitan area', 'costs br', 'middle class', 'mere', 'make sure', 'md', 'currency br', 'lee', 'million previous', 'scope', 'rolled', 'cut costs', 'junk', 'little bit', 'leads', 'roll', 'low income', 'counted', 'screen', 'crowd', 'cope', 'lending rate', 'kuwait', 'prudential', 'insurance companies', 'pared', 'fit', 'flexibility', 'policymaking', 'economists said', 'policies br', 'foreigners', 'rates near', 'plain', 'ecb', 'francs', 'freely', 'permission', 'performing', 'early br', 'percent previous', 'realtors', 'reasonable', 'dropped points', 'globalization', 'patients', 'drag', 'eisenhower', 'firm br', 'portfolio manager', 'exporting countries', 'european union', 'propose', 'exchange volume', 'purposes', 'exit', 'expense', 'experiencing', 'productive', 'explanation', 'privately', 'raise taxes', 'prime lending', 'familiar matter', 'prices higher', 'previous year', 'quit', 'federal workers', 'feed', 'radical', 'filings', 'dollar yen', 'greatly', 'institutions br', 'packages', 'reserve rate', 'hutton', 'delays', 'identified', 'immigrants', 'nearing', 'near future', 'rest year', 'restructure', 'incentive', 'decade ago', 'narrowly', 'indications', 'industrials rose', 'reversing', 'revival', 'revive', 'montgomery county', 'money markets', 'ride', 'insisted', 'new hampshire', 'reserve cut', 'demonstrated', 'develop', 'group said', 'group seven', 'discussing', 'directed', 'reliable', 'guarantee', 'remainder', 'remove', 'heating', 'heels', 'house senate', 'high unemployment', 'highlighted', 'department stores', 'number people', 'notably', 'department report', 'hospital', 'nomination', 'house budget', 'secret', 'abandoned', 'stearns']\n"
     ]
    }
   ],
   "source": [
    "features_text = vectorizer.get_feature_names()\n",
    "top_n = 1000\n",
    "top_features = [features_text[i] for i in indices[:top_n]]\n",
    "print(top_features)"
   ]
  },
  {
   "cell_type": "code",
   "execution_count": 135,
   "metadata": {},
   "outputs": [
    {
     "data": {
      "text/html": [
       "<div>\n",
       "<style scoped>\n",
       "    .dataframe tbody tr th:only-of-type {\n",
       "        vertical-align: middle;\n",
       "    }\n",
       "\n",
       "    .dataframe tbody tr th {\n",
       "        vertical-align: top;\n",
       "    }\n",
       "\n",
       "    .dataframe thead th {\n",
       "        text-align: right;\n",
       "    }\n",
       "</style>\n",
       "<table border=\"1\" class=\"dataframe\">\n",
       "  <thead>\n",
       "    <tr style=\"text-align: right;\">\n",
       "      <th></th>\n",
       "      <th>abandoned</th>\n",
       "      <th>abc</th>\n",
       "      <th>ability</th>\n",
       "      <th>able</th>\n",
       "      <th>abroad</th>\n",
       "      <th>absence</th>\n",
       "      <th>absolutely</th>\n",
       "      <th>abuse</th>\n",
       "      <th>academic</th>\n",
       "      <th>accelerate</th>\n",
       "      <th>...</th>\n",
       "      <th>york nov</th>\n",
       "      <th>york oct</th>\n",
       "      <th>york sept</th>\n",
       "      <th>york stock</th>\n",
       "      <th>york trading</th>\n",
       "      <th>young</th>\n",
       "      <th>younger</th>\n",
       "      <th>yuan</th>\n",
       "      <th>zero</th>\n",
       "      <th>zone</th>\n",
       "    </tr>\n",
       "  </thead>\n",
       "  <tbody>\n",
       "    <tr>\n",
       "      <th>0</th>\n",
       "      <td>0.0</td>\n",
       "      <td>0.0</td>\n",
       "      <td>0.0</td>\n",
       "      <td>0.0</td>\n",
       "      <td>0.0</td>\n",
       "      <td>0.0</td>\n",
       "      <td>0.0</td>\n",
       "      <td>0.0</td>\n",
       "      <td>0.0</td>\n",
       "      <td>0.0</td>\n",
       "      <td>...</td>\n",
       "      <td>0.0</td>\n",
       "      <td>0.0</td>\n",
       "      <td>0.0</td>\n",
       "      <td>0.0</td>\n",
       "      <td>0.0</td>\n",
       "      <td>0.0</td>\n",
       "      <td>0.0</td>\n",
       "      <td>0.0</td>\n",
       "      <td>0.0</td>\n",
       "      <td>0.0</td>\n",
       "    </tr>\n",
       "    <tr>\n",
       "      <th>1</th>\n",
       "      <td>0.0</td>\n",
       "      <td>0.0</td>\n",
       "      <td>0.0</td>\n",
       "      <td>0.0</td>\n",
       "      <td>0.0</td>\n",
       "      <td>0.0</td>\n",
       "      <td>0.0</td>\n",
       "      <td>0.0</td>\n",
       "      <td>0.0</td>\n",
       "      <td>0.0</td>\n",
       "      <td>...</td>\n",
       "      <td>0.0</td>\n",
       "      <td>0.0</td>\n",
       "      <td>0.0</td>\n",
       "      <td>0.0</td>\n",
       "      <td>0.0</td>\n",
       "      <td>0.0</td>\n",
       "      <td>0.0</td>\n",
       "      <td>0.0</td>\n",
       "      <td>0.0</td>\n",
       "      <td>0.0</td>\n",
       "    </tr>\n",
       "    <tr>\n",
       "      <th>2</th>\n",
       "      <td>0.0</td>\n",
       "      <td>0.0</td>\n",
       "      <td>0.0</td>\n",
       "      <td>0.0</td>\n",
       "      <td>0.0</td>\n",
       "      <td>0.0</td>\n",
       "      <td>0.0</td>\n",
       "      <td>0.0</td>\n",
       "      <td>0.0</td>\n",
       "      <td>0.0</td>\n",
       "      <td>...</td>\n",
       "      <td>0.0</td>\n",
       "      <td>0.0</td>\n",
       "      <td>0.0</td>\n",
       "      <td>0.0</td>\n",
       "      <td>0.0</td>\n",
       "      <td>0.0</td>\n",
       "      <td>0.0</td>\n",
       "      <td>0.0</td>\n",
       "      <td>0.0</td>\n",
       "      <td>0.0</td>\n",
       "    </tr>\n",
       "    <tr>\n",
       "      <th>3</th>\n",
       "      <td>0.0</td>\n",
       "      <td>0.0</td>\n",
       "      <td>0.0</td>\n",
       "      <td>0.0</td>\n",
       "      <td>0.0</td>\n",
       "      <td>0.0</td>\n",
       "      <td>0.0</td>\n",
       "      <td>0.0</td>\n",
       "      <td>0.0</td>\n",
       "      <td>0.0</td>\n",
       "      <td>...</td>\n",
       "      <td>0.0</td>\n",
       "      <td>0.0</td>\n",
       "      <td>0.0</td>\n",
       "      <td>0.0</td>\n",
       "      <td>0.0</td>\n",
       "      <td>0.0</td>\n",
       "      <td>0.0</td>\n",
       "      <td>0.0</td>\n",
       "      <td>0.0</td>\n",
       "      <td>0.0</td>\n",
       "    </tr>\n",
       "    <tr>\n",
       "      <th>4</th>\n",
       "      <td>0.0</td>\n",
       "      <td>0.0</td>\n",
       "      <td>0.0</td>\n",
       "      <td>0.0</td>\n",
       "      <td>0.0</td>\n",
       "      <td>0.0</td>\n",
       "      <td>0.0</td>\n",
       "      <td>0.0</td>\n",
       "      <td>0.0</td>\n",
       "      <td>0.0</td>\n",
       "      <td>...</td>\n",
       "      <td>0.0</td>\n",
       "      <td>0.0</td>\n",
       "      <td>0.0</td>\n",
       "      <td>0.0</td>\n",
       "      <td>0.0</td>\n",
       "      <td>0.0</td>\n",
       "      <td>0.0</td>\n",
       "      <td>0.0</td>\n",
       "      <td>0.0</td>\n",
       "      <td>0.0</td>\n",
       "    </tr>\n",
       "  </tbody>\n",
       "</table>\n",
       "<p>5 rows × 5000 columns</p>\n",
       "</div>"
      ],
      "text/plain": [
       "   abandoned  abc  ability  able  abroad  absence  absolutely  abuse  \\\n",
       "0        0.0  0.0      0.0   0.0     0.0      0.0         0.0    0.0   \n",
       "1        0.0  0.0      0.0   0.0     0.0      0.0         0.0    0.0   \n",
       "2        0.0  0.0      0.0   0.0     0.0      0.0         0.0    0.0   \n",
       "3        0.0  0.0      0.0   0.0     0.0      0.0         0.0    0.0   \n",
       "4        0.0  0.0      0.0   0.0     0.0      0.0         0.0    0.0   \n",
       "\n",
       "   academic  accelerate  ...   york nov  york oct  york sept  york stock  \\\n",
       "0       0.0         0.0  ...        0.0       0.0        0.0         0.0   \n",
       "1       0.0         0.0  ...        0.0       0.0        0.0         0.0   \n",
       "2       0.0         0.0  ...        0.0       0.0        0.0         0.0   \n",
       "3       0.0         0.0  ...        0.0       0.0        0.0         0.0   \n",
       "4       0.0         0.0  ...        0.0       0.0        0.0         0.0   \n",
       "\n",
       "   york trading  young  younger  yuan  zero  zone  \n",
       "0           0.0    0.0      0.0   0.0   0.0   0.0  \n",
       "1           0.0    0.0      0.0   0.0   0.0   0.0  \n",
       "2           0.0    0.0      0.0   0.0   0.0   0.0  \n",
       "3           0.0    0.0      0.0   0.0   0.0   0.0  \n",
       "4           0.0    0.0      0.0   0.0   0.0   0.0  \n",
       "\n",
       "[5 rows x 5000 columns]"
      ]
     },
     "execution_count": 135,
     "metadata": {},
     "output_type": "execute_result"
    }
   ],
   "source": [
    "text_dataframe = pd.DataFrame(text_vec.toarray(), columns=vectorizer.get_feature_names())\n",
    "text_dataframe.head()"
   ]
  },
  {
   "cell_type": "code",
   "execution_count": 145,
   "metadata": {
    "collapsed": true
   },
   "outputs": [],
   "source": [
    "text_dataframe1 = text_dataframe.loc[:,top_features]"
   ]
  },
  {
   "cell_type": "code",
   "execution_count": 146,
   "metadata": {
    "collapsed": true
   },
   "outputs": [],
   "source": [
    "features = pd.concat([data, text_dataframe1], axis = 1)"
   ]
  },
  {
   "cell_type": "code",
   "execution_count": 147,
   "metadata": {
    "collapsed": true
   },
   "outputs": [],
   "source": [
    "features = features.drop(\"text\", axis = 1)"
   ]
  },
  {
   "cell_type": "code",
   "execution_count": 148,
   "metadata": {},
   "outputs": [
    {
     "data": {
      "text/plain": [
       "(3000, 1002)"
      ]
     },
     "execution_count": 148,
     "metadata": {},
     "output_type": "execute_result"
    }
   ],
   "source": [
    "features.shape"
   ]
  },
  {
   "cell_type": "code",
   "execution_count": 149,
   "metadata": {
    "collapsed": true
   },
   "outputs": [],
   "source": [
    "features = features.set_index(\"id\")"
   ]
  },
  {
   "cell_type": "code",
   "execution_count": 150,
   "metadata": {},
   "outputs": [
    {
     "data": {
      "text/html": [
       "<div>\n",
       "<style scoped>\n",
       "    .dataframe tbody tr th:only-of-type {\n",
       "        vertical-align: middle;\n",
       "    }\n",
       "\n",
       "    .dataframe tbody tr th {\n",
       "        vertical-align: top;\n",
       "    }\n",
       "\n",
       "    .dataframe thead th {\n",
       "        text-align: right;\n",
       "    }\n",
       "</style>\n",
       "<table border=\"1\" class=\"dataframe\">\n",
       "  <thead>\n",
       "    <tr style=\"text-align: right;\">\n",
       "      <th></th>\n",
       "      <th>headline</th>\n",
       "      <th>tel</th>\n",
       "      <th>merck</th>\n",
       "      <th>carbon</th>\n",
       "      <th>bcci</th>\n",
       "      <th>breast</th>\n",
       "      <th>fur</th>\n",
       "      <th>rupee</th>\n",
       "      <th>welch</th>\n",
       "      <th>surgical</th>\n",
       "      <th>...</th>\n",
       "      <th>department stores</th>\n",
       "      <th>number people</th>\n",
       "      <th>notably</th>\n",
       "      <th>department report</th>\n",
       "      <th>hospital</th>\n",
       "      <th>nomination</th>\n",
       "      <th>house budget</th>\n",
       "      <th>secret</th>\n",
       "      <th>abandoned</th>\n",
       "      <th>stearns</th>\n",
       "    </tr>\n",
       "    <tr>\n",
       "      <th>id</th>\n",
       "      <th></th>\n",
       "      <th></th>\n",
       "      <th></th>\n",
       "      <th></th>\n",
       "      <th></th>\n",
       "      <th></th>\n",
       "      <th></th>\n",
       "      <th></th>\n",
       "      <th></th>\n",
       "      <th></th>\n",
       "      <th></th>\n",
       "      <th></th>\n",
       "      <th></th>\n",
       "      <th></th>\n",
       "      <th></th>\n",
       "      <th></th>\n",
       "      <th></th>\n",
       "      <th></th>\n",
       "      <th></th>\n",
       "      <th></th>\n",
       "      <th></th>\n",
       "    </tr>\n",
       "  </thead>\n",
       "  <tbody>\n",
       "    <tr>\n",
       "      <th>uid-1</th>\n",
       "      <td>1529</td>\n",
       "      <td>0.0</td>\n",
       "      <td>0.0</td>\n",
       "      <td>0.0</td>\n",
       "      <td>0.0</td>\n",
       "      <td>0.0</td>\n",
       "      <td>0.0</td>\n",
       "      <td>0.0</td>\n",
       "      <td>0.0</td>\n",
       "      <td>0.0</td>\n",
       "      <td>...</td>\n",
       "      <td>0.0</td>\n",
       "      <td>0.0</td>\n",
       "      <td>0.0</td>\n",
       "      <td>0.0</td>\n",
       "      <td>0.0</td>\n",
       "      <td>0.0</td>\n",
       "      <td>0.0</td>\n",
       "      <td>0.000000</td>\n",
       "      <td>0.0</td>\n",
       "      <td>0.0</td>\n",
       "    </tr>\n",
       "    <tr>\n",
       "      <th>uid-2</th>\n",
       "      <td>678</td>\n",
       "      <td>0.0</td>\n",
       "      <td>0.0</td>\n",
       "      <td>0.0</td>\n",
       "      <td>0.0</td>\n",
       "      <td>0.0</td>\n",
       "      <td>0.0</td>\n",
       "      <td>0.0</td>\n",
       "      <td>0.0</td>\n",
       "      <td>0.0</td>\n",
       "      <td>...</td>\n",
       "      <td>0.0</td>\n",
       "      <td>0.0</td>\n",
       "      <td>0.0</td>\n",
       "      <td>0.0</td>\n",
       "      <td>0.0</td>\n",
       "      <td>0.0</td>\n",
       "      <td>0.0</td>\n",
       "      <td>0.000000</td>\n",
       "      <td>0.0</td>\n",
       "      <td>0.0</td>\n",
       "    </tr>\n",
       "    <tr>\n",
       "      <th>uid-3</th>\n",
       "      <td>849</td>\n",
       "      <td>0.0</td>\n",
       "      <td>0.0</td>\n",
       "      <td>0.0</td>\n",
       "      <td>0.0</td>\n",
       "      <td>0.0</td>\n",
       "      <td>0.0</td>\n",
       "      <td>0.0</td>\n",
       "      <td>0.0</td>\n",
       "      <td>0.0</td>\n",
       "      <td>...</td>\n",
       "      <td>0.0</td>\n",
       "      <td>0.0</td>\n",
       "      <td>0.0</td>\n",
       "      <td>0.0</td>\n",
       "      <td>0.0</td>\n",
       "      <td>0.0</td>\n",
       "      <td>0.0</td>\n",
       "      <td>0.000000</td>\n",
       "      <td>0.0</td>\n",
       "      <td>0.0</td>\n",
       "    </tr>\n",
       "    <tr>\n",
       "      <th>uid-4</th>\n",
       "      <td>2352</td>\n",
       "      <td>0.0</td>\n",
       "      <td>0.0</td>\n",
       "      <td>0.0</td>\n",
       "      <td>0.0</td>\n",
       "      <td>0.0</td>\n",
       "      <td>0.0</td>\n",
       "      <td>0.0</td>\n",
       "      <td>0.0</td>\n",
       "      <td>0.0</td>\n",
       "      <td>...</td>\n",
       "      <td>0.0</td>\n",
       "      <td>0.0</td>\n",
       "      <td>0.0</td>\n",
       "      <td>0.0</td>\n",
       "      <td>0.0</td>\n",
       "      <td>0.0</td>\n",
       "      <td>0.0</td>\n",
       "      <td>0.000000</td>\n",
       "      <td>0.0</td>\n",
       "      <td>0.0</td>\n",
       "    </tr>\n",
       "    <tr>\n",
       "      <th>uid-5</th>\n",
       "      <td>809</td>\n",
       "      <td>0.0</td>\n",
       "      <td>0.0</td>\n",
       "      <td>0.0</td>\n",
       "      <td>0.0</td>\n",
       "      <td>0.0</td>\n",
       "      <td>0.0</td>\n",
       "      <td>0.0</td>\n",
       "      <td>0.0</td>\n",
       "      <td>0.0</td>\n",
       "      <td>...</td>\n",
       "      <td>0.0</td>\n",
       "      <td>0.0</td>\n",
       "      <td>0.0</td>\n",
       "      <td>0.0</td>\n",
       "      <td>0.0</td>\n",
       "      <td>0.0</td>\n",
       "      <td>0.0</td>\n",
       "      <td>0.105867</td>\n",
       "      <td>0.0</td>\n",
       "      <td>0.0</td>\n",
       "    </tr>\n",
       "  </tbody>\n",
       "</table>\n",
       "<p>5 rows × 1001 columns</p>\n",
       "</div>"
      ],
      "text/plain": [
       "       headline  tel  merck  carbon  bcci  breast  fur  rupee  welch  \\\n",
       "id                                                                     \n",
       "uid-1      1529  0.0    0.0     0.0   0.0     0.0  0.0    0.0    0.0   \n",
       "uid-2       678  0.0    0.0     0.0   0.0     0.0  0.0    0.0    0.0   \n",
       "uid-3       849  0.0    0.0     0.0   0.0     0.0  0.0    0.0    0.0   \n",
       "uid-4      2352  0.0    0.0     0.0   0.0     0.0  0.0    0.0    0.0   \n",
       "uid-5       809  0.0    0.0     0.0   0.0     0.0  0.0    0.0    0.0   \n",
       "\n",
       "       surgical   ...     department stores  number people  notably  \\\n",
       "id                ...                                                 \n",
       "uid-1       0.0   ...                   0.0            0.0      0.0   \n",
       "uid-2       0.0   ...                   0.0            0.0      0.0   \n",
       "uid-3       0.0   ...                   0.0            0.0      0.0   \n",
       "uid-4       0.0   ...                   0.0            0.0      0.0   \n",
       "uid-5       0.0   ...                   0.0            0.0      0.0   \n",
       "\n",
       "       department report  hospital  nomination  house budget    secret  \\\n",
       "id                                                                       \n",
       "uid-1                0.0       0.0         0.0           0.0  0.000000   \n",
       "uid-2                0.0       0.0         0.0           0.0  0.000000   \n",
       "uid-3                0.0       0.0         0.0           0.0  0.000000   \n",
       "uid-4                0.0       0.0         0.0           0.0  0.000000   \n",
       "uid-5                0.0       0.0         0.0           0.0  0.105867   \n",
       "\n",
       "       abandoned  stearns  \n",
       "id                         \n",
       "uid-1        0.0      0.0  \n",
       "uid-2        0.0      0.0  \n",
       "uid-3        0.0      0.0  \n",
       "uid-4        0.0      0.0  \n",
       "uid-5        0.0      0.0  \n",
       "\n",
       "[5 rows x 1001 columns]"
      ]
     },
     "execution_count": 150,
     "metadata": {},
     "output_type": "execute_result"
    }
   ],
   "source": [
    "features.head()"
   ]
  },
  {
   "cell_type": "code",
   "execution_count": null,
   "metadata": {
    "collapsed": true
   },
   "outputs": [],
   "source": []
  },
  {
   "cell_type": "code",
   "execution_count": 151,
   "metadata": {
    "collapsed": true
   },
   "outputs": [],
   "source": [
    "from sklearn.mixture import GaussianMixture\n",
    "from sklearn.metrics import silhouette_score"
   ]
  },
  {
   "cell_type": "code",
   "execution_count": null,
   "metadata": {},
   "outputs": [
    {
     "name": "stdout",
     "output_type": "stream",
     "text": [
      "0.528615477847\n",
      "0.438001393223\n"
     ]
    }
   ],
   "source": [
    "for k in [2, 10, 50, 100]:\n",
    "    \n",
    "    clusterer = GaussianMixture(n_components= k).fit(features)\n",
    "    \n",
    "    preds = clusterer.predict(features)\n",
    "    \n",
    "    print(silhouette_score(features, preds, random_state=0))"
   ]
  },
  {
   "cell_type": "code",
   "execution_count": 153,
   "metadata": {},
   "outputs": [
    {
     "name": "stdout",
     "output_type": "stream",
     "text": [
      "0.63112626869\n",
      "0.545937529873\n",
      "0.52576804687\n",
      "0.516501601956\n",
      "0.49806728849\n",
      "0.439516984727\n"
     ]
    },
    {
     "ename": "KeyboardInterrupt",
     "evalue": "",
     "output_type": "error",
     "traceback": [
      "\u001b[0;31m---------------------------------------------------------------------------\u001b[0m",
      "\u001b[0;31mKeyboardInterrupt\u001b[0m                         Traceback (most recent call last)",
      "\u001b[0;32m<ipython-input-153-c1770d8bab1b>\u001b[0m in \u001b[0;36m<module>\u001b[0;34m()\u001b[0m\n\u001b[1;32m      4\u001b[0m \u001b[0;34m\u001b[0m\u001b[0m\n\u001b[1;32m      5\u001b[0m \u001b[0;34m\u001b[0m\u001b[0m\n\u001b[0;32m----> 6\u001b[0;31m     \u001b[0mclusterer\u001b[0m \u001b[0;34m=\u001b[0m \u001b[0mKMeans\u001b[0m\u001b[0;34m(\u001b[0m\u001b[0mn_clusters\u001b[0m\u001b[0;34m=\u001b[0m\u001b[0mk\u001b[0m\u001b[0;34m,\u001b[0m \u001b[0mrandom_state\u001b[0m\u001b[0;34m=\u001b[0m\u001b[0;36m0\u001b[0m\u001b[0;34m)\u001b[0m\u001b[0;34m.\u001b[0m\u001b[0mfit\u001b[0m\u001b[0;34m(\u001b[0m\u001b[0mfeatures\u001b[0m\u001b[0;34m)\u001b[0m\u001b[0;34m\u001b[0m\u001b[0m\n\u001b[0m\u001b[1;32m      7\u001b[0m \u001b[0;34m\u001b[0m\u001b[0m\n\u001b[1;32m      8\u001b[0m     \u001b[0mpreds\u001b[0m \u001b[0;34m=\u001b[0m \u001b[0mclusterer\u001b[0m\u001b[0;34m.\u001b[0m\u001b[0mpredict\u001b[0m\u001b[0;34m(\u001b[0m\u001b[0mfeatures\u001b[0m\u001b[0;34m)\u001b[0m\u001b[0;34m\u001b[0m\u001b[0m\n",
      "\u001b[0;32m~/anaconda3/lib/python3.5/site-packages/sklearn/cluster/k_means_.py\u001b[0m in \u001b[0;36mfit\u001b[0;34m(self, X, y)\u001b[0m\n\u001b[1;32m    894\u001b[0m                 \u001b[0mtol\u001b[0m\u001b[0;34m=\u001b[0m\u001b[0mself\u001b[0m\u001b[0;34m.\u001b[0m\u001b[0mtol\u001b[0m\u001b[0;34m,\u001b[0m \u001b[0mrandom_state\u001b[0m\u001b[0;34m=\u001b[0m\u001b[0mrandom_state\u001b[0m\u001b[0;34m,\u001b[0m \u001b[0mcopy_x\u001b[0m\u001b[0;34m=\u001b[0m\u001b[0mself\u001b[0m\u001b[0;34m.\u001b[0m\u001b[0mcopy_x\u001b[0m\u001b[0;34m,\u001b[0m\u001b[0;34m\u001b[0m\u001b[0m\n\u001b[1;32m    895\u001b[0m                 \u001b[0mn_jobs\u001b[0m\u001b[0;34m=\u001b[0m\u001b[0mself\u001b[0m\u001b[0;34m.\u001b[0m\u001b[0mn_jobs\u001b[0m\u001b[0;34m,\u001b[0m \u001b[0malgorithm\u001b[0m\u001b[0;34m=\u001b[0m\u001b[0mself\u001b[0m\u001b[0;34m.\u001b[0m\u001b[0malgorithm\u001b[0m\u001b[0;34m,\u001b[0m\u001b[0;34m\u001b[0m\u001b[0m\n\u001b[0;32m--> 896\u001b[0;31m                 return_n_iter=True)\n\u001b[0m\u001b[1;32m    897\u001b[0m         \u001b[0;32mreturn\u001b[0m \u001b[0mself\u001b[0m\u001b[0;34m\u001b[0m\u001b[0m\n\u001b[1;32m    898\u001b[0m \u001b[0;34m\u001b[0m\u001b[0m\n",
      "\u001b[0;32m~/anaconda3/lib/python3.5/site-packages/sklearn/cluster/k_means_.py\u001b[0m in \u001b[0;36mk_means\u001b[0;34m(X, n_clusters, init, precompute_distances, n_init, max_iter, verbose, tol, random_state, copy_x, n_jobs, algorithm, return_n_iter)\u001b[0m\n\u001b[1;32m    344\u001b[0m                 \u001b[0mX\u001b[0m\u001b[0;34m,\u001b[0m \u001b[0mn_clusters\u001b[0m\u001b[0;34m,\u001b[0m \u001b[0mmax_iter\u001b[0m\u001b[0;34m=\u001b[0m\u001b[0mmax_iter\u001b[0m\u001b[0;34m,\u001b[0m \u001b[0minit\u001b[0m\u001b[0;34m=\u001b[0m\u001b[0minit\u001b[0m\u001b[0;34m,\u001b[0m \u001b[0mverbose\u001b[0m\u001b[0;34m=\u001b[0m\u001b[0mverbose\u001b[0m\u001b[0;34m,\u001b[0m\u001b[0;34m\u001b[0m\u001b[0m\n\u001b[1;32m    345\u001b[0m                 \u001b[0mprecompute_distances\u001b[0m\u001b[0;34m=\u001b[0m\u001b[0mprecompute_distances\u001b[0m\u001b[0;34m,\u001b[0m \u001b[0mtol\u001b[0m\u001b[0;34m=\u001b[0m\u001b[0mtol\u001b[0m\u001b[0;34m,\u001b[0m\u001b[0;34m\u001b[0m\u001b[0m\n\u001b[0;32m--> 346\u001b[0;31m                 x_squared_norms=x_squared_norms, random_state=random_state)\n\u001b[0m\u001b[1;32m    347\u001b[0m             \u001b[0;31m# determine if these results are the best so far\u001b[0m\u001b[0;34m\u001b[0m\u001b[0;34m\u001b[0m\u001b[0m\n\u001b[1;32m    348\u001b[0m             \u001b[0;32mif\u001b[0m \u001b[0mbest_inertia\u001b[0m \u001b[0;32mis\u001b[0m \u001b[0;32mNone\u001b[0m \u001b[0;32mor\u001b[0m \u001b[0minertia\u001b[0m \u001b[0;34m<\u001b[0m \u001b[0mbest_inertia\u001b[0m\u001b[0;34m:\u001b[0m\u001b[0;34m\u001b[0m\u001b[0m\n",
      "\u001b[0;32m~/anaconda3/lib/python3.5/site-packages/sklearn/cluster/k_means_.py\u001b[0m in \u001b[0;36m_kmeans_single_elkan\u001b[0;34m(X, n_clusters, max_iter, init, verbose, x_squared_norms, random_state, tol, precompute_distances)\u001b[0m\n\u001b[1;32m    393\u001b[0m     \u001b[0;31m# init\u001b[0m\u001b[0;34m\u001b[0m\u001b[0;34m\u001b[0m\u001b[0m\n\u001b[1;32m    394\u001b[0m     centers = _init_centroids(X, n_clusters, init, random_state=random_state,\n\u001b[0;32m--> 395\u001b[0;31m                               x_squared_norms=x_squared_norms)\n\u001b[0m\u001b[1;32m    396\u001b[0m     \u001b[0mcenters\u001b[0m \u001b[0;34m=\u001b[0m \u001b[0mnp\u001b[0m\u001b[0;34m.\u001b[0m\u001b[0mascontiguousarray\u001b[0m\u001b[0;34m(\u001b[0m\u001b[0mcenters\u001b[0m\u001b[0;34m)\u001b[0m\u001b[0;34m\u001b[0m\u001b[0m\n\u001b[1;32m    397\u001b[0m     \u001b[0;32mif\u001b[0m \u001b[0mverbose\u001b[0m\u001b[0;34m:\u001b[0m\u001b[0;34m\u001b[0m\u001b[0m\n",
      "\u001b[0;32m~/anaconda3/lib/python3.5/site-packages/sklearn/cluster/k_means_.py\u001b[0m in \u001b[0;36m_init_centroids\u001b[0;34m(X, k, init, random_state, x_squared_norms, init_size)\u001b[0m\n\u001b[1;32m    682\u001b[0m     \u001b[0;32mif\u001b[0m \u001b[0misinstance\u001b[0m\u001b[0;34m(\u001b[0m\u001b[0minit\u001b[0m\u001b[0;34m,\u001b[0m \u001b[0mstring_types\u001b[0m\u001b[0;34m)\u001b[0m \u001b[0;32mand\u001b[0m \u001b[0minit\u001b[0m \u001b[0;34m==\u001b[0m \u001b[0;34m'k-means++'\u001b[0m\u001b[0;34m:\u001b[0m\u001b[0;34m\u001b[0m\u001b[0m\n\u001b[1;32m    683\u001b[0m         centers = _k_init(X, k, random_state=random_state,\n\u001b[0;32m--> 684\u001b[0;31m                           x_squared_norms=x_squared_norms)\n\u001b[0m\u001b[1;32m    685\u001b[0m     \u001b[0;32melif\u001b[0m \u001b[0misinstance\u001b[0m\u001b[0;34m(\u001b[0m\u001b[0minit\u001b[0m\u001b[0;34m,\u001b[0m \u001b[0mstring_types\u001b[0m\u001b[0;34m)\u001b[0m \u001b[0;32mand\u001b[0m \u001b[0minit\u001b[0m \u001b[0;34m==\u001b[0m \u001b[0;34m'random'\u001b[0m\u001b[0;34m:\u001b[0m\u001b[0;34m\u001b[0m\u001b[0m\n\u001b[1;32m    686\u001b[0m         \u001b[0mseeds\u001b[0m \u001b[0;34m=\u001b[0m \u001b[0mrandom_state\u001b[0m\u001b[0;34m.\u001b[0m\u001b[0mpermutation\u001b[0m\u001b[0;34m(\u001b[0m\u001b[0mn_samples\u001b[0m\u001b[0;34m)\u001b[0m\u001b[0;34m[\u001b[0m\u001b[0;34m:\u001b[0m\u001b[0mk\u001b[0m\u001b[0;34m]\u001b[0m\u001b[0;34m\u001b[0m\u001b[0m\n",
      "\u001b[0;32m~/anaconda3/lib/python3.5/site-packages/sklearn/cluster/k_means_.py\u001b[0m in \u001b[0;36m_k_init\u001b[0;34m(X, n_clusters, x_squared_norms, random_state, n_local_trials)\u001b[0m\n\u001b[1;32m    111\u001b[0m         \u001b[0;31m# Compute distances to center candidates\u001b[0m\u001b[0;34m\u001b[0m\u001b[0;34m\u001b[0m\u001b[0m\n\u001b[1;32m    112\u001b[0m         distance_to_candidates = euclidean_distances(\n\u001b[0;32m--> 113\u001b[0;31m             X[candidate_ids], X, Y_norm_squared=x_squared_norms, squared=True)\n\u001b[0m\u001b[1;32m    114\u001b[0m \u001b[0;34m\u001b[0m\u001b[0m\n\u001b[1;32m    115\u001b[0m         \u001b[0;31m# Decide which candidate is the best\u001b[0m\u001b[0;34m\u001b[0m\u001b[0;34m\u001b[0m\u001b[0m\n",
      "\u001b[0;32m~/anaconda3/lib/python3.5/site-packages/sklearn/metrics/pairwise.py\u001b[0m in \u001b[0;36meuclidean_distances\u001b[0;34m(X, Y, Y_norm_squared, squared, X_norm_squared)\u001b[0m\n\u001b[1;32m    244\u001b[0m         \u001b[0mYY\u001b[0m \u001b[0;34m=\u001b[0m \u001b[0mrow_norms\u001b[0m\u001b[0;34m(\u001b[0m\u001b[0mY\u001b[0m\u001b[0;34m,\u001b[0m \u001b[0msquared\u001b[0m\u001b[0;34m=\u001b[0m\u001b[0;32mTrue\u001b[0m\u001b[0;34m)\u001b[0m\u001b[0;34m[\u001b[0m\u001b[0mnp\u001b[0m\u001b[0;34m.\u001b[0m\u001b[0mnewaxis\u001b[0m\u001b[0;34m,\u001b[0m \u001b[0;34m:\u001b[0m\u001b[0;34m]\u001b[0m\u001b[0;34m\u001b[0m\u001b[0m\n\u001b[1;32m    245\u001b[0m \u001b[0;34m\u001b[0m\u001b[0m\n\u001b[0;32m--> 246\u001b[0;31m     \u001b[0mdistances\u001b[0m \u001b[0;34m=\u001b[0m \u001b[0msafe_sparse_dot\u001b[0m\u001b[0;34m(\u001b[0m\u001b[0mX\u001b[0m\u001b[0;34m,\u001b[0m \u001b[0mY\u001b[0m\u001b[0;34m.\u001b[0m\u001b[0mT\u001b[0m\u001b[0;34m,\u001b[0m \u001b[0mdense_output\u001b[0m\u001b[0;34m=\u001b[0m\u001b[0;32mTrue\u001b[0m\u001b[0;34m)\u001b[0m\u001b[0;34m\u001b[0m\u001b[0m\n\u001b[0m\u001b[1;32m    247\u001b[0m     \u001b[0mdistances\u001b[0m \u001b[0;34m*=\u001b[0m \u001b[0;34m-\u001b[0m\u001b[0;36m2\u001b[0m\u001b[0;34m\u001b[0m\u001b[0m\n\u001b[1;32m    248\u001b[0m     \u001b[0mdistances\u001b[0m \u001b[0;34m+=\u001b[0m \u001b[0mXX\u001b[0m\u001b[0;34m\u001b[0m\u001b[0m\n",
      "\u001b[0;32m~/anaconda3/lib/python3.5/site-packages/sklearn/utils/extmath.py\u001b[0m in \u001b[0;36msafe_sparse_dot\u001b[0;34m(a, b, dense_output)\u001b[0m\n\u001b[1;32m    138\u001b[0m         \u001b[0;32mreturn\u001b[0m \u001b[0mret\u001b[0m\u001b[0;34m\u001b[0m\u001b[0m\n\u001b[1;32m    139\u001b[0m     \u001b[0;32melse\u001b[0m\u001b[0;34m:\u001b[0m\u001b[0;34m\u001b[0m\u001b[0m\n\u001b[0;32m--> 140\u001b[0;31m         \u001b[0;32mreturn\u001b[0m \u001b[0mnp\u001b[0m\u001b[0;34m.\u001b[0m\u001b[0mdot\u001b[0m\u001b[0;34m(\u001b[0m\u001b[0ma\u001b[0m\u001b[0;34m,\u001b[0m \u001b[0mb\u001b[0m\u001b[0;34m)\u001b[0m\u001b[0;34m\u001b[0m\u001b[0m\n\u001b[0m\u001b[1;32m    141\u001b[0m \u001b[0;34m\u001b[0m\u001b[0m\n\u001b[1;32m    142\u001b[0m \u001b[0;34m\u001b[0m\u001b[0m\n",
      "\u001b[0;31mKeyboardInterrupt\u001b[0m: "
     ]
    }
   ],
   "source": [
    "from sklearn.cluster import KMeans\n",
    "\n",
    "for k in [2, 10, 50, 100]:\n",
    "    \n",
    "        \n",
    "    clusterer = KMeans(n_clusters=k, random_state=0).fit(features)\n",
    "    \n",
    "    preds = clusterer.predict(features)\n",
    "    \n",
    "    print(silhouette_score(features, preds, random_state=0))\n"
   ]
  },
  {
   "cell_type": "code",
   "execution_count": 81,
   "metadata": {},
   "outputs": [
    {
     "name": "stdout",
     "output_type": "stream",
     "text": [
      "0.63112095343\n"
     ]
    }
   ],
   "source": [
    "clusterer = KMeans(n_clusters=2, random_state=0).fit(features)\n",
    "preds = clusterer.predict(features)\n",
    "print(silhouette_score(features, preds, random_state=0))\n",
    "\n",
    "features[\"cluster\"] = preds\n",
    "\n",
    "\n"
   ]
  },
  {
   "cell_type": "code",
   "execution_count": 83,
   "metadata": {},
   "outputs": [
    {
     "data": {
      "text/html": [
       "<div>\n",
       "<style scoped>\n",
       "    .dataframe tbody tr th:only-of-type {\n",
       "        vertical-align: middle;\n",
       "    }\n",
       "\n",
       "    .dataframe tbody tr th {\n",
       "        vertical-align: top;\n",
       "    }\n",
       "\n",
       "    .dataframe thead th {\n",
       "        text-align: right;\n",
       "    }\n",
       "</style>\n",
       "<table border=\"1\" class=\"dataframe\">\n",
       "  <thead>\n",
       "    <tr style=\"text-align: right;\">\n",
       "      <th></th>\n",
       "      <th>id</th>\n",
       "      <th>headline</th>\n",
       "      <th>ability</th>\n",
       "      <th>able</th>\n",
       "      <th>abroad</th>\n",
       "      <th>access</th>\n",
       "      <th>according</th>\n",
       "      <th>account</th>\n",
       "      <th>accounting</th>\n",
       "      <th>accounts</th>\n",
       "      <th>...</th>\n",
       "      <th>yesterday</th>\n",
       "      <th>yesterday br</th>\n",
       "      <th>yield</th>\n",
       "      <th>yields</th>\n",
       "      <th>york</th>\n",
       "      <th>york stock</th>\n",
       "      <th>young</th>\n",
       "      <th>zero</th>\n",
       "      <th>zone</th>\n",
       "      <th>cluster</th>\n",
       "    </tr>\n",
       "  </thead>\n",
       "  <tbody>\n",
       "    <tr>\n",
       "      <th>0</th>\n",
       "      <td>uid-1</td>\n",
       "      <td>1529</td>\n",
       "      <td>0.0</td>\n",
       "      <td>0.0</td>\n",
       "      <td>0.0</td>\n",
       "      <td>0.0</td>\n",
       "      <td>0.000000</td>\n",
       "      <td>0.0</td>\n",
       "      <td>0.0</td>\n",
       "      <td>0.0</td>\n",
       "      <td>...</td>\n",
       "      <td>0.000000</td>\n",
       "      <td>0.0</td>\n",
       "      <td>0.0</td>\n",
       "      <td>0.0</td>\n",
       "      <td>0.118302</td>\n",
       "      <td>0.0</td>\n",
       "      <td>0.0</td>\n",
       "      <td>0.0</td>\n",
       "      <td>0.0</td>\n",
       "      <td>1</td>\n",
       "    </tr>\n",
       "    <tr>\n",
       "      <th>1</th>\n",
       "      <td>uid-2</td>\n",
       "      <td>678</td>\n",
       "      <td>0.0</td>\n",
       "      <td>0.0</td>\n",
       "      <td>0.0</td>\n",
       "      <td>0.0</td>\n",
       "      <td>0.077294</td>\n",
       "      <td>0.0</td>\n",
       "      <td>0.0</td>\n",
       "      <td>0.0</td>\n",
       "      <td>...</td>\n",
       "      <td>0.110796</td>\n",
       "      <td>0.0</td>\n",
       "      <td>0.0</td>\n",
       "      <td>0.0</td>\n",
       "      <td>0.000000</td>\n",
       "      <td>0.0</td>\n",
       "      <td>0.0</td>\n",
       "      <td>0.0</td>\n",
       "      <td>0.0</td>\n",
       "      <td>0</td>\n",
       "    </tr>\n",
       "    <tr>\n",
       "      <th>2</th>\n",
       "      <td>uid-3</td>\n",
       "      <td>849</td>\n",
       "      <td>0.0</td>\n",
       "      <td>0.0</td>\n",
       "      <td>0.0</td>\n",
       "      <td>0.0</td>\n",
       "      <td>0.072620</td>\n",
       "      <td>0.0</td>\n",
       "      <td>0.0</td>\n",
       "      <td>0.0</td>\n",
       "      <td>...</td>\n",
       "      <td>0.000000</td>\n",
       "      <td>0.0</td>\n",
       "      <td>0.0</td>\n",
       "      <td>0.0</td>\n",
       "      <td>0.000000</td>\n",
       "      <td>0.0</td>\n",
       "      <td>0.0</td>\n",
       "      <td>0.0</td>\n",
       "      <td>0.0</td>\n",
       "      <td>0</td>\n",
       "    </tr>\n",
       "    <tr>\n",
       "      <th>3</th>\n",
       "      <td>uid-4</td>\n",
       "      <td>2352</td>\n",
       "      <td>0.0</td>\n",
       "      <td>0.0</td>\n",
       "      <td>0.0</td>\n",
       "      <td>0.0</td>\n",
       "      <td>0.044911</td>\n",
       "      <td>0.0</td>\n",
       "      <td>0.0</td>\n",
       "      <td>0.0</td>\n",
       "      <td>...</td>\n",
       "      <td>0.000000</td>\n",
       "      <td>0.0</td>\n",
       "      <td>0.0</td>\n",
       "      <td>0.0</td>\n",
       "      <td>0.000000</td>\n",
       "      <td>0.0</td>\n",
       "      <td>0.0</td>\n",
       "      <td>0.0</td>\n",
       "      <td>0.0</td>\n",
       "      <td>1</td>\n",
       "    </tr>\n",
       "    <tr>\n",
       "      <th>4</th>\n",
       "      <td>uid-5</td>\n",
       "      <td>809</td>\n",
       "      <td>0.0</td>\n",
       "      <td>0.0</td>\n",
       "      <td>0.0</td>\n",
       "      <td>0.0</td>\n",
       "      <td>0.000000</td>\n",
       "      <td>0.0</td>\n",
       "      <td>0.0</td>\n",
       "      <td>0.0</td>\n",
       "      <td>...</td>\n",
       "      <td>0.000000</td>\n",
       "      <td>0.0</td>\n",
       "      <td>0.0</td>\n",
       "      <td>0.0</td>\n",
       "      <td>0.000000</td>\n",
       "      <td>0.0</td>\n",
       "      <td>0.0</td>\n",
       "      <td>0.0</td>\n",
       "      <td>0.0</td>\n",
       "      <td>0</td>\n",
       "    </tr>\n",
       "  </tbody>\n",
       "</table>\n",
       "<p>5 rows × 2003 columns</p>\n",
       "</div>"
      ],
      "text/plain": [
       "      id  headline  ability  able  abroad  access  according  account  \\\n",
       "0  uid-1      1529      0.0   0.0     0.0     0.0   0.000000      0.0   \n",
       "1  uid-2       678      0.0   0.0     0.0     0.0   0.077294      0.0   \n",
       "2  uid-3       849      0.0   0.0     0.0     0.0   0.072620      0.0   \n",
       "3  uid-4      2352      0.0   0.0     0.0     0.0   0.044911      0.0   \n",
       "4  uid-5       809      0.0   0.0     0.0     0.0   0.000000      0.0   \n",
       "\n",
       "   accounting  accounts   ...     yesterday  yesterday br  yield  yields  \\\n",
       "0         0.0       0.0   ...      0.000000           0.0    0.0     0.0   \n",
       "1         0.0       0.0   ...      0.110796           0.0    0.0     0.0   \n",
       "2         0.0       0.0   ...      0.000000           0.0    0.0     0.0   \n",
       "3         0.0       0.0   ...      0.000000           0.0    0.0     0.0   \n",
       "4         0.0       0.0   ...      0.000000           0.0    0.0     0.0   \n",
       "\n",
       "       york  york stock  young  zero  zone  cluster  \n",
       "0  0.118302         0.0    0.0   0.0   0.0        1  \n",
       "1  0.000000         0.0    0.0   0.0   0.0        0  \n",
       "2  0.000000         0.0    0.0   0.0   0.0        0  \n",
       "3  0.000000         0.0    0.0   0.0   0.0        1  \n",
       "4  0.000000         0.0    0.0   0.0   0.0        0  \n",
       "\n",
       "[5 rows x 2003 columns]"
      ]
     },
     "execution_count": 83,
     "metadata": {},
     "output_type": "execute_result"
    }
   ],
   "source": [
    "features = features.reset_index()\n",
    "features.head()"
   ]
  },
  {
   "cell_type": "code",
   "execution_count": 84,
   "metadata": {
    "collapsed": true
   },
   "outputs": [],
   "source": [
    "features.to_csv(\"cluster_result.csv\", columns = [\"id\", \"cluster\"])"
   ]
  },
  {
   "cell_type": "code",
   "execution_count": 78,
   "metadata": {
    "collapsed": true
   },
   "outputs": [],
   "source": [
    "# clusterer = KMeans(n_clusters=3000, random_state=0).fit(features_sub)\n",
    "# preds = clusterer.predict(features_sub)\n",
    "# print(silhouette_score(features_sub, preds, random_state=0))\n",
    "\n",
    "# features[\"cluster\"] = preds\n",
    "\n",
    "# features[\"cluster\"].to_csv(\"cluster_result.csv\")"
   ]
  },
  {
   "cell_type": "code",
   "execution_count": 79,
   "metadata": {
    "collapsed": true
   },
   "outputs": [],
   "source": [
    "np.savetxt('tfm3.txt', features.as_matrix())"
   ]
  },
  {
   "cell_type": "code",
   "execution_count": null,
   "metadata": {
    "collapsed": true
   },
   "outputs": [],
   "source": []
  }
 ],
 "metadata": {
  "kernelspec": {
   "display_name": "Python 3",
   "language": "python",
   "name": "python3"
  },
  "language_info": {
   "codemirror_mode": {
    "name": "ipython",
    "version": 3
   },
   "file_extension": ".py",
   "mimetype": "text/x-python",
   "name": "python",
   "nbconvert_exporter": "python",
   "pygments_lexer": "ipython3",
   "version": "3.5.2"
  }
 },
 "nbformat": 4,
 "nbformat_minor": 2
}
