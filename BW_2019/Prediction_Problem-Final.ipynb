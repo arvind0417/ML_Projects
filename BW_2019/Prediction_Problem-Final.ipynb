{
 "cells": [
  {
   "cell_type": "markdown",
   "metadata": {},
   "source": [
    "# Initial Data Analysis"
   ]
  },
  {
   "cell_type": "code",
   "execution_count": 145,
   "metadata": {},
   "outputs": [],
   "source": [
    "# import required packages\n",
    "import pandas as pd\n",
    "import numpy as np"
   ]
  },
  {
   "cell_type": "code",
   "execution_count": 146,
   "metadata": {},
   "outputs": [],
   "source": [
    "train_data = pd.read_csv(\"./train.csv\")\n",
    "test_data = pd.read_csv(\"./test.csv\")"
   ]
  },
  {
   "cell_type": "code",
   "execution_count": 147,
   "metadata": {},
   "outputs": [
    {
     "data": {
      "text/html": [
       "<div>\n",
       "<style scoped>\n",
       "    .dataframe tbody tr th:only-of-type {\n",
       "        vertical-align: middle;\n",
       "    }\n",
       "\n",
       "    .dataframe tbody tr th {\n",
       "        vertical-align: top;\n",
       "    }\n",
       "\n",
       "    .dataframe thead th {\n",
       "        text-align: right;\n",
       "    }\n",
       "</style>\n",
       "<table border=\"1\" class=\"dataframe\">\n",
       "  <thead>\n",
       "    <tr style=\"text-align: right;\">\n",
       "      <th></th>\n",
       "      <th>Complaint-ID</th>\n",
       "      <th>Date-received</th>\n",
       "      <th>Transaction-Type</th>\n",
       "      <th>Complaint-reason</th>\n",
       "      <th>Company-response</th>\n",
       "      <th>Date-sent-to-company</th>\n",
       "      <th>Complaint-Status</th>\n",
       "      <th>Consumer-disputes</th>\n",
       "      <th>Consumer-complaint-summary</th>\n",
       "    </tr>\n",
       "  </thead>\n",
       "  <tbody>\n",
       "    <tr>\n",
       "      <th>0</th>\n",
       "      <td>Tr-1</td>\n",
       "      <td>11/11/2015</td>\n",
       "      <td>Mortgage</td>\n",
       "      <td>Loan servicing, payments, escrow account</td>\n",
       "      <td>NaN</td>\n",
       "      <td>11/11/2015</td>\n",
       "      <td>Closed with explanation</td>\n",
       "      <td>Yes</td>\n",
       "      <td>Seterus, Inc a déposé un faux rapport auprès d...</td>\n",
       "    </tr>\n",
       "    <tr>\n",
       "      <th>1</th>\n",
       "      <td>Tr-2</td>\n",
       "      <td>7/7/2015</td>\n",
       "      <td>Credit reporting</td>\n",
       "      <td>Incorrect information on credit report</td>\n",
       "      <td>Company chooses not to provide a public response</td>\n",
       "      <td>7/7/2015</td>\n",
       "      <td>Closed with non-monetary relief</td>\n",
       "      <td>No</td>\n",
       "      <td>XX / XX / XXXX La requête en faillite n ° XXXX...</td>\n",
       "    </tr>\n",
       "    <tr>\n",
       "      <th>2</th>\n",
       "      <td>Tr-3</td>\n",
       "      <td>5/7/2015</td>\n",
       "      <td>Bank account or service</td>\n",
       "      <td>Using a debit or ATM card</td>\n",
       "      <td>NaN</td>\n",
       "      <td>5/7/2015</td>\n",
       "      <td>Closed with explanation</td>\n",
       "      <td>No</td>\n",
       "      <td>El XXXX / XXXX / 15, estaba preparando el vuel...</td>\n",
       "    </tr>\n",
       "    <tr>\n",
       "      <th>3</th>\n",
       "      <td>Tr-4</td>\n",
       "      <td>11/12/2016</td>\n",
       "      <td>Debt collection</td>\n",
       "      <td>Cont'd attempts collect debt not owed</td>\n",
       "      <td>Company believes it acted appropriately as aut...</td>\n",
       "      <td>11/12/2016</td>\n",
       "      <td>Closed with explanation</td>\n",
       "      <td>No</td>\n",
       "      <td>The loan was paid in XXXX XXXX. In XXXX, 4 yea...</td>\n",
       "    </tr>\n",
       "    <tr>\n",
       "      <th>4</th>\n",
       "      <td>Tr-5</td>\n",
       "      <td>9/29/2016</td>\n",
       "      <td>Credit card</td>\n",
       "      <td>Payoff process</td>\n",
       "      <td>Company has responded to the consumer and the ...</td>\n",
       "      <td>9/29/2016</td>\n",
       "      <td>Closed with explanation</td>\n",
       "      <td>No</td>\n",
       "      <td>J'ai obtenu un compte de crédit de soins pour ...</td>\n",
       "    </tr>\n",
       "  </tbody>\n",
       "</table>\n",
       "</div>"
      ],
      "text/plain": [
       "  Complaint-ID Date-received         Transaction-Type  \\\n",
       "0         Tr-1    11/11/2015                 Mortgage   \n",
       "1         Tr-2      7/7/2015         Credit reporting   \n",
       "2         Tr-3      5/7/2015  Bank account or service   \n",
       "3         Tr-4    11/12/2016          Debt collection   \n",
       "4         Tr-5     9/29/2016              Credit card   \n",
       "\n",
       "                           Complaint-reason  \\\n",
       "0  Loan servicing, payments, escrow account   \n",
       "1    Incorrect information on credit report   \n",
       "2                 Using a debit or ATM card   \n",
       "3     Cont'd attempts collect debt not owed   \n",
       "4                            Payoff process   \n",
       "\n",
       "                                    Company-response Date-sent-to-company  \\\n",
       "0                                                NaN           11/11/2015   \n",
       "1   Company chooses not to provide a public response             7/7/2015   \n",
       "2                                                NaN             5/7/2015   \n",
       "3  Company believes it acted appropriately as aut...           11/12/2016   \n",
       "4  Company has responded to the consumer and the ...            9/29/2016   \n",
       "\n",
       "                  Complaint-Status Consumer-disputes  \\\n",
       "0          Closed with explanation               Yes   \n",
       "1  Closed with non-monetary relief                No   \n",
       "2          Closed with explanation                No   \n",
       "3          Closed with explanation                No   \n",
       "4          Closed with explanation                No   \n",
       "\n",
       "                          Consumer-complaint-summary  \n",
       "0  Seterus, Inc a déposé un faux rapport auprès d...  \n",
       "1  XX / XX / XXXX La requête en faillite n ° XXXX...  \n",
       "2  El XXXX / XXXX / 15, estaba preparando el vuel...  \n",
       "3  The loan was paid in XXXX XXXX. In XXXX, 4 yea...  \n",
       "4  J'ai obtenu un compte de crédit de soins pour ...  "
      ]
     },
     "execution_count": 147,
     "metadata": {},
     "output_type": "execute_result"
    }
   ],
   "source": [
    "train_data.head()"
   ]
  },
  {
   "cell_type": "code",
   "execution_count": 148,
   "metadata": {},
   "outputs": [
    {
     "data": {
      "text/html": [
       "<div>\n",
       "<style scoped>\n",
       "    .dataframe tbody tr th:only-of-type {\n",
       "        vertical-align: middle;\n",
       "    }\n",
       "\n",
       "    .dataframe tbody tr th {\n",
       "        vertical-align: top;\n",
       "    }\n",
       "\n",
       "    .dataframe thead th {\n",
       "        text-align: right;\n",
       "    }\n",
       "</style>\n",
       "<table border=\"1\" class=\"dataframe\">\n",
       "  <thead>\n",
       "    <tr style=\"text-align: right;\">\n",
       "      <th></th>\n",
       "      <th>Complaint-ID</th>\n",
       "      <th>Date-received</th>\n",
       "      <th>Transaction-Type</th>\n",
       "      <th>Complaint-reason</th>\n",
       "      <th>Company-response</th>\n",
       "      <th>Date-sent-to-company</th>\n",
       "      <th>Consumer-disputes</th>\n",
       "      <th>Consumer-complaint-summary</th>\n",
       "    </tr>\n",
       "  </thead>\n",
       "  <tbody>\n",
       "    <tr>\n",
       "      <th>0</th>\n",
       "      <td>Te-1</td>\n",
       "      <td>8/18/2016</td>\n",
       "      <td>Bank account or service</td>\n",
       "      <td>Account opening, closing, or management</td>\n",
       "      <td>Company has responded to the consumer and the ...</td>\n",
       "      <td>8/18/2016</td>\n",
       "      <td>No</td>\n",
       "      <td>XXXX / XXXX / 16 I called Citibank to open a c...</td>\n",
       "    </tr>\n",
       "    <tr>\n",
       "      <th>1</th>\n",
       "      <td>Te-2</td>\n",
       "      <td>4/18/2016</td>\n",
       "      <td>Debt collection</td>\n",
       "      <td>Communication tactics</td>\n",
       "      <td>Company believes it acted appropriately as aut...</td>\n",
       "      <td>4/20/2016</td>\n",
       "      <td>No</td>\n",
       "      <td>I'm struggling financially. I called and I off...</td>\n",
       "    </tr>\n",
       "    <tr>\n",
       "      <th>2</th>\n",
       "      <td>Te-3</td>\n",
       "      <td>3/23/2016</td>\n",
       "      <td>Credit reporting</td>\n",
       "      <td>Incorrect information on credit report</td>\n",
       "      <td>NaN</td>\n",
       "      <td>3/23/2016</td>\n",
       "      <td>No</td>\n",
       "      <td>In XXXX of 2015, an automatic payment was conf...</td>\n",
       "    </tr>\n",
       "    <tr>\n",
       "      <th>3</th>\n",
       "      <td>Te-4</td>\n",
       "      <td>6/26/2017</td>\n",
       "      <td>Student loan</td>\n",
       "      <td>Dealing with your lender or servicer</td>\n",
       "      <td>NaN</td>\n",
       "      <td>6/26/2017</td>\n",
       "      <td>NaN</td>\n",
       "      <td>I submitted a request to XXXX, which is my cur...</td>\n",
       "    </tr>\n",
       "    <tr>\n",
       "      <th>4</th>\n",
       "      <td>Te-5</td>\n",
       "      <td>5/13/2016</td>\n",
       "      <td>Credit reporting</td>\n",
       "      <td>Incorrect information on credit report</td>\n",
       "      <td>Company has responded to the consumer and the ...</td>\n",
       "      <td>5/13/2016</td>\n",
       "      <td>No</td>\n",
       "      <td>A state tax lien was filed against me XXXX / X...</td>\n",
       "    </tr>\n",
       "  </tbody>\n",
       "</table>\n",
       "</div>"
      ],
      "text/plain": [
       "  Complaint-ID Date-received         Transaction-Type  \\\n",
       "0         Te-1     8/18/2016  Bank account or service   \n",
       "1         Te-2     4/18/2016          Debt collection   \n",
       "2         Te-3     3/23/2016         Credit reporting   \n",
       "3         Te-4     6/26/2017             Student loan   \n",
       "4         Te-5     5/13/2016         Credit reporting   \n",
       "\n",
       "                          Complaint-reason  \\\n",
       "0  Account opening, closing, or management   \n",
       "1                    Communication tactics   \n",
       "2   Incorrect information on credit report   \n",
       "3     Dealing with your lender or servicer   \n",
       "4   Incorrect information on credit report   \n",
       "\n",
       "                                    Company-response Date-sent-to-company  \\\n",
       "0  Company has responded to the consumer and the ...            8/18/2016   \n",
       "1  Company believes it acted appropriately as aut...            4/20/2016   \n",
       "2                                                NaN            3/23/2016   \n",
       "3                                                NaN            6/26/2017   \n",
       "4  Company has responded to the consumer and the ...            5/13/2016   \n",
       "\n",
       "  Consumer-disputes                         Consumer-complaint-summary  \n",
       "0                No  XXXX / XXXX / 16 I called Citibank to open a c...  \n",
       "1                No  I'm struggling financially. I called and I off...  \n",
       "2                No  In XXXX of 2015, an automatic payment was conf...  \n",
       "3               NaN  I submitted a request to XXXX, which is my cur...  \n",
       "4                No  A state tax lien was filed against me XXXX / X...  "
      ]
     },
     "execution_count": 148,
     "metadata": {},
     "output_type": "execute_result"
    }
   ],
   "source": [
    "test_data.head()"
   ]
  },
  {
   "cell_type": "code",
   "execution_count": 149,
   "metadata": {},
   "outputs": [
    {
     "data": {
      "text/plain": [
       "Closed with explanation            34300\n",
       "Closed with non-monetary relief     5018\n",
       "Closed with monetary relief         2818\n",
       "Closed                               809\n",
       "Untimely response                    321\n",
       "Name: Complaint-Status, dtype: int64"
      ]
     },
     "execution_count": 149,
     "metadata": {},
     "output_type": "execute_result"
    }
   ],
   "source": [
    "train_data[\"Complaint-Status\"].value_counts()"
   ]
  },
  {
   "cell_type": "code",
   "execution_count": 150,
   "metadata": {},
   "outputs": [
    {
     "data": {
      "text/plain": [
       "Index(['Complaint-ID', 'Date-received', 'Transaction-Type', 'Complaint-reason',\n",
       "       'Company-response', 'Date-sent-to-company', 'Complaint-Status',\n",
       "       'Consumer-disputes', 'Consumer-complaint-summary'],\n",
       "      dtype='object')"
      ]
     },
     "execution_count": 150,
     "metadata": {},
     "output_type": "execute_result"
    }
   ],
   "source": [
    "train_data.columns"
   ]
  },
  {
   "cell_type": "code",
   "execution_count": 151,
   "metadata": {},
   "outputs": [
    {
     "data": {
      "text/plain": [
       "Company has responded to the consumer and the CFPB and chooses not to provide a public response                            10928\n",
       "Company chooses not to provide a public response                                                                            4322\n",
       "Company believes it acted appropriately as authorized by contract or law                                                    3811\n",
       "Company believes the complaint is the result of a misunderstanding                                                           387\n",
       "Company disputes the facts presented in the complaint                                                                        379\n",
       "Company believes complaint is the result of an isolated error                                                                302\n",
       "Company believes complaint caused principally by actions of third party outside the control or direction of the company      300\n",
       "Company can't verify or dispute the facts in the complaint                                                                   166\n",
       "Company believes complaint represents an opportunity for improvement to better serve consumers                               160\n",
       "Company believes complaint relates to a discontinued policy or procedure                                                       5\n",
       "Name: Company-response, dtype: int64"
      ]
     },
     "execution_count": 151,
     "metadata": {},
     "output_type": "execute_result"
    }
   ],
   "source": [
    "train_data[\"Company-response\"].value_counts()"
   ]
  },
  {
   "cell_type": "code",
   "execution_count": 152,
   "metadata": {},
   "outputs": [
    {
     "data": {
      "text/plain": [
       "Company has responded to the consumer and the CFPB and chooses not to provide a public response                            4695\n",
       "Company chooses not to provide a public response                                                                           1827\n",
       "Company believes it acted appropriately as authorized by contract or law                                                   1598\n",
       "Company believes the complaint is the result of a misunderstanding                                                          181\n",
       "Company disputes the facts presented in the complaint                                                                       158\n",
       "Company believes complaint caused principally by actions of third party outside the control or direction of the company     134\n",
       "Company believes complaint is the result of an isolated error                                                               114\n",
       "Company can't verify or dispute the facts in the complaint                                                                   69\n",
       "Company believes complaint represents an opportunity for improvement to better serve consumers                               64\n",
       "Company believes complaint relates to a discontinued policy or procedure                                                      2\n",
       "Name: Company-response, dtype: int64"
      ]
     },
     "execution_count": 152,
     "metadata": {},
     "output_type": "execute_result"
    }
   ],
   "source": [
    "test_data[\"Company-response\"].value_counts()"
   ]
  },
  {
   "cell_type": "code",
   "execution_count": 153,
   "metadata": {},
   "outputs": [
    {
     "data": {
      "text/plain": [
       "(43266, 9)"
      ]
     },
     "execution_count": 153,
     "metadata": {},
     "output_type": "execute_result"
    }
   ],
   "source": [
    "train_data.shape"
   ]
  },
  {
   "cell_type": "code",
   "execution_count": 154,
   "metadata": {},
   "outputs": [
    {
     "data": {
      "text/plain": [
       "(18543, 8)"
      ]
     },
     "execution_count": 154,
     "metadata": {},
     "output_type": "execute_result"
    }
   ],
   "source": [
    "test_data.shape"
   ]
  },
  {
   "cell_type": "code",
   "execution_count": 155,
   "metadata": {},
   "outputs": [],
   "source": [
    "# train_data = train_data.set_index(\"Complaint-ID\")"
   ]
  },
  {
   "cell_type": "code",
   "execution_count": 156,
   "metadata": {},
   "outputs": [
    {
     "data": {
      "text/html": [
       "<div>\n",
       "<style scoped>\n",
       "    .dataframe tbody tr th:only-of-type {\n",
       "        vertical-align: middle;\n",
       "    }\n",
       "\n",
       "    .dataframe tbody tr th {\n",
       "        vertical-align: top;\n",
       "    }\n",
       "\n",
       "    .dataframe thead th {\n",
       "        text-align: right;\n",
       "    }\n",
       "</style>\n",
       "<table border=\"1\" class=\"dataframe\">\n",
       "  <thead>\n",
       "    <tr style=\"text-align: right;\">\n",
       "      <th></th>\n",
       "      <th>Complaint-ID</th>\n",
       "      <th>Date-received</th>\n",
       "      <th>Transaction-Type</th>\n",
       "      <th>Complaint-reason</th>\n",
       "      <th>Company-response</th>\n",
       "      <th>Date-sent-to-company</th>\n",
       "      <th>Complaint-Status</th>\n",
       "      <th>Consumer-disputes</th>\n",
       "      <th>Consumer-complaint-summary</th>\n",
       "    </tr>\n",
       "  </thead>\n",
       "  <tbody>\n",
       "    <tr>\n",
       "      <th>0</th>\n",
       "      <td>Tr-1</td>\n",
       "      <td>11/11/2015</td>\n",
       "      <td>Mortgage</td>\n",
       "      <td>Loan servicing, payments, escrow account</td>\n",
       "      <td>NaN</td>\n",
       "      <td>11/11/2015</td>\n",
       "      <td>Closed with explanation</td>\n",
       "      <td>Yes</td>\n",
       "      <td>Seterus, Inc a déposé un faux rapport auprès d...</td>\n",
       "    </tr>\n",
       "    <tr>\n",
       "      <th>1</th>\n",
       "      <td>Tr-2</td>\n",
       "      <td>7/7/2015</td>\n",
       "      <td>Credit reporting</td>\n",
       "      <td>Incorrect information on credit report</td>\n",
       "      <td>Company chooses not to provide a public response</td>\n",
       "      <td>7/7/2015</td>\n",
       "      <td>Closed with non-monetary relief</td>\n",
       "      <td>No</td>\n",
       "      <td>XX / XX / XXXX La requête en faillite n ° XXXX...</td>\n",
       "    </tr>\n",
       "    <tr>\n",
       "      <th>2</th>\n",
       "      <td>Tr-3</td>\n",
       "      <td>5/7/2015</td>\n",
       "      <td>Bank account or service</td>\n",
       "      <td>Using a debit or ATM card</td>\n",
       "      <td>NaN</td>\n",
       "      <td>5/7/2015</td>\n",
       "      <td>Closed with explanation</td>\n",
       "      <td>No</td>\n",
       "      <td>El XXXX / XXXX / 15, estaba preparando el vuel...</td>\n",
       "    </tr>\n",
       "    <tr>\n",
       "      <th>3</th>\n",
       "      <td>Tr-4</td>\n",
       "      <td>11/12/2016</td>\n",
       "      <td>Debt collection</td>\n",
       "      <td>Cont'd attempts collect debt not owed</td>\n",
       "      <td>Company believes it acted appropriately as aut...</td>\n",
       "      <td>11/12/2016</td>\n",
       "      <td>Closed with explanation</td>\n",
       "      <td>No</td>\n",
       "      <td>The loan was paid in XXXX XXXX. In XXXX, 4 yea...</td>\n",
       "    </tr>\n",
       "    <tr>\n",
       "      <th>4</th>\n",
       "      <td>Tr-5</td>\n",
       "      <td>9/29/2016</td>\n",
       "      <td>Credit card</td>\n",
       "      <td>Payoff process</td>\n",
       "      <td>Company has responded to the consumer and the ...</td>\n",
       "      <td>9/29/2016</td>\n",
       "      <td>Closed with explanation</td>\n",
       "      <td>No</td>\n",
       "      <td>J'ai obtenu un compte de crédit de soins pour ...</td>\n",
       "    </tr>\n",
       "  </tbody>\n",
       "</table>\n",
       "</div>"
      ],
      "text/plain": [
       "  Complaint-ID Date-received         Transaction-Type  \\\n",
       "0         Tr-1    11/11/2015                 Mortgage   \n",
       "1         Tr-2      7/7/2015         Credit reporting   \n",
       "2         Tr-3      5/7/2015  Bank account or service   \n",
       "3         Tr-4    11/12/2016          Debt collection   \n",
       "4         Tr-5     9/29/2016              Credit card   \n",
       "\n",
       "                           Complaint-reason  \\\n",
       "0  Loan servicing, payments, escrow account   \n",
       "1    Incorrect information on credit report   \n",
       "2                 Using a debit or ATM card   \n",
       "3     Cont'd attempts collect debt not owed   \n",
       "4                            Payoff process   \n",
       "\n",
       "                                    Company-response Date-sent-to-company  \\\n",
       "0                                                NaN           11/11/2015   \n",
       "1   Company chooses not to provide a public response             7/7/2015   \n",
       "2                                                NaN             5/7/2015   \n",
       "3  Company believes it acted appropriately as aut...           11/12/2016   \n",
       "4  Company has responded to the consumer and the ...            9/29/2016   \n",
       "\n",
       "                  Complaint-Status Consumer-disputes  \\\n",
       "0          Closed with explanation               Yes   \n",
       "1  Closed with non-monetary relief                No   \n",
       "2          Closed with explanation                No   \n",
       "3          Closed with explanation                No   \n",
       "4          Closed with explanation                No   \n",
       "\n",
       "                          Consumer-complaint-summary  \n",
       "0  Seterus, Inc a déposé un faux rapport auprès d...  \n",
       "1  XX / XX / XXXX La requête en faillite n ° XXXX...  \n",
       "2  El XXXX / XXXX / 15, estaba preparando el vuel...  \n",
       "3  The loan was paid in XXXX XXXX. In XXXX, 4 yea...  \n",
       "4  J'ai obtenu un compte de crédit de soins pour ...  "
      ]
     },
     "execution_count": 156,
     "metadata": {},
     "output_type": "execute_result"
    }
   ],
   "source": [
    "train_data.head()"
   ]
  },
  {
   "cell_type": "code",
   "execution_count": 157,
   "metadata": {},
   "outputs": [
    {
     "data": {
      "text/plain": [
       "Complaint-ID                  object\n",
       "Date-received                 object\n",
       "Transaction-Type              object\n",
       "Complaint-reason              object\n",
       "Company-response              object\n",
       "Date-sent-to-company          object\n",
       "Complaint-Status              object\n",
       "Consumer-disputes             object\n",
       "Consumer-complaint-summary    object\n",
       "dtype: object"
      ]
     },
     "execution_count": 157,
     "metadata": {},
     "output_type": "execute_result"
    }
   ],
   "source": [
    "train_data.dtypes"
   ]
  },
  {
   "cell_type": "code",
   "execution_count": 158,
   "metadata": {},
   "outputs": [],
   "source": [
    "# import pandas as pd\n",
    "# df = pd.DataFrame({\"Date\": [\"2014-03-29\", \"2014-03-30\", \"2014-03-31\"]})\n",
    "# df[\"Date\"] = pd.to_datetime(df[\"Date\"]).dt.strftime(\"%Y/%m/%d\")\n",
    "# print( df )"
   ]
  },
  {
   "cell_type": "code",
   "execution_count": null,
   "metadata": {},
   "outputs": [],
   "source": []
  },
  {
   "cell_type": "code",
   "execution_count": 160,
   "metadata": {},
   "outputs": [],
   "source": [
    "# creating a new feature from date sent to date received\n",
    "train_data[\"date_sent_to_recieved\"] = (pd.to_datetime(train_data[\"Date-sent-to-company\"]) - \n",
    "                                       pd.to_datetime(train_data[\"Date-received\"])).dt.days"
   ]
  },
  {
   "cell_type": "code",
   "execution_count": 161,
   "metadata": {},
   "outputs": [
    {
     "data": {
      "text/html": [
       "<div>\n",
       "<style scoped>\n",
       "    .dataframe tbody tr th:only-of-type {\n",
       "        vertical-align: middle;\n",
       "    }\n",
       "\n",
       "    .dataframe tbody tr th {\n",
       "        vertical-align: top;\n",
       "    }\n",
       "\n",
       "    .dataframe thead th {\n",
       "        text-align: right;\n",
       "    }\n",
       "</style>\n",
       "<table border=\"1\" class=\"dataframe\">\n",
       "  <thead>\n",
       "    <tr style=\"text-align: right;\">\n",
       "      <th></th>\n",
       "      <th>Complaint-ID</th>\n",
       "      <th>Date-received</th>\n",
       "      <th>Transaction-Type</th>\n",
       "      <th>Complaint-reason</th>\n",
       "      <th>Company-response</th>\n",
       "      <th>Date-sent-to-company</th>\n",
       "      <th>Complaint-Status</th>\n",
       "      <th>Consumer-disputes</th>\n",
       "      <th>Consumer-complaint-summary</th>\n",
       "      <th>date_sent_to_recieved</th>\n",
       "    </tr>\n",
       "  </thead>\n",
       "  <tbody>\n",
       "    <tr>\n",
       "      <th>0</th>\n",
       "      <td>Tr-1</td>\n",
       "      <td>11/11/2015</td>\n",
       "      <td>Mortgage</td>\n",
       "      <td>Loan servicing, payments, escrow account</td>\n",
       "      <td>NaN</td>\n",
       "      <td>11/11/2015</td>\n",
       "      <td>Closed with explanation</td>\n",
       "      <td>Yes</td>\n",
       "      <td>Seterus, Inc a déposé un faux rapport auprès d...</td>\n",
       "      <td>0</td>\n",
       "    </tr>\n",
       "    <tr>\n",
       "      <th>1</th>\n",
       "      <td>Tr-2</td>\n",
       "      <td>7/7/2015</td>\n",
       "      <td>Credit reporting</td>\n",
       "      <td>Incorrect information on credit report</td>\n",
       "      <td>Company chooses not to provide a public response</td>\n",
       "      <td>7/7/2015</td>\n",
       "      <td>Closed with non-monetary relief</td>\n",
       "      <td>No</td>\n",
       "      <td>XX / XX / XXXX La requête en faillite n ° XXXX...</td>\n",
       "      <td>0</td>\n",
       "    </tr>\n",
       "    <tr>\n",
       "      <th>2</th>\n",
       "      <td>Tr-3</td>\n",
       "      <td>5/7/2015</td>\n",
       "      <td>Bank account or service</td>\n",
       "      <td>Using a debit or ATM card</td>\n",
       "      <td>NaN</td>\n",
       "      <td>5/7/2015</td>\n",
       "      <td>Closed with explanation</td>\n",
       "      <td>No</td>\n",
       "      <td>El XXXX / XXXX / 15, estaba preparando el vuel...</td>\n",
       "      <td>0</td>\n",
       "    </tr>\n",
       "    <tr>\n",
       "      <th>3</th>\n",
       "      <td>Tr-4</td>\n",
       "      <td>11/12/2016</td>\n",
       "      <td>Debt collection</td>\n",
       "      <td>Cont'd attempts collect debt not owed</td>\n",
       "      <td>Company believes it acted appropriately as aut...</td>\n",
       "      <td>11/12/2016</td>\n",
       "      <td>Closed with explanation</td>\n",
       "      <td>No</td>\n",
       "      <td>The loan was paid in XXXX XXXX. In XXXX, 4 yea...</td>\n",
       "      <td>0</td>\n",
       "    </tr>\n",
       "    <tr>\n",
       "      <th>4</th>\n",
       "      <td>Tr-5</td>\n",
       "      <td>9/29/2016</td>\n",
       "      <td>Credit card</td>\n",
       "      <td>Payoff process</td>\n",
       "      <td>Company has responded to the consumer and the ...</td>\n",
       "      <td>9/29/2016</td>\n",
       "      <td>Closed with explanation</td>\n",
       "      <td>No</td>\n",
       "      <td>J'ai obtenu un compte de crédit de soins pour ...</td>\n",
       "      <td>0</td>\n",
       "    </tr>\n",
       "  </tbody>\n",
       "</table>\n",
       "</div>"
      ],
      "text/plain": [
       "  Complaint-ID Date-received         Transaction-Type  \\\n",
       "0         Tr-1    11/11/2015                 Mortgage   \n",
       "1         Tr-2      7/7/2015         Credit reporting   \n",
       "2         Tr-3      5/7/2015  Bank account or service   \n",
       "3         Tr-4    11/12/2016          Debt collection   \n",
       "4         Tr-5     9/29/2016              Credit card   \n",
       "\n",
       "                           Complaint-reason  \\\n",
       "0  Loan servicing, payments, escrow account   \n",
       "1    Incorrect information on credit report   \n",
       "2                 Using a debit or ATM card   \n",
       "3     Cont'd attempts collect debt not owed   \n",
       "4                            Payoff process   \n",
       "\n",
       "                                    Company-response Date-sent-to-company  \\\n",
       "0                                                NaN           11/11/2015   \n",
       "1   Company chooses not to provide a public response             7/7/2015   \n",
       "2                                                NaN             5/7/2015   \n",
       "3  Company believes it acted appropriately as aut...           11/12/2016   \n",
       "4  Company has responded to the consumer and the ...            9/29/2016   \n",
       "\n",
       "                  Complaint-Status Consumer-disputes  \\\n",
       "0          Closed with explanation               Yes   \n",
       "1  Closed with non-monetary relief                No   \n",
       "2          Closed with explanation                No   \n",
       "3          Closed with explanation                No   \n",
       "4          Closed with explanation                No   \n",
       "\n",
       "                          Consumer-complaint-summary  date_sent_to_recieved  \n",
       "0  Seterus, Inc a déposé un faux rapport auprès d...                      0  \n",
       "1  XX / XX / XXXX La requête en faillite n ° XXXX...                      0  \n",
       "2  El XXXX / XXXX / 15, estaba preparando el vuel...                      0  \n",
       "3  The loan was paid in XXXX XXXX. In XXXX, 4 yea...                      0  \n",
       "4  J'ai obtenu un compte de crédit de soins pour ...                      0  "
      ]
     },
     "execution_count": 161,
     "metadata": {},
     "output_type": "execute_result"
    }
   ],
   "source": [
    "train_data.head()"
   ]
  },
  {
   "cell_type": "code",
   "execution_count": 162,
   "metadata": {},
   "outputs": [],
   "source": [
    "# Converting date field to int\n",
    "train_data[\"Date-received\"] = pd.to_datetime(train_data[\"Date-received\"]).dt.strftime(\"%d%m%y\").astype(int)\n",
    "train_data[\"Date-sent-to-company\"] = pd.to_datetime(train_data[\"Date-sent-to-company\"]).dt.strftime(\"%d%m%y\").astype(int)"
   ]
  },
  {
   "cell_type": "code",
   "execution_count": 163,
   "metadata": {},
   "outputs": [
    {
     "data": {
      "text/plain": [
       "Complaint-ID                  object\n",
       "Date-received                  int32\n",
       "Transaction-Type              object\n",
       "Complaint-reason              object\n",
       "Company-response              object\n",
       "Date-sent-to-company           int32\n",
       "Complaint-Status              object\n",
       "Consumer-disputes             object\n",
       "Consumer-complaint-summary    object\n",
       "date_sent_to_recieved          int64\n",
       "dtype: object"
      ]
     },
     "execution_count": 163,
     "metadata": {},
     "output_type": "execute_result"
    }
   ],
   "source": [
    "train_data.dtypes"
   ]
  },
  {
   "cell_type": "code",
   "execution_count": 164,
   "metadata": {},
   "outputs": [
    {
     "data": {
      "text/html": [
       "<div>\n",
       "<style scoped>\n",
       "    .dataframe tbody tr th:only-of-type {\n",
       "        vertical-align: middle;\n",
       "    }\n",
       "\n",
       "    .dataframe tbody tr th {\n",
       "        vertical-align: top;\n",
       "    }\n",
       "\n",
       "    .dataframe thead th {\n",
       "        text-align: right;\n",
       "    }\n",
       "</style>\n",
       "<table border=\"1\" class=\"dataframe\">\n",
       "  <thead>\n",
       "    <tr style=\"text-align: right;\">\n",
       "      <th></th>\n",
       "      <th>Complaint-ID</th>\n",
       "      <th>Date-received</th>\n",
       "      <th>Transaction-Type</th>\n",
       "      <th>Complaint-reason</th>\n",
       "      <th>Company-response</th>\n",
       "      <th>Date-sent-to-company</th>\n",
       "      <th>Complaint-Status</th>\n",
       "      <th>Consumer-disputes</th>\n",
       "      <th>Consumer-complaint-summary</th>\n",
       "      <th>date_sent_to_recieved</th>\n",
       "    </tr>\n",
       "  </thead>\n",
       "  <tbody>\n",
       "    <tr>\n",
       "      <th>0</th>\n",
       "      <td>Tr-1</td>\n",
       "      <td>111115</td>\n",
       "      <td>Mortgage</td>\n",
       "      <td>Loan servicing, payments, escrow account</td>\n",
       "      <td>NaN</td>\n",
       "      <td>111115</td>\n",
       "      <td>Closed with explanation</td>\n",
       "      <td>Yes</td>\n",
       "      <td>Seterus, Inc a déposé un faux rapport auprès d...</td>\n",
       "      <td>0</td>\n",
       "    </tr>\n",
       "    <tr>\n",
       "      <th>1</th>\n",
       "      <td>Tr-2</td>\n",
       "      <td>70715</td>\n",
       "      <td>Credit reporting</td>\n",
       "      <td>Incorrect information on credit report</td>\n",
       "      <td>Company chooses not to provide a public response</td>\n",
       "      <td>70715</td>\n",
       "      <td>Closed with non-monetary relief</td>\n",
       "      <td>No</td>\n",
       "      <td>XX / XX / XXXX La requête en faillite n ° XXXX...</td>\n",
       "      <td>0</td>\n",
       "    </tr>\n",
       "    <tr>\n",
       "      <th>2</th>\n",
       "      <td>Tr-3</td>\n",
       "      <td>70515</td>\n",
       "      <td>Bank account or service</td>\n",
       "      <td>Using a debit or ATM card</td>\n",
       "      <td>NaN</td>\n",
       "      <td>70515</td>\n",
       "      <td>Closed with explanation</td>\n",
       "      <td>No</td>\n",
       "      <td>El XXXX / XXXX / 15, estaba preparando el vuel...</td>\n",
       "      <td>0</td>\n",
       "    </tr>\n",
       "    <tr>\n",
       "      <th>3</th>\n",
       "      <td>Tr-4</td>\n",
       "      <td>121116</td>\n",
       "      <td>Debt collection</td>\n",
       "      <td>Cont'd attempts collect debt not owed</td>\n",
       "      <td>Company believes it acted appropriately as aut...</td>\n",
       "      <td>121116</td>\n",
       "      <td>Closed with explanation</td>\n",
       "      <td>No</td>\n",
       "      <td>The loan was paid in XXXX XXXX. In XXXX, 4 yea...</td>\n",
       "      <td>0</td>\n",
       "    </tr>\n",
       "    <tr>\n",
       "      <th>4</th>\n",
       "      <td>Tr-5</td>\n",
       "      <td>290916</td>\n",
       "      <td>Credit card</td>\n",
       "      <td>Payoff process</td>\n",
       "      <td>Company has responded to the consumer and the ...</td>\n",
       "      <td>290916</td>\n",
       "      <td>Closed with explanation</td>\n",
       "      <td>No</td>\n",
       "      <td>J'ai obtenu un compte de crédit de soins pour ...</td>\n",
       "      <td>0</td>\n",
       "    </tr>\n",
       "  </tbody>\n",
       "</table>\n",
       "</div>"
      ],
      "text/plain": [
       "  Complaint-ID  Date-received         Transaction-Type  \\\n",
       "0         Tr-1         111115                 Mortgage   \n",
       "1         Tr-2          70715         Credit reporting   \n",
       "2         Tr-3          70515  Bank account or service   \n",
       "3         Tr-4         121116          Debt collection   \n",
       "4         Tr-5         290916              Credit card   \n",
       "\n",
       "                           Complaint-reason  \\\n",
       "0  Loan servicing, payments, escrow account   \n",
       "1    Incorrect information on credit report   \n",
       "2                 Using a debit or ATM card   \n",
       "3     Cont'd attempts collect debt not owed   \n",
       "4                            Payoff process   \n",
       "\n",
       "                                    Company-response  Date-sent-to-company  \\\n",
       "0                                                NaN                111115   \n",
       "1   Company chooses not to provide a public response                 70715   \n",
       "2                                                NaN                 70515   \n",
       "3  Company believes it acted appropriately as aut...                121116   \n",
       "4  Company has responded to the consumer and the ...                290916   \n",
       "\n",
       "                  Complaint-Status Consumer-disputes  \\\n",
       "0          Closed with explanation               Yes   \n",
       "1  Closed with non-monetary relief                No   \n",
       "2          Closed with explanation                No   \n",
       "3          Closed with explanation                No   \n",
       "4          Closed with explanation                No   \n",
       "\n",
       "                          Consumer-complaint-summary  date_sent_to_recieved  \n",
       "0  Seterus, Inc a déposé un faux rapport auprès d...                      0  \n",
       "1  XX / XX / XXXX La requête en faillite n ° XXXX...                      0  \n",
       "2  El XXXX / XXXX / 15, estaba preparando el vuel...                      0  \n",
       "3  The loan was paid in XXXX XXXX. In XXXX, 4 yea...                      0  \n",
       "4  J'ai obtenu un compte de crédit de soins pour ...                      0  "
      ]
     },
     "execution_count": 164,
     "metadata": {},
     "output_type": "execute_result"
    }
   ],
   "source": [
    "train_data.head()"
   ]
  },
  {
   "cell_type": "code",
   "execution_count": 165,
   "metadata": {},
   "outputs": [
    {
     "data": {
      "text/plain": [
       "Complaint-ID                      0\n",
       "Date-received                     0\n",
       "Transaction-Type                  0\n",
       "Complaint-reason                  0\n",
       "Company-response              22506\n",
       "Date-sent-to-company              0\n",
       "Complaint-Status                  0\n",
       "Consumer-disputes              7698\n",
       "Consumer-complaint-summary        0\n",
       "date_sent_to_recieved             0\n",
       "dtype: int64"
      ]
     },
     "execution_count": 165,
     "metadata": {},
     "output_type": "execute_result"
    }
   ],
   "source": [
    "train_data.isnull().sum()"
   ]
  },
  {
   "cell_type": "code",
   "execution_count": 166,
   "metadata": {},
   "outputs": [],
   "source": [
    "train_data[\"Company-response\"].fillna(\"no response\", inplace = True)"
   ]
  },
  {
   "cell_type": "code",
   "execution_count": 167,
   "metadata": {},
   "outputs": [
    {
     "data": {
      "text/plain": [
       "No     27663\n",
       "Yes     7905\n",
       "Name: Consumer-disputes, dtype: int64"
      ]
     },
     "execution_count": 167,
     "metadata": {},
     "output_type": "execute_result"
    }
   ],
   "source": [
    "train_data[\"Consumer-disputes\"].value_counts()"
   ]
  },
  {
   "cell_type": "code",
   "execution_count": 168,
   "metadata": {},
   "outputs": [],
   "source": [
    "train_data[\"Consumer-disputes\"].fillna(\"No\", inplace = True)"
   ]
  },
  {
   "cell_type": "code",
   "execution_count": 169,
   "metadata": {},
   "outputs": [
    {
     "data": {
      "text/plain": [
       "Complaint-ID                  0\n",
       "Date-received                 0\n",
       "Transaction-Type              0\n",
       "Complaint-reason              0\n",
       "Company-response              0\n",
       "Date-sent-to-company          0\n",
       "Complaint-Status              0\n",
       "Consumer-disputes             0\n",
       "Consumer-complaint-summary    0\n",
       "date_sent_to_recieved         0\n",
       "dtype: int64"
      ]
     },
     "execution_count": 169,
     "metadata": {},
     "output_type": "execute_result"
    }
   ],
   "source": [
    "train_data.isnull().sum()"
   ]
  },
  {
   "cell_type": "code",
   "execution_count": 170,
   "metadata": {},
   "outputs": [
    {
     "data": {
      "text/plain": [
       "Debt collection                                                                 10422\n",
       "Mortgage                                                                         7950\n",
       "Credit reporting                                                                 6706\n",
       "Credit card                                                                      4119\n",
       "Bank account or service                                                          3264\n",
       "Credit reporting, credit repair services, or other personal consumer reports     3169\n",
       "Student loan                                                                     2874\n",
       "Consumer Loan                                                                    2033\n",
       "Credit card or prepaid card                                                       719\n",
       "Checking or savings account                                                       496\n",
       "Payday loan                                                                       363\n",
       "Money transfers                                                                   332\n",
       "Prepaid card                                                                      308\n",
       "Vehicle loan or lease                                                             155\n",
       "Money transfer, virtual currency, or money service                                147\n",
       "Payday loan, title loan, or personal loan                                         145\n",
       "Other financial service                                                            60\n",
       "Virtual currency                                                                    4\n",
       "Name: Transaction-Type, dtype: int64"
      ]
     },
     "execution_count": 170,
     "metadata": {},
     "output_type": "execute_result"
    }
   ],
   "source": [
    "train_data[\"Transaction-Type\"].value_counts()"
   ]
  },
  {
   "cell_type": "code",
   "execution_count": 171,
   "metadata": {},
   "outputs": [
    {
     "data": {
      "text/plain": [
       "I am filing this complaint because Experian has ignored my request to provide me with the documents your company has on file that were used to verify the accounts I disputed. Since they have passed the 30-day mark and can not verify these accounts, under Section 611 (5) (A) of the FCRA, they are required to \"... quickly remove all information that can not be verified\" I have disputed . Please, resolve this way as soon as possible. Thank you.                                                                                                                                                                                                                                                                                                                                                                                                                                                                                                                                                                                                                                                                                                                                                                                                                                                                                                                                                                                                                                                                                                                                                                                                                                                                                                                                                                                                                                                                                                                                                                                                                                                                                                                                                                                                                                                                                                                                                                                                                                                                                                                                                                                                                                                                                                                                                                                                                                                                                                                                                                                                                                                                                                                                                                                                                                                                                                                                                                                                                                                                                                                                                                                                                                                                                                                                                                                                                                                                                                                                                                                                                                                                                                                                                                                                                                                                                                    13\n",
       "Equifax mishandled my information, which has led to a violation that puts me and millions of others at a potential risk. I am extremely disappointed with the way in which Equifax has handled the notification of this breach. Very little was done to notify the public for almost a month after the violation was detected. I did not receive any email, letter or phone call and, instead, I had to discover it through social networks.                                                                                                                                                                                                                                                                                                                                                                                                                                                                                                                                                                                                                                                                                                                                                                                                                                                                                                                                                                                                                                                                                                                                                                                                                                                                                                                                                                                                                                                                                                                                                                                                                                                                                                                                                                                                                                                                                                                                                                                                                                                                                                                                                                                                                                                                                                                                                                                                                                                                                                                                                                                                                                                                                                                                                                                                                                                                                                                                                                                                                                                                                                                                                                                                                                                                                                                                                                                                                                                                                                                                                                                                                                                                                                                                                                                                                                                                                                                     13\n",
       "I am filing this complaint because TransUnion has ignored my request to provide me with the documents your company has on file that were used to verify the accounts I disputed. Since they have passed the 30-day mark and can not verify these accounts, under Section 611 (5) (A) of the FCRA, they are required to \"... quickly remove all information that can not be verified\" I have disputed . Please, resolve this way as soon as possible. Thank you.                                                                                                                                                                                                                                                                                                                                                                                                                                                                                                                                                                                                                                                                                                                                                                                                                                                                                                                                                                                                                                                                                                                                                                                                                                                                                                                                                                                                                                                                                                                                                                                                                                                                                                                                                                                                                                                                                                                                                                                                                                                                                                                                                                                                                                                                                                                                                                                                                                                                                                                                                                                                                                                                                                                                                                                                                                                                                                                                                                                                                                                                                                                                                                                                                                                                                                                                                                                                                                                                                                                                                                                                                                                                                                                                                                                                                                                                                                   7\n",
       "This company continues to report on my credit report after I sent them a letter informing them that this account was not mine and I have no idea what it is or who it belongs to!\\n\\nI requested proof of a signed contract, I requested a license to collect in my state, I requested copies of all the information referred to for this debt and to date, I have received nothing but harassment from this company !\\n\\nTHIS IS NOT MY DEBT!\\n\\nI WANT THIS ACCOUNT TO BE REMOVED FROM MY CREDIT REPORT AND THIS COMPANY TO STOP CONTACTING ME IMMEDIATELY!                                                                                                                                                                                                                                                                                                                                                                                                                                                                                                                                                                                                                                                                                                                                                                                                                                                                                                                                                                                                                                                                                                                                                                                                                                                                                                                                                                                                                                                                                                                                                                                                                                                                                                                                                                                                                                                                                                                                                                                                                                                                                                                                                                                                                                                                                                                                                                                                                                                                                                                                                                                                                                                                                                                                                                                                                                                                                                                                                                                                                                                                                                                                                                                                                                                                                                                                                                                                                                                                                                                                                                                                                                                                                                                                                                                                     6\n",
       "This company continues to report on my credit report after I sent them a letter informing them that this account was not mine and I have no idea what it is or who it belongs to!\\n\\nI requested proof of a signed contract, I requested a license to collect in my state, I requested copies of all the information referred to for this debt and to date, I have received nothing but harassment from this company !\\n\\nTHIS IS NOT MY DEBT!                                                                                                                                                                                                                                                                                                                                                                                                                                                                                                                                                                                                                                                                                                                                                                                                                                                                                                                                                                                                                                                                                                                                                                                                                                                                                                                                                                                                                                                                                                                                                                                                                                                                                                                                                                                                                                                                                                                                                                                                                                                                                                                                                                                                                                                                                                                                                                                                                                                                                                                                                                                                                                                                                                                                                                                                                                                                                                                                                                                                                                                                                                                                                                                                                                                                                                                                                                                                                                                                                                                                                                                                                                                                                                                                                                                                                                                                                                                    6\n",
       "Estoy presentando esta queja porque Experian ha ignorado mi solicitud para proporcionarme los documentos que su compañía tiene archivados que se usaron para verificar las cuentas que disputé. Dado que han pasado la marca de los 30 días y no pueden verificar estas cuentas, bajo la Sección 611 (5) (A) de la FCRA, están obligados a \"... eliminar rápidamente toda la información que no pueda verificarse\" He disputado. Por favor, resuelva esta manera lo antes posible. Gracias.                                                                                                                                                                                                                                                                                                                                                                                                                                                                                                                                                                                                                                                                                                                                                                                                                                                                                                                                                                                                                                                                                                                                                                                                                                                                                                                                                                                                                                                                                                                                                                                                                                                                                                                                                                                                                                                                                                                                                                                                                                                                                                                                                                                                                                                                                                                                                                                                                                                                                                                                                                                                                                                                                                                                                                                                                                                                                                                                                                                                                                                                                                                                                                                                                                                                                                                                                                                                                                                                                                                                                                                                                                                                                                                                                                                                                                                                       5\n",
       "I have no knowledge of that debt.                                                                                                                                                                                                                                                                                                                                                                                                                                                                                                                                                                                                                                                                                                                                                                                                                                                                                                                                                                                                                                                                                                                                                                                                                                                                                                                                                                                                                                                                                                                                                                                                                                                                                                                                                                                                                                                                                                                                                                                                                                                                                                                                                                                                                                                                                                                                                                                                                                                                                                                                                                                                                                                                                                                                                                                                                                                                                                                                                                                                                                                                                                                                                                                                                                                                                                                                                                                                                                                                                                                                                                                                                                                                                                                                                                                                                                                                                                                                                                                                                                                                                                                                                                                                                                                                                                                                 5\n",
       "I am not familiar with this company and I do not understand why they are in my credit. These inquiries affect my credit in a negative way. I would like them to be eliminated.                                                                                                                                                                                                                                                                                                                                                                                                                                                                                                                                                                                                                                                                                                                                                                                                                                                                                                                                                                                                                                                                                                                                                                                                                                                                                                                                                                                                                                                                                                                                                                                                                                                                                                                                                                                                                                                                                                                                                                                                                                                                                                                                                                                                                                                                                                                                                                                                                                                                                                                                                                                                                                                                                                                                                                                                                                                                                                                                                                                                                                                                                                                                                                                                                                                                                                                                                                                                                                                                                                                                                                                                                                                                                                                                                                                                                                                                                                                                                                                                                                                                                                                                                                                    4\n",
       "I have not received any documentation that validates the debt they are trying to collect. I have not been given a contract or any instrument with my signature that validates that this debt is mine.                                                                                                                                                                                                                                                                                                                                                                                                                                                                                                                                                                                                                                                                                                                                                                                                                                                                                                                                                                                                                                                                                                                                                                                                                                                                                                                                                                                                                                                                                                                                                                                                                                                                                                                                                                                                                                                                                                                                                                                                                                                                                                                                                                                                                                                                                                                                                                                                                                                                                                                                                                                                                                                                                                                                                                                                                                                                                                                                                                                                                                                                                                                                                                                                                                                                                                                                                                                                                                                                                                                                                                                                                                                                                                                                                                                                                                                                                                                                                                                                                                                                                                                                                             4\n",
       "This company continues to report on my credit report after I sent them a letter informing them that this account was not mine and I have no idea what it is or who it belongs to!\\n\\nI requested proof of a signed contract, I requested a license to collect in my state, I requested copies of all the information referred to for this debt and to date, I have received nothing but harassment from this company !                                                                                                                                                                                                                                                                                                                                                                                                                                                                                                                                                                                                                                                                                                                                                                                                                                                                                                                                                                                                                                                                                                                                                                                                                                                                                                                                                                                                                                                                                                                                                                                                                                                                                                                                                                                                                                                                                                                                                                                                                                                                                                                                                                                                                                                                                                                                                                                                                                                                                                                                                                                                                                                                                                                                                                                                                                                                                                                                                                                                                                                                                                                                                                                                                                                                                                                                                                                                                                                                                                                                                                                                                                                                                                                                                                                                                                                                                                                                            4\n",
       "I am filing this complaint because Equifax has ignored my request to provide me with the documents your company has on file that were used to verify the accounts I disputed. Since they have passed the 30-day mark and can not verify these accounts, under Section 611 (5) (A) of the FCRA, they are required to \"... quickly remove all information that can not be verified\" I have disputed . Please, resolve this way as soon as possible. Thank you.                                                                                                                                                                                                                                                                                                                                                                                                                                                                                                                                                                                                                                                                                                                                                                                                                                                                                                                                                                                                                                                                                                                                                                                                                                                                                                                                                                                                                                                                                                                                                                                                                                                                                                                                                                                                                                                                                                                                                                                                                                                                                                                                                                                                                                                                                                                                                                                                                                                                                                                                                                                                                                                                                                                                                                                                                                                                                                                                                                                                                                                                                                                                                                                                                                                                                                                                                                                                                                                                                                                                                                                                                                                                                                                                                                                                                                                                                                      4\n",
       "Three times I have sent requests to individual credit agencies XXXX as well as to XXXX XXXX XXXX requesting the inaccurate report of late payments in XXXX and XXXX XXXX to be removed from all XXXX of my federal loans with account numbers XXXX, XXXX, XXXX, & XXXX. The agency reported a timely payment on XXXX XXXX, 60 days late XXXX XXXX, and 90 days late XXXX XXXX for all my accounts. During this time, I was struggling with the company to approve my IBR. XXXX XXXX, XXXX spoke with agent # XXXX, with XXXX, who acted retroactively my postponement until XXXX XXXX, XXXX so that it is active until XXXX. I followed XXXX XXXX, to make sure my account was up to date, I spoke with a man, XXXX, @ XXXX XXXX (MST) who said he was in postponement with a {$ 0.00} ball from XXXX XXXX. Whenever I request that inaccurate reports be corrected, XXXX posts an observation of \"Disputed resolved, the Client does not agree\". Nothing has been resolved. It was in postponement, so the final notices must be deleted.                                                                                                                                                                                                                                                                                                                                                                                                                                                                                                                                                                                                                                                                                                                                                                                                                                                                                                                                                                                                                                                                                                                                                                                                                                                                                                                                                                                                                                                                                                                                                                                                                                                                                                                                                                                                                                                                                                                                                                                                                                                                                                                                                                                                                                                                                                                                                                                                                                                                                                                                                                                                                                                                                                                                                                                                                                                                                                                                                                                                                                                                                                                                                                                                                                                                                                                        3\n",
       "I recently received a copy of my credit report and shows a query from this company that I do not remember authorizing.                                                                                                                                                                                                                                                                                                                                                                                                                                                                                                                                                                                                                                                                                                                                                                                                                                                                                                                                                                                                                                                                                                                                                                                                                                                                                                                                                                                                                                                                                                                                                                                                                                                                                                                                                                                                                                                                                                                                                                                                                                                                                                                                                                                                                                                                                                                                                                                                                                                                                                                                                                                                                                                                                                                                                                                                                                                                                                                                                                                                                                                                                                                                                                                                                                                                                                                                                                                                                                                                                                                                                                                                                                                                                                                                                                                                                                                                                                                                                                                                                                                                                                                                                                                                                                            3\n",
       "Experian does not respond to my requests to investigate and remove accounts that do not belong to me from my credit report.                                                                                                                                                                                                                                                                                                                                                                                                                                                                                                                                                                                                                                                                                                                                                                                                                                                                                                                                                                                                                                                                                                                                                                                                                                                                                                                                                                                                                                                                                                                                                                                                                                                                                                                                                                                                                                                                                                                                                                                                                                                                                                                                                                                                                                                                                                                                                                                                                                                                                                                                                                                                                                                                                                                                                                                                                                                                                                                                                                                                                                                                                                                                                                                                                                                                                                                                                                                                                                                                                                                                                                                                                                                                                                                                                                                                                                                                                                                                                                                                                                                                                                                                                                                                                                       3\n",
       "I have sent several requests to Experian requesting an investigation of my accounts. Months have passed and I still have not received an answer to my concerns. The only thing I have received is an automatic rejection letter stating that they did not do anything to help me (see the attached document).\\nThis has to be a violation of my rights. I feel like I've already wasted a lot of time trying to get Experian to see the errors on my credit report and I'm so frustrated that Experian is not responding to my questions intentionally. I need to have this problem solved immediately. There are many things that I have to do with my life and they all involve my credit. But I can not advance everything because of this credit agency!                                                                                                                                                                                                                                                                                                                                                                                                                                                                                                                                                                                                                                                                                                                                                                                                                                                                                                                                                                                                                                                                                                                                                                                                                                                                                                                                                                                                                                                                                                                                                                                                                                                                                                                                                                                                                                                                                                                                                                                                                                                                                                                                                                                                                                                                                                                                                                                                                                                                                                                                                                                                                                                                                                                                                                                                                                                                                                                                                                                                                                                                                                                                                                                                                                                                                                                                                                                                                                                                                                                                                                                                      3\n",
       "In XXXX, I requested my free annual credit report. After seeing my credit report, I noticed more than XXXX credit / loan inquiries in my account that were not authorized by me. I contacted each company and was informed that there was no account opened under my information. I explained that I have a difficult question on my credit report and that I need to be removed as soon as possible in order to apply for housing. They told me that the queries would be deleted from my credit report. As of XXXX / XXXX / XXXX, none of the queries has been deleted since XXXX. I received an initial fraud alert on my XXXX XXXX report, so if the company contacted me with a credit report, the company would contact me before a decision was made. I just want the queries to be deleted so that my score and credit will no longer be affected. I would like to buy a house, but until all inquiries are eliminated, I will not be approved with XXXX queries on my credit report.                                                                                                                                                                                                                                                                                                                                                                                                                                                                                                                                                                                                                                                                                                                                                                                                                                                                                                                                                                                                                                                                                                                                                                                                                                                                                                                                                                                                                                                                                                                                                                                                                                                                                                                                                                                                                                                                                                                                                                                                                                                                                                                                                                                                                                                                                                                                                                                                                                                                                                                                                                                                                                                                                                                                                                                                                                                                                                                                                                                                                                                                                                                                                                                                                                                                                                                                                                     3\n",
       "Je dépose cette plainte car Experian a ignoré ma demande de me fournir les documents de son entreprise qui ont été utilisés dans le dossier et qui ont été utilisés pour vérifier les comptes que j'ai contestés. Étant donné qu'ils ont dépassé le délai de 30 jours et ne peuvent pas vérifier ces comptes, en vertu de l'article 611 (5) (A) de la FCRA, ils sont tenus de \"... supprimer rapidement toutes les informations qui ne peuvent être vérifiées J'ai contesté. S'il vous plaît résoudre cette manière dès que possible. Merci.                                                                                                                                                                                                                                                                                                                                                                                                                                                                                                                                                                                                                                                                                                                                                                                                                                                                                                                                                                                                                                                                                                                                                                                                                                                                                                                                                                                                                                                                                                                                                                                                                                                                                                                                                                                                                                                                                                                                                                                                                                                                                                                                                                                                                                                                                                                                                                                                                                                                                                                                                                                                                                                                                                                                                                                                                                                                                                                                                                                                                                                                                                                                                                                                                                                                                                                                                                                                                                                                                                                                                                                                                                                                                                                                                                                                                      3\n",
       "Je dépose cette plainte parce que TransUnion a ignoré ma demande de me fournir les documents au dossier de leur entreprise qui ont été utilisés pour vérifier les comptes que j'ai contestés. Étant donné qu'ils ont dépassé le délai de 30 jours et ne peuvent pas vérifier ces comptes, en vertu de l'article 611 (5) (A) de la FCRA, ils sont tenus de \"... supprimer rapidement toutes les informations qui ne peuvent être vérifiées J'ai contesté. S'il vous plaît résoudre cette manière dès que possible. Merci.                                                                                                                                                                                                                                                                                                                                                                                                                                                                                                                                                                                                                                                                                                                                                                                                                                                                                                                                                                                                                                                                                                                                                                                                                                                                                                                                                                                                                                                                                                                                                                                                                                                                                                                                                                                                                                                                                                                                                                                                                                                                                                                                                                                                                                                                                                                                                                                                                                                                                                                                                                                                                                                                                                                                                                                                                                                                                                                                                                                                                                                                                                                                                                                                                                                                                                                                                                                                                                                                                                                                                                                                                                                                                                                                                                                                                                          3\n",
       "A few months ago I applied for my credit report to Experian. I received this letter from them telling me that they received something that looked like fraud. I did not have the opportunity to call them immediately and, honestly, I thought it was a mistake, so I connected and got my report from some website.\\nI ended up filing some disputes because there was incorrect and incomplete information on my credit report. So I prepared a good letter and sent it with a copy of my driver's license, proof of my social security number and proof of my email address so that Experian can verify my identity.\\nIt has been at least 2 months since I sent my letter and I have not received a response. When I try to call their number XXXX, they want a report number before talking to an agent and, since I do not have one, I can not talk to anyone.\\nI thought that the credit companies had to answer me within 30 days, otherwise, are you supposed to eliminate things from my credit report?\\nWell, it's been more than 30 days and all the things I've discussed are still there. I know I can connect online, buy a credit monitoring service and try to dispute things online, but I thought Experian should help me for free!\\nI'm at the point where I've finished wasting my time and I need to fix it right away.                                                                                                                                                                                                                                                                                                                                                                                                                                                                                                                                                                                                                                                                                                                                                                                                                                                                                                                                                                                                                                                                                                                                                                                                                                                                                                                                                                                                                                                                                                                                                                                                                                                                                                                                                                                                                                                                                                                                                                                                                                                                                                                                                                                                                                                                                                                                                                                                                                                                                                                                                                                                                                                                                                                                                                                                                                                                                                                                                                                                                     3\n",
       "The company did not respond to the inquiry letter related to the incorrect reporting of credit reports.                                                                                                                                                                                                                                                                                                                                                                                                                                                                                                                                                                                                                                                                                                                                                                                                                                                                                                                                                                                                                                                                                                                                                                                                                                                                                                                                                                                                                                                                                                                                                                                                                                                                                                                                                                                                                                                                                                                                                                                                                                                                                                                                                                                                                                                                                                                                                                                                                                                                                                                                                                                                                                                                                                                                                                                                                                                                                                                                                                                                                                                                                                                                                                                                                                                                                                                                                                                                                                                                                                                                                                                                                                                                                                                                                                                                                                                                                                                                                                                                                                                                                                                                                                                                                                                           3\n",
       "I have been a victim of identity theft. I have tried to work with the Credit Reporting Agency, but they refuse to honor my valid identity theft case, so these incorrect / fraudulent items are still on my credit report and should be removed immediately, but they do not belong to me. I have provided all the evidence to prove that I was a victim of identity theft and that, to my knowledge, these fraudulent accounts do not belong to me. Take immediate action on my behalf to be able to eliminate, delete and permanently block these elements of my credit report, so that I can return to normal.\\n\\nregards                                                                                                                                                                                                                                                                                                                                                                                                                                                                                                                                                                                                                                                                                                                                                                                                                                                                                                                                                                                                                                                                                                                                                                                                                                                                                                                                                                                                                                                                                                                                                                                                                                                                                                                                                                                                                                                                                                                                                                                                                                                                                                                                                                                                                                                                                                                                                                                                                                                                                                                                                                                                                                                                                                                                                                                                                                                                                                                                                                                                                                                                                                                                                                                                                                                                                                                                                                                                                                                                                                                                                                                                                                                                                                                                      3\n",
       "Recently I checked my credit and discovered that this company has reported that I owe them a debt. As far as I know, I have never received a notice from this company. I have never received any goods or services from this company and I have not signed a contract stating that I would do so.                                                                                                                                                                                                                                                                                                                                                                                                                                                                                                                                                                                                                                                                                                                                                                                                                                                                                                                                                                                                                                                                                                                                                                                                                                                                                                                                                                                                                                                                                                                                                                                                                                                                                                                                                                                                                                                                                                                                                                                                                                                                                                                                                                                                                                                                                                                                                                                                                                                                                                                                                                                                                                                                                                                                                                                                                                                                                                                                                                                                                                                                                                                                                                                                                                                                                                                                                                                                                                                                                                                                                                                                                                                                                                                                                                                                                                                                                                                                                                                                                                                                 3\n",
       "I recently took out my loan and discovered that this company has reported that I owe them a debt. As far as I know, I have never entered into a financial agreement with this company nor have they provided me with goods or services.                                                                                                                                                                                                                                                                                                                                                                                                                                                                                                                                                                                                                                                                                                                                                                                                                                                                                                                                                                                                                                                                                                                                                                                                                                                                                                                                                                                                                                                                                                                                                                                                                                                                                                                                                                                                                                                                                                                                                                                                                                                                                                                                                                                                                                                                                                                                                                                                                                                                                                                                                                                                                                                                                                                                                                                                                                                                                                                                                                                                                                                                                                                                                                                                                                                                                                                                                                                                                                                                                                                                                                                                                                                                                                                                                                                                                                                                                                                                                                                                                                                                                                                           3\n",
       "Estoy presentando esta queja porque creo que lo que Experian me está haciendo está mal, es poco ético y puede estar en contra de la ley. Se envió una carta a Experian alrededor de [XXXX / XXXX / 15].\\nLes manifesté claramente mis inquietudes con respecto a la información incorrecta, cuestionable o no verificable que figura en mi informe de crédito. También proporcioné una copia clara de mi identificación, comprobante de mi número de seguro social y comprobante de mi dirección postal actual.\\nEl [XXXX / XXXX / 15] recibí una notificación de Experian que dice lo siguiente: \"Recibimos una solicitud sospechosa por correo con respecto a su informe de crédito personal y determinamos que no fue enviada por usted. Las solicitudes sospechosas son revisadas por el personal de seguridad de Experian que trabaja regularmente con los funcionarios encargados de hacer cumplir la ley y las agencias reguladoras para identificar la correspondencia fraudulenta y engañosa que se origina en los consumidores.\\nEn un esfuerzo por proteger su información de crédito personal contra el fraude, no iniciaremos ninguna disputa basada en la correspondencia sospechosa.\\nExperian aplicará esta misma política a cualquier solicitud sospechosa en el futuro que recibamos con respecto a su información crediticia personal, pero no le enviaremos avisos adicionales de correspondencia sospechosa.\\nSi cree que la información en su informe de crédito personal es inexacta o incompleta, visite nuestro sitio web en experian.com/validate en el conflicto o llámenos al XXXX (XXXX) XXXX para hablar directamente con un representante de asistencia al consumidor de Experian. \"Sin embargo, en este aviso ni siquiera se proporcionó un número de confirmación de Experian. No puedo imaginar lo que podría haber sido\" sospechoso \"sobre mi correspondencia con Experian. ¡No debería tener que pasar horas interminables en el teléfono llamando a la agencia de crédito de un lado a otro intentando resolver los problemas en mi informe de crédito! Estoy presentando esta queja porque Experian no responderá a ninguna carta que esté enviando. ¡Estoy seguro de que esto podría ser una violación de mis derechos y Experian no debe ignorar deliberadamente mis preocupaciones!                                                                                                                                                                                                                                                                                                                                                                                                                                                                                                                                                                                                                                                                                                                                                                                                                                                                                                                                                                                                                                                                                                                                                                                                                                                                                                                                                                                                                                                                                                                                                                                                                                                                                                                                                                                                                                                                                                                                                                                                                                      3\n",
       "I have disputed this unknown unauthorized inquiry on my credit report with the reporting agencies. It has not been removed from my reports, therefore, I am filing a formal complaint. I have never requested any services or funds from this agency. I have never shared my SSN or any other personal information with this company. I have never signed or signed any kind of agreement with this company. I have never visited or requested any online service with this company. I am not aware of this business, how they received my personal information or why they report on my credit report. All information that is listed on my credit report is inaccurate and unauthorized by me.                                                                                                                                                                                                                                                                                                                                                                                                                                                                                                                                                                                                                                                                                                                                                                                                                                                                                                                                                                                                                                                                                                                                                                                                                                                                                                                                                                                                                                                                                                                                                                                                                                                                                                                                                                                                                                                                                                                                                                                                                                                                                                                                                                                                                                                                                                                                                                                                                                                                                                                                                                                                                                                                                                                                                                                                                                                                                                                                                                                                                                                                                                                                                                                                                                                                                                                                                                                                                                                                                                                                                                                                                                                                  3\n",
       "While reviewing my personal credit report, I noticed an unauthorized and fraudulent credit request made by XXXX on or around XX / XX / XXXX in Transunion. I did not authorize any person employed by this company to make any inquiries and see my credit report. XXXX has violated Law 1681b (c) of the Fair Credit Information Act. They had no legal right to carry out this fraudulent investigation. This is a serious violation of my privacy rights.\\nI have requested that you send me a copy of my signed authorization form that gave you the right to see my credit within five (5) business days to verify its validity and I informed you that if you can not provide proof that I authorized you to see my credit report, then I demand that they contact the credit bureaus immediately and ask them to immediately withdraw the unauthorized and fraudulent query. I also asked them to remove my personal information from their records. My social security number is XXXX and my date of birth is XX / XX / XXXX in case it is necessary to locate the fraudulent query on your system.                                                                                                                                                                                                                                                                                                                                                                                                                                                                                                                                                                                                                                                                                                                                                                                                                                                                                                                                                                                                                                                                                                                                                                                                                                                                                                                                                                                                                                                                                                                                                                                                                                                                                                                                                                                                                                                                                                                                                                                                                                                                                                                                                                                                                                                                                                                                                                                                                                                                                                                                                                                                                                                                                                                                                                                                                                                                                                                                                                                                                                                                                                                                                                                                                                                       3\n",
       "The company has not removed the item after I provided the proof.                                                                                                                                                                                                                                                                                                                                                                                                                                                                                                                                                                                                                                                                                                                                                                                                                                                                                                                                                                                                                                                                                                                                                                                                                                                                                                                                                                                                                                                                                                                                                                                                                                                                                                                                                                                                                                                                                                                                                                                                                                                                                                                                                                                                                                                                                                                                                                                                                                                                                                                                                                                                                                                                                                                                                                                                                                                                                                                                                                                                                                                                                                                                                                                                                                                                                                                                                                                                                                                                                                                                                                                                                                                                                                                                                                                                                                                                                                                                                                                                                                                                                                                                                                                                                                                                                                  3\n",
       "Equifax a mal géré mes informations, ce qui a entraîné une violation qui met moi-même et des millions d'autres en danger Je suis extrêmement déçu de la manière dont equifax a géré le signalement de cette violation. Très peu de choses ont été faites pour informer le public pendant près d'un mois après la détection de la violation. Je n'ai reçu aucun courrier électronique, lettre ou appel téléphonique, mais j'ai dû le découvrir via les médias sociaux.                                                                                                                                                                                                                                                                                                                                                                                                                                                                                                                                                                                                                                                                                                                                                                                                                                                                                                                                                                                                                                                                                                                                                                                                                                                                                                                                                                                                                                                                                                                                                                                                                                                                                                                                                                                                                                                                                                                                                                                                                                                                                                                                                                                                                                                                                                                                                                                                                                                                                                                                                                                                                                                                                                                                                                                                                                                                                                                                                                                                                                                                                                                                                                                                                                                                                                                                                                                                                                                                                                                                                                                                                                                                                                                                                                                                                                                                                             3\n",
       "This company has been reporting illegally and inaccurately to the credit bureaus. This account was opened in 2011. The last payment was made in 2011, however, this company has been reporting for 1 month and during the next 5 months it will report negative late payments and then report again the payment made. I have not made any payments since 2011. I direct it to the credit bureaus that informed me that this is illegal and that they send it directly to the company as well. I contacted them about this and they told me they did not know what I was talking about and demanded payment. I sent them a copy of my credit report that showed exactly what I was talking about and then they told me they did not know how it happened and demanded payment. I informed them that they were violating the Florida Debt Limitations Statutes Act and the Fair Credit Billing Act. The Manager took an attitude and laughed and demanded payment once again. They have been fraudulently reporting to keep the account open and have destroyed my credit. Please see page 43 of my credit report.                                                                                                                                                                                                                                                                                                                                                                                                                                                                                                                                                                                                                                                                                                                                                                                                                                                                                                                                                                                                                                                                                                                                                                                                                                                                                                                                                                                                                                                                                                                                                                                                                                                                                                                                                                                                                                                                                                                                                                                                                                                                                                                                                                                                                                                                                                                                                                                                                                                                                                                                                                                                                                                                                                                                                                                                                                                                                                                                                                                                                                                                                                                                                                                                                                                  2\n",
       "I checked my credit report on XX / XX / 2016 that the status of the account was closed bal.\\nit was {$ 0.00} XXXX dollars. The payment status was collection / collection. The comments were charged at the fixed rate of the account. now in XX / XX / 2016 I noticed that they changed the balance of {$ 0.00} XXXX dollars to {$ 130.00}. I sent letters to the company and to the credit reporting agency in the first letter on the topic XX / XX / XXXX and they did not explain how I owe this debt. when from the beginning of XX / XX / 2016 they could never show evidence by verifying my signature on this account. has made my scores go down a lot if you can check my credit report of XX / XX / 2016 and then verify it XX / XX / 2016, that's when things changed.                                                                                                                                                                                                                                                                                                                                                                                                                                                                                                                                                                                                                                                                                                                                                                                                                                                                                                                                                                                                                                                                                                                                                                                                                                                                                                                                                                                                                                                                                                                                                                                                                                                                                                                                                                                                                                                                                                                                                                                                                                                                                                                                                                                                                                                                                                                                                                                                                                                                                                                                                                                                                                                                                                                                                                                                                                                                                                                                                                                                                                                                                                                                                                                                                                                                                                                                                                                                                                                                                                                                                                               2\n",
       "                                                                                                                                                                                                                                                                                                                                                                                                                                                                                                                                                                                                                                                                                                                                                                                                                                                                                                                                                                                                                                                                                                                                                                                                                                                                                                                                                                                                                                                                                                                                                                                                                                                                                                                                                                                                                                                                                                                                                                                                                                                                                                                                                                                                                                                                                                                                                                                                                                                                                                                                                                                                                                                                                                                                                                                                                                                                                                                                                                                                                                                                                                                                                                                                                                                                                                                                                                                                                                                                                                                                                                                                                                                                                                                                                                                                                                                                                                                                                                                                                                                                                                                                                                                                                                                                                                                                                                 ..\n",
       "In XXXX XXXX, 2015, I made XXXX purchases through Pay Pal. I have made many purchases with Pay Pal in the past and have always selected my debit card as the default payment. The purchase of XXXX that I made in XXXX XXXX, for {$ 100.00}, used my debit card as a method of payment. When I made the purchase of XXXX, for {$ 45.00}, I believed that my debit card was also selected as the payment method. The next day, I received an email informing me that the purchase of {$ 45.00} had been designed to open a PayPal credit account. I did NOT select the PayPal Credit during this purchase, and I was very confused about why PayPal would establish its Credit service as the default payment option without my permission. I called PayPal immediately that day and talked to customer service to express my frustration at being tricked into opening a line of credit with them. I asked that I be allowed to pay my balance immediately and that the line of credit be closed. My budget is extremely tight and I needed to make this important purchase while I still had the funds in my account. The Supervisor told me that there was no way to make the payment and close the account immediately because the payment had not been sent from the Provider to my PayPal credit account. They informed me that if I wanted to make the payment immediately, I would have to contact the provider. The provider was a professional contact who was not willing to involve me in my financial affairs, so I had no choice but to leave the credit line open and hope that I had enough money to pay the balance when it was finally published in the account. I was confused, frustrated, stressed and upset, and at that moment I did not know I had any recourse. Last night I read on the news that many other consumers had experienced the same problem with PayPal and that the Credit Protection Office was fining PayPal for this deceptive credit practice. Immediately I decided to send my complaint too, hoping to add the voice of XXXX plus consumer who was tricked into opening a PayPal line of credit against my will and without my knowledge. I have attached the PayPal credit statement, which indicates the date of purchases and the payment methods used. I will also attach a part of my bank statement that shows where I paid the balance.                                                                                                                                                                                                                                                                                                                                                                                                                                                                                                                                                                                                                                                                                                                                                                                                                                                                                                                                                                                                                                                                                                                                                                                                                                                                                                                                                                                                                                                                                                                                                                                                                                                                                                                                                                                                                                                                                                                                                                        1\n",
       "Presenté la solicitud de protección por bancarrota el XXXX XXXX XXXX y también presenté una reafirmación de deuda con Ford Motor Credit. Durante el Período de Bancarrota, se prohibió a Ford Motor Credit el cobro de pagos de automóviles en lugar de mi reafirmación, exigida por XXXX XXXX XXXX XXXX, que no incluiría mi automóvil como parte del caso de bancarrota. Retuve mis términos de la reafirmación del acuerdo de deuda y fui dado de baja de la protección por bancarrota el XXXX XXXX XXXX.\\n\\nPor lo tanto para: XXXX XXXX XXXX XXXX\\n  XXXX XXXX\\n  XXXX XXXX\\nlos pagos de mi cuenta deben estar al día o no informados. Sin embargo, Ford Motor Credit se niega a actualizar mi cuenta y todas las agencias de crédito XXXX se niegan a corregir mi informe de crédito.\\nMuestra: XXXX XXXX: 30 días tarde XXXX XXXX: OK, lo cual es extraño porque no hice un pago y en XXXX XXXX aparentemente tuve 30 días de retraso\\n  XXXX XXXX: 30 días de retraso\\n  XXXX XXXX: Regreso a OK, aunque no hice un pago y aparentemente tenía 30 días de retraso en XXXX XXXX.\\n\\nEsto hace que mi puntaje de crédito se reduzca y se me haya negado el crédito en numerosas ocasiones, citando información en mi informe de crédito de todas las agencias de crédito de XXXX.\\n\\nEn particular, me rechazaron un préstamo importante para mi automóvil XXXX XXXX XXXX XXXX, debido a mi historial de pagos con Ford Motor Credit.\\n\\nPor favor ayude a corregir mi cuenta de crédito Ford Motor con todas las agencias XXXX.\\nCREDITO FORD MOTOR XXXX XXXX XXXX\\n XXXX, NE XXXX\\n  XXXX XXXX\\nFecha de apertura: XX / XX / XXXX\\nResponsabilidad: Cuenta Individual\\nTipo de cuenta: Cuenta a plazos\\nTipo de préstamo: AUTOMÓVIL\\nBalance: XXXX Fecha de actualización: XX / XX / XXXX\\nPago recibido: XXXX\\nÚltimo pago realizado: XX / XX / XXXX\\nEquilibrio alto: XXXX\\nEstado de pago: actual; Pagado o pagando según lo acordado\\nTérminos: XXXX por mes, pagados mensualmente por 72 meses.\\nFecha de cierre: XX / XX / XXXX\\n> Delincuencia máxima de 30 días en XX / XX / XXXX y en XXXX <\\nObservaciones: REAFIRMACIÓN DE LA DEUDA; DISP INVG COMP-RPT POR GRNTR; CERRADO\\n\\n \\n XX / XX / XXXX XXXX XXXX\\n XX / XX / XXXX\\n XX / XX / XXXX\\n XX / XX / XXXX XXXX XXXX XXXX XXXX\\nClasificación\\nDE ACUERDO\\nDE ACUERDO\\nDE ACUERDO\\nDE ACUERDO\\nDE ACUERDO\\n30\\n30\\nDE ACUERDO\\nDE ACUERDO\\nOK XXXX\\n XX / XX / XXXX\\n  XXXX\\n XX / XX / XXXX\\n XX / XX / XXXX\\n XX / XX / XXXX\\n  XXXX XX / XX / XXXX XXXX XXXX\\nClasificación\\nDE ACUERDO\\nDE ACUERDO\\nDE ACUERDO\\nDE ACUERDO\\n30\\nDE ACUERDO\\n30\\nDE ACUERDO\\nDE ACUERDO\\nDE ACUERDO                                                                                                                                                                                                                                                                                                                                                                                                                                                                                                                                                                                                                                                                                                                                                                                                                                                                                                                                                                                                                                                                                                                                                                                                                                                                                                                                                                                                                                                                                                                                                                                                                                                                                                     1\n",
       "XXXX Il y a une reprise de possession de véhicule de California Auto Finance et une récupération de la reprise de reprise de pension de XXXX sur mon dossier de crédit. J'ai contesté les bureaux d'information. Le compte XXXX a été supprimé des XXXX et XXXX mais est resté sur XXXX. La collection de XXXX provenant du référent faisait toujours rapport aux 3 bureaux. Après les bureaux de crédit ont prétendu avoir vérifié la dette. J'ai envoyé une lettre conforme avec accusé de réception au concessionnaire automobile, indiquant que le véhicule avait été acheté, XXXX à California Auto Finance et XXXX, leur demandant de fournir des copies des mentions légales et une preuve de la manière commercialement raisonnable de la revente du véhicule. véhicule sujet.\\nSi aucune preuve de ce type n'est fournie dans les 14 jours suivant la réception de cet avis, la prétendue réclamation d'une insuffisance sera considérée comme nulle et non avenue, et toute activité de recouvrement continue, ou le signalement continu de cette réclamation invalide sur mes rapports de crédit, sera considéré comme une violation. FDCPA et FCRA.\\nEn outre, si vous ne respectez pas, individuellement ou individuellement, les demandes susmentionnées, je me réserve le droit de réclamer des dommages-intérêts à toutes les parties, en vertu de toutes les lois disponibles des États et lois fédérales et des recours UCC 9.\\n\\nXXXX a répondu avec une note manuscrite indiquant que \"le créancier initial indique qu'il n'a pas transféré le vechile, il n'y a donc pas de documents à envoyer\". XXXX a continué à quitter \"incapable de contacter le débiteur à la section des commentaires de ma fiche de crédit après ils m'ont contacté avec une lettre écrite à la main. California Auto Finance et XXXX n'ont pas répondu à ma demande. Étant donné que XXXX n’a pas répondu ni fourni de documentation, estimez que la prétendue allégation de défaut sera considérée comme nulle et non avenue, et que toute activité de recouvrement continue ou toute déclaration continue de cette réclamation invalide sur mes rapports de crédit sera considérée comme une violation des conditions de crédit. FDCPA et FCRA.\\n\\nEn l'absence de réponse, j'ai envoyé une lettre aux agences d'évaluation du crédit les informant que j'avais personnellement contacté California Auto Finance et XXXX pour demander la documentation nécessaire pour les valider, et qu'aucune des deux sociétés n'était en mesure de me fournir la documentation demandée, mais les comptes reviennent toujours comme étant vérifiés et California Auto Finance a changé le statut du compte, passant de reprise à charge, et XXXX a retiré son commentaire en déclarant qu’ils n’avaient pas été en mesure de trouver le débiteur «moi».\\n\\nJe crois qu'aucune des deux entreprises ne dispose de la paperasse appropriée pour ce compte et souhaite que les informations soient supprimées de mon dossier de crédit. Je téléchargerai tous les documents que j'ai mentionnés.\\n\\nMerci, XXXX                                                                                                                                                                                                                                                                                                                                                                                                                                                                                                                                                                                                                                                                                                                                                                                                                                                                                                                                                                                                                                                                                                                                                                                                                                                               1\n",
       "I have a Visa Citi prepaid debit card of XXXX, XXXX XXXX that matured with {$ 50.00} at XXXX 2016. According to the Consumer Financial Protection Office, this card should be replaced with a similar card or check. I contacted Citi Card Services on XXXX XXXX XXXX to request a replacement XXXX card with the instructions on the CFPB website. I spoke with XXXX (employee identification: XXXX). He said they would not honor the card or issue a replacement, regardless of what the CFPB said. The address he gave to Citi Credit Services was XXXX XXXX, Pa XXXX.                                                                                                                                                                                                                                                                                                                                                                                                                                                                                                                                                                                                                                                                                                                                                                                                                                                                                                                                                                                                                                                                                                                                                                                                                                                                                                                                                                                                                                                                                                                                                                                                                                                                                                                                                                                                                                                                                                                                                                                                                                                                                                                                                                                                                                                                                                                                                                                                                                                                                                                                                                                                                                                                                                                                                                                                                                                                                                                                                                                                                                                                                                                                                                                                                                                                                                                                                                                                                                                                                                                                                                                                                                                                                                                                                                                        1\n",
       "This is a complaint related to ongoing problems and damages caused by JPMorgan Chase Bank N.A. (\"Chase\") and the illegal transfer of a fraudulent loan to XXXX XXXX XXXX, XXXX This is also a complaint to protest the designation of previous claims as duplicates or \"uncontested\" by the CFPB, as well as for the lack of of compliance with laws, agreements or the responsibilities claimed of the CFPB, the OCC and other agencies.\\nChase violates the National Mortgage Agreement despite claims of the Monitor, XXXX XXXX, and can not be allowed to continue its non-compliance and, what is worse, to be given a clean sheet. Other settlements have also been violated in connection with the damage done to homeowners, against relief claims from Chase and government agencies.\\nMy complaints and others should be investigated, as well as compliance and possible manipulation of funds by lenders / administrators such as Chase and its affiliates or alleged successors, as homeowners remain trapped in predatory loans, services and foreclosures. and illegal. The funds that agencies apply to deny due process and justice to property owners must also be addressed.\\nChase can not be given credit for deceptive modification offers or forgiveness of illegal debts.\\nAnother new problem has arisen that can validate the claims of possible fraud from the first payment in XX / XX / XXXX or shortly before, with a deceptive letter about the payment. The predatory rate of 11% did not change, since I had difficulties due to the crisis effect that Chase helped create, after 3 payments were made for almost {$ 20000.00} and they told me that I was a good candidate for me. the loans will change due to the high rate. I contacted Chase from the first payment in good faith and worked with several loan modification specialists for almost a year, but Chase now states that there were no payment arrangements prior to the Notice of Default in XX / XX / XXXX.\\nI reviewed my credit reports in XXXX / XXXX / XXXX, which reflect NO LOAN of the alleged closing of XX / XX / XXXX. Chase loan course # XXXX (XXXX in closing documents) This is a way of claiming that nothing happened in the last 7 years! Or is this a complete breakdown of the system that the National Monitor of Liquidation of Mortgages, XXXX XXXX, affirms that the favored one is too big for the banks not to approve it, ending the agreement?\\nFurthermore, as before, the entire chain of loans from the purchase in XX / XX / XXXX / XX / XX / XXXX is manipulated as to the names of the lenders in the XXXX report or is completely eliminated in XXXX. It seems that lenders / managers, like Chase / XXXX, can manipulate our credit reports as they please, even after being associated with XXXX XXXX, drug cartels and terrorists.\\nReport XXXX reflects the following: alleged loan XX / XX / XXXX # XXXX, Account status: Closed: PAID and closed, CLAIMS OF CONTRACTORS BY CHASE PERSONNEL AND FOR THE LEGAL CASE THAT THE ACCOUNT NEED NOT TO BE PAID how I understood and the status of closing documents. I have been deceived since the alleged closing of the loan in XX / XX / XXXX and possibly since Chase Home Finance took the predatory loan XX / XX / XXXX in which I was stuck with the \"error\" of the WaMu credit report. This is 10 years fraud and abuse!\\nAGAIN, the note paid for the WaMu XX / XX / XXXX loan is in MY POSSESSION and Chase did not return the loan note XX / XX / XXXX supposedly paid since the closing in XX / XX / XXXX that he first claimed to pay and has reported to the credit bureaus, but states that they did not pay due to the transfer, although they produced a possibly fraudulent copy 6 years later. This is NOT a case of producing the \"missing\" note or note! Does anyone in the CFPB or any government agency understand this? If not, how can our financial security as a country be assured?\\nThe hypothetical mortgage loan accounts XX / XX / XXXX and XX / XX / XXXX reflect the last reported date of XX / XX / XXXX, while loan XX / XX / XXXX has a date reported XX / XX / XXXX that does not have sense unless there is a broken string of title and / or false statements. The date can only be applied to default.rest att 'd manufactured     1\n",
       "The garbage that represents Lobel Financial in XXXX recruited XXXX XXXX to collect a debt that has been disputed since day 1. None of the parties has produced the requested documentation regarding the sale of the vehicle. The request was made through certified mail. They have a well-established pattern of not responding to requests. XXXX XXXX XXXX has more than XXXX complaints against them. They continue to practice this practice in multiple states. XXXX, XXXX, XXXX, XXXX, XXXX, XXXX. They started charging me an additional {$ 66.00} per month, even BEFORE the due date of the first payment. That was after they changed the amount of my payment from {$ 290.00} to {$ 320.00}. Take a look at the presentations XXXX XXXX XXXX XXXX. Shows the latest XXXX presentations by Lobel Financial. XXXX and XXXX XXXX make all the presentations. Both are XXXX who benefit from the company. Double immersion and unethical. You can not pass the smell test there. Read the complaints and note the scam you are running with the insurance. They have tricked many people of their investments. They are predatory lenders. And they have these ditbag XXXX XXXX funds from my check that they never owed me. Their practices must be investigated in all the states in which they do business. They are thieves and liars.                                                                                                                                                                                                                                                                                                                                                                                                                                                                                                                                                                                                                                                                                                                                                                                                                                                                                                                                                                                                                                                                                                                                                                                                                                                                                                                                                                                                                                                                                                                                                                                                                                                                                                                                                                                                                                                                                                                                                                                                                                                                                                                                                                                                                                                                                                                                                                                                                                                                                                                                                                                                                                                                                                                                                                                                                                                                                                                                                                                                                1\n",
       "After reading that XXXX XXXX XXXX was fined for XXXX dollars for opening bank accounts, credits, etc., I feel that I need to share that my own bank did the same for me. The bank is Sun Trust. The way it happened is as follows: 1.In XX / XX / 2016, I went to deposit our rent checks in our union checking account through the Sun Trust Bank unit.\\n2. A cashier appeared through the camera and told me that there is a money market account that generates a much greater interest than ours. She asked me if I wanted to transfer the fund to a new money market account. I said yes. She sent a form to sign, and I signed it.\\n3. Later, I checked my online banking and saw that the old money market account was closed and a new one has money from the old one. I agreed with that.\\n4. In XX / XX / 2016, I was making another deposit through the trip and the same lady entered the chamber. He said that since the money market account was not active during the last 3 months, he should deposit the checks into the money market account instead of the current account so that the high interest is activated. I did not fully understand it, but I said it was okay to deposit the checks into the money market account instead of the current account. That's all I gave him permission to do.\\n5. A week or two later, I logged into online banking to check the balances. I was horrified to discover that there was only the current account and no money market account. That's more than {$ 50000.00} missing. I searched further on the website and saw that my money market account was closed. And the money was still missing.\\n6. I told my husband and the next morning, he called the customer service of Sun Trust Bank. He explained the situation to the agent. The agent looked at our accounts and discovered that the money market account was closed and a new one was opened. But that new one was not appearing in our online banking. He fixed it so we can see the balance. And he said the account should not have been opened without our permission. He said he will make a report.\\n7. The next day, my sister and I went to see the manager of the branch where he performed the banking transactions. He checked his computer and saw that there was not a \"signed card\" authorizing the opening of a new account. He said he could not afford it. He called the cashier who did this and the lady acted as if he were someone else. She left the room and the manager said that he will make sure that the person who did this is disciplined.\\n8. The next time I went to the bank to make the deposit, I did not see the cashier. So I assumed that she was fired.\\n9. Then, a few months later, I saw her in the same bank. And she has been promoted to a credit officer! At least that's what I assumed since she was sitting behind the bank's credit officers section. I was furious. I wanted to tell someone about this, but I did not know where. I also discovered that every time a new bank account is opened, our credit score is affected.\\nSo there's my story about the illegal opening of the bank account by Sun Trust. I read online that the account that has more than $ 50000.00 is considered a gold mine because the person who processes it receives the highest commission possible. I hope this is made known to the officials who are investigating these problems. Thanks for reading this long complaint.                                                                                                                                                                                                                                                                                                                                                                                                                                                                                                                                                                                                                                                                                                                                                                                                                                                                   1\n",
       "I have been dealing with Barclays Bnk on my credit card since X / X / 2017. I have already filed a complaint. The company has not done anything to correct the error and now the problem has worsened. On X / X / 2017 I called the Barclays bank to inform them that I could not return to work due to an injury and I asked if there was a program that would help me, since it would be very difficult to make payments until I received my XXXX Listening as I have very few income. The representative told me they could help me, but not until my account was expired, even put me on hold while she checked me. She informed me that it would not be a problem, but I needed to return the call after my account expired. On X / X / 2017, one day after the expiration date of my account, I called again and a representative told me that they would help me, but that my account should have a delay of more than 30 days. After reviewing my accounts on X / XX / 17, I noticed that the account in question had been marked as expired and a fee was applied, I called again on X / XX / 17 and they said I'm sorry, there's nothing we can do to help him. I have been in contact with the Barclays President's card office who also refuses to help declare that he was misinformed and that the person with whom I spoke originally does not know the assistance requirements. When I called the first time to talk to Barclays on X / X / 17, my account had not been delayed yet, I allowed it to be delayed due to misleading information I received from a representative of this company, they gave me this incorrect information. Apparently several times. Because of this company, I am now two months behind and now they are damaging the credit I was trying to rebuild by making negative reports to the credit bureaus. I got hurt at work and I'm waiting for a disability hearing, I have every intention of paying my balances with this company once I have a source of income again. I was tricked into allowing my account to be late, if I had been informed that there was no way to help me in the first place, I would have done everything possible to keep this account updated, but due to misleading information I was given two months late and received information negative credit agencies, I can not even apply for a debt consolidation loan because my score has dropped from the XXXX points only because of negative comments from this company. This is a scandal.                                                                                                                                                                                                                                                                                                                                                                                                                                                                                                                                                                                                                                                                                                                                                                                                                                                                                                                                                                                                                                                                                                                                                                                                                                                                                                                                                                                                                                                                                                                                                                                                                                                                                                                                                                                                                                          1\n",
       "My student loan is being paid through Navient. I am in a graduated payment plan, which I can not pay, and they said there are no other options for me.                                                                                                                                                                                                                                                                                                                                                                                                                                                                                                                                                                                                                                                                                                                                                                                                                                                                                                                                                                                                                                                                                                                                                                                                                                                                                                                                                                                                                                                                                                                                                                                                                                                                                                                                                                                                                                                                                                                                                                                                                                                                                                                                                                                                                                                                                                                                                                                                                                                                                                                                                                                                                                                                                                                                                                                                                                                                                                                                                                                                                                                                                                                                                                                                                                                                                                                                                                                                                                                                                                                                                                                                                                                                                                                                                                                                                                                                                                                                                                                                                                                                                                                                                                                                            1\n",
       "On m'a volé mon identité, j'ai rapporté cela encore et encore. Je sais que je n'ai pas fait la plupart des dettes figurant dans mon dossier de crédit. Comme celui-ci Coordonnées du créancier XXXX XXXX XXXX XXXX, XXXX XXXX (XXXX) XXXX Et les coordonnées du créancier XXXX CREDIT PLUS XXXX XXXX, XXXX XXXX (XXXX) XXXX Coordonnées du créancier XXXX XXXX XXXX XXXX XXXX, XXXX XXXX ( XXXX) XXXX Coordonnées des créanciers XXXX XXXX XXXX XXXX XXXX XXXX, XXXX XXXX (XXXX) XXXX Je ne suis jamais allé dans une de ces entreprises. J'ai raconté cela il y a des mois XXXX XXXX, XXXX Agence de recouvrement XXXX Créancier original XXXX XXXX ARTICLE RETOURNÉ État Ouvert Ouvert Date avr XXXX, XXXX Fermé Date - Responsabilité Solde individuel {1800,00} Solde élevé {1800,00 $} Remarques Placé pour le recouvrement Coordonnées du créancier XXXX XXXX XXXX XXXX XXXX, XXXX XXXX (XXXX) XXXX XXXX (XXXX) XXXX Litige direct This est what ils disent que je dois, j'ai eu mon compte en banque volé et maintenant ils disent que je le dois, c'était une fraude. Je l'ai signalé et je reçois toujours le mauvais crédit. Il y a tellement de choses que je n'ai pas faites.\\nComme celui-ci, compte XXXX également signalé aux XXXX XXXX, XXXX XXXX comptes ouverts aux XXXX XXXX, XXXX Compte ouvert n ° XXXX {$ 100,00} Solde XXXX HOSPITAL Créancier original {100,00 $} Solde élevé XXXX XXXX, XXXX Ouvert Date du XXXX XXXX, XXXX Dernier état individuel Responsabilité Placé pour la collecte Remarques Remarque J'ai un examen médical et je n'ai pas fait celui-ci.\\nEt ce compte XXXX signalé sur XXXX XXXX, XXXX Cette agence n'a pas signalé de compte ouvert à ce bureau.\\nCompte ouvert n ° XXXX {71,00 $} Solde XXXX XXXX Créancier d’origine {71,00 $} Solde élevé XXXX XXXX, XXXX Ouverture Date XXXX XXXX, XXXX Dernier compte individuel déclaré.\\nResponsabilité - Remarques Note J'ai un médecin.\\nTout cela est apparu après mon vol. Je l'ai signalé mais personne ne l'écoute. Je ne dois pas ces choses. J'espère que vous allez tous écouter.\\n\\n\\nCompte n ° XXXX {$ 26,00} Solde XXXX XXXX XXXX XXXX Créancier original {26,00}} Solde élevé XXXX XXXX, XXXX Date d’ouverture XXXX XXXX, XXXX Dernier compte individuel déclaré.\\nResponsabilité Remarques médicales Je sais que je n’ai fait aucune de ces choses. Merci XXXX XXXX.                                                                                                                                                                                                                                                                                                                                                                                                                                                                                                                                                                                                                                                                                                                                                                                                                                                                                                                                                                                                                                                                                                                                                                                                                                                                                                                                                                                                                                                                                                                                                                                                                                                                                                                                                                                                                                                                                                                                                                                    1\n",
       "Midland Funding is accurately reporting an account with XXXX XXXX that is not mine. This account was disputed both with the creditor and with the credit agencies. I also still have to find a bond in the company's file for the state of Illinois that is required to legally collect the debt in this state.                                                                                                                                                                                                                                                                                                                                                                                                                                                                                                                                                                                                                                                                                                                                                                                                                                                                                                                                                                                                                                                                                                                                                                                                                                                                                                                                                                                                                                                                                                                                                                                                                                                                                                                                                                                                                                                                                                                                                                                                                                                                                                                                                                                                                                                                                                                                                                                                                                                                                                                                                                                                                                                                                                                                                                                                                                                                                                                                                                                                                                                                                                                                                                                                                                                                                                                                                                                                                                                                                                                                                                                                                                                                                                                                                                                                                                                                                                                                                                                                                                                   1\n",
       "Le document relatif au prêt hypothécaire Wells Fargo Home s’appelait: Programme de prêt Prêt hypothécaire Choisir le prêt à taux hypothèque ADJ pour l’immeuble situé au XXXX XXXX XXXX XXXX XXXX. Mon mari et moi ne reconnaissons pas la signature du nom qui est censé être mon mari. Nous avons également constaté que l’adresse figurant sur ce document de prêt n’est pas celle de la divulgation de prêt Choisir un paiement, ce qui signifie que ce document est une fraude totale. Je demande à Wells Fargo Home Mortgage d’expliquer en détail comment cela s’est passé et je demande à Wells Fargo Home Mortgage de vérifier ce prêt et d’expliquer les étapes à suivre dans une réponse dactylographiée avec ce document frauduleux de divulgation de prêt Pick A Pay utilisé pour Wells Fargo Home Mortgage / Investors a pour but de frauder et de cibler des personnes XXXX et XXXX et de causer des dommages XXXX et XXXX. S'il-vous-plaît évaluez. Je demande également à la CFPB d’enquêter sur cette affaire en raison de la fraude à la hypothèque Wells Fargo Home Mortgage et de vos conseils.\\n\\nMerci, XXXX XXXX                                                                                                                                                                                                                                                                                                                                                                                                                                                                                                                                                                                                                                                                                                                                                                                                                                                                                                                                                                                                                                                                                                                                                                                                                                                                                                                                                                                                                                                                                                                                                                                                                                                                                                                                                                                                                                                                                                                                                                                                                                                                                                                                                                                                                                                                                                                                                                                                                                                                                                                                                                                                                                                                                                                                                                                                                                                                                                                                                                                                                                                                                                                                                                                                                          1\n",
       "The company has made several installments in one payment period, which caused an overdraft in my account. The company did this without any input or communication with me. I tried to call the location where I took the loan, Check n GO in XXXX, CA, but that location is not working. I called the customer service number online for the company, they told me they only provided services online. I filed a complaint through an online customer service portal and have not yet contacted me.                                                                                                                                                                                                                                                                                                                                                                                                                                                                                                                                                                                                                                                                                                                                                                                                                                                                                                                                                                                                                                                                                                                                                                                                                                                                                                                                                                                                                                                                                                                                                                                                                                                                                                                                                                                                                                                                                                                                                                                                                                                                                                                                                                                                                                                                                                                                                                                                                                                                                                                                                                                                                                                                                                                                                                                                                                                                                                                                                                                                                                                                                                                                                                                                                                                                                                                                                                                                                                                                                                                                                                                                                                                                                                                                                                                                                                                               1\n",
       "I opened an account at Suntrust Bank and, less than a month later, they closed my account and frozen access to the funds without prior notice. No one can give me an answer after talking to several agents. First they told me that I would receive a letter in 7 to 10 business days along with a check for the funds that were in my account. The access to my account was frozen on XXXX XXXX and my first direct deposit to this account was scheduled for XXXX XXXX. They told me that they received my direct deposit and that it is being stored in a warehouse. I called XXXX XXXX today because I did not receive anything from the bank. They told me that they did not close my account until XXXX XXXX and it will take 7 to 10 business days from that date to receive funds in my account. Please help me get my money back.                                                                                                                                                                                                                                                                                                                                                                                                                                                                                                                                                                                                                                                                                                                                                                                                                                                                                                                                                                                                                                                                                                                                                                                                                                                                                                                                                                                                                                                                                                                                                                                                                                                                                                                                                                                                                                                                                                                                                                                                                                                                                                                                                                                                                                                                                                                                                                                                                                                                                                                                                                                                                                                                                                                                                                                                                                                                                                                                                                                                                                                                                                                                                                                                                                                                                                                                                                                                                                                                                                                       1\n",
       "This company is chasing me for a debt that does not belong to me. I applied for validation with a signed contract and from which company they sent me a receipt from an institution I did not attend. I am the victim of a theft of indeterminacy and this debt is not mine.                                                                                                                                                                                                                                                                                                                                                                                                                                                                                                                                                                                                                                                                                                                                                                                                                                                                                                                                                                                                                                                                                                                                                                                                                                                                                                                                                                                                                                                                                                                                                                                                                                                                                                                                                                                                                                                                                                                                                                                                                                                                                                                                                                                                                                                                                                                                                                                                                                                                                                                                                                                                                                                                                                                                                                                                                                                                                                                                                                                                                                                                                                                                                                                                                                                                                                                                                                                                                                                                                                                                                                                                                                                                                                                                                                                                                                                                                                                                                                                                                                                                                      1\n",
       "The XXXX XXXX XXXX account for the amount of XXXX sold the account to a collection agency. I disputed the account because it is not mine and the collection agency XXXX XXXX, I deleted the account last year, but I suppose that in the process I sold it to another agency, Afni, who not only aged the account again to show it recent, but also I also still trying to collect an amount that was found that is not mine.                                                                                                                                                                                                                                                                                                                                                                                                                                                                                                                                                                                                                                                                                                                                                                                                                                                                                                                                                                                                                                                                                                                                                                                                                                                                                                                                                                                                                                                                                                                                                                                                                                                                                                                                                                                                                                                                                                                                                                                                                                                                                                                                                                                                                                                                                                                                                                                                                                                                                                                                                                                                                                                                                                                                                                                                                                                                                                                                                                                                                                                                                                                                                                                                                                                                                                                                                                                                                                                                                                                                                                                                                                                                                                                                                                                                                                                                                                                                     1\n",
       "J'ai déposé une plainte auprès du bureau de crédit contre XXXX XXXX concernant ma carte de crédit XXXX XX / XX / 2016 et j'ai appelé XXXX XXXX XX / XX / 2016. Comenity Bank a régulièrement des problèmes de connexion et d’informations en ligne avec son site Web. J'ai eu un problème XX / XX / 2016, à mon insu, ils ont signalé un paiement en retard. J'ai appelé leur service clientèle, qui m'a dit qu'ils ne pouvaient pas m'aider et que je devais déposer une plainte auprès des bureaux de crédit. J'ai déposé une plainte auprès de chaque bureau de crédit avant de les appeler. Je leur ai expliqué en détail mon problème et demandé à parler à un superviseur, un père. La représentante s’est mise en ligne - pas une superviseure, cette représentante n’avouerait pas pendant quelques minutes qu’elle n’était pas une superviseure. J'ai finalement parlé à un superviseur, ce qui n'était d'aucune aide. Elle m'a dit qu'elle ne pouvait pas m'aider. J'ai reçu un sondage par courrier électronique concernant mon expérience du service à la clientèle. J'ai très mal évalué mon expérience, ce qui a entraîné un appel de quelqu'un nommé XXXX à XXXX Bank, à XXXX au XXXX / XXXX / 2016. J'ai raté son appel, il m'a laissé un message vocal m'invitant à l'appeler au XXXX, numéro de poste XXXX. Je l'ai rappelé peu de temps après avoir reçu ce message, mais il n'était pas disponible et un autre employé m'a aidé. Je lui ai expliqué ma situation et elle s'est excusée pour tout. Elle a indiqué qu'elle avait modifié et corrigé le rapport de retard de paiement pour XXXX 2016, afin de refléter le principe \"paie comme convenu\". Je lui ai demandé si cela serait corrigé avec tous les bureaux de crédit. Elle a répondu par l'affirmative! XXXX et XXXX signalent que j'ai toujours payé conformément à mon compte de carte de crédit XXXX Bank XXXX.Le seul bureau de crédit qui continue de signaler des informations erronées est Equifax. J'ai déposé un litige en ligne avec Equifax XXXX / XXXX / 16 et je les ai appelés aujourd'hui (XXXX / XXXX / 16) .Le représentant d'Equifax m'a informé que la carte de crédit XXXX XXXX ne leur avait pas communiqué de données depuis le XXXX / XXXX / 2016. Le représentant a déposé une autre plainte en mon nom (confirmation XXXX) .J'ai rappelé XXXX, lui ai rappelé son appel au XX / XX / XXXX et lui a expliqué quel était mon problème. Il m'a dit qu'il ne pouvait pas m'aider, il ne s'occupait que des appels de suivi à partir des réponses au sondage. Je lui ai expliqué que mon problème n'était toujours pas résolu et Au j'ai parlé à quelqu'un dans son département, il m'a dit d'appeler le service à la clientèle de carte de crédit XXXX XXXX. J'ai appelé le service clientèle, parlé à un employé et lui ai expliqué mon problème ainsi que le fait que je devais déménager et que je ne pouvais pas postuler pour un nouvel endroit où vivre à cause de ce problème. La représentante à qui j'ai parlé m'a dit qu'elle m'aiderait et qu'elle se rendrait en conférence avec un superviseur en ligne avec nous pour m'aider. Je suis resté en attente pendant au moins vingt minutes, puis mon appel a été rétabli après une conversation téléphonique de 25 minutes. Je devais tout recommencer. J'ai finalement eu un autre représentant (34 minutes sur appel), j'ai expliqué au représentant ma situation, il m'a transféré à un superviseur nommé XXXX qui a blâmé Equifax pour le problème. En tant que consommateur, je ne sais pas qui ment ou dit la vérité. Tout ce que je sais, c’est que j’ai besoin de résoudre ce problème le plus tôt possible et j’en ai assez de le traiter. Equifax blâme XXXX ... et XXXX blâme Equifax.                                                                                                                                                                                                                                                                                                                                                                                                                                                                                                                                                                                                    1\n",
       "The first thing was that I reported that I would have a partial modification of my mortgage. However, when I took my taxes last year, they informed me that they gave me a complete modification. Second, my deposit and taxes for my house increased almost two hundred. I was informed that this was an estimate of the house for next year. Two years ago I paid more of my taxes instead of giving me options that made the decision for me, that I did not understand why they asked me to pay for it. I can not trust them because I have not seen the changes in the amount due to the outstanding amount. It's always the same, I know I've reduced the amount. I have been paying in this house for at least 15 years and they still say that I fulfilled XXXX in this house. This house is not even worth that much. After all, I have them as if I were a service employee. Finally, when I got a modification that I thought did not pay, they told me to continue paying until it was final.                                                                                                                                                                                                                                                                                                                                                                                                                                                                                                                                                                                                                                                                                                                                                                                                                                                                                                                                                                                                                                                                                                                                                                                                                                                                                                                                                                                                                                                                                                                                                                                                                                                                                                                                                                                                                                                                                                                                                                                                                                                                                                                                                                                                                                                                                                                                                                                                                                                                                                                                                                                                                                                                                                                                                                                                                                                                                                                                                                                                                                                                                                                                                                                                                                                                                                                                                         1\n",
       "Solicitado a US Bank una refinanciación de la hipoteca original de US Bank y un préstamo de capital de US Bank (todos los productos internos para ellos) en XXXX. Me pidieron que les escribiera un cheque de {$ 1900.00} para el Fideicomiso del seguro y los impuestos a pesar de que tenía un saldo de fideicomiso de {$ 2200.00} con la hipoteca existente. A partir del XXXX / XXXX / 15, aún no han reembolsado el saldo de la garantía original de mi hipoteca. Enviaron correspondencia que cualquier saldo adeudado se emitiría en aprox. 30 dias. La primera fecha de vencimiento fue el XXXX y han tenido más de 30 días para emitir fondos. Estos fondos también estaban en su poder para que pudieran verificar los fondos sin problemas y sin terceros. Parece que están usando fondos de consumo para crear una \"flotación\" sustancial sin pagar ningún interés sobre estos fondos.                                                                                                                                                                                                                                                                                                                                                                                                                                                                                                                                                                                                                                                                                                                                                                                                                                                                                                                                                                                                                                                                                                                                                                                                                                                                                                                                                                                                                                                                                                                                                                                                                                                                                                                                                                                                                                                                                                                                                                                                                                                                                                                                                                                                                                                                                                                                                                                                                                                                                                                                                                                                                                                                                                                                                                                                                                                                                                                                                                                                                                                                                                                                                                                                                                                                                                                                                                                                                                                                1\n",
       "Le XX / XX / 2016, je suis allé à un guichet automatique à la Chase Bank le XXXX à XXXX, NY pour effectuer un retrait pour {460,00 $}. Lors du retrait, j’ai pris beaucoup de temps pour retirer le {460,00} $ de la machine et le guichet automatique a récupéré le {460,00} $. Je n'ai pas reçu le montant de {460,00 $} du guichet automatique. J'appelle le service des réclamations de Chase depuis presque XXXX semaines pour que quelqu'un applique le crédit à mon compte. Chaque jour que j'appelle, les représentants continuent de me donner des délais différents quant au moment où je vais recevoir mon crédit. Je veux juste que mon argent soit restitué à mon compte. Quelqu'un peut-il m'aider s'il vous plaît ???                                                                                                                                                                                                                                                                                                                                                                                                                                                                                                                                                                                                                                                                                                                                                                                                                                                                                                                                                                                                                                                                                                                                                                                                                                                                                                                                                                                                                                                                                                                                                                                                                                                                                                                                                                                                                                                                                                                                                                                                                                                                                                                                                                                                                                                                                                                                                                                                                                                                                                                                                                                                                                                                                                                                                                                                                                                                                                                                                                                                                                                                                                                                                                                                                                                                                                                                                                                                                                                                                                                                                                                                                              1\n",
       "Mi administrador de hipotecas es PNC Mortgage. El préstamo ha estado vigente desde su inicio.\\n\\nEn XXXX XXXX, cuando mi préstamo se acercó al 80% del umbral de LTV, me puse en contacto con ellos para determinar los pasos necesarios para eliminar el PMI (que me costó ~ $ XXXX / mes). Un Representante de Servicio al Cliente (\"CSR\") me dijo que si mi director estaba por debajo del 80%, podría solicitar la eliminación. Además, dos semanas después, recibí una carta por correo del departamento de \"Administración de Seguros\". indicando que podría pagar una tasación de mi bolsillo ({$ 500.00}) para determinar si la propiedad se había apreciado de tal manera que ahora estaba & lt; 80% LTV. El tasador que me piden que use es XXXX, que es propiedad conjunta de PNC y XXXX.\\n\\nPara mi pago XXXX XXXX, XXXX, incluí un pago adicional de capital (una reducción de {$ 400.00}) para reducir el XXXX de tal forma que se ubicó en 79.9%. Luego me puse en contacto con la hipoteca de PNC después del pago XXXX publicado para solicitar la eliminación. En ese momento, otro CSR me comunicó que no podía solicitar la eliminación hasta mi fecha \"originalmente programada & lt; 80% LTV '', lo que ocurriría con mi XXXX XXXX, XXXX pago. innecesariamente un pago de capital adicional. Una vez más, recibí una carta por correo en la que se me informaba que tenía la opción de solicitar y pagar una tasación para evaluar mi propiedad.\\n\\nAl realizar mi pago XXXX XXXX, contacté a PNC nuevamente. El LTV se encuentra ahora en 79.6% y también he superado la fecha originalmente programada, según el plan de amortización original. Su respuesta, tanto a través de una CSR como por escrito, es que debo comprar la tasación para confirmar que el valor de mi propiedad no ha disminuido desde la tasación original. Esto es conforme a las directrices de los inversores de préstamo.\\n\\nAquí están mis quejas con PNC Mortgage: Estoy muy frustrado con la orientación inexacta y / o engañosa que recibí de parte de los empleados / empleados de PNC Mortgage. Han dicho cosas diferentes en cada momento.\\n- Llamé a CSR Mortgage CSR y solicité hablar con un gerente o alguien mayor, solo para escuchar que no hay ninguno disponible en este momento, o que lo pongan en espera por 15 minutos o más, sin hablar con un gerente.\\n- Muchas veces, he solicitado hablar con alguien en el departamento de \"Administración de seguros\", pero me han dicho que \"no se puede hablar con\". No hay manera de hablar con alguien que sepa cuál es el protocolo adecuado.\\n- Con la orientación correcta, en realidad, podría haber pagado la tasación de {$ 500.00} en XXXX (o anterior) para demostrar que la propiedad se había apreciado de manera tal que LTV & lt; 80%. Entonces podría haber solicitado la eliminación. Me habría ahorrado aproximadamente {$ 1200.00} en cuotas de PMI (4 meses x $ XXXX / mes). En última instancia, podría haberme ahorrado aún más para cuando tenga la evaluación programada, completada y procesada a través de PNC Mortgage.\\n- Hay formas mucho más económicas de realizar una evaluación precisa, como los Modelos de valoración automatizados (que PNC ya tiene), o de obtener una Opinión de precio de agente (BPO) que es & lt; {$ 20.00}. No hay absolutamente ninguna necesidad de exigir que sus clientes paguen {$ 500.00} por una tasación. Y ese pago se realiza a una empresa que posee parcialmente. Esto es, claramente, incentivos poco alineados para PNC Mortgage, a expensas de sus clientes.                                                                                                                                                                                                                                                                                                                                                                                                                                                                                                                                                                                                                                                                                                                                                             1\n",
       "I have disputed the following accounts with equifax several times and, despite my efforts, continue to report. The results of the investigations are that the accounts have been verified as mine, but have not yet presented proof of this. I was informed that I would contact the third party collection that reported the accounts. I got in touch with them and the gentleman was extremely aggressive and started yelling at me for questioning the validity of the debts. I am at the end of the line and the negative reports of these accounts that do not belong to me are affecting my ability to get a job. I have attached a copy of my Equifax credit report that reflects the accounts. Next I have also listed them: XXXX XXXX XXXX: Account #: XXXX XXXX                                                                                                                                                                                                                                                                                                                                                                                                                                                                                                                                                                                                                                                                                                                                                                                                                                                                                                                                                                                                                                                                                                                                                                                                                                                                                                                                                                                                                                                                                                                                                                                                                                                                                                                                                                                                                                                                                                                                                                                                                                                                                                                                                                                                                                                                                                                                                                                                                                                                                                                                                                                                                                                                                                                                                                                                                                                                                                                                                                                                                                                                                                                                                                                                                                                                                                                                                                                                                                                                                                                                                                                         1\n",
       "Compré un vehículo en XXXX y lo he estado pagando desde XXXX XXXX. La compañía financiera me ha cobrado una póliza de seguro forzado de un año DOS VECES, y se niega a enviarme cualquier cosa por escrito diciéndome lo que estoy pagando, como los totales, las primas y el costo. Han aumentado el pago de mi automóvil de la cantidad original de $ XXXX mes a $ XXXX mes. Estaba pagando {$ 670.00} desde XXXX XXXX por supuestos seguros forzosos. Nunca me dieron nada por escrito y no tengo idea de cuál es la cantidad total que se supone que deba ser, ni para qué es exactamente. Cuando les pedí una prueba del seguro que me obligan a pagar, me dijeron que no tienen que dármelo porque es solo para asegurar el vehículo. He hablado con una persona de la oficina en el hogar, una persona de la sucursal y ninguno de los dos me enviará una declaración de pago, ni nada que me diga cuánto debo. Sólo me darán un pago total del vehículo por teléfono. El vehículo ahora ha sido recuperado porque me negué a pagar el pago más alto. Incluso me ofrecí a pagar XXXX de los pagos originales y se negaron a decir que el pago \"ya no existe\". El monto de pago que me dicen es varios miles de dólares más alto que el monto de mi contrato original (hace 2,5 años)                                                                                                                                                                                                                                                                                                                                                                                                                                                                                                                                                                                                                                                                                                                                                                                                                                                                                                                                                                                                                                                                                                                                                                                                                                                                                                                                                                                                                                                                                                                                                                                                                                                                                                                                                                                                                                                                                                                                                                                                                                                                                                                                                                                                                                                                                                                                                                                                                                                                                                                                                                                                                                                                                                                                                                                                                                                                                                                                                                                                                                                                       1\n",
       "Por ley, si solicita un préstamo después de 30 días de no usar los fondos, el préstamo se devolvería.\\nAbrí mi primer préstamo con XXXX XXXX al que asistí por un período corto que creo que la escuela solicitó más de lo necesario y se guardó lo que era extra. XXXX XXXX también debería volver a XXXX XXXX XXXX XXXX XXXX solicitar préstamos que no necesitaba. Intenté batallar para recuperar mi dinero y luego cerrar la escuela.\\nNo, tengo muchos préstamos que muestran pagos cerrados y se reportan como duplicados y realmente está perjudicando mi crédito.\\nSi el préstamo que transferimos, la información antigua debe eliminarse, se debe informar lo que está vigente.                                                                                                                                                                                                                                                                                                                                                                                                                                                                                                                                                                                                                                                                                                                                                                                                                                                                                                                                                                                                                                                                                                                                                                                                                                                                                                                                                                                                                                                                                                                                                                                                                                                                                                                                                                                                                                                                                                                                                                                                                                                                                                                                                                                                                                                                                                                                                                                                                                                                                                                                                                                                                                                                                                                                                                                                                                                                                                                                                                                                                                                                                                                                                                                                                                                                                                                                                                                                                                                                                                                                                                                                                                                                        1\n",
       "J'ai déposé un chèque au XX / XX / 2016 pour {300,00 $} pour du travail indépendant que j'ai effectué pour un client. Le client m'a contacté le XX / XX / 2016 et m'a dit que le chèque avait été déposé une seconde fois au XX / XX / 2016. J'ai enquêté et découvert que le chèque avait été volé dans ma voiture lors d'un cambriolage et que le voleur a donc effectué le deuxième dépôt. Mon client m'a dit qu'ils déposeraient un différend avec leur banque et tenteraient de résoudre ce problème. Aujourd'hui, j'ai regardé sur mon compte bancaire et découvert que ma banque m'avait facturé {300,00 $} pour le double dépôt de XX / XX / XXXX. Donc, fondamentalement, je n'ai pas reçu un centime des fonds et le voleur a maintenant tout l'argent. J'ai parlé à ma banque et ils m'ont dit qu'ils ne pouvaient pas le résoudre - seule la banque de l'émetteur de chèques pouvait régler le problème. Malheureusement, mon client m'a dit qu'il avait déjà créé la banque de litiges au XX / XX / XXXX et voici le résultat. Je ne crois vraiment pas qu'ils seraient disposés à m'aider à déposer un autre litige pour tenter de résoudre ce problème et me rembourser l'argent. J'ai joint les documents du chèque original déposé au XX / XX / XXXX et du chèque frauduleux déposé au XX / XX / 2016. Le chèque frauduleux a une signature FORGÉE au verso et vous pouvez voir que le dépôt de chèque original n’avait même pas de signature au dos. Je suis maintenant victime de fraude, de vol et de falsification! S'il vous plaît, aidez-moi à récupérer cet argent!                                                                                                                                                                                                                                                                                                                                                                                                                                                                                                                                                                                                                                                                                                                                                                                                                                                                                                                                                                                                                                                                                                                                                                                                                                                                                                                                                                                                                                                                                                                                                                                                                                                                                                                                                                                                                                                                                                                                                                                                                                                                                                                                                                                                                                                                                                                                                                                                                                                                                                                                                                                                                                                                                                                                                                       1\n",
       "I have disputed several accounts with XXXX, XXXX, XXXX and TransUnion, the credit accounts were opened more than 7 years ago and most have a balance of XXXX. It has also been two years and I still have some difficult questions on my credit report. I do not know why the credit agencies will not eliminate all these accounts. There are a lot of illegal credit reporting activities and this is definitely XXXX of them.                                                                                                                                                                                                                                                                                                                                                                                                                                                                                                                                                                                                                                                                                                                                                                                                                                                                                                                                                                                                                                                                                                                                                                                                                                                                                                                                                                                                                                                                                                                                                                                                                                                                                                                                                                                                                                                                                                                                                                                                                                                                                                                                                                                                                                                                                                                                                                                                                                                                                                                                                                                                                                                                                                                                                                                                                                                                                                                                                                                                                                                                                                                                                                                                                                                                                                                                                                                                                                                                                                                                                                                                                                                                                                                                                                                                                                                                                                                                  1\n",
       "The global recovery in California has been continually harassing me at work and calling my cell phone. They have gone so far as to tell my employer that they are sending someone to arrest me at work if I do not communicate with them. I asked them to send me information by mail and they refused. I want you to stop harassing me. If I have a debt, send me a letter with a proof and we can solve something.                                                                                                                                                                                                                                                                                                                                                                                                                                                                                                                                                                                                                                                                                                                                                                                                                                                                                                                                                                                                                                                                                                                                                                                                                                                                                                                                                                                                                                                                                                                                                                                                                                                                                                                                                                                                                                                                                                                                                                                                                                                                                                                                                                                                                                                                                                                                                                                                                                                                                                                                                                                                                                                                                                                                                                                                                                                                                                                                                                                                                                                                                                                                                                                                                                                                                                                                                                                                                                                                                                                                                                                                                                                                                                                                                                                                                                                                                                                                              1\n",
       "I have two student loans with Navient, one was canceled, the other is still in good condition. My loans have been deferred while I am in school, I have never been out of school. This information can be verified through the student's compensation chamber. Recently, when checking my credit report, I discovered that Navient canceled one of my loans and that there is now a collection agency that collects the loan funds. Before canceling the loan, I never received any correspondence by phone or mail. Navient did not attempt to contact me regarding my student loan. Upon discovering that my loan had been canceled, I immediately contacted Navient by phone. I was informed that my loan had been canceled because I stopped going to school. This information was incorrect, as yet on this date, I have never stopped attending school. If this were correct, then why had not my other student loan been canceled with them? The other loan still shows a \"deferred\" status. I explained to Navient that they never contacted me regarding my loan, and that they informed me when they tried to contact me before placing my loan in the cancellation status. I was not given the information, and they told me I needed to talk to the collection agency, since nothing else could be done.                                                                                                                                                                                                                                                                                                                                                                                                                                                                                                                                                                                                                                                                                                                                                                                                                                                                                                                                                                                                                                                                                                                                                                                                                                                                                                                                                                                                                                                                                                                                                                                                                                                                                                                                                                                                                                                                                                                                                                                                                                                                                                                                                                                                                                                                                                                                                                                                                                                                                                                                                                                                                                                                                                                                                                                                                                                                                                                                                                                                                                              1\n",
       "Hola, solicité un préstamo de la Corporación de Aceptación de Créditos de CAC para un préstamo en un automóvil a XXXX según mi puntaje de crédito. Al ser un comprador por primera vez no tenía conocimiento de las consecuencias con CAC, luego de la compra de mi automóvil en la primera semana de el automóvil estuvo involucrado en un accidente XXXX del cual no tuve la culpa y se consideró una pérdida total, informé a XXXX el mismo día en el lugar del accidente en el momento del incidente y resolví el problema i ni siquiera he recibido mis placas de matrícula, y CAC también fue notificado de este incidente y todavía ha reportado un cargo por pago atrasado que no tuve que pagar, estaba seguro de que la mayoría de los pagos de automóviles nuevos comienzan con 30-45 Un día después de la compra del automóvil, lo más sorprendente fue que no he recibido ninguna de sus comprobantes de pago de CAC hasta la semana pasada, y esperan que yo pague, lo cual no se me notificó en absoluto, lo último que hice fue También me sorprendió que realmente hayan estropeado mi puntaje de crédito que estaba construyendo al informar que no he Hice un pago XXXX que mi préstamo no se liquidó, ya que han cobrado el cheque que XXXX ha enviado, y que sus sistemas aún no han solucionado ese problema, lo que llevó mi puntaje de crédito terriblemente bajo, todo lo que estoy preguntando Porque es justicia y un juego limpio, y no hacer esto con los recién llegados que recién comenzaron a trabajar tan bien como con una persona que acaba de recibir una nueva tarjeta de crédito.                                                                                                                                                                                                                                                                                                                                                                                                                                                                                                                                                                                                                                                                                                                                                                                                                                                                                                                                                                                                                                                                                                                                                                                                                                                                                                                                                                                                                                                                                                                                                                                                                                                                                                                                                                                                                                                                                                                                                                                                                                                                                                                                                                                                                                                                                                                                                                                                                                                                                                                                                                                                                                                                                                                                          1\n",
       "In XX / XX / XXXX, I requested the HAMP with XXXX Bank. From the XXXX month in the \"Trial Period\", my loan was sold to BSI Financial, which has been a nightmare from the beginning. My HAMP documentation clearly states that \"The terms of your Trial Period Plan and your Modification Agreement will REQUIRE us to establish an escrow account if your loan does not yet have one, and to reserve a portion of your new monthly payment in this escrow account for the payment of PROPERTY TAXES, INSURANCE PREMIUMS and other charges required when due, I filed a complaint with XXXX, after BSI stopped depositing my Homeowners Insurance, Complaint of reference # XXXX. In XX / XX / XXXX, BSI responded, according to BSI (our records indicate that the problem of the Homeowners' Insurance Trust REQUIRED was corrected.) This was a mistake and BSI apologizes for any problems that may have been caused. I went to my BSI website, I saw that I was no longer in custody, I called BSI Financial and they told me \"they were not tracking my deposit and that homeowners insurance should be r paid for me. \"This clearly is not what my modification indicates. When I arrive at the HAMP website, it clearly indicates that property taxes and home insurance should be deposited. I thought this was resolved in XXXX!                                                                                                                                                                                                                                                                                                                                                                                                                                                                                                                                                                                                                                                                                                                                                                                                                                                                                                                                                                                                                                                                                                                                                                                                                                                                                                                                                                                                                                                                                                                                                                                                                                                                                                                                                                                                                                                                                                                                                                                                                                                                                                                                                                                                                                                                                                                                                                                                                                                                                                                                                                                                                                                                                                                                                                                                                                                                                                                                                                                                                        1\n",
       "Name: Consumer-complaint-summary, Length: 43022, dtype: int64"
      ]
     },
     "execution_count": 171,
     "metadata": {},
     "output_type": "execute_result"
    }
   ],
   "source": [
    "train_data[\"Consumer-complaint-summary\"].value_counts()"
   ]
  },
  {
   "cell_type": "code",
   "execution_count": 172,
   "metadata": {},
   "outputs": [],
   "source": [
    "# from collections import defaultdict\n",
    "# d = defaultdict(LabelEncoder)\n",
    "# Label encoding across multiple columns in scikit-learn\n",
    "# Encoding the variable\n",
    "# fit = df.apply(lambda x: d[x.name].fit_transform(x))\n",
    "\n",
    "# # Inverse the encoded\n",
    "# fit.apply(lambda x: d[x.name].inverse_transform(x))\n",
    "\n",
    "# # Using the dictionary to label future data\n",
    "# df.apply(lambda x: d[x.name].transform(x))"
   ]
  },
  {
   "cell_type": "code",
   "execution_count": 173,
   "metadata": {},
   "outputs": [
    {
     "data": {
      "text/plain": [
       "Index(['Complaint-ID', 'Date-received', 'Transaction-Type', 'Complaint-reason',\n",
       "       'Company-response', 'Date-sent-to-company', 'Complaint-Status',\n",
       "       'Consumer-disputes', 'Consumer-complaint-summary',\n",
       "       'date_sent_to_recieved'],\n",
       "      dtype='object')"
      ]
     },
     "execution_count": 173,
     "metadata": {},
     "output_type": "execute_result"
    }
   ],
   "source": [
    "train_data.columns\n"
   ]
  },
  {
   "cell_type": "code",
   "execution_count": 174,
   "metadata": {},
   "outputs": [],
   "source": [
    "complaint_reason_train = train_data[\"Complaint-reason\"].unique()"
   ]
  },
  {
   "cell_type": "code",
   "execution_count": 175,
   "metadata": {},
   "outputs": [],
   "source": [
    "complaint_reason_test = test_data[\"Complaint-reason\"].unique()"
   ]
  },
  {
   "cell_type": "code",
   "execution_count": 176,
   "metadata": {},
   "outputs": [],
   "source": [
    "reslist = []\n",
    "for res in complaint_reason_test:\n",
    "    if res in complaint_reason_train:\n",
    "        continue\n",
    "    else:\n",
    "        reslist.append(res)"
   ]
  },
  {
   "cell_type": "code",
   "execution_count": 177,
   "metadata": {},
   "outputs": [
    {
     "data": {
      "text/plain": [
       "['Problem with cash advance', \"Can't stop withdrawals from your bank account\"]"
      ]
     },
     "execution_count": 177,
     "metadata": {},
     "output_type": "execute_result"
    }
   ],
   "source": [
    "reslist"
   ]
  },
  {
   "cell_type": "code",
   "execution_count": 178,
   "metadata": {},
   "outputs": [],
   "source": [
    "# test_data[\"Complaint-reason\"].value_counts()"
   ]
  },
  {
   "cell_type": "code",
   "execution_count": 179,
   "metadata": {},
   "outputs": [],
   "source": [
    "from sklearn.preprocessing import LabelEncoder\n",
    "from collections import defaultdict\n",
    "d = defaultdict(LabelEncoder)\n",
    "\n",
    "train_data[[\"Transaction-Type\", \"Company-response\",\"Consumer-disputes\", \"Complaint-Status\"]] = train_data[[\"Transaction-Type\", \"Company-response\", \"Consumer-disputes\", \"Complaint-Status\"]].apply(lambda x: d[x.name].fit_transform(x))\n"
   ]
  },
  {
   "cell_type": "code",
   "execution_count": 180,
   "metadata": {},
   "outputs": [
    {
     "data": {
      "text/html": [
       "<div>\n",
       "<style scoped>\n",
       "    .dataframe tbody tr th:only-of-type {\n",
       "        vertical-align: middle;\n",
       "    }\n",
       "\n",
       "    .dataframe tbody tr th {\n",
       "        vertical-align: top;\n",
       "    }\n",
       "\n",
       "    .dataframe thead th {\n",
       "        text-align: right;\n",
       "    }\n",
       "</style>\n",
       "<table border=\"1\" class=\"dataframe\">\n",
       "  <thead>\n",
       "    <tr style=\"text-align: right;\">\n",
       "      <th></th>\n",
       "      <th>Complaint-ID</th>\n",
       "      <th>Date-received</th>\n",
       "      <th>Transaction-Type</th>\n",
       "      <th>Complaint-reason</th>\n",
       "      <th>Company-response</th>\n",
       "      <th>Date-sent-to-company</th>\n",
       "      <th>Complaint-Status</th>\n",
       "      <th>Consumer-disputes</th>\n",
       "      <th>Consumer-complaint-summary</th>\n",
       "      <th>date_sent_to_recieved</th>\n",
       "    </tr>\n",
       "  </thead>\n",
       "  <tbody>\n",
       "    <tr>\n",
       "      <th>0</th>\n",
       "      <td>Tr-1</td>\n",
       "      <td>111115</td>\n",
       "      <td>10</td>\n",
       "      <td>Loan servicing, payments, escrow account</td>\n",
       "      <td>10</td>\n",
       "      <td>111115</td>\n",
       "      <td>1</td>\n",
       "      <td>1</td>\n",
       "      <td>Seterus, Inc a déposé un faux rapport auprès d...</td>\n",
       "      <td>0</td>\n",
       "    </tr>\n",
       "    <tr>\n",
       "      <th>1</th>\n",
       "      <td>Tr-2</td>\n",
       "      <td>70715</td>\n",
       "      <td>5</td>\n",
       "      <td>Incorrect information on credit report</td>\n",
       "      <td>7</td>\n",
       "      <td>70715</td>\n",
       "      <td>3</td>\n",
       "      <td>0</td>\n",
       "      <td>XX / XX / XXXX La requête en faillite n ° XXXX...</td>\n",
       "      <td>0</td>\n",
       "    </tr>\n",
       "    <tr>\n",
       "      <th>2</th>\n",
       "      <td>Tr-3</td>\n",
       "      <td>70515</td>\n",
       "      <td>0</td>\n",
       "      <td>Using a debit or ATM card</td>\n",
       "      <td>10</td>\n",
       "      <td>70515</td>\n",
       "      <td>1</td>\n",
       "      <td>0</td>\n",
       "      <td>El XXXX / XXXX / 15, estaba preparando el vuel...</td>\n",
       "      <td>0</td>\n",
       "    </tr>\n",
       "    <tr>\n",
       "      <th>3</th>\n",
       "      <td>Tr-4</td>\n",
       "      <td>121116</td>\n",
       "      <td>7</td>\n",
       "      <td>Cont'd attempts collect debt not owed</td>\n",
       "      <td>4</td>\n",
       "      <td>121116</td>\n",
       "      <td>1</td>\n",
       "      <td>0</td>\n",
       "      <td>The loan was paid in XXXX XXXX. In XXXX, 4 yea...</td>\n",
       "      <td>0</td>\n",
       "    </tr>\n",
       "    <tr>\n",
       "      <th>4</th>\n",
       "      <td>Tr-5</td>\n",
       "      <td>290916</td>\n",
       "      <td>3</td>\n",
       "      <td>Payoff process</td>\n",
       "      <td>9</td>\n",
       "      <td>290916</td>\n",
       "      <td>1</td>\n",
       "      <td>0</td>\n",
       "      <td>J'ai obtenu un compte de crédit de soins pour ...</td>\n",
       "      <td>0</td>\n",
       "    </tr>\n",
       "  </tbody>\n",
       "</table>\n",
       "</div>"
      ],
      "text/plain": [
       "  Complaint-ID  Date-received  Transaction-Type  \\\n",
       "0         Tr-1         111115                10   \n",
       "1         Tr-2          70715                 5   \n",
       "2         Tr-3          70515                 0   \n",
       "3         Tr-4         121116                 7   \n",
       "4         Tr-5         290916                 3   \n",
       "\n",
       "                           Complaint-reason  Company-response  \\\n",
       "0  Loan servicing, payments, escrow account                10   \n",
       "1    Incorrect information on credit report                 7   \n",
       "2                 Using a debit or ATM card                10   \n",
       "3     Cont'd attempts collect debt not owed                 4   \n",
       "4                            Payoff process                 9   \n",
       "\n",
       "   Date-sent-to-company  Complaint-Status  Consumer-disputes  \\\n",
       "0                111115                 1                  1   \n",
       "1                 70715                 3                  0   \n",
       "2                 70515                 1                  0   \n",
       "3                121116                 1                  0   \n",
       "4                290916                 1                  0   \n",
       "\n",
       "                          Consumer-complaint-summary  date_sent_to_recieved  \n",
       "0  Seterus, Inc a déposé un faux rapport auprès d...                      0  \n",
       "1  XX / XX / XXXX La requête en faillite n ° XXXX...                      0  \n",
       "2  El XXXX / XXXX / 15, estaba preparando el vuel...                      0  \n",
       "3  The loan was paid in XXXX XXXX. In XXXX, 4 yea...                      0  \n",
       "4  J'ai obtenu un compte de crédit de soins pour ...                      0  "
      ]
     },
     "execution_count": 180,
     "metadata": {},
     "output_type": "execute_result"
    }
   ],
   "source": [
    "train_data.head()"
   ]
  },
  {
   "cell_type": "code",
   "execution_count": 181,
   "metadata": {},
   "outputs": [],
   "source": [
    "# train_data[[\"Transaction-Type\", \"Complaint-reason\", \"Consumer-disputes\"]] = train_data[[\"Transaction-Type\", \"Complaint-reason\", \"Consumer-disputes\"]].apply(lambda x: d[x.name].inverse_transform(x))\n"
   ]
  },
  {
   "cell_type": "code",
   "execution_count": 182,
   "metadata": {},
   "outputs": [],
   "source": [
    "from sklearn.feature_extraction.text import TfidfVectorizer\n",
    "\n",
    "vectorizer = TfidfVectorizer(max_features= 600)"
   ]
  },
  {
   "cell_type": "code",
   "execution_count": 183,
   "metadata": {},
   "outputs": [
    {
     "data": {
      "text/plain": [
       "TfidfVectorizer(analyzer='word', binary=False, decode_error='strict',\n",
       "        dtype=<class 'numpy.int64'>, encoding='utf-8', input='content',\n",
       "        lowercase=True, max_df=1.0, max_features=600, min_df=1,\n",
       "        ngram_range=(1, 1), norm='l2', preprocessor=None, smooth_idf=True,\n",
       "        stop_words=None, strip_accents=None, sublinear_tf=False,\n",
       "        token_pattern='(?u)\\\\b\\\\w\\\\w+\\\\b', tokenizer=None, use_idf=True,\n",
       "        vocabulary=None)"
      ]
     },
     "execution_count": 183,
     "metadata": {},
     "output_type": "execute_result"
    }
   ],
   "source": [
    "vectorizer"
   ]
  },
  {
   "cell_type": "code",
   "execution_count": 184,
   "metadata": {},
   "outputs": [],
   "source": [
    "feature_tfidfvect = train_data[\"Consumer-complaint-summary\"] + train_data[\"Complaint-reason\"]"
   ]
  },
  {
   "cell_type": "code",
   "execution_count": 185,
   "metadata": {},
   "outputs": [
    {
     "data": {
      "text/plain": [
       "43266"
      ]
     },
     "execution_count": 185,
     "metadata": {},
     "output_type": "execute_result"
    }
   ],
   "source": [
    "len(feature_tfidfvect)"
   ]
  },
  {
   "cell_type": "code",
   "execution_count": 186,
   "metadata": {},
   "outputs": [
    {
     "data": {
      "text/plain": [
       "TfidfVectorizer(analyzer='word', binary=False, decode_error='strict',\n",
       "        dtype=<class 'numpy.int64'>, encoding='utf-8', input='content',\n",
       "        lowercase=True, max_df=1.0, max_features=600, min_df=1,\n",
       "        ngram_range=(1, 1), norm='l2', preprocessor=None, smooth_idf=True,\n",
       "        stop_words=None, strip_accents=None, sublinear_tf=False,\n",
       "        token_pattern='(?u)\\\\b\\\\w\\\\w+\\\\b', tokenizer=None, use_idf=True,\n",
       "        vocabulary=None)"
      ]
     },
     "execution_count": 186,
     "metadata": {},
     "output_type": "execute_result"
    }
   ],
   "source": [
    "vectorizer"
   ]
  },
  {
   "cell_type": "code",
   "execution_count": 187,
   "metadata": {},
   "outputs": [],
   "source": [
    "complaint_tf = vectorizer.fit_transform(feature_tfidfvect)"
   ]
  },
  {
   "cell_type": "code",
   "execution_count": 188,
   "metadata": {},
   "outputs": [
    {
     "data": {
      "text/plain": [
       "600"
      ]
     },
     "execution_count": 188,
     "metadata": {},
     "output_type": "execute_result"
    }
   ],
   "source": [
    "len(vectorizer.get_feature_names())"
   ]
  },
  {
   "cell_type": "code",
   "execution_count": 189,
   "metadata": {},
   "outputs": [
    {
     "name": "stdout",
     "output_type": "stream",
     "text": [
      "  (0, 549)\t0.07556491424217457\n",
      "  (0, 142)\t0.13242102656575883\n",
      "  (0, 590)\t0.7309422629152141\n",
      "  (0, 185)\t0.07317862280966397\n",
      "  (0, 296)\t0.17647540571281317\n",
      "  (0, 174)\t0.11241690850862225\n",
      "  (0, 301)\t0.09211433732911632\n",
      "  (0, 202)\t0.0940267621828862\n",
      "  (0, 419)\t0.10220416448840004\n",
      "  (0, 589)\t0.49418893291450455\n",
      "  (0, 289)\t0.07238204621570661\n",
      "  (0, 598)\t0.10883349116867239\n",
      "  (0, 335)\t0.1428933424629738\n",
      "  (0, 0)\t0.07074459493043102\n",
      "  (0, 317)\t0.12244688373609172\n",
      "  (0, 206)\t0.1383415039520158\n",
      "  (0, 210)\t0.1364743235999968\n",
      "  (0, 269)\t0.09570039348153286\n",
      "  (0, 271)\t0.07097171624185739\n",
      "  (0, 375)\t0.056044377405848333\n",
      "  (0, 129)\t0.05971492142910262\n",
      "  (0, 447)\t0.07197823674423073\n"
     ]
    }
   ],
   "source": [
    "print(complaint_tf[1, :])"
   ]
  },
  {
   "cell_type": "code",
   "execution_count": 190,
   "metadata": {},
   "outputs": [],
   "source": [
    "consumer_complaint = pd.DataFrame(complaint_tf.toarray())"
   ]
  },
  {
   "cell_type": "code",
   "execution_count": 191,
   "metadata": {},
   "outputs": [
    {
     "data": {
      "text/html": [
       "<div>\n",
       "<style scoped>\n",
       "    .dataframe tbody tr th:only-of-type {\n",
       "        vertical-align: middle;\n",
       "    }\n",
       "\n",
       "    .dataframe tbody tr th {\n",
       "        vertical-align: top;\n",
       "    }\n",
       "\n",
       "    .dataframe thead th {\n",
       "        text-align: right;\n",
       "    }\n",
       "</style>\n",
       "<table border=\"1\" class=\"dataframe\">\n",
       "  <thead>\n",
       "    <tr style=\"text-align: right;\">\n",
       "      <th></th>\n",
       "      <th>0</th>\n",
       "      <th>1</th>\n",
       "      <th>2</th>\n",
       "      <th>3</th>\n",
       "      <th>4</th>\n",
       "      <th>5</th>\n",
       "      <th>6</th>\n",
       "      <th>7</th>\n",
       "      <th>8</th>\n",
       "      <th>9</th>\n",
       "      <th>...</th>\n",
       "      <th>590</th>\n",
       "      <th>591</th>\n",
       "      <th>592</th>\n",
       "      <th>593</th>\n",
       "      <th>594</th>\n",
       "      <th>595</th>\n",
       "      <th>596</th>\n",
       "      <th>597</th>\n",
       "      <th>598</th>\n",
       "      <th>599</th>\n",
       "    </tr>\n",
       "  </thead>\n",
       "  <tbody>\n",
       "    <tr>\n",
       "      <th>0</th>\n",
       "      <td>0.000000</td>\n",
       "      <td>0.0</td>\n",
       "      <td>0.00000</td>\n",
       "      <td>0.0</td>\n",
       "      <td>0.256837</td>\n",
       "      <td>0.0</td>\n",
       "      <td>0.0</td>\n",
       "      <td>0.0</td>\n",
       "      <td>0.0</td>\n",
       "      <td>0.0</td>\n",
       "      <td>...</td>\n",
       "      <td>0.202877</td>\n",
       "      <td>0.000000</td>\n",
       "      <td>0.0</td>\n",
       "      <td>0.000000</td>\n",
       "      <td>0.0</td>\n",
       "      <td>0.000000</td>\n",
       "      <td>0.0</td>\n",
       "      <td>0.128155</td>\n",
       "      <td>0.000000</td>\n",
       "      <td>0.0</td>\n",
       "    </tr>\n",
       "    <tr>\n",
       "      <th>1</th>\n",
       "      <td>0.070745</td>\n",
       "      <td>0.0</td>\n",
       "      <td>0.00000</td>\n",
       "      <td>0.0</td>\n",
       "      <td>0.000000</td>\n",
       "      <td>0.0</td>\n",
       "      <td>0.0</td>\n",
       "      <td>0.0</td>\n",
       "      <td>0.0</td>\n",
       "      <td>0.0</td>\n",
       "      <td>...</td>\n",
       "      <td>0.730942</td>\n",
       "      <td>0.000000</td>\n",
       "      <td>0.0</td>\n",
       "      <td>0.000000</td>\n",
       "      <td>0.0</td>\n",
       "      <td>0.000000</td>\n",
       "      <td>0.0</td>\n",
       "      <td>0.000000</td>\n",
       "      <td>0.108833</td>\n",
       "      <td>0.0</td>\n",
       "    </tr>\n",
       "    <tr>\n",
       "      <th>2</th>\n",
       "      <td>0.034313</td>\n",
       "      <td>0.0</td>\n",
       "      <td>0.15179</td>\n",
       "      <td>0.0</td>\n",
       "      <td>0.019685</td>\n",
       "      <td>0.0</td>\n",
       "      <td>0.0</td>\n",
       "      <td>0.0</td>\n",
       "      <td>0.0</td>\n",
       "      <td>0.0</td>\n",
       "      <td>...</td>\n",
       "      <td>0.267446</td>\n",
       "      <td>0.062921</td>\n",
       "      <td>0.0</td>\n",
       "      <td>0.000000</td>\n",
       "      <td>0.0</td>\n",
       "      <td>0.000000</td>\n",
       "      <td>0.0</td>\n",
       "      <td>0.000000</td>\n",
       "      <td>0.000000</td>\n",
       "      <td>0.0</td>\n",
       "    </tr>\n",
       "    <tr>\n",
       "      <th>3</th>\n",
       "      <td>0.025033</td>\n",
       "      <td>0.0</td>\n",
       "      <td>0.00000</td>\n",
       "      <td>0.0</td>\n",
       "      <td>0.000000</td>\n",
       "      <td>0.0</td>\n",
       "      <td>0.0</td>\n",
       "      <td>0.0</td>\n",
       "      <td>0.0</td>\n",
       "      <td>0.0</td>\n",
       "      <td>...</td>\n",
       "      <td>0.313090</td>\n",
       "      <td>0.000000</td>\n",
       "      <td>0.0</td>\n",
       "      <td>0.183203</td>\n",
       "      <td>0.0</td>\n",
       "      <td>0.061537</td>\n",
       "      <td>0.0</td>\n",
       "      <td>0.000000</td>\n",
       "      <td>0.000000</td>\n",
       "      <td>0.0</td>\n",
       "    </tr>\n",
       "    <tr>\n",
       "      <th>4</th>\n",
       "      <td>0.000000</td>\n",
       "      <td>0.0</td>\n",
       "      <td>0.00000</td>\n",
       "      <td>0.0</td>\n",
       "      <td>0.000000</td>\n",
       "      <td>0.0</td>\n",
       "      <td>0.0</td>\n",
       "      <td>0.0</td>\n",
       "      <td>0.0</td>\n",
       "      <td>0.0</td>\n",
       "      <td>...</td>\n",
       "      <td>0.137217</td>\n",
       "      <td>0.000000</td>\n",
       "      <td>0.0</td>\n",
       "      <td>0.000000</td>\n",
       "      <td>0.0</td>\n",
       "      <td>0.000000</td>\n",
       "      <td>0.0</td>\n",
       "      <td>0.000000</td>\n",
       "      <td>0.194093</td>\n",
       "      <td>0.0</td>\n",
       "    </tr>\n",
       "  </tbody>\n",
       "</table>\n",
       "<p>5 rows × 600 columns</p>\n",
       "</div>"
      ],
      "text/plain": [
       "        0    1        2    3         4    5    6    7    8    9   ...   \\\n",
       "0  0.000000  0.0  0.00000  0.0  0.256837  0.0  0.0  0.0  0.0  0.0 ...    \n",
       "1  0.070745  0.0  0.00000  0.0  0.000000  0.0  0.0  0.0  0.0  0.0 ...    \n",
       "2  0.034313  0.0  0.15179  0.0  0.019685  0.0  0.0  0.0  0.0  0.0 ...    \n",
       "3  0.025033  0.0  0.00000  0.0  0.000000  0.0  0.0  0.0  0.0  0.0 ...    \n",
       "4  0.000000  0.0  0.00000  0.0  0.000000  0.0  0.0  0.0  0.0  0.0 ...    \n",
       "\n",
       "        590       591  592       593  594       595  596       597       598  \\\n",
       "0  0.202877  0.000000  0.0  0.000000  0.0  0.000000  0.0  0.128155  0.000000   \n",
       "1  0.730942  0.000000  0.0  0.000000  0.0  0.000000  0.0  0.000000  0.108833   \n",
       "2  0.267446  0.062921  0.0  0.000000  0.0  0.000000  0.0  0.000000  0.000000   \n",
       "3  0.313090  0.000000  0.0  0.183203  0.0  0.061537  0.0  0.000000  0.000000   \n",
       "4  0.137217  0.000000  0.0  0.000000  0.0  0.000000  0.0  0.000000  0.194093   \n",
       "\n",
       "   599  \n",
       "0  0.0  \n",
       "1  0.0  \n",
       "2  0.0  \n",
       "3  0.0  \n",
       "4  0.0  \n",
       "\n",
       "[5 rows x 600 columns]"
      ]
     },
     "execution_count": 191,
     "metadata": {},
     "output_type": "execute_result"
    }
   ],
   "source": [
    "consumer_complaint.head()"
   ]
  },
  {
   "cell_type": "code",
   "execution_count": 192,
   "metadata": {},
   "outputs": [
    {
     "data": {
      "text/plain": [
       "(43266, 600)"
      ]
     },
     "execution_count": 192,
     "metadata": {},
     "output_type": "execute_result"
    }
   ],
   "source": [
    "consumer_complaint.shape"
   ]
  },
  {
   "cell_type": "code",
   "execution_count": 193,
   "metadata": {},
   "outputs": [
    {
     "data": {
      "text/plain": [
       "(43266, 10)"
      ]
     },
     "execution_count": 193,
     "metadata": {},
     "output_type": "execute_result"
    }
   ],
   "source": [
    "train_data.shape"
   ]
  },
  {
   "cell_type": "code",
   "execution_count": 194,
   "metadata": {},
   "outputs": [],
   "source": [
    "train_data_new = pd.concat([train_data, consumer_complaint], axis = 1)"
   ]
  },
  {
   "cell_type": "code",
   "execution_count": 195,
   "metadata": {},
   "outputs": [
    {
     "data": {
      "text/plain": [
       "(43266, 610)"
      ]
     },
     "execution_count": 195,
     "metadata": {},
     "output_type": "execute_result"
    }
   ],
   "source": [
    "train_data_new.shape"
   ]
  },
  {
   "cell_type": "code",
   "execution_count": 196,
   "metadata": {},
   "outputs": [],
   "source": [
    "train_data_new = train_data_new.set_index(\"Complaint-ID\")"
   ]
  },
  {
   "cell_type": "code",
   "execution_count": 197,
   "metadata": {},
   "outputs": [],
   "source": [
    "# train_data_new = train_data_new.drop([\"Consumer-complaint-summary\",\"Complaint-reason\"], axis = 1)"
   ]
  },
  {
   "cell_type": "code",
   "execution_count": 198,
   "metadata": {},
   "outputs": [],
   "source": [
    "# Consumer-complaints_test = vectorizer.transform(test_data.Consumer-complaint-summary)"
   ]
  },
  {
   "cell_type": "code",
   "execution_count": 199,
   "metadata": {},
   "outputs": [],
   "source": [
    "features = train_data_new.drop([\"Complaint-Status\", \"Consumer-complaint-summary\",\"Complaint-reason\"], axis = 1)"
   ]
  },
  {
   "cell_type": "code",
   "execution_count": 200,
   "metadata": {},
   "outputs": [],
   "source": [
    "label = train_data_new[\"Complaint-Status\"]"
   ]
  },
  {
   "cell_type": "markdown",
   "metadata": {},
   "source": [
    "## fit model"
   ]
  },
  {
   "cell_type": "code",
   "execution_count": 201,
   "metadata": {},
   "outputs": [],
   "source": [
    "from sklearn.model_selection import train_test_split\n",
    "\n",
    "X_train, X_test, y_train, y_test = train_test_split(features, label, test_size = 0.3, random_state = 0)"
   ]
  },
  {
   "cell_type": "code",
   "execution_count": 202,
   "metadata": {},
   "outputs": [],
   "source": [
    "# import different models\n",
    "from sklearn.linear_model import LogisticRegression\n",
    "from sklearn.ensemble import RandomForestClassifier\n"
   ]
  },
  {
   "cell_type": "code",
   "execution_count": null,
   "metadata": {},
   "outputs": [],
   "source": [
    "def model_analysis(clf, train, test):\n",
    "    clf.fit(X_train, y_train)\n",
    "    "
   ]
  },
  {
   "cell_type": "code",
   "execution_count": 122,
   "metadata": {},
   "outputs": [
    {
     "name": "stdout",
     "output_type": "stream",
     "text": [
      "0.7017525872288617\n"
     ]
    },
    {
     "name": "stderr",
     "output_type": "stream",
     "text": [
      "D:\\Anaconda3\\lib\\site-packages\\sklearn\\metrics\\classification.py:1135: UndefinedMetricWarning: F-score is ill-defined and being set to 0.0 in labels with no predicted samples.\n",
      "  'precision', 'predicted', average, warn_for)\n"
     ]
    }
   ],
   "source": [
    "from sklearn.linear_model import LogisticRegression\n",
    "from sklearn import metrics\n",
    "\n",
    "clf = LogisticRegression(random_state = 0).fit(X_train, y_train)\n",
    "\n",
    "print(metrics.f1_score(y_test, clf.predict(X_test), average = 'weighted') )\n"
   ]
  },
  {
   "cell_type": "code",
   "execution_count": 123,
   "metadata": {},
   "outputs": [],
   "source": [
    "test_data[\"date_sent_to_recieved\"] = (pd.to_datetime(test_data[\"Date-sent-to-company\"]) - \n",
    "                                       pd.to_datetime(test_data[\"Date-received\"])).dt.days"
   ]
  },
  {
   "cell_type": "code",
   "execution_count": 124,
   "metadata": {},
   "outputs": [],
   "source": [
    "test_data[\"Date-received\"] = pd.to_datetime(test_data[\"Date-received\"]).dt.strftime(\"%d%m%y\").astype(int)\n",
    "test_data[\"Date-sent-to-company\"] = pd.to_datetime(test_data[\"Date-sent-to-company\"]).dt.strftime(\"%d%m%y\").astype(int)"
   ]
  },
  {
   "cell_type": "code",
   "execution_count": 125,
   "metadata": {},
   "outputs": [],
   "source": [
    "test_data[\"Company-response\"].fillna(\"no response\", inplace = True)"
   ]
  },
  {
   "cell_type": "code",
   "execution_count": 126,
   "metadata": {},
   "outputs": [],
   "source": [
    "test_data[\"Consumer-disputes\"].fillna(\"No\", inplace = True)"
   ]
  },
  {
   "cell_type": "code",
   "execution_count": 127,
   "metadata": {},
   "outputs": [],
   "source": [
    "test_data[[\"Transaction-Type\", \"Company-response\",\"Consumer-disputes\"]] = test_data[[\"Transaction-Type\", \"Company-response\", \"Consumer-disputes\"]].apply(lambda x: d[x.name].transform(x))\n"
   ]
  },
  {
   "cell_type": "code",
   "execution_count": 128,
   "metadata": {},
   "outputs": [],
   "source": [
    "feature_tfidfvect_test = test_data[\"Consumer-complaint-summary\"] + test_data[\"Complaint-reason\"]"
   ]
  },
  {
   "cell_type": "code",
   "execution_count": 129,
   "metadata": {},
   "outputs": [],
   "source": [
    "complaint_tf_test = vectorizer.transform(test_data[\"Consumer-complaint-summary\"])"
   ]
  },
  {
   "cell_type": "code",
   "execution_count": 130,
   "metadata": {},
   "outputs": [],
   "source": [
    "consumer_complaint_test = pd.DataFrame(complaint_tf_test.toarray())"
   ]
  },
  {
   "cell_type": "code",
   "execution_count": 131,
   "metadata": {},
   "outputs": [],
   "source": [
    "test_data_new = pd.concat([test_data, consumer_complaint_test], axis = 1)"
   ]
  },
  {
   "cell_type": "code",
   "execution_count": 132,
   "metadata": {},
   "outputs": [],
   "source": [
    "test_data_new = test_data_new.set_index(\"Complaint-ID\")"
   ]
  },
  {
   "cell_type": "code",
   "execution_count": 134,
   "metadata": {},
   "outputs": [],
   "source": [
    "test_data_new = test_data_new.drop([\"Consumer-complaint-summary\",\"Complaint-reason\"], axis = 1)"
   ]
  },
  {
   "cell_type": "code",
   "execution_count": 135,
   "metadata": {},
   "outputs": [],
   "source": [
    "test_data_new[\"Complaint-Status\"] = clf.predict(test_data_new)"
   ]
  },
  {
   "cell_type": "code",
   "execution_count": 144,
   "metadata": {},
   "outputs": [
    {
     "data": {
      "text/plain": [
       "1    18541\n",
       "4        2\n",
       "Name: Complaint-Status, dtype: int64"
      ]
     },
     "execution_count": 144,
     "metadata": {},
     "output_type": "execute_result"
    }
   ],
   "source": [
    "test_data_new[\"Complaint-Status\"].value_counts()"
   ]
  },
  {
   "cell_type": "code",
   "execution_count": 137,
   "metadata": {},
   "outputs": [
    {
     "name": "stderr",
     "output_type": "stream",
     "text": [
      "D:\\Anaconda3\\lib\\site-packages\\sklearn\\preprocessing\\label.py:151: DeprecationWarning: The truth value of an empty array is ambiguous. Returning False, but in future this will result in an error. Use `array.size > 0` to check that an array is not empty.\n",
      "  if diff:\n",
      "D:\\Anaconda3\\lib\\site-packages\\sklearn\\preprocessing\\label.py:151: DeprecationWarning: The truth value of an empty array is ambiguous. Returning False, but in future this will result in an error. Use `array.size > 0` to check that an array is not empty.\n",
      "  if diff:\n"
     ]
    }
   ],
   "source": [
    "result = test_data_new[[\"Complaint-Status\"]].apply(lambda x: d[x.name].inverse_transform(x))"
   ]
  },
  {
   "cell_type": "code",
   "execution_count": 138,
   "metadata": {},
   "outputs": [
    {
     "data": {
      "text/html": [
       "<div>\n",
       "<style scoped>\n",
       "    .dataframe tbody tr th:only-of-type {\n",
       "        vertical-align: middle;\n",
       "    }\n",
       "\n",
       "    .dataframe tbody tr th {\n",
       "        vertical-align: top;\n",
       "    }\n",
       "\n",
       "    .dataframe thead th {\n",
       "        text-align: right;\n",
       "    }\n",
       "</style>\n",
       "<table border=\"1\" class=\"dataframe\">\n",
       "  <thead>\n",
       "    <tr style=\"text-align: right;\">\n",
       "      <th></th>\n",
       "      <th>Complaint-Status</th>\n",
       "    </tr>\n",
       "    <tr>\n",
       "      <th>Complaint-ID</th>\n",
       "      <th></th>\n",
       "    </tr>\n",
       "  </thead>\n",
       "  <tbody>\n",
       "    <tr>\n",
       "      <th>Te-1</th>\n",
       "      <td>Closed with explanation</td>\n",
       "    </tr>\n",
       "    <tr>\n",
       "      <th>Te-2</th>\n",
       "      <td>Closed with explanation</td>\n",
       "    </tr>\n",
       "    <tr>\n",
       "      <th>Te-3</th>\n",
       "      <td>Closed with explanation</td>\n",
       "    </tr>\n",
       "    <tr>\n",
       "      <th>Te-4</th>\n",
       "      <td>Closed with explanation</td>\n",
       "    </tr>\n",
       "    <tr>\n",
       "      <th>Te-5</th>\n",
       "      <td>Closed with explanation</td>\n",
       "    </tr>\n",
       "  </tbody>\n",
       "</table>\n",
       "</div>"
      ],
      "text/plain": [
       "                     Complaint-Status\n",
       "Complaint-ID                         \n",
       "Te-1          Closed with explanation\n",
       "Te-2          Closed with explanation\n",
       "Te-3          Closed with explanation\n",
       "Te-4          Closed with explanation\n",
       "Te-5          Closed with explanation"
      ]
     },
     "execution_count": 138,
     "metadata": {},
     "output_type": "execute_result"
    }
   ],
   "source": [
    "result.head()"
   ]
  },
  {
   "cell_type": "code",
   "execution_count": 142,
   "metadata": {},
   "outputs": [
    {
     "data": {
      "text/plain": [
       "Closed with explanation    18541\n",
       "Untimely response              2\n",
       "Name: Complaint-Status, dtype: int64"
      ]
     },
     "execution_count": 142,
     "metadata": {},
     "output_type": "execute_result"
    }
   ],
   "source": [
    "result[\"Complaint-Status\"].value_counts()"
   ]
  },
  {
   "cell_type": "code",
   "execution_count": 143,
   "metadata": {},
   "outputs": [],
   "source": [
    "result.to_csv(\"./pred_result.csv\")"
   ]
  },
  {
   "cell_type": "code",
   "execution_count": null,
   "metadata": {},
   "outputs": [],
   "source": []
  }
 ],
 "metadata": {
  "kernelspec": {
   "display_name": "Python 3",
   "language": "python",
   "name": "python3"
  },
  "language_info": {
   "codemirror_mode": {
    "name": "ipython",
    "version": 3
   },
   "file_extension": ".py",
   "mimetype": "text/x-python",
   "name": "python",
   "nbconvert_exporter": "python",
   "pygments_lexer": "ipython3",
   "version": "3.6.5"
  }
 },
 "nbformat": 4,
 "nbformat_minor": 2
}
