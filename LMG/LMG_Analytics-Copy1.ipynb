{
 "cells": [
  {
   "cell_type": "code",
   "execution_count": 1,
   "metadata": {},
   "outputs": [],
   "source": [
    "import pandas as pd\n",
    "import numpy as np"
   ]
  },
  {
   "cell_type": "code",
   "execution_count": 2,
   "metadata": {},
   "outputs": [],
   "source": [
    "demographics = pd.read_excel(\"./Data/Customer_Demographics.xlsx\")"
   ]
  },
  {
   "cell_type": "code",
   "execution_count": 3,
   "metadata": {},
   "outputs": [
    {
     "data": {
      "text/html": [
       "<div>\n",
       "<style scoped>\n",
       "    .dataframe tbody tr th:only-of-type {\n",
       "        vertical-align: middle;\n",
       "    }\n",
       "\n",
       "    .dataframe tbody tr th {\n",
       "        vertical-align: top;\n",
       "    }\n",
       "\n",
       "    .dataframe thead th {\n",
       "        text-align: right;\n",
       "    }\n",
       "</style>\n",
       "<table border=\"1\" class=\"dataframe\">\n",
       "  <thead>\n",
       "    <tr style=\"text-align: right;\">\n",
       "      <th></th>\n",
       "      <th>Customer_ID</th>\n",
       "      <th>Territory</th>\n",
       "      <th>Nationality</th>\n",
       "      <th>Income_Range</th>\n",
       "      <th>Job_Type</th>\n",
       "      <th>Marital_Status</th>\n",
       "      <th>Gender</th>\n",
       "      <th>State</th>\n",
       "      <th>Language</th>\n",
       "      <th>Loyalty_Status</th>\n",
       "      <th>Birth_date</th>\n",
       "      <th>Age</th>\n",
       "      <th>Points</th>\n",
       "      <th>First_txn_dt</th>\n",
       "      <th>Last_accr_txn_dt</th>\n",
       "      <th>Last_rdm_txn_dt</th>\n",
       "    </tr>\n",
       "  </thead>\n",
       "  <tbody>\n",
       "    <tr>\n",
       "      <th>0</th>\n",
       "      <td>1800000006365760</td>\n",
       "      <td>United Arab Emirates</td>\n",
       "      <td>INDIA</td>\n",
       "      <td>Below 5000</td>\n",
       "      <td>Services</td>\n",
       "      <td>Married</td>\n",
       "      <td>M</td>\n",
       "      <td>Abu Dhabi</td>\n",
       "      <td>English</td>\n",
       "      <td>Gold</td>\n",
       "      <td>01JUN1959:00:00:00</td>\n",
       "      <td>59.0</td>\n",
       "      <td>814.0</td>\n",
       "      <td>02NOV2010:00:00:00</td>\n",
       "      <td>27SEP2018:21:45:25</td>\n",
       "      <td>11MAR2018:19:11:57</td>\n",
       "    </tr>\n",
       "    <tr>\n",
       "      <th>1</th>\n",
       "      <td>1800000006365820</td>\n",
       "      <td>United Arab Emirates</td>\n",
       "      <td>UNITED ARAB EMIRATES</td>\n",
       "      <td>Below 5000</td>\n",
       "      <td>Services</td>\n",
       "      <td>Married</td>\n",
       "      <td>F</td>\n",
       "      <td>Abu Dhabi</td>\n",
       "      <td>Arabic</td>\n",
       "      <td>Silver</td>\n",
       "      <td>01JAN1900:00:00:00</td>\n",
       "      <td>NaN</td>\n",
       "      <td>212.0</td>\n",
       "      <td>06DEC2010:00:00:00</td>\n",
       "      <td>16AUG2016:21:08:28</td>\n",
       "      <td>16MAR2015:13:39:12</td>\n",
       "    </tr>\n",
       "    <tr>\n",
       "      <th>2</th>\n",
       "      <td>1800000006366060</td>\n",
       "      <td>United Arab Emirates</td>\n",
       "      <td>SRI LANKA</td>\n",
       "      <td>Below 5000</td>\n",
       "      <td>Services</td>\n",
       "      <td>Married</td>\n",
       "      <td>M</td>\n",
       "      <td>Abu Dhabi</td>\n",
       "      <td>English</td>\n",
       "      <td>Silver</td>\n",
       "      <td>07JUN1959:00:00:00</td>\n",
       "      <td>59.0</td>\n",
       "      <td>186.0</td>\n",
       "      <td>17FEB2011:00:00:00</td>\n",
       "      <td>31AUG2018:20:52:18</td>\n",
       "      <td>30JAN2017:19:19:19</td>\n",
       "    </tr>\n",
       "    <tr>\n",
       "      <th>3</th>\n",
       "      <td>1800000006366230</td>\n",
       "      <td>United Arab Emirates</td>\n",
       "      <td>JORDAN</td>\n",
       "      <td>Below 5000</td>\n",
       "      <td>Services</td>\n",
       "      <td>Married</td>\n",
       "      <td>F</td>\n",
       "      <td>Abu Dhabi</td>\n",
       "      <td>Arabic</td>\n",
       "      <td>Silver</td>\n",
       "      <td>21JAN1962:00:00:00</td>\n",
       "      <td>57.0</td>\n",
       "      <td>126.0</td>\n",
       "      <td>30OCT2010:00:00:00</td>\n",
       "      <td>30JUL2018:20:30:05</td>\n",
       "      <td>20JUN2017:17:57:27</td>\n",
       "    </tr>\n",
       "    <tr>\n",
       "      <th>4</th>\n",
       "      <td>1800000006366570</td>\n",
       "      <td>United Arab Emirates</td>\n",
       "      <td>OCCUPIED PALESTINIAN TERRITORY</td>\n",
       "      <td>Below 5000</td>\n",
       "      <td>Services</td>\n",
       "      <td>Married</td>\n",
       "      <td>M</td>\n",
       "      <td>Abu Dhabi</td>\n",
       "      <td>Arabic</td>\n",
       "      <td>Silver</td>\n",
       "      <td>01JAN1900:00:00:00</td>\n",
       "      <td>NaN</td>\n",
       "      <td>197.0</td>\n",
       "      <td>10NOV2010:00:00:00</td>\n",
       "      <td>03SEP2018:22:10:56</td>\n",
       "      <td>17JUN2017:23:08:28</td>\n",
       "    </tr>\n",
       "  </tbody>\n",
       "</table>\n",
       "</div>"
      ],
      "text/plain": [
       "        Customer_ID             Territory                     Nationality  \\\n",
       "0  1800000006365760  United Arab Emirates                           INDIA   \n",
       "1  1800000006365820  United Arab Emirates            UNITED ARAB EMIRATES   \n",
       "2  1800000006366060  United Arab Emirates                       SRI LANKA   \n",
       "3  1800000006366230  United Arab Emirates                          JORDAN   \n",
       "4  1800000006366570  United Arab Emirates  OCCUPIED PALESTINIAN TERRITORY   \n",
       "\n",
       "  Income_Range  Job_Type Marital_Status Gender      State Language  \\\n",
       "0   Below 5000  Services        Married      M  Abu Dhabi  English   \n",
       "1   Below 5000  Services        Married      F  Abu Dhabi   Arabic   \n",
       "2   Below 5000  Services        Married      M  Abu Dhabi  English   \n",
       "3   Below 5000  Services        Married      F  Abu Dhabi   Arabic   \n",
       "4   Below 5000  Services        Married      M  Abu Dhabi   Arabic   \n",
       "\n",
       "  Loyalty_Status          Birth_date   Age  Points        First_txn_dt  \\\n",
       "0           Gold  01JUN1959:00:00:00  59.0   814.0  02NOV2010:00:00:00   \n",
       "1         Silver  01JAN1900:00:00:00   NaN   212.0  06DEC2010:00:00:00   \n",
       "2         Silver  07JUN1959:00:00:00  59.0   186.0  17FEB2011:00:00:00   \n",
       "3         Silver  21JAN1962:00:00:00  57.0   126.0  30OCT2010:00:00:00   \n",
       "4         Silver  01JAN1900:00:00:00   NaN   197.0  10NOV2010:00:00:00   \n",
       "\n",
       "     Last_accr_txn_dt     Last_rdm_txn_dt  \n",
       "0  27SEP2018:21:45:25  11MAR2018:19:11:57  \n",
       "1  16AUG2016:21:08:28  16MAR2015:13:39:12  \n",
       "2  31AUG2018:20:52:18  30JAN2017:19:19:19  \n",
       "3  30JUL2018:20:30:05  20JUN2017:17:57:27  \n",
       "4  03SEP2018:22:10:56  17JUN2017:23:08:28  "
      ]
     },
     "execution_count": 3,
     "metadata": {},
     "output_type": "execute_result"
    }
   ],
   "source": [
    "demographics.head()"
   ]
  },
  {
   "cell_type": "code",
   "execution_count": 4,
   "metadata": {},
   "outputs": [
    {
     "data": {
      "text/plain": [
       "(100000, 16)"
      ]
     },
     "execution_count": 4,
     "metadata": {},
     "output_type": "execute_result"
    }
   ],
   "source": [
    "demographics.shape"
   ]
  },
  {
   "cell_type": "code",
   "execution_count": 5,
   "metadata": {},
   "outputs": [
    {
     "data": {
      "text/plain": [
       "United Arab Emirates    100000\n",
       "Name: Territory, dtype: int64"
      ]
     },
     "execution_count": 5,
     "metadata": {},
     "output_type": "execute_result"
    }
   ],
   "source": [
    "demographics.Territory.value_counts()"
   ]
  },
  {
   "cell_type": "code",
   "execution_count": 6,
   "metadata": {},
   "outputs": [],
   "source": [
    "demographics = demographics.drop([\"Territory\", \"Birth_date\", \"First_txn_dt\", \"Last_accr_txn_dt\", \"Last_rdm_txn_dt\"], axis = 1)"
   ]
  },
  {
   "cell_type": "code",
   "execution_count": 7,
   "metadata": {},
   "outputs": [
    {
     "data": {
      "text/html": [
       "<div>\n",
       "<style scoped>\n",
       "    .dataframe tbody tr th:only-of-type {\n",
       "        vertical-align: middle;\n",
       "    }\n",
       "\n",
       "    .dataframe tbody tr th {\n",
       "        vertical-align: top;\n",
       "    }\n",
       "\n",
       "    .dataframe thead th {\n",
       "        text-align: right;\n",
       "    }\n",
       "</style>\n",
       "<table border=\"1\" class=\"dataframe\">\n",
       "  <thead>\n",
       "    <tr style=\"text-align: right;\">\n",
       "      <th></th>\n",
       "      <th>Customer_ID</th>\n",
       "      <th>Nationality</th>\n",
       "      <th>Income_Range</th>\n",
       "      <th>Job_Type</th>\n",
       "      <th>Marital_Status</th>\n",
       "      <th>Gender</th>\n",
       "      <th>State</th>\n",
       "      <th>Language</th>\n",
       "      <th>Loyalty_Status</th>\n",
       "      <th>Age</th>\n",
       "      <th>Points</th>\n",
       "    </tr>\n",
       "  </thead>\n",
       "  <tbody>\n",
       "    <tr>\n",
       "      <th>0</th>\n",
       "      <td>1800000006365760</td>\n",
       "      <td>INDIA</td>\n",
       "      <td>Below 5000</td>\n",
       "      <td>Services</td>\n",
       "      <td>Married</td>\n",
       "      <td>M</td>\n",
       "      <td>Abu Dhabi</td>\n",
       "      <td>English</td>\n",
       "      <td>Gold</td>\n",
       "      <td>59.0</td>\n",
       "      <td>814.0</td>\n",
       "    </tr>\n",
       "    <tr>\n",
       "      <th>1</th>\n",
       "      <td>1800000006365820</td>\n",
       "      <td>UNITED ARAB EMIRATES</td>\n",
       "      <td>Below 5000</td>\n",
       "      <td>Services</td>\n",
       "      <td>Married</td>\n",
       "      <td>F</td>\n",
       "      <td>Abu Dhabi</td>\n",
       "      <td>Arabic</td>\n",
       "      <td>Silver</td>\n",
       "      <td>NaN</td>\n",
       "      <td>212.0</td>\n",
       "    </tr>\n",
       "    <tr>\n",
       "      <th>2</th>\n",
       "      <td>1800000006366060</td>\n",
       "      <td>SRI LANKA</td>\n",
       "      <td>Below 5000</td>\n",
       "      <td>Services</td>\n",
       "      <td>Married</td>\n",
       "      <td>M</td>\n",
       "      <td>Abu Dhabi</td>\n",
       "      <td>English</td>\n",
       "      <td>Silver</td>\n",
       "      <td>59.0</td>\n",
       "      <td>186.0</td>\n",
       "    </tr>\n",
       "    <tr>\n",
       "      <th>3</th>\n",
       "      <td>1800000006366230</td>\n",
       "      <td>JORDAN</td>\n",
       "      <td>Below 5000</td>\n",
       "      <td>Services</td>\n",
       "      <td>Married</td>\n",
       "      <td>F</td>\n",
       "      <td>Abu Dhabi</td>\n",
       "      <td>Arabic</td>\n",
       "      <td>Silver</td>\n",
       "      <td>57.0</td>\n",
       "      <td>126.0</td>\n",
       "    </tr>\n",
       "    <tr>\n",
       "      <th>4</th>\n",
       "      <td>1800000006366570</td>\n",
       "      <td>OCCUPIED PALESTINIAN TERRITORY</td>\n",
       "      <td>Below 5000</td>\n",
       "      <td>Services</td>\n",
       "      <td>Married</td>\n",
       "      <td>M</td>\n",
       "      <td>Abu Dhabi</td>\n",
       "      <td>Arabic</td>\n",
       "      <td>Silver</td>\n",
       "      <td>NaN</td>\n",
       "      <td>197.0</td>\n",
       "    </tr>\n",
       "  </tbody>\n",
       "</table>\n",
       "</div>"
      ],
      "text/plain": [
       "        Customer_ID                     Nationality Income_Range  Job_Type  \\\n",
       "0  1800000006365760                           INDIA   Below 5000  Services   \n",
       "1  1800000006365820            UNITED ARAB EMIRATES   Below 5000  Services   \n",
       "2  1800000006366060                       SRI LANKA   Below 5000  Services   \n",
       "3  1800000006366230                          JORDAN   Below 5000  Services   \n",
       "4  1800000006366570  OCCUPIED PALESTINIAN TERRITORY   Below 5000  Services   \n",
       "\n",
       "  Marital_Status Gender      State Language Loyalty_Status   Age  Points  \n",
       "0        Married      M  Abu Dhabi  English           Gold  59.0   814.0  \n",
       "1        Married      F  Abu Dhabi   Arabic         Silver   NaN   212.0  \n",
       "2        Married      M  Abu Dhabi  English         Silver  59.0   186.0  \n",
       "3        Married      F  Abu Dhabi   Arabic         Silver  57.0   126.0  \n",
       "4        Married      M  Abu Dhabi   Arabic         Silver   NaN   197.0  "
      ]
     },
     "execution_count": 7,
     "metadata": {},
     "output_type": "execute_result"
    }
   ],
   "source": [
    "demographics.head()"
   ]
  },
  {
   "cell_type": "code",
   "execution_count": 8,
   "metadata": {},
   "outputs": [
    {
     "data": {
      "text/plain": [
       "Customer_ID           0\n",
       "Nationality           0\n",
       "Income_Range          0\n",
       "Job_Type              0\n",
       "Marital_Status        0\n",
       "Gender                0\n",
       "State                 0\n",
       "Language              0\n",
       "Loyalty_Status        0\n",
       "Age               26096\n",
       "Points             2863\n",
       "dtype: int64"
      ]
     },
     "execution_count": 8,
     "metadata": {},
     "output_type": "execute_result"
    }
   ],
   "source": [
    "demographics.isnull().sum()"
   ]
  },
  {
   "cell_type": "code",
   "execution_count": 9,
   "metadata": {},
   "outputs": [
    {
     "data": {
      "text/plain": [
       "36.0"
      ]
     },
     "execution_count": 9,
     "metadata": {},
     "output_type": "execute_result"
    }
   ],
   "source": [
    "demographics[\"Age\"].median()"
   ]
  },
  {
   "cell_type": "code",
   "execution_count": 10,
   "metadata": {},
   "outputs": [],
   "source": [
    "demographics.fillna(demographics[\"Age\"].median(), inplace = True)"
   ]
  },
  {
   "cell_type": "code",
   "execution_count": 11,
   "metadata": {},
   "outputs": [],
   "source": [
    "from sklearn.preprocessing import LabelEncoder"
   ]
  },
  {
   "cell_type": "code",
   "execution_count": 12,
   "metadata": {},
   "outputs": [],
   "source": [
    "le = LabelEncoder()"
   ]
  },
  {
   "cell_type": "code",
   "execution_count": 13,
   "metadata": {},
   "outputs": [],
   "source": [
    "demographics[\"Nationality\"] = le.fit_transform(demographics[\"Nationality\"])"
   ]
  },
  {
   "cell_type": "code",
   "execution_count": 14,
   "metadata": {},
   "outputs": [
    {
     "data": {
      "text/html": [
       "<div>\n",
       "<style scoped>\n",
       "    .dataframe tbody tr th:only-of-type {\n",
       "        vertical-align: middle;\n",
       "    }\n",
       "\n",
       "    .dataframe tbody tr th {\n",
       "        vertical-align: top;\n",
       "    }\n",
       "\n",
       "    .dataframe thead th {\n",
       "        text-align: right;\n",
       "    }\n",
       "</style>\n",
       "<table border=\"1\" class=\"dataframe\">\n",
       "  <thead>\n",
       "    <tr style=\"text-align: right;\">\n",
       "      <th></th>\n",
       "      <th>Customer_ID</th>\n",
       "      <th>Nationality</th>\n",
       "      <th>Income_Range</th>\n",
       "      <th>Job_Type</th>\n",
       "      <th>Marital_Status</th>\n",
       "      <th>Gender</th>\n",
       "      <th>State</th>\n",
       "      <th>Language</th>\n",
       "      <th>Loyalty_Status</th>\n",
       "      <th>Age</th>\n",
       "      <th>Points</th>\n",
       "    </tr>\n",
       "  </thead>\n",
       "  <tbody>\n",
       "    <tr>\n",
       "      <th>0</th>\n",
       "      <td>1800000006365760</td>\n",
       "      <td>88</td>\n",
       "      <td>Below 5000</td>\n",
       "      <td>Services</td>\n",
       "      <td>Married</td>\n",
       "      <td>M</td>\n",
       "      <td>Abu Dhabi</td>\n",
       "      <td>English</td>\n",
       "      <td>Gold</td>\n",
       "      <td>59.0</td>\n",
       "      <td>814.0</td>\n",
       "    </tr>\n",
       "    <tr>\n",
       "      <th>1</th>\n",
       "      <td>1800000006365820</td>\n",
       "      <td>206</td>\n",
       "      <td>Below 5000</td>\n",
       "      <td>Services</td>\n",
       "      <td>Married</td>\n",
       "      <td>F</td>\n",
       "      <td>Abu Dhabi</td>\n",
       "      <td>Arabic</td>\n",
       "      <td>Silver</td>\n",
       "      <td>36.0</td>\n",
       "      <td>212.0</td>\n",
       "    </tr>\n",
       "    <tr>\n",
       "      <th>2</th>\n",
       "      <td>1800000006366060</td>\n",
       "      <td>182</td>\n",
       "      <td>Below 5000</td>\n",
       "      <td>Services</td>\n",
       "      <td>Married</td>\n",
       "      <td>M</td>\n",
       "      <td>Abu Dhabi</td>\n",
       "      <td>English</td>\n",
       "      <td>Silver</td>\n",
       "      <td>59.0</td>\n",
       "      <td>186.0</td>\n",
       "    </tr>\n",
       "    <tr>\n",
       "      <th>3</th>\n",
       "      <td>1800000006366230</td>\n",
       "      <td>97</td>\n",
       "      <td>Below 5000</td>\n",
       "      <td>Services</td>\n",
       "      <td>Married</td>\n",
       "      <td>F</td>\n",
       "      <td>Abu Dhabi</td>\n",
       "      <td>Arabic</td>\n",
       "      <td>Silver</td>\n",
       "      <td>57.0</td>\n",
       "      <td>126.0</td>\n",
       "    </tr>\n",
       "    <tr>\n",
       "      <th>4</th>\n",
       "      <td>1800000006366570</td>\n",
       "      <td>143</td>\n",
       "      <td>Below 5000</td>\n",
       "      <td>Services</td>\n",
       "      <td>Married</td>\n",
       "      <td>M</td>\n",
       "      <td>Abu Dhabi</td>\n",
       "      <td>Arabic</td>\n",
       "      <td>Silver</td>\n",
       "      <td>36.0</td>\n",
       "      <td>197.0</td>\n",
       "    </tr>\n",
       "  </tbody>\n",
       "</table>\n",
       "</div>"
      ],
      "text/plain": [
       "        Customer_ID  Nationality Income_Range  Job_Type Marital_Status Gender  \\\n",
       "0  1800000006365760           88   Below 5000  Services        Married      M   \n",
       "1  1800000006365820          206   Below 5000  Services        Married      F   \n",
       "2  1800000006366060          182   Below 5000  Services        Married      M   \n",
       "3  1800000006366230           97   Below 5000  Services        Married      F   \n",
       "4  1800000006366570          143   Below 5000  Services        Married      M   \n",
       "\n",
       "       State Language Loyalty_Status   Age  Points  \n",
       "0  Abu Dhabi  English           Gold  59.0   814.0  \n",
       "1  Abu Dhabi   Arabic         Silver  36.0   212.0  \n",
       "2  Abu Dhabi  English         Silver  59.0   186.0  \n",
       "3  Abu Dhabi   Arabic         Silver  57.0   126.0  \n",
       "4  Abu Dhabi   Arabic         Silver  36.0   197.0  "
      ]
     },
     "execution_count": 14,
     "metadata": {},
     "output_type": "execute_result"
    }
   ],
   "source": [
    "demographics.head()"
   ]
  },
  {
   "cell_type": "code",
   "execution_count": 15,
   "metadata": {},
   "outputs": [],
   "source": [
    "demographics[\"Income_Range\"] = le.fit_transform(demographics[\"Income_Range\"])"
   ]
  },
  {
   "cell_type": "code",
   "execution_count": 16,
   "metadata": {},
   "outputs": [
    {
     "data": {
      "text/plain": [
       "Unspecified    92484\n",
       "Married         6522\n",
       "Single           982\n",
       "Widowed            5\n",
       "Divorsed           4\n",
       "Separated          2\n",
       "Others             1\n",
       "Name: Marital_Status, dtype: int64"
      ]
     },
     "execution_count": 16,
     "metadata": {},
     "output_type": "execute_result"
    }
   ],
   "source": [
    "demographics.Marital_Status.value_counts()"
   ]
  },
  {
   "cell_type": "code",
   "execution_count": 17,
   "metadata": {},
   "outputs": [],
   "source": [
    "demographics[\"Marital_Status\"] = le.fit_transform(demographics[\"Marital_Status\"])"
   ]
  },
  {
   "cell_type": "code",
   "execution_count": 18,
   "metadata": {},
   "outputs": [
    {
     "data": {
      "text/plain": [
       "M              52524\n",
       "F              46063\n",
       "Unspecified     1413\n",
       "Name: Gender, dtype: int64"
      ]
     },
     "execution_count": 18,
     "metadata": {},
     "output_type": "execute_result"
    }
   ],
   "source": [
    "demographics.Gender.value_counts()"
   ]
  },
  {
   "cell_type": "code",
   "execution_count": 19,
   "metadata": {},
   "outputs": [],
   "source": [
    "demographics[\"Gender\"] = le.fit_transform(demographics[\"Gender\"])"
   ]
  },
  {
   "cell_type": "code",
   "execution_count": 20,
   "metadata": {},
   "outputs": [],
   "source": [
    "demographics[\"State\"] = le.fit_transform(demographics[\"State\"])\n",
    "demographics[\"Language\"] = le.fit_transform(demographics[\"Language\"])\n",
    "demographics[\"Loyalty_Status\"] = le.fit_transform(demographics[\"Loyalty_Status\"])\n",
    "demographics[\"Services\"] = le.fit_transform(demographics[\"Loyalty_Status\"])"
   ]
  },
  {
   "cell_type": "code",
   "execution_count": 21,
   "metadata": {},
   "outputs": [
    {
     "data": {
      "text/html": [
       "<div>\n",
       "<style scoped>\n",
       "    .dataframe tbody tr th:only-of-type {\n",
       "        vertical-align: middle;\n",
       "    }\n",
       "\n",
       "    .dataframe tbody tr th {\n",
       "        vertical-align: top;\n",
       "    }\n",
       "\n",
       "    .dataframe thead th {\n",
       "        text-align: right;\n",
       "    }\n",
       "</style>\n",
       "<table border=\"1\" class=\"dataframe\">\n",
       "  <thead>\n",
       "    <tr style=\"text-align: right;\">\n",
       "      <th></th>\n",
       "      <th>Customer_ID</th>\n",
       "      <th>Nationality</th>\n",
       "      <th>Income_Range</th>\n",
       "      <th>Job_Type</th>\n",
       "      <th>Marital_Status</th>\n",
       "      <th>Gender</th>\n",
       "      <th>State</th>\n",
       "      <th>Language</th>\n",
       "      <th>Loyalty_Status</th>\n",
       "      <th>Age</th>\n",
       "      <th>Points</th>\n",
       "    </tr>\n",
       "  </thead>\n",
       "  <tbody>\n",
       "    <tr>\n",
       "      <th>0</th>\n",
       "      <td>1800000006365760</td>\n",
       "      <td>88</td>\n",
       "      <td>4</td>\n",
       "      <td>Services</td>\n",
       "      <td>1</td>\n",
       "      <td>1</td>\n",
       "      <td>0</td>\n",
       "      <td>1</td>\n",
       "      <td>0</td>\n",
       "      <td>59.0</td>\n",
       "      <td>814.0</td>\n",
       "    </tr>\n",
       "    <tr>\n",
       "      <th>1</th>\n",
       "      <td>1800000006365820</td>\n",
       "      <td>206</td>\n",
       "      <td>4</td>\n",
       "      <td>Services</td>\n",
       "      <td>1</td>\n",
       "      <td>0</td>\n",
       "      <td>0</td>\n",
       "      <td>0</td>\n",
       "      <td>1</td>\n",
       "      <td>36.0</td>\n",
       "      <td>212.0</td>\n",
       "    </tr>\n",
       "    <tr>\n",
       "      <th>2</th>\n",
       "      <td>1800000006366060</td>\n",
       "      <td>182</td>\n",
       "      <td>4</td>\n",
       "      <td>Services</td>\n",
       "      <td>1</td>\n",
       "      <td>1</td>\n",
       "      <td>0</td>\n",
       "      <td>1</td>\n",
       "      <td>1</td>\n",
       "      <td>59.0</td>\n",
       "      <td>186.0</td>\n",
       "    </tr>\n",
       "    <tr>\n",
       "      <th>3</th>\n",
       "      <td>1800000006366230</td>\n",
       "      <td>97</td>\n",
       "      <td>4</td>\n",
       "      <td>Services</td>\n",
       "      <td>1</td>\n",
       "      <td>0</td>\n",
       "      <td>0</td>\n",
       "      <td>0</td>\n",
       "      <td>1</td>\n",
       "      <td>57.0</td>\n",
       "      <td>126.0</td>\n",
       "    </tr>\n",
       "    <tr>\n",
       "      <th>4</th>\n",
       "      <td>1800000006366570</td>\n",
       "      <td>143</td>\n",
       "      <td>4</td>\n",
       "      <td>Services</td>\n",
       "      <td>1</td>\n",
       "      <td>1</td>\n",
       "      <td>0</td>\n",
       "      <td>0</td>\n",
       "      <td>1</td>\n",
       "      <td>36.0</td>\n",
       "      <td>197.0</td>\n",
       "    </tr>\n",
       "  </tbody>\n",
       "</table>\n",
       "</div>"
      ],
      "text/plain": [
       "        Customer_ID  Nationality  Income_Range  Job_Type  Marital_Status  \\\n",
       "0  1800000006365760           88             4  Services               1   \n",
       "1  1800000006365820          206             4  Services               1   \n",
       "2  1800000006366060          182             4  Services               1   \n",
       "3  1800000006366230           97             4  Services               1   \n",
       "4  1800000006366570          143             4  Services               1   \n",
       "\n",
       "   Gender  State  Language  Loyalty_Status   Age  Points  \n",
       "0       1      0         1               0  59.0   814.0  \n",
       "1       0      0         0               1  36.0   212.0  \n",
       "2       1      0         1               1  59.0   186.0  \n",
       "3       0      0         0               1  57.0   126.0  \n",
       "4       1      0         0               1  36.0   197.0  "
      ]
     },
     "execution_count": 21,
     "metadata": {},
     "output_type": "execute_result"
    }
   ],
   "source": [
    "demographics.head()"
   ]
  },
  {
   "cell_type": "code",
   "execution_count": 26,
   "metadata": {},
   "outputs": [],
   "source": [
    "demographics[\"Job_Type\"] = le.fit_transform(demographics[\"Job_Type\"])"
   ]
  },
  {
   "cell_type": "code",
   "execution_count": 27,
   "metadata": {},
   "outputs": [
    {
     "data": {
      "text/plain": [
       "Customer_ID       0\n",
       "Nationality       0\n",
       "Income_Range      0\n",
       "Job_Type          0\n",
       "Marital_Status    0\n",
       "Gender            0\n",
       "State             0\n",
       "Language          0\n",
       "Loyalty_Status    0\n",
       "Age               0\n",
       "Points            0\n",
       "dtype: int64"
      ]
     },
     "execution_count": 27,
     "metadata": {},
     "output_type": "execute_result"
    }
   ],
   "source": [
    "demographics.isnull().sum()"
   ]
  },
  {
   "cell_type": "code",
   "execution_count": 28,
   "metadata": {},
   "outputs": [],
   "source": [
    "from sklearn.metrics.pairwise import cosine_similarity"
   ]
  },
  {
   "cell_type": "code",
   "execution_count": 29,
   "metadata": {},
   "outputs": [],
   "source": [
    "similarity = cosine_similarity(demographics[0:1], demographics)"
   ]
  },
  {
   "cell_type": "code",
   "execution_count": 34,
   "metadata": {},
   "outputs": [],
   "source": [
    "customers = demographics.Customer_ID.unique()"
   ]
  },
  {
   "cell_type": "code",
   "execution_count": 35,
   "metadata": {},
   "outputs": [
    {
     "data": {
      "text/plain": [
       "array([1800000006365760, 1800000006365820, 1800000006366060, ...,\n",
       "       1800000284710670, 1800000284712570, 1800000288858110], dtype=int64)"
      ]
     },
     "execution_count": 35,
     "metadata": {},
     "output_type": "execute_result"
    }
   ],
   "source": [
    "customers"
   ]
  },
  {
   "cell_type": "code",
   "execution_count": 36,
   "metadata": {},
   "outputs": [],
   "source": [
    "demographics.set_index(\"Customer_ID\", inplace = True)"
   ]
  },
  {
   "cell_type": "code",
   "execution_count": 38,
   "metadata": {},
   "outputs": [
    {
     "data": {
      "text/html": [
       "<div>\n",
       "<style scoped>\n",
       "    .dataframe tbody tr th:only-of-type {\n",
       "        vertical-align: middle;\n",
       "    }\n",
       "\n",
       "    .dataframe tbody tr th {\n",
       "        vertical-align: top;\n",
       "    }\n",
       "\n",
       "    .dataframe thead th {\n",
       "        text-align: right;\n",
       "    }\n",
       "</style>\n",
       "<table border=\"1\" class=\"dataframe\">\n",
       "  <thead>\n",
       "    <tr style=\"text-align: right;\">\n",
       "      <th></th>\n",
       "      <th>Nationality</th>\n",
       "      <th>Income_Range</th>\n",
       "      <th>Job_Type</th>\n",
       "      <th>Marital_Status</th>\n",
       "      <th>Gender</th>\n",
       "      <th>State</th>\n",
       "      <th>Language</th>\n",
       "      <th>Loyalty_Status</th>\n",
       "      <th>Age</th>\n",
       "      <th>Points</th>\n",
       "    </tr>\n",
       "    <tr>\n",
       "      <th>Customer_ID</th>\n",
       "      <th></th>\n",
       "      <th></th>\n",
       "      <th></th>\n",
       "      <th></th>\n",
       "      <th></th>\n",
       "      <th></th>\n",
       "      <th></th>\n",
       "      <th></th>\n",
       "      <th></th>\n",
       "      <th></th>\n",
       "    </tr>\n",
       "  </thead>\n",
       "  <tbody>\n",
       "    <tr>\n",
       "      <th>1800000006365760</th>\n",
       "      <td>88</td>\n",
       "      <td>4</td>\n",
       "      <td>14</td>\n",
       "      <td>1</td>\n",
       "      <td>1</td>\n",
       "      <td>0</td>\n",
       "      <td>1</td>\n",
       "      <td>0</td>\n",
       "      <td>59.0</td>\n",
       "      <td>814.0</td>\n",
       "    </tr>\n",
       "    <tr>\n",
       "      <th>1800000006365820</th>\n",
       "      <td>206</td>\n",
       "      <td>4</td>\n",
       "      <td>14</td>\n",
       "      <td>1</td>\n",
       "      <td>0</td>\n",
       "      <td>0</td>\n",
       "      <td>0</td>\n",
       "      <td>1</td>\n",
       "      <td>36.0</td>\n",
       "      <td>212.0</td>\n",
       "    </tr>\n",
       "    <tr>\n",
       "      <th>1800000006366060</th>\n",
       "      <td>182</td>\n",
       "      <td>4</td>\n",
       "      <td>14</td>\n",
       "      <td>1</td>\n",
       "      <td>1</td>\n",
       "      <td>0</td>\n",
       "      <td>1</td>\n",
       "      <td>1</td>\n",
       "      <td>59.0</td>\n",
       "      <td>186.0</td>\n",
       "    </tr>\n",
       "    <tr>\n",
       "      <th>1800000006366230</th>\n",
       "      <td>97</td>\n",
       "      <td>4</td>\n",
       "      <td>14</td>\n",
       "      <td>1</td>\n",
       "      <td>0</td>\n",
       "      <td>0</td>\n",
       "      <td>0</td>\n",
       "      <td>1</td>\n",
       "      <td>57.0</td>\n",
       "      <td>126.0</td>\n",
       "    </tr>\n",
       "    <tr>\n",
       "      <th>1800000006366570</th>\n",
       "      <td>143</td>\n",
       "      <td>4</td>\n",
       "      <td>14</td>\n",
       "      <td>1</td>\n",
       "      <td>1</td>\n",
       "      <td>0</td>\n",
       "      <td>0</td>\n",
       "      <td>1</td>\n",
       "      <td>36.0</td>\n",
       "      <td>197.0</td>\n",
       "    </tr>\n",
       "  </tbody>\n",
       "</table>\n",
       "</div>"
      ],
      "text/plain": [
       "                  Nationality  Income_Range  Job_Type  Marital_Status  Gender  \\\n",
       "Customer_ID                                                                     \n",
       "1800000006365760           88             4        14               1       1   \n",
       "1800000006365820          206             4        14               1       0   \n",
       "1800000006366060          182             4        14               1       1   \n",
       "1800000006366230           97             4        14               1       0   \n",
       "1800000006366570          143             4        14               1       1   \n",
       "\n",
       "                  State  Language  Loyalty_Status   Age  Points  \n",
       "Customer_ID                                                      \n",
       "1800000006365760      0         1               0  59.0   814.0  \n",
       "1800000006365820      0         0               1  36.0   212.0  \n",
       "1800000006366060      0         1               1  59.0   186.0  \n",
       "1800000006366230      0         0               1  57.0   126.0  \n",
       "1800000006366570      0         0               1  36.0   197.0  "
      ]
     },
     "execution_count": 38,
     "metadata": {},
     "output_type": "execute_result"
    }
   ],
   "source": [
    "demographics.head()"
   ]
  },
  {
   "cell_type": "code",
   "execution_count": 48,
   "metadata": {},
   "outputs": [
    {
     "data": {
      "text/plain": [
       "Nationality        97.0\n",
       "Income_Range        4.0\n",
       "Job_Type           14.0\n",
       "Marital_Status      1.0\n",
       "Gender              0.0\n",
       "State               0.0\n",
       "Language            0.0\n",
       "Loyalty_Status      1.0\n",
       "Age                57.0\n",
       "Points            126.0\n",
       "Name: 1800000006366230, dtype: float64"
      ]
     },
     "execution_count": 48,
     "metadata": {},
     "output_type": "execute_result"
    }
   ],
   "source": [
    "demographics.loc[1800000006366230]"
   ]
  },
  {
   "cell_type": "code",
   "execution_count": 32,
   "metadata": {},
   "outputs": [
    {
     "data": {
      "text/plain": [
       "(100000, 11)"
      ]
     },
     "execution_count": 32,
     "metadata": {},
     "output_type": "execute_result"
    }
   ],
   "source": [
    "demographics.shape"
   ]
  },
  {
   "cell_type": "code",
   "execution_count": 53,
   "metadata": {},
   "outputs": [
    {
     "data": {
      "text/plain": [
       "array([[8.800e+01, 4.000e+00, 1.400e+01, ..., 0.000e+00, 5.900e+01,\n",
       "        8.140e+02],\n",
       "       [2.060e+02, 4.000e+00, 1.400e+01, ..., 1.000e+00, 3.600e+01,\n",
       "        2.120e+02],\n",
       "       [1.820e+02, 4.000e+00, 1.400e+01, ..., 1.000e+00, 5.900e+01,\n",
       "        1.860e+02],\n",
       "       ...,\n",
       "       [1.450e+02, 6.000e+00, 1.800e+01, ..., 1.000e+00, 4.600e+01,\n",
       "        1.792e+03],\n",
       "       [8.800e+01, 6.000e+00, 1.800e+01, ..., 0.000e+00, 4.600e+01,\n",
       "        6.570e+02],\n",
       "       [2.060e+02, 6.000e+00, 1.800e+01, ..., 1.000e+00, 4.500e+01,\n",
       "        4.510e+02]])"
      ]
     },
     "execution_count": 53,
     "metadata": {},
     "output_type": "execute_result"
    }
   ],
   "source": [
    "np.array(demographics)"
   ]
  },
  {
   "cell_type": "code",
   "execution_count": 56,
   "metadata": {},
   "outputs": [
    {
     "ename": "ValueError",
     "evalue": "Expected 2D array, got 1D array instead:\narray=[182.   4.  14.   1.   1.   0.   1.   1.  59. 186.].\nReshape your data either using array.reshape(-1, 1) if your data has a single feature or array.reshape(1, -1) if it contains a single sample.",
     "output_type": "error",
     "traceback": [
      "\u001b[1;31m---------------------------------------------------------------------------\u001b[0m",
      "\u001b[1;31mValueError\u001b[0m                                Traceback (most recent call last)",
      "\u001b[1;32m<ipython-input-56-6131999b17fd>\u001b[0m in \u001b[0;36m<module>\u001b[1;34m()\u001b[0m\n\u001b[1;32m----> 1\u001b[1;33m \u001b[0mcosine_similarity\u001b[0m\u001b[1;33m(\u001b[0m\u001b[0mdemographics\u001b[0m\u001b[1;33m.\u001b[0m\u001b[0mloc\u001b[0m\u001b[1;33m[\u001b[0m\u001b[1;36m1800000006366060\u001b[0m\u001b[1;33m]\u001b[0m\u001b[1;33m,\u001b[0m \u001b[0mdemographics\u001b[0m\u001b[1;33m.\u001b[0m\u001b[0mloc\u001b[0m\u001b[1;33m[\u001b[0m\u001b[1;36m1800000006366570\u001b[0m\u001b[1;33m]\u001b[0m\u001b[1;33m)\u001b[0m\u001b[1;33m\u001b[0m\u001b[0m\n\u001b[0m",
      "\u001b[1;32mD:\\Anaconda3\\lib\\site-packages\\sklearn\\metrics\\pairwise.py\u001b[0m in \u001b[0;36mcosine_similarity\u001b[1;34m(X, Y, dense_output)\u001b[0m\n\u001b[0;32m    915\u001b[0m     \u001b[1;31m# to avoid recursive import\u001b[0m\u001b[1;33m\u001b[0m\u001b[1;33m\u001b[0m\u001b[0m\n\u001b[0;32m    916\u001b[0m \u001b[1;33m\u001b[0m\u001b[0m\n\u001b[1;32m--> 917\u001b[1;33m     \u001b[0mX\u001b[0m\u001b[1;33m,\u001b[0m \u001b[0mY\u001b[0m \u001b[1;33m=\u001b[0m \u001b[0mcheck_pairwise_arrays\u001b[0m\u001b[1;33m(\u001b[0m\u001b[0mX\u001b[0m\u001b[1;33m,\u001b[0m \u001b[0mY\u001b[0m\u001b[1;33m)\u001b[0m\u001b[1;33m\u001b[0m\u001b[0m\n\u001b[0m\u001b[0;32m    918\u001b[0m \u001b[1;33m\u001b[0m\u001b[0m\n\u001b[0;32m    919\u001b[0m     \u001b[0mX_normalized\u001b[0m \u001b[1;33m=\u001b[0m \u001b[0mnormalize\u001b[0m\u001b[1;33m(\u001b[0m\u001b[0mX\u001b[0m\u001b[1;33m,\u001b[0m \u001b[0mcopy\u001b[0m\u001b[1;33m=\u001b[0m\u001b[1;32mTrue\u001b[0m\u001b[1;33m)\u001b[0m\u001b[1;33m\u001b[0m\u001b[0m\n",
      "\u001b[1;32mD:\\Anaconda3\\lib\\site-packages\\sklearn\\metrics\\pairwise.py\u001b[0m in \u001b[0;36mcheck_pairwise_arrays\u001b[1;34m(X, Y, precomputed, dtype)\u001b[0m\n\u001b[0;32m    108\u001b[0m     \u001b[1;32melse\u001b[0m\u001b[1;33m:\u001b[0m\u001b[1;33m\u001b[0m\u001b[0m\n\u001b[0;32m    109\u001b[0m         X = check_array(X, accept_sparse='csr', dtype=dtype,\n\u001b[1;32m--> 110\u001b[1;33m                         warn_on_dtype=warn_on_dtype, estimator=estimator)\n\u001b[0m\u001b[0;32m    111\u001b[0m         Y = check_array(Y, accept_sparse='csr', dtype=dtype,\n\u001b[0;32m    112\u001b[0m                         warn_on_dtype=warn_on_dtype, estimator=estimator)\n",
      "\u001b[1;32mD:\\Anaconda3\\lib\\site-packages\\sklearn\\utils\\validation.py\u001b[0m in \u001b[0;36mcheck_array\u001b[1;34m(array, accept_sparse, dtype, order, copy, force_all_finite, ensure_2d, allow_nd, ensure_min_samples, ensure_min_features, warn_on_dtype, estimator)\u001b[0m\n\u001b[0;32m    439\u001b[0m                     \u001b[1;34m\"Reshape your data either using array.reshape(-1, 1) if \"\u001b[0m\u001b[1;33m\u001b[0m\u001b[0m\n\u001b[0;32m    440\u001b[0m                     \u001b[1;34m\"your data has a single feature or array.reshape(1, -1) \"\u001b[0m\u001b[1;33m\u001b[0m\u001b[0m\n\u001b[1;32m--> 441\u001b[1;33m                     \"if it contains a single sample.\".format(array))\n\u001b[0m\u001b[0;32m    442\u001b[0m             \u001b[0marray\u001b[0m \u001b[1;33m=\u001b[0m \u001b[0mnp\u001b[0m\u001b[1;33m.\u001b[0m\u001b[0matleast_2d\u001b[0m\u001b[1;33m(\u001b[0m\u001b[0marray\u001b[0m\u001b[1;33m)\u001b[0m\u001b[1;33m\u001b[0m\u001b[0m\n\u001b[0;32m    443\u001b[0m             \u001b[1;31m# To ensure that array flags are maintained\u001b[0m\u001b[1;33m\u001b[0m\u001b[1;33m\u001b[0m\u001b[0m\n",
      "\u001b[1;31mValueError\u001b[0m: Expected 2D array, got 1D array instead:\narray=[182.   4.  14.   1.   1.   0.   1.   1.  59. 186.].\nReshape your data either using array.reshape(-1, 1) if your data has a single feature or array.reshape(1, -1) if it contains a single sample."
     ]
    }
   ],
   "source": [
    "cosine_similarity(demographics.loc[1800000006366060], demographics.loc[1800000006366570])"
   ]
  },
  {
   "cell_type": "code",
   "execution_count": 57,
   "metadata": {},
   "outputs": [],
   "source": [
    "def cos_sim(a, b):\n",
    "\t\"\"\"Takes 2 vectors a, b and returns the cosine similarity according \n",
    "\tto the definition of the dot product\n",
    "\t\"\"\"\n",
    "\tdot_product = np.dot(a, b)\n",
    "\tnorm_a = np.linalg.norm(a)\n",
    "\tnorm_b = np.linalg.norm(b)\n",
    "\treturn dot_product / (norm_a * norm_b)"
   ]
  },
  {
   "cell_type": "code",
   "execution_count": 58,
   "metadata": {},
   "outputs": [
    {
     "data": {
      "text/plain": [
       "0.9867753178238403"
      ]
     },
     "execution_count": 58,
     "metadata": {},
     "output_type": "execute_result"
    }
   ],
   "source": [
    "cos_sim(demographics.loc[1800000006366060], demographics.loc[1800000006366570])"
   ]
  },
  {
   "cell_type": "code",
   "execution_count": null,
   "metadata": {},
   "outputs": [],
   "source": []
  },
  {
   "cell_type": "code",
   "execution_count": null,
   "metadata": {},
   "outputs": [],
   "source": []
  },
  {
   "cell_type": "code",
   "execution_count": 63,
   "metadata": {},
   "outputs": [],
   "source": [
    "def calculate_similarity(customer):\n",
    "    sim = {}\n",
    "    for other in customers:\n",
    "        sim[other] = cos_sim(demographics.loc[customer], demographics.loc[other])\n",
    "    return(similarity)\n",
    "        "
   ]
  },
  {
   "cell_type": "code",
   "execution_count": null,
   "metadata": {},
   "outputs": [],
   "source": [
    "calculate_similarity(1800000006366230)"
   ]
  },
  {
   "cell_type": "code",
   "execution_count": 40,
   "metadata": {},
   "outputs": [
    {
     "data": {
      "text/html": [
       "<div>\n",
       "<style scoped>\n",
       "    .dataframe tbody tr th:only-of-type {\n",
       "        vertical-align: middle;\n",
       "    }\n",
       "\n",
       "    .dataframe tbody tr th {\n",
       "        vertical-align: top;\n",
       "    }\n",
       "\n",
       "    .dataframe thead th {\n",
       "        text-align: right;\n",
       "    }\n",
       "</style>\n",
       "<table border=\"1\" class=\"dataframe\">\n",
       "  <thead>\n",
       "    <tr style=\"text-align: right;\">\n",
       "      <th></th>\n",
       "      <th>Territory</th>\n",
       "      <th>Business</th>\n",
       "      <th>Year</th>\n",
       "      <th>Week</th>\n",
       "      <th>Store_Code</th>\n",
       "      <th>City_Name</th>\n",
       "      <th>Store_Type</th>\n",
       "      <th>Transaction_Type</th>\n",
       "      <th>Return_Reason</th>\n",
       "      <th>Customer_ID</th>\n",
       "      <th>Invoices</th>\n",
       "      <th>Item_Count</th>\n",
       "      <th>Revenue</th>\n",
       "      <th>Discount</th>\n",
       "      <th>Units_Sold</th>\n",
       "    </tr>\n",
       "  </thead>\n",
       "  <tbody>\n",
       "    <tr>\n",
       "      <th>0</th>\n",
       "      <td>United Arab Emirates</td>\n",
       "      <td>Max</td>\n",
       "      <td>2010</td>\n",
       "      <td>0</td>\n",
       "      <td>60065</td>\n",
       "      <td>Dubai</td>\n",
       "      <td>Stand alone</td>\n",
       "      <td>Return</td>\n",
       "      <td>Size Problem</td>\n",
       "      <td>1800000058056860</td>\n",
       "      <td>1</td>\n",
       "      <td>3</td>\n",
       "      <td>-169.0</td>\n",
       "      <td>0.0</td>\n",
       "      <td>-3</td>\n",
       "    </tr>\n",
       "    <tr>\n",
       "      <th>1</th>\n",
       "      <td>United Arab Emirates</td>\n",
       "      <td>Max</td>\n",
       "      <td>2016</td>\n",
       "      <td>0</td>\n",
       "      <td>60053</td>\n",
       "      <td>NaN</td>\n",
       "      <td>NaN</td>\n",
       "      <td>Purchase</td>\n",
       "      <td>NaN</td>\n",
       "      <td>1800000020917140</td>\n",
       "      <td>1</td>\n",
       "      <td>1</td>\n",
       "      <td>0.0</td>\n",
       "      <td>0.0</td>\n",
       "      <td>0</td>\n",
       "    </tr>\n",
       "    <tr>\n",
       "      <th>2</th>\n",
       "      <td>United Arab Emirates</td>\n",
       "      <td>Max</td>\n",
       "      <td>2016</td>\n",
       "      <td>0</td>\n",
       "      <td>60053</td>\n",
       "      <td>NaN</td>\n",
       "      <td>NaN</td>\n",
       "      <td>Purchase</td>\n",
       "      <td>NaN</td>\n",
       "      <td>1800000021265010</td>\n",
       "      <td>1</td>\n",
       "      <td>1</td>\n",
       "      <td>0.0</td>\n",
       "      <td>0.0</td>\n",
       "      <td>0</td>\n",
       "    </tr>\n",
       "    <tr>\n",
       "      <th>3</th>\n",
       "      <td>United Arab Emirates</td>\n",
       "      <td>Max</td>\n",
       "      <td>2016</td>\n",
       "      <td>0</td>\n",
       "      <td>60053</td>\n",
       "      <td>NaN</td>\n",
       "      <td>NaN</td>\n",
       "      <td>Purchase</td>\n",
       "      <td>NaN</td>\n",
       "      <td>1800000025693950</td>\n",
       "      <td>1</td>\n",
       "      <td>4</td>\n",
       "      <td>0.0</td>\n",
       "      <td>0.0</td>\n",
       "      <td>0</td>\n",
       "    </tr>\n",
       "    <tr>\n",
       "      <th>4</th>\n",
       "      <td>United Arab Emirates</td>\n",
       "      <td>Max</td>\n",
       "      <td>2016</td>\n",
       "      <td>0</td>\n",
       "      <td>60053</td>\n",
       "      <td>NaN</td>\n",
       "      <td>NaN</td>\n",
       "      <td>Purchase</td>\n",
       "      <td>NaN</td>\n",
       "      <td>1800000044104620</td>\n",
       "      <td>1</td>\n",
       "      <td>1</td>\n",
       "      <td>0.0</td>\n",
       "      <td>0.0</td>\n",
       "      <td>0</td>\n",
       "    </tr>\n",
       "  </tbody>\n",
       "</table>\n",
       "</div>"
      ],
      "text/plain": [
       "              Territory Business  Year  Week  Store_Code City_Name  \\\n",
       "0  United Arab Emirates      Max  2010     0       60065     Dubai   \n",
       "1  United Arab Emirates      Max  2016     0       60053       NaN   \n",
       "2  United Arab Emirates      Max  2016     0       60053       NaN   \n",
       "3  United Arab Emirates      Max  2016     0       60053       NaN   \n",
       "4  United Arab Emirates      Max  2016     0       60053       NaN   \n",
       "\n",
       "    Store_Type Transaction_Type Return_Reason       Customer_ID  Invoices  \\\n",
       "0  Stand alone           Return  Size Problem  1800000058056860         1   \n",
       "1          NaN         Purchase           NaN  1800000020917140         1   \n",
       "2          NaN         Purchase           NaN  1800000021265010         1   \n",
       "3          NaN         Purchase           NaN  1800000025693950         1   \n",
       "4          NaN         Purchase           NaN  1800000044104620         1   \n",
       "\n",
       "   Item_Count  Revenue  Discount  Units_Sold  \n",
       "0           3   -169.0       0.0          -3  \n",
       "1           1      0.0       0.0           0  \n",
       "2           1      0.0       0.0           0  \n",
       "3           4      0.0       0.0           0  \n",
       "4           1      0.0       0.0           0  "
      ]
     },
     "execution_count": 40,
     "metadata": {},
     "output_type": "execute_result"
    }
   ],
   "source": [
    "transaction = pd.read_excel(\"./Data/Customer_Transaction.xlsx\")\n",
    "transaction.head()"
   ]
  },
  {
   "cell_type": "code",
   "execution_count": 41,
   "metadata": {
    "collapsed": true
   },
   "outputs": [],
   "source": [
    "store_master = pd.read_excel(\"./Data/Store_Master.xlsx\")"
   ]
  },
  {
   "cell_type": "code",
   "execution_count": 42,
   "metadata": {
    "collapsed": true
   },
   "outputs": [],
   "source": [
    "test_set = pd.read_excel(\"./Data/Test_Set.xlsx\")"
   ]
  },
  {
   "cell_type": "code",
   "execution_count": 43,
   "metadata": {
    "collapsed": true
   },
   "outputs": [],
   "source": [
    "# demographics.to_csv(\"./Customer_Demographics.csv\", index=False)\n",
    "# transaction.to_csv(\"./Customer_Transaction.csv\", index=False)\n",
    "# store_master.to_csv(\"./Store_Master.csv\", index=False)\n",
    "# test_set.to_csv(\"./Test_Set.csv\", index=False)"
   ]
  },
  {
   "cell_type": "code",
   "execution_count": 44,
   "metadata": {},
   "outputs": [
    {
     "data": {
      "text/plain": [
       "(544649, 15)"
      ]
     },
     "execution_count": 44,
     "metadata": {},
     "output_type": "execute_result"
    }
   ],
   "source": [
    "transaction.shape"
   ]
  },
  {
   "cell_type": "code",
   "execution_count": 45,
   "metadata": {
    "collapsed": true
   },
   "outputs": [],
   "source": [
    "store = pd.read_csv(\"./Store_Master.csv\")"
   ]
  },
  {
   "cell_type": "code",
   "execution_count": 46,
   "metadata": {},
   "outputs": [
    {
     "data": {
      "text/html": [
       "<div>\n",
       "<style scoped>\n",
       "    .dataframe tbody tr th:only-of-type {\n",
       "        vertical-align: middle;\n",
       "    }\n",
       "\n",
       "    .dataframe tbody tr th {\n",
       "        vertical-align: top;\n",
       "    }\n",
       "\n",
       "    .dataframe thead th {\n",
       "        text-align: right;\n",
       "    }\n",
       "</style>\n",
       "<table border=\"1\" class=\"dataframe\">\n",
       "  <thead>\n",
       "    <tr style=\"text-align: right;\">\n",
       "      <th></th>\n",
       "      <th>Territory</th>\n",
       "      <th>Business</th>\n",
       "      <th>Region</th>\n",
       "      <th>Region_Code</th>\n",
       "      <th>Store_Code</th>\n",
       "      <th>Store_Name</th>\n",
       "      <th>Mall_Name</th>\n",
       "      <th>Store_Format</th>\n",
       "      <th>Sales_Per_Day</th>\n",
       "      <th>Store_Launch_Date</th>\n",
       "      <th>Train_Test_Store</th>\n",
       "      <th>Geo_Field</th>\n",
       "      <th>Store_Size_Sq_Ft</th>\n",
       "      <th>Customer_Count</th>\n",
       "      <th>Total_Revenue</th>\n",
       "    </tr>\n",
       "  </thead>\n",
       "  <tbody>\n",
       "    <tr>\n",
       "      <th>0</th>\n",
       "      <td>United Arab Emirates</td>\n",
       "      <td>Max</td>\n",
       "      <td>MX - Abu Dhabi</td>\n",
       "      <td>602</td>\n",
       "      <td>60077</td>\n",
       "      <td>Max Zayed City Mall</td>\n",
       "      <td>City Mall - Abu Dhabi-Uae</td>\n",
       "      <td>NaN</td>\n",
       "      <td>544.074849</td>\n",
       "      <td>2011-11-02</td>\n",
       "      <td>Train</td>\n",
       "      <td>25.618167, 53.441646</td>\n",
       "      <td>4852.220341</td>\n",
       "      <td>22237.0</td>\n",
       "      <td>1.131676e+07</td>\n",
       "    </tr>\n",
       "    <tr>\n",
       "      <th>1</th>\n",
       "      <td>United Arab Emirates</td>\n",
       "      <td>Max</td>\n",
       "      <td>MX - Sharjah</td>\n",
       "      <td>606</td>\n",
       "      <td>60073</td>\n",
       "      <td>Max Safeer Mall</td>\n",
       "      <td>Safeer Mall Sharjah-Uae</td>\n",
       "      <td>NaN</td>\n",
       "      <td>1251.656549</td>\n",
       "      <td>2009-08-21</td>\n",
       "      <td>Train</td>\n",
       "      <td>25.309997, 55.378550</td>\n",
       "      <td>13789.949661</td>\n",
       "      <td>88372.0</td>\n",
       "      <td>2.603446e+07</td>\n",
       "    </tr>\n",
       "    <tr>\n",
       "      <th>2</th>\n",
       "      <td>United Arab Emirates</td>\n",
       "      <td>Max</td>\n",
       "      <td>MX - Dubai</td>\n",
       "      <td>601</td>\n",
       "      <td>60065</td>\n",
       "      <td>Max Gardens</td>\n",
       "      <td>Ibn Battuta Mall-Uae</td>\n",
       "      <td>NaN</td>\n",
       "      <td>3319.885702</td>\n",
       "      <td>2005-04-15</td>\n",
       "      <td>Train</td>\n",
       "      <td>25.044684, 55.120275</td>\n",
       "      <td>15609.687991</td>\n",
       "      <td>188836.0</td>\n",
       "      <td>6.905362e+07</td>\n",
       "    </tr>\n",
       "    <tr>\n",
       "      <th>3</th>\n",
       "      <td>United Arab Emirates</td>\n",
       "      <td>Max</td>\n",
       "      <td>MX - Dubai</td>\n",
       "      <td>601</td>\n",
       "      <td>60219</td>\n",
       "      <td>MX -Dubai Festival City</td>\n",
       "      <td>Dubai Festival City-Uae</td>\n",
       "      <td>Stand Alone Stores</td>\n",
       "      <td>1211.477261</td>\n",
       "      <td>2014-06-12</td>\n",
       "      <td>Train</td>\n",
       "      <td>25.218486, 55.359313</td>\n",
       "      <td>6845.497058</td>\n",
       "      <td>96733.0</td>\n",
       "      <td>2.519873e+07</td>\n",
       "    </tr>\n",
       "    <tr>\n",
       "      <th>4</th>\n",
       "      <td>United Arab Emirates</td>\n",
       "      <td>Max</td>\n",
       "      <td>MX - Ras Al Khaimah</td>\n",
       "      <td>605</td>\n",
       "      <td>60071</td>\n",
       "      <td>Max Rak</td>\n",
       "      <td>STANDALONE</td>\n",
       "      <td>NaN</td>\n",
       "      <td>2221.872874</td>\n",
       "      <td>2006-03-20</td>\n",
       "      <td>Train</td>\n",
       "      <td>NaN</td>\n",
       "      <td>12385.047461</td>\n",
       "      <td>70456.0</td>\n",
       "      <td>4.621496e+07</td>\n",
       "    </tr>\n",
       "  </tbody>\n",
       "</table>\n",
       "</div>"
      ],
      "text/plain": [
       "              Territory Business               Region  Region_Code  \\\n",
       "0  United Arab Emirates      Max       MX - Abu Dhabi          602   \n",
       "1  United Arab Emirates      Max         MX - Sharjah          606   \n",
       "2  United Arab Emirates      Max           MX - Dubai          601   \n",
       "3  United Arab Emirates      Max           MX - Dubai          601   \n",
       "4  United Arab Emirates      Max  MX - Ras Al Khaimah          605   \n",
       "\n",
       "   Store_Code               Store_Name                  Mall_Name  \\\n",
       "0       60077      Max Zayed City Mall  City Mall - Abu Dhabi-Uae   \n",
       "1       60073          Max Safeer Mall    Safeer Mall Sharjah-Uae   \n",
       "2       60065              Max Gardens       Ibn Battuta Mall-Uae   \n",
       "3       60219  MX -Dubai Festival City    Dubai Festival City-Uae   \n",
       "4       60071                  Max Rak                 STANDALONE   \n",
       "\n",
       "         Store_Format  Sales_Per_Day Store_Launch_Date Train_Test_Store  \\\n",
       "0                 NaN     544.074849        2011-11-02            Train   \n",
       "1                 NaN    1251.656549        2009-08-21            Train   \n",
       "2                 NaN    3319.885702        2005-04-15            Train   \n",
       "3  Stand Alone Stores    1211.477261        2014-06-12            Train   \n",
       "4                 NaN    2221.872874        2006-03-20            Train   \n",
       "\n",
       "              Geo_Field  Store_Size_Sq_Ft  Customer_Count  Total_Revenue  \n",
       "0  25.618167, 53.441646       4852.220341         22237.0   1.131676e+07  \n",
       "1  25.309997, 55.378550      13789.949661         88372.0   2.603446e+07  \n",
       "2  25.044684, 55.120275      15609.687991        188836.0   6.905362e+07  \n",
       "3  25.218486, 55.359313       6845.497058         96733.0   2.519873e+07  \n",
       "4                   NaN      12385.047461         70456.0   4.621496e+07  "
      ]
     },
     "execution_count": 46,
     "metadata": {},
     "output_type": "execute_result"
    }
   ],
   "source": [
    "store.head()"
   ]
  },
  {
   "cell_type": "code",
   "execution_count": 47,
   "metadata": {
    "collapsed": true
   },
   "outputs": [],
   "source": [
    "# transaction[transaction['Store_Code'] == 60065]"
   ]
  },
  {
   "cell_type": "code",
   "execution_count": 48,
   "metadata": {},
   "outputs": [
    {
     "data": {
      "text/plain": [
       "(24, 15)"
      ]
     },
     "execution_count": 48,
     "metadata": {},
     "output_type": "execute_result"
    }
   ],
   "source": [
    "transaction[transaction['Customer_ID'] == 1800000058056860].shape"
   ]
  },
  {
   "cell_type": "code",
   "execution_count": 49,
   "metadata": {
    "collapsed": true
   },
   "outputs": [],
   "source": [
    "# transaction.groupby(['Store_Code'])['Customer_ID'].count()"
   ]
  },
  {
   "cell_type": "code",
   "execution_count": 50,
   "metadata": {
    "collapsed": true
   },
   "outputs": [],
   "source": [
    "# res = pd.DataFrame(transaction.groupby(['Customer_ID','Store_Code']).count().unstack())"
   ]
  },
  {
   "cell_type": "code",
   "execution_count": 51,
   "metadata": {
    "collapsed": true
   },
   "outputs": [],
   "source": [
    "# transaction.groupby(['Customer_ID','Store_Code'])['Territory'].count()"
   ]
  },
  {
   "cell_type": "code",
   "execution_count": 52,
   "metadata": {
    "collapsed": true
   },
   "outputs": [],
   "source": [
    "res = pd.DataFrame(transaction.groupby(['Customer_ID','Store_Code']).count())"
   ]
  },
  {
   "cell_type": "code",
   "execution_count": 53,
   "metadata": {},
   "outputs": [
    {
     "data": {
      "text/html": [
       "<div>\n",
       "<style scoped>\n",
       "    .dataframe tbody tr th:only-of-type {\n",
       "        vertical-align: middle;\n",
       "    }\n",
       "\n",
       "    .dataframe tbody tr th {\n",
       "        vertical-align: top;\n",
       "    }\n",
       "\n",
       "    .dataframe thead th {\n",
       "        text-align: right;\n",
       "    }\n",
       "</style>\n",
       "<table border=\"1\" class=\"dataframe\">\n",
       "  <thead>\n",
       "    <tr style=\"text-align: right;\">\n",
       "      <th></th>\n",
       "      <th></th>\n",
       "      <th>Territory</th>\n",
       "      <th>Business</th>\n",
       "      <th>Year</th>\n",
       "      <th>Week</th>\n",
       "      <th>City_Name</th>\n",
       "      <th>Store_Type</th>\n",
       "      <th>Transaction_Type</th>\n",
       "      <th>Return_Reason</th>\n",
       "      <th>Invoices</th>\n",
       "      <th>Item_Count</th>\n",
       "      <th>Revenue</th>\n",
       "      <th>Discount</th>\n",
       "      <th>Units_Sold</th>\n",
       "    </tr>\n",
       "    <tr>\n",
       "      <th>Customer_ID</th>\n",
       "      <th>Store_Code</th>\n",
       "      <th></th>\n",
       "      <th></th>\n",
       "      <th></th>\n",
       "      <th></th>\n",
       "      <th></th>\n",
       "      <th></th>\n",
       "      <th></th>\n",
       "      <th></th>\n",
       "      <th></th>\n",
       "      <th></th>\n",
       "      <th></th>\n",
       "      <th></th>\n",
       "      <th></th>\n",
       "    </tr>\n",
       "  </thead>\n",
       "  <tbody>\n",
       "    <tr>\n",
       "      <th>1800000006365760</th>\n",
       "      <th>60067</th>\n",
       "      <td>4</td>\n",
       "      <td>4</td>\n",
       "      <td>4</td>\n",
       "      <td>4</td>\n",
       "      <td>4</td>\n",
       "      <td>4</td>\n",
       "      <td>4</td>\n",
       "      <td>0</td>\n",
       "      <td>4</td>\n",
       "      <td>4</td>\n",
       "      <td>4</td>\n",
       "      <td>4</td>\n",
       "      <td>4</td>\n",
       "    </tr>\n",
       "    <tr>\n",
       "      <th>1800000006365820</th>\n",
       "      <th>60054</th>\n",
       "      <td>1</td>\n",
       "      <td>1</td>\n",
       "      <td>1</td>\n",
       "      <td>1</td>\n",
       "      <td>1</td>\n",
       "      <td>1</td>\n",
       "      <td>1</td>\n",
       "      <td>0</td>\n",
       "      <td>1</td>\n",
       "      <td>1</td>\n",
       "      <td>1</td>\n",
       "      <td>1</td>\n",
       "      <td>1</td>\n",
       "    </tr>\n",
       "    <tr>\n",
       "      <th rowspan=\"4\" valign=\"top\">1800000006366060</th>\n",
       "      <th>60066</th>\n",
       "      <td>1</td>\n",
       "      <td>1</td>\n",
       "      <td>1</td>\n",
       "      <td>1</td>\n",
       "      <td>1</td>\n",
       "      <td>1</td>\n",
       "      <td>1</td>\n",
       "      <td>0</td>\n",
       "      <td>1</td>\n",
       "      <td>1</td>\n",
       "      <td>1</td>\n",
       "      <td>1</td>\n",
       "      <td>1</td>\n",
       "    </tr>\n",
       "    <tr>\n",
       "      <th>60069</th>\n",
       "      <td>1</td>\n",
       "      <td>1</td>\n",
       "      <td>1</td>\n",
       "      <td>1</td>\n",
       "      <td>1</td>\n",
       "      <td>1</td>\n",
       "      <td>1</td>\n",
       "      <td>0</td>\n",
       "      <td>1</td>\n",
       "      <td>1</td>\n",
       "      <td>1</td>\n",
       "      <td>1</td>\n",
       "      <td>1</td>\n",
       "    </tr>\n",
       "    <tr>\n",
       "      <th>60079</th>\n",
       "      <td>2</td>\n",
       "      <td>2</td>\n",
       "      <td>2</td>\n",
       "      <td>2</td>\n",
       "      <td>2</td>\n",
       "      <td>2</td>\n",
       "      <td>2</td>\n",
       "      <td>0</td>\n",
       "      <td>2</td>\n",
       "      <td>2</td>\n",
       "      <td>2</td>\n",
       "      <td>2</td>\n",
       "      <td>2</td>\n",
       "    </tr>\n",
       "    <tr>\n",
       "      <th>60233</th>\n",
       "      <td>2</td>\n",
       "      <td>2</td>\n",
       "      <td>2</td>\n",
       "      <td>2</td>\n",
       "      <td>2</td>\n",
       "      <td>2</td>\n",
       "      <td>2</td>\n",
       "      <td>0</td>\n",
       "      <td>2</td>\n",
       "      <td>2</td>\n",
       "      <td>2</td>\n",
       "      <td>2</td>\n",
       "      <td>2</td>\n",
       "    </tr>\n",
       "    <tr>\n",
       "      <th rowspan=\"4\" valign=\"top\">1800000006366230</th>\n",
       "      <th>60053</th>\n",
       "      <td>1</td>\n",
       "      <td>1</td>\n",
       "      <td>1</td>\n",
       "      <td>1</td>\n",
       "      <td>1</td>\n",
       "      <td>1</td>\n",
       "      <td>1</td>\n",
       "      <td>0</td>\n",
       "      <td>1</td>\n",
       "      <td>1</td>\n",
       "      <td>1</td>\n",
       "      <td>1</td>\n",
       "      <td>1</td>\n",
       "    </tr>\n",
       "    <tr>\n",
       "      <th>60067</th>\n",
       "      <td>2</td>\n",
       "      <td>2</td>\n",
       "      <td>2</td>\n",
       "      <td>2</td>\n",
       "      <td>2</td>\n",
       "      <td>2</td>\n",
       "      <td>2</td>\n",
       "      <td>0</td>\n",
       "      <td>2</td>\n",
       "      <td>2</td>\n",
       "      <td>2</td>\n",
       "      <td>2</td>\n",
       "      <td>2</td>\n",
       "    </tr>\n",
       "    <tr>\n",
       "      <th>60069</th>\n",
       "      <td>2</td>\n",
       "      <td>2</td>\n",
       "      <td>2</td>\n",
       "      <td>2</td>\n",
       "      <td>2</td>\n",
       "      <td>2</td>\n",
       "      <td>2</td>\n",
       "      <td>0</td>\n",
       "      <td>2</td>\n",
       "      <td>2</td>\n",
       "      <td>2</td>\n",
       "      <td>2</td>\n",
       "      <td>2</td>\n",
       "    </tr>\n",
       "    <tr>\n",
       "      <th>60233</th>\n",
       "      <td>1</td>\n",
       "      <td>1</td>\n",
       "      <td>1</td>\n",
       "      <td>1</td>\n",
       "      <td>1</td>\n",
       "      <td>1</td>\n",
       "      <td>1</td>\n",
       "      <td>0</td>\n",
       "      <td>1</td>\n",
       "      <td>1</td>\n",
       "      <td>1</td>\n",
       "      <td>1</td>\n",
       "      <td>1</td>\n",
       "    </tr>\n",
       "    <tr>\n",
       "      <th>1800000006366570</th>\n",
       "      <th>60053</th>\n",
       "      <td>10</td>\n",
       "      <td>10</td>\n",
       "      <td>10</td>\n",
       "      <td>10</td>\n",
       "      <td>10</td>\n",
       "      <td>10</td>\n",
       "      <td>10</td>\n",
       "      <td>1</td>\n",
       "      <td>10</td>\n",
       "      <td>10</td>\n",
       "      <td>10</td>\n",
       "      <td>10</td>\n",
       "      <td>10</td>\n",
       "    </tr>\n",
       "    <tr>\n",
       "      <th rowspan=\"2\" valign=\"top\">1800000006366750</th>\n",
       "      <th>60079</th>\n",
       "      <td>21</td>\n",
       "      <td>21</td>\n",
       "      <td>21</td>\n",
       "      <td>21</td>\n",
       "      <td>21</td>\n",
       "      <td>21</td>\n",
       "      <td>21</td>\n",
       "      <td>1</td>\n",
       "      <td>21</td>\n",
       "      <td>21</td>\n",
       "      <td>21</td>\n",
       "      <td>21</td>\n",
       "      <td>21</td>\n",
       "    </tr>\n",
       "    <tr>\n",
       "      <th>60233</th>\n",
       "      <td>1</td>\n",
       "      <td>1</td>\n",
       "      <td>1</td>\n",
       "      <td>1</td>\n",
       "      <td>1</td>\n",
       "      <td>1</td>\n",
       "      <td>1</td>\n",
       "      <td>0</td>\n",
       "      <td>1</td>\n",
       "      <td>1</td>\n",
       "      <td>1</td>\n",
       "      <td>1</td>\n",
       "      <td>1</td>\n",
       "    </tr>\n",
       "    <tr>\n",
       "      <th>1800000006366910</th>\n",
       "      <th>60053</th>\n",
       "      <td>2</td>\n",
       "      <td>2</td>\n",
       "      <td>2</td>\n",
       "      <td>2</td>\n",
       "      <td>2</td>\n",
       "      <td>2</td>\n",
       "      <td>2</td>\n",
       "      <td>0</td>\n",
       "      <td>2</td>\n",
       "      <td>2</td>\n",
       "      <td>2</td>\n",
       "      <td>2</td>\n",
       "      <td>2</td>\n",
       "    </tr>\n",
       "    <tr>\n",
       "      <th>1800000006366930</th>\n",
       "      <th>60058</th>\n",
       "      <td>4</td>\n",
       "      <td>4</td>\n",
       "      <td>4</td>\n",
       "      <td>4</td>\n",
       "      <td>4</td>\n",
       "      <td>4</td>\n",
       "      <td>4</td>\n",
       "      <td>1</td>\n",
       "      <td>4</td>\n",
       "      <td>4</td>\n",
       "      <td>4</td>\n",
       "      <td>4</td>\n",
       "      <td>4</td>\n",
       "    </tr>\n",
       "    <tr>\n",
       "      <th rowspan=\"2\" valign=\"top\">1800000006367140</th>\n",
       "      <th>60054</th>\n",
       "      <td>5</td>\n",
       "      <td>5</td>\n",
       "      <td>5</td>\n",
       "      <td>5</td>\n",
       "      <td>5</td>\n",
       "      <td>5</td>\n",
       "      <td>5</td>\n",
       "      <td>0</td>\n",
       "      <td>5</td>\n",
       "      <td>5</td>\n",
       "      <td>5</td>\n",
       "      <td>5</td>\n",
       "      <td>5</td>\n",
       "    </tr>\n",
       "    <tr>\n",
       "      <th>60069</th>\n",
       "      <td>1</td>\n",
       "      <td>1</td>\n",
       "      <td>1</td>\n",
       "      <td>1</td>\n",
       "      <td>1</td>\n",
       "      <td>1</td>\n",
       "      <td>1</td>\n",
       "      <td>0</td>\n",
       "      <td>1</td>\n",
       "      <td>1</td>\n",
       "      <td>1</td>\n",
       "      <td>1</td>\n",
       "      <td>1</td>\n",
       "    </tr>\n",
       "    <tr>\n",
       "      <th>1800000006367270</th>\n",
       "      <th>60069</th>\n",
       "      <td>2</td>\n",
       "      <td>2</td>\n",
       "      <td>2</td>\n",
       "      <td>2</td>\n",
       "      <td>2</td>\n",
       "      <td>2</td>\n",
       "      <td>2</td>\n",
       "      <td>1</td>\n",
       "      <td>2</td>\n",
       "      <td>2</td>\n",
       "      <td>2</td>\n",
       "      <td>2</td>\n",
       "      <td>2</td>\n",
       "    </tr>\n",
       "    <tr>\n",
       "      <th>1800000006367330</th>\n",
       "      <th>60058</th>\n",
       "      <td>1</td>\n",
       "      <td>1</td>\n",
       "      <td>1</td>\n",
       "      <td>1</td>\n",
       "      <td>1</td>\n",
       "      <td>1</td>\n",
       "      <td>1</td>\n",
       "      <td>0</td>\n",
       "      <td>1</td>\n",
       "      <td>1</td>\n",
       "      <td>1</td>\n",
       "      <td>1</td>\n",
       "      <td>1</td>\n",
       "    </tr>\n",
       "    <tr>\n",
       "      <th>1800000006367900</th>\n",
       "      <th>60079</th>\n",
       "      <td>9</td>\n",
       "      <td>9</td>\n",
       "      <td>9</td>\n",
       "      <td>9</td>\n",
       "      <td>8</td>\n",
       "      <td>8</td>\n",
       "      <td>9</td>\n",
       "      <td>1</td>\n",
       "      <td>9</td>\n",
       "      <td>9</td>\n",
       "      <td>9</td>\n",
       "      <td>9</td>\n",
       "      <td>9</td>\n",
       "    </tr>\n",
       "  </tbody>\n",
       "</table>\n",
       "</div>"
      ],
      "text/plain": [
       "                             Territory  Business  Year  Week  City_Name  \\\n",
       "Customer_ID      Store_Code                                               \n",
       "1800000006365760 60067               4         4     4     4          4   \n",
       "1800000006365820 60054               1         1     1     1          1   \n",
       "1800000006366060 60066               1         1     1     1          1   \n",
       "                 60069               1         1     1     1          1   \n",
       "                 60079               2         2     2     2          2   \n",
       "                 60233               2         2     2     2          2   \n",
       "1800000006366230 60053               1         1     1     1          1   \n",
       "                 60067               2         2     2     2          2   \n",
       "                 60069               2         2     2     2          2   \n",
       "                 60233               1         1     1     1          1   \n",
       "1800000006366570 60053              10        10    10    10         10   \n",
       "1800000006366750 60079              21        21    21    21         21   \n",
       "                 60233               1         1     1     1          1   \n",
       "1800000006366910 60053               2         2     2     2          2   \n",
       "1800000006366930 60058               4         4     4     4          4   \n",
       "1800000006367140 60054               5         5     5     5          5   \n",
       "                 60069               1         1     1     1          1   \n",
       "1800000006367270 60069               2         2     2     2          2   \n",
       "1800000006367330 60058               1         1     1     1          1   \n",
       "1800000006367900 60079               9         9     9     9          8   \n",
       "\n",
       "                             Store_Type  Transaction_Type  Return_Reason  \\\n",
       "Customer_ID      Store_Code                                                \n",
       "1800000006365760 60067                4                 4              0   \n",
       "1800000006365820 60054                1                 1              0   \n",
       "1800000006366060 60066                1                 1              0   \n",
       "                 60069                1                 1              0   \n",
       "                 60079                2                 2              0   \n",
       "                 60233                2                 2              0   \n",
       "1800000006366230 60053                1                 1              0   \n",
       "                 60067                2                 2              0   \n",
       "                 60069                2                 2              0   \n",
       "                 60233                1                 1              0   \n",
       "1800000006366570 60053               10                10              1   \n",
       "1800000006366750 60079               21                21              1   \n",
       "                 60233                1                 1              0   \n",
       "1800000006366910 60053                2                 2              0   \n",
       "1800000006366930 60058                4                 4              1   \n",
       "1800000006367140 60054                5                 5              0   \n",
       "                 60069                1                 1              0   \n",
       "1800000006367270 60069                2                 2              1   \n",
       "1800000006367330 60058                1                 1              0   \n",
       "1800000006367900 60079                8                 9              1   \n",
       "\n",
       "                             Invoices  Item_Count  Revenue  Discount  \\\n",
       "Customer_ID      Store_Code                                            \n",
       "1800000006365760 60067              4           4        4         4   \n",
       "1800000006365820 60054              1           1        1         1   \n",
       "1800000006366060 60066              1           1        1         1   \n",
       "                 60069              1           1        1         1   \n",
       "                 60079              2           2        2         2   \n",
       "                 60233              2           2        2         2   \n",
       "1800000006366230 60053              1           1        1         1   \n",
       "                 60067              2           2        2         2   \n",
       "                 60069              2           2        2         2   \n",
       "                 60233              1           1        1         1   \n",
       "1800000006366570 60053             10          10       10        10   \n",
       "1800000006366750 60079             21          21       21        21   \n",
       "                 60233              1           1        1         1   \n",
       "1800000006366910 60053              2           2        2         2   \n",
       "1800000006366930 60058              4           4        4         4   \n",
       "1800000006367140 60054              5           5        5         5   \n",
       "                 60069              1           1        1         1   \n",
       "1800000006367270 60069              2           2        2         2   \n",
       "1800000006367330 60058              1           1        1         1   \n",
       "1800000006367900 60079              9           9        9         9   \n",
       "\n",
       "                             Units_Sold  \n",
       "Customer_ID      Store_Code              \n",
       "1800000006365760 60067                4  \n",
       "1800000006365820 60054                1  \n",
       "1800000006366060 60066                1  \n",
       "                 60069                1  \n",
       "                 60079                2  \n",
       "                 60233                2  \n",
       "1800000006366230 60053                1  \n",
       "                 60067                2  \n",
       "                 60069                2  \n",
       "                 60233                1  \n",
       "1800000006366570 60053               10  \n",
       "1800000006366750 60079               21  \n",
       "                 60233                1  \n",
       "1800000006366910 60053                2  \n",
       "1800000006366930 60058                4  \n",
       "1800000006367140 60054                5  \n",
       "                 60069                1  \n",
       "1800000006367270 60069                2  \n",
       "1800000006367330 60058                1  \n",
       "1800000006367900 60079                9  "
      ]
     },
     "execution_count": 53,
     "metadata": {},
     "output_type": "execute_result"
    }
   ],
   "source": [
    "res.head(20)"
   ]
  },
  {
   "cell_type": "code",
   "execution_count": 54,
   "metadata": {
    "collapsed": true
   },
   "outputs": [],
   "source": [
    "# res.columns"
   ]
  },
  {
   "cell_type": "code",
   "execution_count": 55,
   "metadata": {},
   "outputs": [
    {
     "data": {
      "text/plain": [
       "(184288, 13)"
      ]
     },
     "execution_count": 55,
     "metadata": {},
     "output_type": "execute_result"
    }
   ],
   "source": [
    "res.shape"
   ]
  },
  {
   "cell_type": "code",
   "execution_count": 51,
   "metadata": {},
   "outputs": [
    {
     "data": {
      "text/plain": [
       "32"
      ]
     },
     "execution_count": 51,
     "metadata": {},
     "output_type": "execute_result"
    }
   ],
   "source": [
    "len(res.columns)"
   ]
  },
  {
   "cell_type": "code",
   "execution_count": 52,
   "metadata": {},
   "outputs": [
    {
     "data": {
      "text/plain": [
       "10.0"
      ]
     },
     "execution_count": 52,
     "metadata": {},
     "output_type": "execute_result"
    }
   ],
   "source": [
    "res.loc[1800000006366570, 60053]"
   ]
  },
  {
   "cell_type": "code",
   "execution_count": null,
   "metadata": {
    "collapsed": true
   },
   "outputs": [],
   "source": []
  },
  {
   "cell_type": "code",
   "execution_count": 53,
   "metadata": {},
   "outputs": [
    {
     "data": {
      "text/plain": [
       "Territory            object\n",
       "Business             object\n",
       "Year                  int64\n",
       "Week                  int64\n",
       "Store_Code            int64\n",
       "City_Name            object\n",
       "Store_Type           object\n",
       "Transaction_Type     object\n",
       "Return_Reason        object\n",
       "Customer_ID           int64\n",
       "Invoices              int64\n",
       "Item_Count            int64\n",
       "Revenue             float64\n",
       "Discount            float64\n",
       "Units_Sold            int64\n",
       "dtype: object"
      ]
     },
     "execution_count": 53,
     "metadata": {},
     "output_type": "execute_result"
    }
   ],
   "source": [
    "transaction.dtypes"
   ]
  },
  {
   "cell_type": "code",
   "execution_count": 54,
   "metadata": {
    "collapsed": true
   },
   "outputs": [],
   "source": [
    "store_master = pd.read_excel(\"./Data/Store_Master.xlsx\")"
   ]
  },
  {
   "cell_type": "code",
   "execution_count": 55,
   "metadata": {},
   "outputs": [
    {
     "data": {
      "text/html": [
       "<div>\n",
       "<style scoped>\n",
       "    .dataframe tbody tr th:only-of-type {\n",
       "        vertical-align: middle;\n",
       "    }\n",
       "\n",
       "    .dataframe tbody tr th {\n",
       "        vertical-align: top;\n",
       "    }\n",
       "\n",
       "    .dataframe thead th {\n",
       "        text-align: right;\n",
       "    }\n",
       "</style>\n",
       "<table border=\"1\" class=\"dataframe\">\n",
       "  <thead>\n",
       "    <tr style=\"text-align: right;\">\n",
       "      <th></th>\n",
       "      <th>Territory</th>\n",
       "      <th>Business</th>\n",
       "      <th>Region</th>\n",
       "      <th>Region_Code</th>\n",
       "      <th>Store_Code</th>\n",
       "      <th>Store_Name</th>\n",
       "      <th>Mall_Name</th>\n",
       "      <th>Store_Format</th>\n",
       "      <th>Sales_Per_Day</th>\n",
       "      <th>Store_Launch_Date</th>\n",
       "      <th>Train_Test_Store</th>\n",
       "      <th>Geo_Field</th>\n",
       "      <th>Store_Size_Sq_Ft</th>\n",
       "      <th>Customer_Count</th>\n",
       "      <th>Total_Revenue</th>\n",
       "    </tr>\n",
       "  </thead>\n",
       "  <tbody>\n",
       "    <tr>\n",
       "      <th>0</th>\n",
       "      <td>United Arab Emirates</td>\n",
       "      <td>Max</td>\n",
       "      <td>MX - Abu Dhabi</td>\n",
       "      <td>602</td>\n",
       "      <td>60077</td>\n",
       "      <td>Max Zayed City Mall</td>\n",
       "      <td>City Mall - Abu Dhabi-Uae</td>\n",
       "      <td>NaN</td>\n",
       "      <td>544.074849</td>\n",
       "      <td>2011-11-02</td>\n",
       "      <td>Train</td>\n",
       "      <td>25.618167, 53.441646</td>\n",
       "      <td>4852.220341</td>\n",
       "      <td>22237.0</td>\n",
       "      <td>1.131676e+07</td>\n",
       "    </tr>\n",
       "    <tr>\n",
       "      <th>1</th>\n",
       "      <td>United Arab Emirates</td>\n",
       "      <td>Max</td>\n",
       "      <td>MX - Sharjah</td>\n",
       "      <td>606</td>\n",
       "      <td>60073</td>\n",
       "      <td>Max Safeer Mall</td>\n",
       "      <td>Safeer Mall Sharjah-Uae</td>\n",
       "      <td>NaN</td>\n",
       "      <td>1251.656549</td>\n",
       "      <td>2009-08-21</td>\n",
       "      <td>Train</td>\n",
       "      <td>25.309997, 55.378550</td>\n",
       "      <td>13789.949661</td>\n",
       "      <td>88372.0</td>\n",
       "      <td>2.603446e+07</td>\n",
       "    </tr>\n",
       "    <tr>\n",
       "      <th>2</th>\n",
       "      <td>United Arab Emirates</td>\n",
       "      <td>Max</td>\n",
       "      <td>MX - Dubai</td>\n",
       "      <td>601</td>\n",
       "      <td>60065</td>\n",
       "      <td>Max Gardens</td>\n",
       "      <td>Ibn Battuta Mall-Uae</td>\n",
       "      <td>NaN</td>\n",
       "      <td>3319.885702</td>\n",
       "      <td>2005-04-15</td>\n",
       "      <td>Train</td>\n",
       "      <td>25.044684, 55.120275</td>\n",
       "      <td>15609.687991</td>\n",
       "      <td>188836.0</td>\n",
       "      <td>6.905362e+07</td>\n",
       "    </tr>\n",
       "    <tr>\n",
       "      <th>3</th>\n",
       "      <td>United Arab Emirates</td>\n",
       "      <td>Max</td>\n",
       "      <td>MX - Dubai</td>\n",
       "      <td>601</td>\n",
       "      <td>60219</td>\n",
       "      <td>MX -Dubai Festival City</td>\n",
       "      <td>Dubai Festival City-Uae</td>\n",
       "      <td>Stand Alone Stores</td>\n",
       "      <td>1211.477261</td>\n",
       "      <td>2014-06-12</td>\n",
       "      <td>Train</td>\n",
       "      <td>25.218486, 55.359313</td>\n",
       "      <td>6845.497058</td>\n",
       "      <td>96733.0</td>\n",
       "      <td>2.519873e+07</td>\n",
       "    </tr>\n",
       "    <tr>\n",
       "      <th>4</th>\n",
       "      <td>United Arab Emirates</td>\n",
       "      <td>Max</td>\n",
       "      <td>MX - Ras Al Khaimah</td>\n",
       "      <td>605</td>\n",
       "      <td>60071</td>\n",
       "      <td>Max Rak</td>\n",
       "      <td>STANDALONE</td>\n",
       "      <td>NaN</td>\n",
       "      <td>2221.872874</td>\n",
       "      <td>2006-03-20</td>\n",
       "      <td>Train</td>\n",
       "      <td>NaN</td>\n",
       "      <td>12385.047461</td>\n",
       "      <td>70456.0</td>\n",
       "      <td>4.621496e+07</td>\n",
       "    </tr>\n",
       "  </tbody>\n",
       "</table>\n",
       "</div>"
      ],
      "text/plain": [
       "              Territory Business               Region  Region_Code  \\\n",
       "0  United Arab Emirates      Max       MX - Abu Dhabi          602   \n",
       "1  United Arab Emirates      Max         MX - Sharjah          606   \n",
       "2  United Arab Emirates      Max           MX - Dubai          601   \n",
       "3  United Arab Emirates      Max           MX - Dubai          601   \n",
       "4  United Arab Emirates      Max  MX - Ras Al Khaimah          605   \n",
       "\n",
       "   Store_Code               Store_Name                  Mall_Name  \\\n",
       "0       60077      Max Zayed City Mall  City Mall - Abu Dhabi-Uae   \n",
       "1       60073          Max Safeer Mall    Safeer Mall Sharjah-Uae   \n",
       "2       60065              Max Gardens       Ibn Battuta Mall-Uae   \n",
       "3       60219  MX -Dubai Festival City    Dubai Festival City-Uae   \n",
       "4       60071                  Max Rak                 STANDALONE   \n",
       "\n",
       "         Store_Format  Sales_Per_Day Store_Launch_Date Train_Test_Store  \\\n",
       "0                 NaN     544.074849        2011-11-02            Train   \n",
       "1                 NaN    1251.656549        2009-08-21            Train   \n",
       "2                 NaN    3319.885702        2005-04-15            Train   \n",
       "3  Stand Alone Stores    1211.477261        2014-06-12            Train   \n",
       "4                 NaN    2221.872874        2006-03-20            Train   \n",
       "\n",
       "              Geo_Field  Store_Size_Sq_Ft  Customer_Count  Total_Revenue  \n",
       "0  25.618167, 53.441646       4852.220341         22237.0   1.131676e+07  \n",
       "1  25.309997, 55.378550      13789.949661         88372.0   2.603446e+07  \n",
       "2  25.044684, 55.120275      15609.687991        188836.0   6.905362e+07  \n",
       "3  25.218486, 55.359313       6845.497058         96733.0   2.519873e+07  \n",
       "4                   NaN      12385.047461         70456.0   4.621496e+07  "
      ]
     },
     "execution_count": 55,
     "metadata": {},
     "output_type": "execute_result"
    }
   ],
   "source": [
    "store_master.head()"
   ]
  },
  {
   "cell_type": "code",
   "execution_count": 56,
   "metadata": {},
   "outputs": [
    {
     "data": {
      "text/plain": [
       "100000"
      ]
     },
     "execution_count": 56,
     "metadata": {},
     "output_type": "execute_result"
    }
   ],
   "source": [
    "demographics.Customer_ID.nunique()"
   ]
  },
  {
   "cell_type": "code",
   "execution_count": 57,
   "metadata": {},
   "outputs": [
    {
     "data": {
      "text/plain": [
       "35"
      ]
     },
     "execution_count": 57,
     "metadata": {},
     "output_type": "execute_result"
    }
   ],
   "source": [
    "store_master.Store_Code.nunique()"
   ]
  },
  {
   "cell_type": "code",
   "execution_count": 58,
   "metadata": {
    "collapsed": true
   },
   "outputs": [],
   "source": [
    "train_store = store_master[store_master[\"Train_Test_Store\"] == \"Train\"]"
   ]
  },
  {
   "cell_type": "code",
   "execution_count": 59,
   "metadata": {
    "collapsed": true
   },
   "outputs": [],
   "source": [
    "test_store = store_master[store_master[\"Train_Test_Store\"] == \"Test\"]"
   ]
  },
  {
   "cell_type": "code",
   "execution_count": 60,
   "metadata": {},
   "outputs": [
    {
     "data": {
      "text/plain": [
       "31"
      ]
     },
     "execution_count": 60,
     "metadata": {},
     "output_type": "execute_result"
    }
   ],
   "source": [
    "train_store.Store_Code.nunique()"
   ]
  },
  {
   "cell_type": "code",
   "execution_count": 61,
   "metadata": {
    "collapsed": true
   },
   "outputs": [],
   "source": [
    "storelist = train_store.Store_Code.unique()"
   ]
  },
  {
   "cell_type": "code",
   "execution_count": 62,
   "metadata": {
    "collapsed": true
   },
   "outputs": [],
   "source": [
    "custlist = demographics.Customer_ID.unique()"
   ]
  },
  {
   "cell_type": "code",
   "execution_count": 64,
   "metadata": {
    "collapsed": true
   },
   "outputs": [],
   "source": [
    "def no_transaction(Store_Code, Customer_ID):\n",
    "    no = res.loc[Store_Code, Customer_ID]\n",
    "    if no != 0:\n",
    "        return no\n",
    "    \n",
    "# listdata = []\n",
    "# for store in storelist:\n",
    "#     for cust in custlist:\n",
    "#         try:\n",
    "#             dict = {'Store_Code': store, 'Customer_ID': cust, 'no_transaction': res.loc[cust, store] }\n",
    "#             listdata.append(dict)\n",
    "#         except KeyError:\n",
    "#             print(\"key Error\")\n",
    "            \n",
    "# print(listdata)\n",
    "            \n",
    "        \n",
    "# new_data = pd.DataFrame(data)\n",
    "# new_data.head()"
   ]
  },
  {
   "cell_type": "code",
   "execution_count": null,
   "metadata": {
    "collapsed": true
   },
   "outputs": [],
   "source": []
  },
  {
   "cell_type": "code",
   "execution_count": null,
   "metadata": {
    "collapsed": true
   },
   "outputs": [],
   "source": []
  },
  {
   "cell_type": "code",
   "execution_count": 68,
   "metadata": {},
   "outputs": [
    {
     "data": {
      "text/plain": [
       "(35, 15)"
      ]
     },
     "execution_count": 68,
     "metadata": {},
     "output_type": "execute_result"
    }
   ],
   "source": [
    "store_master.shape"
   ]
  },
  {
   "cell_type": "code",
   "execution_count": 69,
   "metadata": {},
   "outputs": [
    {
     "data": {
      "text/plain": [
       "(35,)"
      ]
     },
     "execution_count": 69,
     "metadata": {},
     "output_type": "execute_result"
    }
   ],
   "source": [
    "store_master.Store_Code.value_counts().shape"
   ]
  },
  {
   "cell_type": "code",
   "execution_count": 70,
   "metadata": {},
   "outputs": [
    {
     "data": {
      "text/html": [
       "<div>\n",
       "<style scoped>\n",
       "    .dataframe tbody tr th:only-of-type {\n",
       "        vertical-align: middle;\n",
       "    }\n",
       "\n",
       "    .dataframe tbody tr th {\n",
       "        vertical-align: top;\n",
       "    }\n",
       "\n",
       "    .dataframe thead th {\n",
       "        text-align: right;\n",
       "    }\n",
       "</style>\n",
       "<table border=\"1\" class=\"dataframe\">\n",
       "  <thead>\n",
       "    <tr style=\"text-align: right;\">\n",
       "      <th></th>\n",
       "      <th>Territory</th>\n",
       "      <th>Business</th>\n",
       "      <th>Region</th>\n",
       "      <th>Region_Code</th>\n",
       "      <th>Store_Code</th>\n",
       "      <th>Store_Name</th>\n",
       "      <th>Mall_Name</th>\n",
       "      <th>Store_Format</th>\n",
       "      <th>Sales_Per_Day</th>\n",
       "      <th>Store_Launch_Date</th>\n",
       "      <th>Train_Test_Store</th>\n",
       "      <th>Geo_Field</th>\n",
       "      <th>Store_Size_Sq_Ft</th>\n",
       "      <th>Customer_Count</th>\n",
       "      <th>Total_Revenue</th>\n",
       "    </tr>\n",
       "  </thead>\n",
       "  <tbody>\n",
       "    <tr>\n",
       "      <th>2</th>\n",
       "      <td>United Arab Emirates</td>\n",
       "      <td>Max</td>\n",
       "      <td>MX - Dubai</td>\n",
       "      <td>601</td>\n",
       "      <td>60065</td>\n",
       "      <td>Max Gardens</td>\n",
       "      <td>Ibn Battuta Mall-Uae</td>\n",
       "      <td>NaN</td>\n",
       "      <td>3319.885702</td>\n",
       "      <td>2005-04-15</td>\n",
       "      <td>Train</td>\n",
       "      <td>25.044684, 55.120275</td>\n",
       "      <td>15609.687991</td>\n",
       "      <td>188836.0</td>\n",
       "      <td>69053622.61</td>\n",
       "    </tr>\n",
       "  </tbody>\n",
       "</table>\n",
       "</div>"
      ],
      "text/plain": [
       "              Territory Business      Region  Region_Code  Store_Code  \\\n",
       "2  United Arab Emirates      Max  MX - Dubai          601       60065   \n",
       "\n",
       "    Store_Name             Mall_Name Store_Format  Sales_Per_Day  \\\n",
       "2  Max Gardens  Ibn Battuta Mall-Uae          NaN    3319.885702   \n",
       "\n",
       "  Store_Launch_Date Train_Test_Store             Geo_Field  Store_Size_Sq_Ft  \\\n",
       "2        2005-04-15            Train  25.044684, 55.120275      15609.687991   \n",
       "\n",
       "   Customer_Count  Total_Revenue  \n",
       "2        188836.0    69053622.61  "
      ]
     },
     "execution_count": 70,
     "metadata": {},
     "output_type": "execute_result"
    }
   ],
   "source": [
    "store_master[store_master[\"Store_Code\"] == 60065 ]"
   ]
  },
  {
   "cell_type": "code",
   "execution_count": null,
   "metadata": {
    "collapsed": true
   },
   "outputs": [],
   "source": [
    "for "
   ]
  },
  {
   "cell_type": "code",
   "execution_count": 36,
   "metadata": {},
   "outputs": [
    {
     "data": {
      "text/plain": [
       "Territory                    object\n",
       "Business                     object\n",
       "Region                       object\n",
       "Region_Code                   int64\n",
       "Store_Code                    int64\n",
       "Store_Name                   object\n",
       "Mall_Name                    object\n",
       "Store_Format                 object\n",
       "Sales_Per_Day               float64\n",
       "Store_Launch_Date    datetime64[ns]\n",
       "Train_Test_Store             object\n",
       "Geo_Field                    object\n",
       "Store_Size_Sq_Ft            float64\n",
       "Customer_Count              float64\n",
       "Total_Revenue               float64\n",
       "dtype: object"
      ]
     },
     "execution_count": 36,
     "metadata": {},
     "output_type": "execute_result"
    }
   ],
   "source": [
    "store_master.dtypes"
   ]
  },
  {
   "cell_type": "code",
   "execution_count": 7,
   "metadata": {},
   "outputs": [
    {
     "data": {
      "text/html": [
       "<div>\n",
       "<style scoped>\n",
       "    .dataframe tbody tr th:only-of-type {\n",
       "        vertical-align: middle;\n",
       "    }\n",
       "\n",
       "    .dataframe tbody tr th {\n",
       "        vertical-align: top;\n",
       "    }\n",
       "\n",
       "    .dataframe thead th {\n",
       "        text-align: right;\n",
       "    }\n",
       "</style>\n",
       "<table border=\"1\" class=\"dataframe\">\n",
       "  <thead>\n",
       "    <tr style=\"text-align: right;\">\n",
       "      <th></th>\n",
       "      <th>Customer_ID</th>\n",
       "      <th>Store_Code</th>\n",
       "    </tr>\n",
       "  </thead>\n",
       "  <tbody>\n",
       "    <tr>\n",
       "      <th>0</th>\n",
       "      <td>1800000006365760</td>\n",
       "      <td>60298</td>\n",
       "    </tr>\n",
       "    <tr>\n",
       "      <th>1</th>\n",
       "      <td>1800000006365760</td>\n",
       "      <td>60299</td>\n",
       "    </tr>\n",
       "    <tr>\n",
       "      <th>2</th>\n",
       "      <td>1800000006365760</td>\n",
       "      <td>60300</td>\n",
       "    </tr>\n",
       "    <tr>\n",
       "      <th>3</th>\n",
       "      <td>1800000006365760</td>\n",
       "      <td>60301</td>\n",
       "    </tr>\n",
       "    <tr>\n",
       "      <th>4</th>\n",
       "      <td>1800000006365820</td>\n",
       "      <td>60298</td>\n",
       "    </tr>\n",
       "  </tbody>\n",
       "</table>\n",
       "</div>"
      ],
      "text/plain": [
       "        Customer_ID  Store_Code\n",
       "0  1800000006365760       60298\n",
       "1  1800000006365760       60299\n",
       "2  1800000006365760       60300\n",
       "3  1800000006365760       60301\n",
       "4  1800000006365820       60298"
      ]
     },
     "execution_count": 7,
     "metadata": {},
     "output_type": "execute_result"
    }
   ],
   "source": [
    "test_set = pd.read_excel(\"./Data/Test_Set.xlsx\")\n",
    "test_set.head()"
   ]
  },
  {
   "cell_type": "code",
   "execution_count": 13,
   "metadata": {},
   "outputs": [
    {
     "data": {
      "text/plain": [
       "60298    100000\n",
       "60299    100000\n",
       "60300    100000\n",
       "60301    100000\n",
       "Name: Store_Code, dtype: int64"
      ]
     },
     "execution_count": 13,
     "metadata": {},
     "output_type": "execute_result"
    }
   ],
   "source": [
    "test_set.Store_Code.value_counts()"
   ]
  },
  {
   "cell_type": "code",
   "execution_count": 14,
   "metadata": {},
   "outputs": [
    {
     "data": {
      "text/plain": [
       "(400000, 2)"
      ]
     },
     "execution_count": 14,
     "metadata": {},
     "output_type": "execute_result"
    }
   ],
   "source": [
    "test_set.shape"
   ]
  },
  {
   "cell_type": "code",
   "execution_count": 38,
   "metadata": {},
   "outputs": [
    {
     "data": {
      "text/plain": [
       "Customer_ID           int64\n",
       "Territory            object\n",
       "Nationality          object\n",
       "Income_Range         object\n",
       "Job_Type             object\n",
       "Marital_Status       object\n",
       "Gender               object\n",
       "State                object\n",
       "Language             object\n",
       "Loyalty_Status       object\n",
       "Birth_date           object\n",
       "Age                 float64\n",
       "Points              float64\n",
       "First_txn_dt         object\n",
       "Last_accr_txn_dt     object\n",
       "Last_rdm_txn_dt      object\n",
       "dtype: object"
      ]
     },
     "execution_count": 38,
     "metadata": {},
     "output_type": "execute_result"
    }
   ],
   "source": [
    "demographics.dtypes"
   ]
  },
  {
   "cell_type": "code",
   "execution_count": 39,
   "metadata": {},
   "outputs": [
    {
     "data": {
      "text/plain": [
       "Territory            object\n",
       "Business             object\n",
       "Year                  int64\n",
       "Week                  int64\n",
       "Store_Code            int64\n",
       "City_Name            object\n",
       "Store_Type           object\n",
       "Transaction_Type     object\n",
       "Return_Reason        object\n",
       "Customer_ID           int64\n",
       "Invoices              int64\n",
       "Item_Count            int64\n",
       "Revenue             float64\n",
       "Discount            float64\n",
       "Units_Sold            int64\n",
       "dtype: object"
      ]
     },
     "execution_count": 39,
     "metadata": {},
     "output_type": "execute_result"
    }
   ],
   "source": [
    "transaction.dtypes"
   ]
  },
  {
   "cell_type": "code",
   "execution_count": 40,
   "metadata": {},
   "outputs": [
    {
     "data": {
      "text/plain": [
       "Territory                    object\n",
       "Business                     object\n",
       "Region                       object\n",
       "Region_Code                   int64\n",
       "Store_Code                    int64\n",
       "Store_Name                   object\n",
       "Mall_Name                    object\n",
       "Store_Format                 object\n",
       "Sales_Per_Day               float64\n",
       "Store_Launch_Date    datetime64[ns]\n",
       "Train_Test_Store             object\n",
       "Geo_Field                    object\n",
       "Store_Size_Sq_Ft            float64\n",
       "Customer_Count              float64\n",
       "Total_Revenue               float64\n",
       "dtype: object"
      ]
     },
     "execution_count": 40,
     "metadata": {},
     "output_type": "execute_result"
    }
   ],
   "source": [
    "store_master.dtypes"
   ]
  },
  {
   "cell_type": "code",
   "execution_count": null,
   "metadata": {
    "collapsed": true
   },
   "outputs": [],
   "source": []
  }
 ],
 "metadata": {
  "kernelspec": {
   "display_name": "Python 3",
   "language": "python",
   "name": "python3"
  },
  "language_info": {
   "codemirror_mode": {
    "name": "ipython",
    "version": 3
   },
   "file_extension": ".py",
   "mimetype": "text/x-python",
   "name": "python",
   "nbconvert_exporter": "python",
   "pygments_lexer": "ipython3",
   "version": "3.6.5"
  }
 },
 "nbformat": 4,
 "nbformat_minor": 2
}
